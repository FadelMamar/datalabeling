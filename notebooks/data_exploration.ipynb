{
 "cells": [
  {
   "cell_type": "markdown",
   "metadata": {},
   "source": [
    "# Image tiling for annotation"
   ]
  },
  {
   "cell_type": "markdown",
   "metadata": {},
   "source": [
    "#### Meanings of arguments\n",
    "- ```-ratioheight``` : proportion of tile  w.r.t height of image. Example 0.5 means dividing the image in two bands w.r.t height.\n",
    "- ```-ratiowidth``` : proportion of tile w.r.t to width of image. Example 1.0 means the width of the tile is the same as the image.\n",
    "- ```-overlapfactor``` : percentage of overlap. It should be less than 1.\n",
    "- ```-rmheight``` : percentage of height to remove or crop at bottom and top\n",
    "- ```-rmwidth``` : percentage of width to remove or crop on each side of the image\n",
    "- ```-pattern``` : \"**/*.JPG\" will get all .JPG images in directory and subdirectories. On windows it will get both .JPG and .jpg. On unix it will only get .JPG images\n"
   ]
  },
  {
   "cell_type": "code",
   "execution_count": null,
   "metadata": {},
   "outputs": [],
   "source": [
    "# New script for tiling data\n",
    "# images_to_tile = r\"D:\\PhD\\Data per camp\\Extra training data\\savmap_dataset_v2\\raw_data\\images\"\n",
    "# destination_directory = r\"D:\\PhD\\Data per camp\\Extra training data\\savmap_dataset_v2\\raw_data\\images-tiled\"\n",
    "!python ../../HerdNet/tools/patcher.py \"D:\\PhD\\Data per camp\\Wet season\\Kapiri\\Camp 3\\DJI_202402051048_003_KapiriCamp3\" 0 0 0 -overlapfactor 0.1  -ratiowidth 0.5 -ratioheight 0.5 -rmheight 0 -rmwidth 0 -dest \"D:\\PhD\\Data per camp\\Wet season\\Kapiri\\Camp 3\\DJI_202402051048_003_KapiriCamp3 - tiled\" -pattern \"**/*.JPG\""
   ]
  },
  {
   "cell_type": "markdown",
   "metadata": {},
   "source": [
    "# Pre-annotating data for Labelstudio"
   ]
  },
  {
   "cell_type": "code",
   "execution_count": null,
   "metadata": {},
   "outputs": [],
   "source": [
    "from dotenv import load_dotenv\n",
    "load_dotenv('../.env')\n",
    "\n",
    "from datalabeling.annotator import Annotator\n",
    "import os\n",
    "from pathlib import Path\n",
    "import torch\n",
    "from tqdm import tqdm"
   ]
  },
  {
   "cell_type": "markdown",
   "metadata": {},
   "source": [
    "### Creating a JSON file to be uuploaded to Label studio"
   ]
  },
  {
   "cell_type": "code",
   "execution_count": null,
   "metadata": {},
   "outputs": [],
   "source": [
    "# Example\n",
    "# provide correct alias, \"pt\", \"onnx\"\n",
    "alias = \"last\" # the aliases are found in mlflow tracker UI, use \"last-1\" to use the previous model\n",
    "name = \"obb-detector\" # detector, \"obb-detector\"\n",
    "handler = Annotator(mlflow_model_alias=alias,\n",
    "                    mlflow_model_name=name,\n",
    "                    is_yolo_obb= name.strip() == \"obb-detector\",\n",
    "                    # dotenv_path=\"../.env\"\n",
    "                    )\n",
    "path_img_dir=r\"D:\\PhD\\Africa Parks\\Liuwa aerial survey_ALL\\CENSUS 2019\\DAY 2 CENSUS 2019_CONVERTED\\AP 2019 day 2 - tiled\"\n",
    "root=\"D:\\\\\"\n",
    "save_json_path = os.path.join(Path(path_img_dir).parent, f\"{Path(path_img_dir).name}_preannotation_label-studio.json\")\n",
    "\n",
    "# build and saves json\n",
    "directory_preds = handler.build_upload_json(path_img_dir=path_img_dir,\n",
    "                                            root=root,\n",
    "                                            save_json_path=save_json_path,\n",
    "                                            pattern=\"**/*.JPG\")"
   ]
  },
  {
   "cell_type": "markdown",
   "metadata": {},
   "source": [
    "### Pre-annotating an existing project using Label studio API\n",
    "It seems that it will not work well (i.e. filtering) with older projects created prior to Label studio software update.\n",
    "It is the **recommended way of pre-annotating data in Labelstudio**."
   ]
  },
  {
   "cell_type": "code",
   "execution_count": null,
   "metadata": {},
   "outputs": [],
   "source": [
    "# provide correct alias, \"pt\", \"onnx\"\n",
    "aliases = [\"version11\"]\n",
    "project_id = 47 # insert correct project_id by loooking at the url\n",
    "for alias in aliases:\n",
    "    name = \"obb-detector\" # detector, \"obb-detector\"\n",
    "    handler = Annotator(mlflow_model_alias=alias,\n",
    "                        mlflow_model_name=name,\n",
    "                        confidence_threshold=0.25,\n",
    "                        is_yolo_obb=name.strip() == \"obb-detector\",\n",
    "                        dotenv_path=\"../.env\")\n",
    "    handler.upload_predictions(project_id=project_id)"
   ]
  },
  {
   "cell_type": "markdown",
   "metadata": {},
   "source": [
    "**Before running the script below, make sure that you have exported the annotations so you can revert back!!!**"
   ]
  },
  {
   "cell_type": "code",
   "execution_count": null,
   "metadata": {},
   "outputs": [],
   "source": [
    "#  Cleaning annotations - NO WAY BACK\n",
    "name = \"obb-detector\"\n",
    "handler = Annotator(mlflow_model_alias=\"version6\",\n",
    "                        mlflow_model_name=name,\n",
    "                        confidence_threshold=0.25,\n",
    "                        is_yolo_obb=name.strip() == \"obb-detector\",\n",
    "                        dotenv_path=\"../.env\")\n",
    "\n",
    "# Select project\n",
    "project_id = 88\n",
    "project = handler.labelstudio_client.get_project(id=project_id)\n",
    "\n",
    "# Delete annotations saved with label \"wildlife\" assigned by the predictor\n",
    "tasks = project.get_tasks()\n",
    "for task in tqdm(tasks,desc=\"correcting annotations\"):\n",
    "        task_id = task['id']\n",
    "        img_url = task['data']['image']\n",
    "\n",
    "        if len(task[\"annotations\"][0]['result'])>1:\n",
    "            results_to_keep = []\n",
    "            annot_id = task[\"annotations\"][0][\"id\"]\n",
    "            for annot in task['annotations'][0]['result']:\n",
    "                if annot['value']['rectanglelabels'][0] != 'wildlife':\n",
    "                    results_to_keep.append(annot)\n",
    "                    # print(annot['value'],annot['id'],end=\"\\n\")\n",
    "            # print(f\"Updating annotations {annot_id} from task {task_id}.\")\n",
    "            # print(results_to_keep)\n",
    "            project.update_annotation(annot_id,result=results_to_keep)"
   ]
  },
  {
   "cell_type": "code",
   "execution_count": null,
   "metadata": {},
   "outputs": [],
   "source": [
    "len(task['annotations']), len(task['annotations'][0]['result']), task['id'], task[\"annotations\"][0][\"id\"]"
   ]
  },
  {
   "cell_type": "code",
   "execution_count": null,
   "metadata": {},
   "outputs": [],
   "source": [
    "task['annotations'][0]['result'][0] #['value']['rectanglelabels']"
   ]
  },
  {
   "cell_type": "code",
   "execution_count": null,
   "metadata": {},
   "outputs": [],
   "source": [
    "results_to_keep = []\n",
    "for annot in task['annotations'][0]['result']:\n",
    "    if annot['value']['rectanglelabels'][0] != 'wildlife':\n",
    "        results_to_keep.append(annot)\n",
    "        print(annot['value'],annot['id'],end=\"\\n\")"
   ]
  },
  {
   "cell_type": "code",
   "execution_count": null,
   "metadata": {},
   "outputs": [],
   "source": [
    "results_to_keep"
   ]
  },
  {
   "cell_type": "code",
   "execution_count": null,
   "metadata": {},
   "outputs": [],
   "source": [
    "project.update_annotation(annotation_id=...,)"
   ]
  },
  {
   "cell_type": "markdown",
   "metadata": {},
   "source": [
    "To speed up inference on intel, make changes inn ultralytics/nn/autobackend.py:\n",
    "```\n",
    "- device_name = \"AUTO:NPU,GPU,CPU\" # CPU, GPU, NPU, AUTO,\"AUTO:GPU,NPU\"\n",
    "- inference_mode = \"LATENCY\" # OpenVINO inference modes are 'LATENCY', 'THROUGHPUT' (not recommended), or 'CUMULATIVE_THROUGHPUT'\n",
    "- LOGGER.info(f\"Using OpenVINO {inference_mode} mode for inference...\")\n",
    "- ov_compiled_model = core.compile_model(\n",
    "                ov_model,\n",
    "                device_name=device_name,  # AUTO selects best available device, do not modify\n",
    "                config={\"PERFORMANCE_HINT\": inference_mode,\n",
    "                        \"CACHE_DIR\": os.environ[\"OPENVINO_CACHE_MODEL\"]}, # make sure to set environment variable\n",
    "            )\n",
    "```"
   ]
  },
  {
   "cell_type": "code",
   "execution_count": null,
   "metadata": {},
   "outputs": [],
   "source": [
    "# using path_to_weights\n",
    "# go to ultralytics.nn.autobackend to modify ov_compiled device to \"AUTO:NPU,GPU,CPU\"\n",
    "\n",
    "use_sliding_window=True\n",
    "\n",
    "handler = Annotator(path_to_weights=r\"C:\\Users\\FADELCO\\OneDrive\\Bureau\\datalabeling\\models\\best_openvino_model\",\n",
    "                    is_yolo_obb=True,\n",
    "                    tilesize=1280,\n",
    "                    overlapratio=0.1,\n",
    "                    use_sliding_window=use_sliding_window,\n",
    "                    confidence_threshold=0.5,\n",
    "                    device=\"NPU\", # \"cpu\", \"cuda\"\n",
    "                    tag_to_append=f\"-sahi:{use_sliding_window}\",\n",
    "                    dotenv_path=\"../.env\")\n",
    "\n",
    "project_id = 3 # insert correct project_id by loooking at the url\n",
    "top_n=10\n",
    "handler.upload_predictions(project_id=project_id,top_n=top_n)"
   ]
  },
  {
   "cell_type": "code",
   "execution_count": null,
   "metadata": {},
   "outputs": [],
   "source": [
    "from label_studio_ml.utils import get_local_path\n",
    "from urllib.parse import unquote, quote\n",
    "import os\n",
    "path = unquote(\"/data/local-files/?d=savmap_dataset_v2%5Cimages_splits%5C003a34ee6b7841e6851b8fe511ebe102_0.JPG\")\n",
    "get_local_path(path,download_resources=False)#,os.path.exists(get_local_path(path))"
   ]
  },
  {
   "cell_type": "markdown",
   "metadata": {},
   "source": [
    "# Inference with Sahi"
   ]
  },
  {
   "cell_type": "code",
   "execution_count": null,
   "metadata": {},
   "outputs": [],
   "source": [
    "from ultralytics import YOLO\n",
    "from PIL import Image\n",
    "import time\n",
    "import numpy as np\n",
    "from datalabeling.annotator import Detector\n",
    "from dotenv import load_dotenv"
   ]
  },
  {
   "cell_type": "code",
   "execution_count": null,
   "metadata": {},
   "outputs": [],
   "source": [
    "# load env variable, loads model cache location!!\n",
    "load_dotenv('../.env')"
   ]
  },
  {
   "cell_type": "code",
   "execution_count": null,
   "metadata": {},
   "outputs": [],
   "source": [
    "IMAGE_PATH = r\"D:\\savmap_dataset_v2\\images_splits\\00a033fefe644429a1e0fcffe88f8b39_1.JPG\""
   ]
  },
  {
   "cell_type": "markdown",
   "metadata": {},
   "source": [
    "## Optimizing with Openvino"
   ]
  },
  {
   "cell_type": "markdown",
   "metadata": {},
   "source": [
    "To speed up inference on intel, make changes inn ultralytics/nn/autobackend.py:\n",
    "```\n",
    "- device_name = \"AUTO:NPU,GPU,CPU\" # CPU, GPU, NPU, AUTO,\"AUTO:GPU,NPU\"\n",
    "- inference_mode = \"LATENCY\" # OpenVINO inference modes are 'LATENCY', 'THROUGHPUT' (not recommended), or 'CUMULATIVE_THROUGHPUT'\n",
    "- LOGGER.info(f\"Using OpenVINO {inference_mode} mode for inference...\")\n",
    "- ov_compiled_model = core.compile_model(\n",
    "                ov_model,\n",
    "                device_name=device_name,  # AUTO selects best available device, do not modify\n",
    "                config={\"PERFORMANCE_HINT\": inference_mode,\n",
    "                        \"CACHE_DIR\": os.environ[\"OPENVINO_CACHE_MODEL\"]}, # make sure to set environment variable\n",
    "            )\n",
    "```"
   ]
  },
  {
   "cell_type": "code",
   "execution_count": null,
   "metadata": {},
   "outputs": [],
   "source": [
    "# Define detector\n",
    "# to speed up inference on intel, make\n",
    "model = Detector(path_to_weights=r\"C:\\Users\\FADELCO\\OneDrive\\Bureau\\datalabeling\\models\\best_openvino_model\",\n",
    "                confidence_threshold=0.1,\n",
    "                overlap_ratio=0.1,\n",
    "                tilesize=1280,\n",
    "                device='CPU',\n",
    "                use_sliding_window=False,\n",
    "                is_yolo_obb=True)"
   ]
  },
  {
   "cell_type": "code",
   "execution_count": null,
   "metadata": {},
   "outputs": [],
   "source": [
    "image = Image.open(IMAGE_PATH)\n",
    "\n",
    "while True:\n",
    "    start_time = time.perf_counter()\n",
    "    print(model.predict(image,return_coco=True,nms_iou=0.5))\n",
    "    end_time = time.perf_counter()\n",
    "    print(f\"Device took {end_time-start_time:.2f} seconds.\")\n",
    "\n",
    "    break"
   ]
  },
  {
   "cell_type": "code",
   "execution_count": null,
   "metadata": {},
   "outputs": [],
   "source": [
    "# inference with openvino\n",
    "import openvino as ov\n",
    "import openvino.properties.hint as hints\n",
    "import torch\n",
    "import torchvision.transforms as F\n",
    "from ultralytics.utils import DEFAULT_CFG\n",
    "from ultralytics.cfg import get_cfg\n",
    "from ultralytics.data.converter import coco80_to_coco91_class\n",
    "\n",
    "# load validator\n",
    "args = get_cfg(cfg=DEFAULT_CFG)\n",
    "det_model = YOLO(r\"C:\\Users\\FADELCO\\OneDrive\\Bureau\\datalabeling\\models\\best.pt\")\n",
    "det_validator = det_model.task_map[det_model.task][\"validator\"](args=args)\n",
    "det_validator.is_coco = True\n",
    "det_validator.class_map = coco80_to_coco91_class()\n",
    "det_validator.names = det_model.model.names\n",
    "det_validator.metrics.names = det_validator.names\n",
    "det_validator.nc = det_model.model.model[-1].nc\n",
    "det_validator.stride = 32\n",
    "args = get_cfg(cfg=DEFAULT_CFG)\n",
    "det_model = YOLO(r\"C:\\Users\\FADELCO\\OneDrive\\Bureau\\datalabeling\\models\\best.pt\")\n",
    "\n",
    "core = ov.Core()\n",
    "det_model_path = r\"C:\\Users\\FADELCO\\OneDrive\\Bureau\\datalabeling\\models\\best_openvino_model\\best.xml\"\n",
    "det_ov_model = core.read_model(det_model_path)\n",
    "\n",
    "device = \"AUTO:NPU,GPU\" # CPU, NPU, GPU \"AUTO:NPU,GPU,CPU\" \n",
    "\n",
    "print(\"Available core devices: \",core.available_devices)\n",
    "\n",
    "# reshaping for batch prediction\n",
    "input_layer = det_ov_model.input(0)\n",
    "output_layer = det_ov_model.output(0)\n",
    "new_shape = ov.PartialShape([1, 3, 1280, 1280])\n",
    "det_ov_model.reshape({input_layer.any_name: new_shape})\n",
    "\n",
    "ov_config = {hints.performance_mode: hints.PerformanceMode.THROUGHPUT,\n",
    "             \"CACHE_DIR\": '../models/model_cache'}\n",
    "\n",
    "if (\"GPU\" in core.available_devices) and device==\"GPU\":\n",
    "    ov_config[\"GPU_DISABLE_WINOGRAD_CONVOLUTION\"] = \"YES\"\n",
    "det_compiled_model = core.compile_model(det_ov_model, device, ov_config)\n",
    "\n",
    "def infer(image):\n",
    "    image = det_validator.preprocess({\"img\":image,\"batch_idx\":torch.Tensor([0]),\n",
    "                                      \"cls\":torch.Tensor([0]),\n",
    "                                      \"bboxes\":torch.Tensor([0.,0.,0.,0.])})[\"img\"]\n",
    "    results = det_compiled_model(image)\n",
    "    preds = torch.from_numpy(results[det_compiled_model.output(0)])\n",
    "    return det_validator.postprocess(preds) #torch.from_numpy(result[0])"
   ]
  },
  {
   "cell_type": "code",
   "execution_count": null,
   "metadata": {},
   "outputs": [],
   "source": [
    "# image = Image.open(IMAGE_PATH)\n",
    "# image = F.PILToTensor()(image)[None,:,:1280,:1280]\n",
    "# infer(image)"
   ]
  },
  {
   "cell_type": "code",
   "execution_count": null,
   "metadata": {},
   "outputs": [],
   "source": [
    "# inference with pt\n",
    "# model = YOLO(r\"C:\\Users\\FADELCO\\OneDrive\\Bureau\\datalabeling\\models\\best.pt\",task='obb')"
   ]
  },
  {
   "cell_type": "code",
   "execution_count": null,
   "metadata": {},
   "outputs": [],
   "source": [
    "# rescaling input images\n",
    "# model(image/255.)"
   ]
  },
  {
   "cell_type": "code",
   "execution_count": null,
   "metadata": {},
   "outputs": [],
   "source": [
    "# inference with openvino\n",
    "# model_vino = YOLO(r\"C:\\Users\\FADELCO\\OneDrive\\Bureau\\datalabeling\\models\\best_openvino_model\",task='obb')\n",
    "# model_vino(image/255.)"
   ]
  },
  {
   "cell_type": "code",
   "execution_count": null,
   "metadata": {},
   "outputs": [],
   "source": [
    "# sahi_model_obb = Detector(path_to_weights=r\"C:\\Users\\FADELCO\\OneDrive\\Bureau\\datalabeling\\models\\best_openvino_model\",\n",
    "#                     confidence_threshold=0.6,\n",
    "#                     overlap_ratio=0.1,\n",
    "#                     tilesize=640,\n",
    "#                     is_yolo_obb=True)"
   ]
  },
  {
   "cell_type": "code",
   "execution_count": null,
   "metadata": {},
   "outputs": [],
   "source": [
    "# image_path = r\"D:\\savmap_dataset_v2\\images\\0d1ba3c424ad4414ac37dbd0c93460ea.JPG\"\n",
    "# image = Image.open(image_path)\n",
    "# print(image.size)"
   ]
  },
  {
   "cell_type": "code",
   "execution_count": null,
   "metadata": {},
   "outputs": [],
   "source": [
    "# result = sahi_model_obb.predict(image,False)"
   ]
  },
  {
   "cell_type": "code",
   "execution_count": null,
   "metadata": {},
   "outputs": [],
   "source": [
    "# result\n",
    "# result.export_visuals('../.tmp')"
   ]
  },
  {
   "cell_type": "markdown",
   "metadata": {},
   "source": [
    "## Sahi inference calibration"
   ]
  },
  {
   "cell_type": "code",
   "execution_count": null,
   "metadata": {},
   "outputs": [],
   "source": [
    "from itertools import product"
   ]
  },
  {
   "cell_type": "code",
   "execution_count": null,
   "metadata": {},
   "outputs": [],
   "source": []
  },
  {
   "cell_type": "code",
   "execution_count": null,
   "metadata": {},
   "outputs": [],
   "source": [
    "# hyperparams\n",
    "overlap_ratios = [0.1,0.2,0.3]\n",
    "tilesizes = [640,2*640,3*640]\n",
    "imgsz = [640,2*640,3*640]\n",
    "\n",
    "for ratio, tilesize, image_size in product(overlap_ratios,tilesizes,imgsz):\n",
    "    print(ratio,tilesize,image_size)\n",
    "    # Define detector\n",
    "    # to speed up inference on intel, make\n",
    "    model = Detector(path_to_weights=r\"C:\\Users\\FADELCO\\OneDrive\\Bureau\\datalabeling\\models\\best_openvino_model\",\n",
    "                    confidence_threshold=0.1,\n",
    "                    overlap_ratio=0.1,\n",
    "                    tilesize=2000,\n",
    "                    imgsz=1280,\n",
    "                    device='CPU',\n",
    "                    use_sliding_window=True,\n",
    "                    is_yolo_obb=True)\n",
    "    \n",
    "    #TODO\n"
   ]
  },
  {
   "cell_type": "code",
   "execution_count": null,
   "metadata": {},
   "outputs": [],
   "source": []
  },
  {
   "cell_type": "markdown",
   "metadata": {},
   "source": [
    "# YOLO data_config.yaml "
   ]
  },
  {
   "cell_type": "code",
   "execution_count": null,
   "metadata": {},
   "outputs": [],
   "source": [
    "import yaml\n",
    "import json\n",
    "from datalabeling.arguments import Arguments\n",
    "import os\n",
    "import pandas as pd"
   ]
  },
  {
   "cell_type": "code",
   "execution_count": null,
   "metadata": {},
   "outputs": [],
   "source": [
    "# load yaml\n",
    "with open(r\"D:\\PhD\\Data per camp\\DetectionDataset\\hard_samples\\train_ratio_20-seed_41.yaml\",'r') as file:\n",
    "    yolo_config = yaml.load(file,Loader=yaml.FullLoader)\n",
    "yolo_config"
   ]
  },
  {
   "cell_type": "code",
   "execution_count": null,
   "metadata": {},
   "outputs": [],
   "source": [
    "pd.read_csv(os.path.join(yolo_config[\"path\"],yolo_config['train']),header=None,names=['paths'])['paths'].to_list()[:]"
   ]
  },
  {
   "cell_type": "code",
   "execution_count": null,
   "metadata": {},
   "outputs": [],
   "source": [
    "# load label mapping\n",
    "args = Arguments()\n",
    "with open(r\"D:\\PhD\\Data per camp\\IdentificationDataset\\label_mapping.json\",'r') as file:\n",
    "    label_map = json.load(file)\n",
    "names = [p['name'] for p in label_map if p['name'] not in args.discard_labels ]\n",
    "label_map = dict(zip(range(len(names)),names))\n",
    "label_map"
   ]
  },
  {
   "cell_type": "code",
   "execution_count": null,
   "metadata": {},
   "outputs": [],
   "source": [
    "yolo_config.update({'names':label_map,'nc':len(label_map)})\n",
    "yolo_config"
   ]
  },
  {
   "cell_type": "code",
   "execution_count": null,
   "metadata": {},
   "outputs": [],
   "source": [
    "with open(r\"D:\\PhD\\Data per camp\\IdentificationDataset\\data_config.yaml\",'w') as file:\n",
    "    yaml.dump(yolo_config,file,default_flow_style=False, sort_keys=False)"
   ]
  },
  {
   "cell_type": "markdown",
   "metadata": {},
   "source": [
    "# Dataset distribution"
   ]
  },
  {
   "cell_type": "markdown",
   "metadata": {},
   "source": [
    "## Visualize distribution per annotation project"
   ]
  },
  {
   "cell_type": "code",
   "execution_count": null,
   "metadata": {},
   "outputs": [],
   "source": [
    "from datalabeling.dataset import convert_json_annotations_to_coco, load_coco_annotations\n",
    "from pathlib import Path\n",
    "import json\n",
    "import pandas as pd\n",
    "from collections import Counter\n",
    "from dotenv import load_dotenv\n",
    "from label_studio_sdk import Client\n",
    "# from itertools import chain\n",
    "import traceback\n",
    "import os"
   ]
  },
  {
   "cell_type": "code",
   "execution_count": null,
   "metadata": {},
   "outputs": [],
   "source": [
    "dotenv_path=r\"..\\.env\"\n",
    "load_dotenv(dotenv_path=dotenv_path)\n",
    "# Connect to the Label Studio API and check the connection\n",
    "LABEL_STUDIO_URL = os.getenv('LABEL_STUDIO_URL')\n",
    "API_KEY = os.getenv(\"LABEL_STUDIO_API_KEY\")\n",
    "labelstudio_client = Client(url=LABEL_STUDIO_URL, api_key=API_KEY)"
   ]
  },
  {
   "cell_type": "code",
   "execution_count": null,
   "metadata": {},
   "outputs": [],
   "source": [
    "\n",
    "def get_project_stats(project_id:int,annotator_id = 0):\n",
    "    \n",
    "    project = labelstudio_client.get_project(id=project_id)\n",
    "    num_images = dict()\n",
    "    # Iterating \n",
    "    tasks = project.get_tasks()\n",
    "     # because there is\n",
    "    labels = []\n",
    "\n",
    "    for task in tasks:\n",
    "        try:\n",
    "            result = task['annotations'][annotator_id]['result']\n",
    "        except Exception as e:\n",
    "            traceback.print_exc()\n",
    "            continue\n",
    "\n",
    "        img_labels = []\n",
    "        for annot in result:\n",
    "            img_labels = annot['value']['rectanglelabels'] + img_labels\n",
    "        labels = labels + img_labels\n",
    "        # update stats holder\n",
    "        for label in set(img_labels):\n",
    "            try:\n",
    "                num_images[label] += 1\n",
    "            except:\n",
    "                num_images[label] = 1\n",
    "\n",
    "    stats = {f\"{k}\":labels.count(k) for k in set(labels)}\n",
    "    print(\"Number of instances for each label is:\\n\",stats,end=\"\\n\\n\")\n",
    "    print(\"Number of images for each label is:\\n\",num_images)\n",
    "\n",
    "    return stats, num_images\n",
    "\n",
    "# get stats\n",
    "for project_id in [93,]:\n",
    "    get_project_stats(project_id)"
   ]
  },
  {
   "cell_type": "code",
   "execution_count": null,
   "metadata": {},
   "outputs": [],
   "source": [
    "ls_dir = r\"D:\\PhD\\Data per camp\\Exported annotations and labels\\Wet season - Rep 1\\all\\labelstudio\"\n",
    "dest_dir = Path(ls_dir).with_name(\"coco-format\")\n",
    "save_excel_path = Path(ls_dir).with_name(\"stats.xlsx\")\n",
    "\n",
    "# Uncomment to run if needed\n",
    "# convert_json_annotations_to_coco(input_dir=ls_dir,\n",
    "#                                  dest_dir_coco=str(dest_dir),\n",
    "#                                  ls_client=labelstudio_client,\n",
    "#                                  parse_ls_config=True)"
   ]
  },
  {
   "cell_type": "code",
   "execution_count": null,
   "metadata": {},
   "outputs": [],
   "source": [
    "coco_annotations_dict = load_coco_annotations(dest_dir)\n",
    "coco_annotations_dict"
   ]
  },
  {
   "cell_type": "code",
   "execution_count": null,
   "metadata": {},
   "outputs": [],
   "source": [
    "def get_labels_count(coco_annotation:dict):\n",
    "\n",
    "    result = Counter([annot['category_id'] for annot in coco_annotation['annotations']])\n",
    "\n",
    "    label_map = {cat['id']:cat['name'] for cat in coco_annotation['categories']}\n",
    "\n",
    "    result = {label_map[k]:v for k,v in result.items()}\n",
    "\n",
    "    return result\n",
    "\n",
    "label_stats = dict()\n",
    "\n",
    "for img_dir,coco_path in coco_annotations_dict.items():\n",
    "\n",
    "    with open(coco_path,'r') as f:\n",
    "        coco_annotation = json.load(fp=f)\n",
    "    \n",
    "    label_stats[img_dir] = get_labels_count(coco_annotation)\n",
    "\n",
    "label_stats = pd.DataFrame.from_dict(label_stats,orient='index').fillna(0)"
   ]
  },
  {
   "cell_type": "code",
   "execution_count": null,
   "metadata": {},
   "outputs": [],
   "source": [
    "label_stats"
   ]
  },
  {
   "cell_type": "code",
   "execution_count": null,
   "metadata": {},
   "outputs": [],
   "source": [
    "# uncomment to save\n",
    "label_stats.to_excel(save_excel_path)"
   ]
  },
  {
   "cell_type": "markdown",
   "metadata": {},
   "source": [
    "## Visualize splits' distribution"
   ]
  },
  {
   "cell_type": "code",
   "execution_count": null,
   "metadata": {},
   "outputs": [],
   "source": [
    "import yaml\n",
    "import pandas as pd\n",
    "import os\n",
    "from pathlib import Path"
   ]
  },
  {
   "cell_type": "code",
   "execution_count": null,
   "metadata": {},
   "outputs": [],
   "source": [
    "# load yaml\n",
    "with open(r\"D:\\PhD\\Data per camp\\Extra training data\\WAID\\data_config.yaml\",'r') as file:\n",
    "    yolo_config = yaml.load(file,Loader=yaml.FullLoader)\n",
    "yolo_config"
   ]
  },
  {
   "cell_type": "code",
   "execution_count": null,
   "metadata": {},
   "outputs": [],
   "source": [
    "label_map = yolo_config['names']"
   ]
  },
  {
   "cell_type": "code",
   "execution_count": null,
   "metadata": {},
   "outputs": [],
   "source": [
    "split = 'train'\n",
    "\n",
    "path_dataset = os.path.join(yolo_config['path'],yolo_config[split][0])\n",
    "path_dataset = path_dataset.replace('images','labels')\n",
    "\n",
    "path_dataset"
   ]
  },
  {
   "cell_type": "code",
   "execution_count": null,
   "metadata": {},
   "outputs": [],
   "source": [
    "labels = list()\n",
    "\n",
    "for txtfile in Path(path_dataset).glob(\"*.txt\"):\n",
    "\n",
    "    df = pd.read_csv(txtfile,sep=\" \",names = ['class','x','y','w','h'] )\n",
    "    df['class'] = df['class'].astype(int)    \n",
    "    df['image'] = txtfile.stem\n",
    "    labels.append(df)\n"
   ]
  },
  {
   "cell_type": "code",
   "execution_count": null,
   "metadata": {},
   "outputs": [],
   "source": [
    "df = pd.concat(labels,axis=0)\n",
    "df['class'] = df['class'].map(label_map)"
   ]
  },
  {
   "cell_type": "code",
   "execution_count": null,
   "metadata": {},
   "outputs": [],
   "source": [
    "images_per_class = dict()\n",
    "for cls in df['class'].unique():\n",
    "    num_imge = df.loc[df['class'] == cls,'image'].unique().shape[0]\n",
    "    images_per_class[cls] = num_imge"
   ]
  },
  {
   "cell_type": "code",
   "execution_count": null,
   "metadata": {},
   "outputs": [],
   "source": [
    "print(\"Split:\", split)\n",
    "print(images_per_class)"
   ]
  },
  {
   "cell_type": "code",
   "execution_count": null,
   "metadata": {},
   "outputs": [],
   "source": [
    "print('Split:',split)\n",
    "print(df['class'].value_counts())"
   ]
  },
  {
   "cell_type": "code",
   "execution_count": null,
   "metadata": {},
   "outputs": [],
   "source": [
    "df['class'].value_counts().plot(kind='bar',figsize=(10,5),logy=True,title=f\"{split} label distribution\")"
   ]
  },
  {
   "cell_type": "markdown",
   "metadata": {},
   "source": [
    "# Computing metrics on Validation set"
   ]
  },
  {
   "cell_type": "code",
   "execution_count": null,
   "metadata": {},
   "outputs": [],
   "source": [
    "from ultralytics import YOLO\n",
    "# from pathlib import Path\n",
    "import torch"
   ]
  },
  {
   "cell_type": "code",
   "execution_count": null,
   "metadata": {},
   "outputs": [],
   "source": [
    "# Load a model\n",
    "path = r\"C:/Users/Machine Learning/Desktop/workspace-wildAI/datalabeling/runs/mlflow/140168774036374062/d0dbe2b4cbe143258121a734edd9dca8/artifacts/weights/best.pt\"\n",
    "# path = r\"C:\\Users\\fadel\\OneDrive\\Bureau\\WILD-AI\\datalabeling\\base_models_weights\\yolov5su.pt\"\n",
    "model = YOLO(path)  "
   ]
  },
  {
   "cell_type": "code",
   "execution_count": null,
   "metadata": {},
   "outputs": [],
   "source": [
    "pred = model.predict(r\"C:\\Users\\fadel\\OneDrive\\Bureau\\WILD-AI\\datalabeling\\data\\train_wildai\\images\\01f1653a94f14044bf11d78c5b4221d1.JPG\")"
   ]
  },
  {
   "cell_type": "code",
   "execution_count": null,
   "metadata": {},
   "outputs": [],
   "source": [
    "[result.obb for result in pred]"
   ]
  },
  {
   "cell_type": "code",
   "execution_count": null,
   "metadata": {},
   "outputs": [],
   "source": [
    "pred[0].obb.xyxy"
   ]
  },
  {
   "cell_type": "code",
   "execution_count": null,
   "metadata": {},
   "outputs": [],
   "source": [
    "pred[0].obb.cls"
   ]
  },
  {
   "cell_type": "code",
   "execution_count": null,
   "metadata": {},
   "outputs": [],
   "source": [
    "pred[0].obb.conf"
   ]
  },
  {
   "cell_type": "code",
   "execution_count": null,
   "metadata": {},
   "outputs": [],
   "source": [
    "# Customize validation settings\n",
    "validation_results = model.val(data=r\"C:\\Users\\Machine Learning\\Desktop\\workspace-wildAI\\datalabeling\\data\\dataset_hn.yaml\",\n",
    "                                imgsz=1280,\n",
    "                                batch=32,\n",
    "                                conf=0.25,\n",
    "                                iou=0.45,\n",
    "                                device=\"cuda\"\n",
    "                            )"
   ]
  },
  {
   "cell_type": "code",
   "execution_count": null,
   "metadata": {},
   "outputs": [],
   "source": [
    "# the version 6 is likely to have already seen the valaidation data"
   ]
  },
  {
   "cell_type": "code",
   "execution_count": null,
   "metadata": {},
   "outputs": [],
   "source": [
    "# Compute predictions\n",
    "from dotenv import load_dotenv\n",
    "load_dotenv('../.env')\n",
    "\n",
    "from datalabeling.annotator import Annotator\n",
    "\n",
    "for alias in [\"version9\", \"version6\"]:\n",
    "    print(\"-\"*10,alias,end=\"\\n\\n\")\n",
    "    name = \"obb-detector\" # detector, \"obb-detector\"\n",
    "    handler = Annotator(mlflow_model_alias=alias,\n",
    "                            mlflow_model_name=name,\n",
    "                            confidence_threshold=0.25,\n",
    "                            is_yolo_obb=name.strip() == \"obb-detector\",\n",
    "                            dotenv_path=\"../.env\")\n",
    "\n",
    "    yolo_model = handler.model.unwrap_python_model().detection_model.detection_model.model\n",
    "    validation_results = yolo_model.val(data=r\"C:\\Users\\Machine Learning\\Desktop\\workspace-wildAI\\datalabeling\\data\\dataset_hn.yaml\",\n",
    "                                    imgsz=1280,\n",
    "                                    batch=32,\n",
    "                                    conf=0.25,\n",
    "                                    iou=0.45,\n",
    "                                    device=\"cuda\"\n",
    "                                )\n",
    "    \n",
    "    print(validation_results)"
   ]
  },
  {
   "cell_type": "markdown",
   "metadata": {},
   "source": [
    "# Optimizing inference params"
   ]
  },
  {
   "cell_type": "code",
   "execution_count": null,
   "metadata": {},
   "outputs": [],
   "source": [
    "from datalabeling.annotator import Detector\n",
    "from datalabeling.arguments import Arguments\n",
    "from datalabeling.dataset.sampling import (get_preds_targets, compute_detector_performance, get_uncertainty)    \n",
    "import yaml, os\n",
    "from hyperopt import tpe, hp, fmin"
   ]
  },
  {
   "cell_type": "code",
   "execution_count": null,
   "metadata": {},
   "outputs": [],
   "source": [
    "# params \n",
    "args = Arguments()\n",
    "args.path_to_weights = r\"C:/Users/Machine Learning/Desktop/workspace-wildAI/datalabeling/runs/mlflow/140168774036374062/57daf3bcd99b4dd4b040cb4f8670960c/artifacts/weights/best.pt\"\n",
    "# args.confidence_threshold = 0.2\n",
    "# args.overlap_ratio = 0.1\n",
    "args.use_sliding_window = True\n",
    "args.device = \"cuda\"\n",
    "args.is_yolo_obb = True\n",
    "args.pred_results_dir = r\"C:\\Users\\Machine Learning\\Desktop\\workspace-wildAI\\datalabeling\\.tmp\"\n",
    "args.data_config_yaml = r\"C:\\Users\\Machine Learning\\Desktop\\workspace-wildAI\\datalabeling\\data\\dataset_hn.yaml\"\n",
    "args.hn_uncertainty_method = \"entropy\"\n"
   ]
  },
  {
   "cell_type": "code",
   "execution_count": null,
   "metadata": {},
   "outputs": [],
   "source": [
    "# load groundtruth\n",
    "with open(args.data_config_yaml,'r') as file:\n",
    "    yolo_config = yaml.load(file,Loader=yaml.FullLoader)\n",
    "\n",
    "split='val'\n",
    "images_path = [os.path.join(yolo_config['path'],yolo_config[split][i]) for i in range(len(yolo_config[split]))]\n",
    "images_path"
   ]
  },
  {
   "cell_type": "code",
   "execution_count": null,
   "metadata": {},
   "outputs": [],
   "source": [
    "def objective(params:dict):\n",
    "\n",
    "    # Define detector\n",
    "    model = Detector(path_to_weights=args.path_to_weights,\n",
    "                        confidence_threshold=params['confidence_threshold'],\n",
    "                        overlap_ratio=params['overlap_ratio'],\n",
    "                        tilesize=params['tilesize'],\n",
    "                        imgsz=params['imgsz'],\n",
    "                        use_sliding_window=args.use_sliding_window,\n",
    "                        device=args.device,\n",
    "                        is_yolo_obb=args.is_yolo_obb\n",
    "                    )\n",
    "\n",
    "    df_results, df_labels, col_names = get_preds_targets(images_dirs=images_path,\n",
    "                                                        pred_results_dir=args.pred_results_dir,\n",
    "                                                        detector=model,\n",
    "                                                        load_results=False,\n",
    "                                                        save_tag=f\"{params['imgsz']}-{params['tilesize']}-{params['overlap_ratio']}-{params['confidence_threshold']}\"\n",
    "                                                        )\n",
    "\n",
    "    df_results_per_img = compute_detector_performance(df_results,df_labels,col_names)\n",
    "    # df_results_per_img = get_uncertainty(df_results_per_img=df_results_per_img,mode=args.hn_uncertainty_method)\n",
    "\n",
    "    # minizing loss -> maximize map50 and map75\n",
    "    loss = -1.0*df_results_per_img[\"map50\"].mean() - df_results_per_img[\"map75\"].mean() #+ df_results_per_img[\"uncertainty\"].mean()\n",
    "\n",
    "    return loss"
   ]
  },
  {
   "cell_type": "code",
   "execution_count": null,
   "metadata": {},
   "outputs": [],
   "source": [
    "search_space = {\n",
    "                'confidence_threshold': hp.uniform('x', 0.1, 0.7),\n",
    "                'overlap_ratio': hp.uniform('y', 0, 0.25),\n",
    "                'tilesize': hp.choice(label='tilesize',options=[640, 2*640]),\n",
    "                'imgsz': hp.choice(label='imgsz',options=[640, 2*640, 3*640, 4*640]),\n",
    "            }\n",
    "\n",
    "best = fmin(\n",
    "    fn=objective, # Objective Function to optimize\n",
    "    space=search_space, # Hyperparameter's Search Space\n",
    "    algo=tpe.suggest, # Optimization algorithm (representative TPE)\n",
    "    max_evals=2 # Number of optimization attempts\n",
    ")"
   ]
  },
  {
   "cell_type": "code",
   "execution_count": null,
   "metadata": {},
   "outputs": [],
   "source": [
    "print(best)"
   ]
  },
  {
   "cell_type": "markdown",
   "metadata": {},
   "source": [
    "# Dataset label format conversion"
   ]
  },
  {
   "cell_type": "code",
   "execution_count": null,
   "metadata": {},
   "outputs": [],
   "source": [
    "import pandas as pd\n",
    "import numpy as np"
   ]
  },
  {
   "cell_type": "code",
   "execution_count": null,
   "metadata": {},
   "outputs": [],
   "source": [
    "def check_label_format(loaded_df:pd.DataFrame)->str:\n",
    "    \"\"\"checks label format\n",
    "\n",
    "    Args:\n",
    "        loaded_df (pd.DataFrame): target values\n",
    "\n",
    "    Raises:\n",
    "        NotImplementedError: when the format is not yolo or yolo-obb\n",
    "\n",
    "    Returns:\n",
    "        str: yolo or yolo-obb\n",
    "    \"\"\"\n",
    "\n",
    "    num_features = len(loaded_df.columns)\n",
    "\n",
    "    if num_features == 5:\n",
    "        return \"yolo\"\n",
    "    elif num_features == 9:\n",
    "        return \"yolo-obb\"\n",
    "    else:\n",
    "        raise NotImplementedError(f\"The number of features ({num_features}) in the label file is wrong. Check yolo or yolo-obb format.\")"
   ]
  },
  {
   "cell_type": "code",
   "execution_count": null,
   "metadata": {},
   "outputs": [],
   "source": [
    "label_path = r\"D:\\PhD\\Data per camp\\DetectionDataset\\Rep 1\\train\\labels\\DJI_20231002150401_0009_0_48_0_1271_640_1911.txt\"\n",
    "df = pd.read_csv(label_path,sep=' ',header=None)\n",
    "df"
   ]
  },
  {
   "cell_type": "code",
   "execution_count": null,
   "metadata": {},
   "outputs": [],
   "source": [
    "isinstance(df.iloc[:,0].dtype, np.dtypes.IntDType)"
   ]
  },
  {
   "cell_type": "code",
   "execution_count": null,
   "metadata": {},
   "outputs": [],
   "source": [
    "check_label_format(df)"
   ]
  },
  {
   "cell_type": "code",
   "execution_count": null,
   "metadata": {},
   "outputs": [],
   "source": [
    "len(df.columns)"
   ]
  },
  {
   "cell_type": "code",
   "execution_count": null,
   "metadata": {},
   "outputs": [],
   "source": [
    "df.columns = ['id','x1','y1','x2','y2','x3','y3','x4','y4']\n",
    "\n",
    "df"
   ]
  },
  {
   "cell_type": "markdown",
   "metadata": {},
   "source": [
    "# Debug"
   ]
  },
  {
   "cell_type": "code",
   "execution_count": null,
   "metadata": {},
   "outputs": [],
   "source": [
    "from ultralytics import YOLO\n",
    "import yaml\n",
    "from datalabeling.arguments import Arguments\n",
    "import os, logging, traceback\n",
    "from pathlib import Path\n",
    "import pandas as pd\n",
    "import math"
   ]
  },
  {
   "cell_type": "code",
   "execution_count": null,
   "metadata": {},
   "outputs": [],
   "source": [
    "def sample_pos_neg(images_paths:list,ratio:float,seed:int=41):\n",
    "\n",
    "    # build dataframe\n",
    "    is_empty = [1 - Path(str(p).replace('images','labels')).with_suffix('.txt').exists() for p in images_paths]\n",
    "    data = pd.DataFrame.from_dict({\"image_paths\":images_paths,\"is_empty\":is_empty},\n",
    "                                        orient=\"columns\")\n",
    "    # get empty and non empty\n",
    "    num_empty = (data[\"is_empty\"]==1).sum()\n",
    "    num_non_empty = len(data)-num_empty\n",
    "    if num_empty==0:\n",
    "        print(\"contains only positive samples\")\n",
    "    num_sampled_empty = min(math.floor(num_non_empty*ratio),num_empty)\n",
    "    sampled_empty = data.loc[data['is_empty']==1].sample(n=num_sampled_empty,random_state=seed)\n",
    "    # concatenate\n",
    "    sampled_data = pd.concat([sampled_empty,data.loc[data['is_empty']==0]])\n",
    "\n",
    "    print(f\"Sampling: pos={num_non_empty} & neg={num_sampled_empty}\",end=\"\\n\")\n",
    "\n",
    "    return sampled_data['image_paths'].to_list()\n",
    "\n",
    "\n",
    "def get_data_cfg_paths_for_cl(ratio:float,data_config_yaml:str,cl_save_dir:str,seed:int=41,split:str='train'):\n",
    "\n",
    "    with open(data_config_yaml,'r') as file:\n",
    "        yolo_config = yaml.load(file,Loader=yaml.FullLoader)\n",
    "\n",
    "    root = yolo_config[\"path\"]\n",
    "    train_dirs_images = [os.path.join(root,p) for p in yolo_config[split]]\n",
    "    \n",
    "    # sample positive and negative images\n",
    "    sampled_imgs_paths = []\n",
    "    for dir_images in train_dirs_images:\n",
    "        print(f\"Sampling positive and negative samples from {dir_images}\")\n",
    "        paths = sample_pos_neg(images_paths=list(Path(dir_images).iterdir()),\n",
    "                       ratio=ratio,\n",
    "                       seed=seed\n",
    "                       )\n",
    "        sampled_imgs_paths = sampled_imgs_paths + paths\n",
    "\n",
    "    \n",
    "    # save selected images in txt file\n",
    "    save_path_samples = os.path.join(cl_save_dir,f\"{split}_ratio_{ratio}-seed_{seed}.txt\")\n",
    "    pd.Series(sampled_imgs_paths).to_csv(save_path_samples,\n",
    "                                        index=False,header=False)\n",
    "    print(f\"Saving {len(sampled_imgs_paths)} sampled images.\")\n",
    "    # save config\n",
    "    if split == 'train':\n",
    "        cfg_dict = {'path':root,\n",
    "                    'names': yolo_config['names'],\n",
    "                    'train': os.path.relpath(save_path_samples,start=root),\n",
    "                    'val':   yolo_config['val'],\n",
    "                    'nc': yolo_config['nc'],\n",
    "                }\n",
    "    elif split == 'val':\n",
    "        cfg_dict = {'path':root,\n",
    "                    'names': yolo_config['names'],\n",
    "                    'val': os.path.relpath(save_path_samples,start=root),\n",
    "                    'train':   yolo_config['val'],\n",
    "                    'nc': yolo_config['nc'],\n",
    "                }\n",
    "    else:\n",
    "        raise NotImplementedError\n",
    "    save_path_cfg = Path(save_path_samples).with_suffix('.yml')\n",
    "    with open(save_path_cfg,'w') as file:\n",
    "        yaml.dump(cfg_dict,file)\n",
    "\n",
    "    print(f\"Saving samples at: {save_path_samples} and data_cfg at {save_path_cfg}\",end=\"\\n\\n\")\n",
    "\n",
    "    return save_path_cfg\n"
   ]
  },
  {
   "cell_type": "code",
   "execution_count": null,
   "metadata": {},
   "outputs": [],
   "source": [
    "data_config_yaml=r\"C:\\Users\\Machine Learning\\Desktop\\workspace-wildAI\\datalabeling\\data\\dataset_1.yaml\"\n",
    "cl_save_dir = r\"D:\\PhD\\Data per camp\\DetectionDataset\\continuous_learning\"\n",
    "cl_cfg_path = get_data_cfg_paths_for_cl(ratio=1.,data_config_yaml=data_config_yaml,cl_save_dir=cl_save_dir,seed=41,split='train')\n",
    "cl_cfg_path\n"
   ]
  },
  {
   "cell_type": "code",
   "execution_count": null,
   "metadata": {},
   "outputs": [],
   "source": [
    "for lr, ratio, num_epochs,freeze in zip((1e-3,5e-3,1e-4,1e-5),(1,2,5,10),(20,5,5,5),(None,10,15,20)):\n",
    "\n",
    "    print(lr, ratio, num_epochs, freeze)"
   ]
  },
  {
   "cell_type": "code",
   "execution_count": null,
   "metadata": {},
   "outputs": [],
   "source": [
    "data_config_yaml=r\"C:\\Users\\Machine Learning\\Desktop\\workspace-wildAI\\datalabeling\\data\\dataset_1.yaml\"\n",
    "try:\n",
    "    with open(data_config_yaml,'r') as file:\n",
    "        yolo_config = yaml.load(file,Loader=yaml.FullLoader)\n",
    "    root = yolo_config[\"path\"]\n",
    "    for p in yolo_config[\"train\"] + yolo_config[\"val\"]:\n",
    "        path = os.path.join(root,p,\"..\\\\labels.cache\")\n",
    "        if os.path.exists(path):\n",
    "            os.remove(path)\n",
    "            print(f\"Removing: {os.path.join(root,p,\"..\\\\labels.cache\")}\")\n",
    "except Exception as e:\n",
    "     # print(e)\n",
    "    traceback.print_exc()"
   ]
  },
  {
   "cell_type": "code",
   "execution_count": null,
   "metadata": {},
   "outputs": [],
   "source": [
    "pd.Series([False,True]) + pd.Series([False,True]) + pd.Series([False,True])"
   ]
  }
 ],
 "metadata": {
  "kernelspec": {
   "display_name": "label-backend",
   "language": "python",
   "name": "python3"
  },
  "language_info": {
   "codemirror_mode": {
    "name": "ipython",
    "version": 3
   },
   "file_extension": ".py",
   "mimetype": "text/x-python",
   "name": "python",
   "nbconvert_exporter": "python",
   "pygments_lexer": "ipython3",
   "version": "3.12.2"
  },
  "orig_nbformat": 4
 },
 "nbformat": 4,
 "nbformat_minor": 2
}
