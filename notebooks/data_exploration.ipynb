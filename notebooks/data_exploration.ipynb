{
 "cells": [
  {
   "cell_type": "markdown",
   "metadata": {},
   "source": [
    "# Image tiling for annotation"
   ]
  },
  {
   "cell_type": "markdown",
   "metadata": {},
   "source": [
    "#### Meanings of arguments\n",
    "- ```-ratioheight``` : proportion of tile  w.r.t height of image. Example 0.5 means dividing the image in two bands w.r.t height.\n",
    "- ```-ratiowidth``` : proportion of tile w.r.t to width of image. Example 1.0 means the width of the tile is the same as the image.\n",
    "- ```-overlapfactor``` : percentage of overlap. It should be less than 1.\n",
    "- ```-rmheight``` : percentage of height to remove or crop at bottom and top\n",
    "- ```-rmwidth``` : percentage of width to remove or crop on each side of the image\n",
    "- ```-pattern``` : \"**/*.JPG\" will get all .JPG images in directory and subdirectories. On windows it will get both .JPG and .jpg. On unix it will only get .JPG images\n"
   ]
  },
  {
   "cell_type": "code",
   "execution_count": 6,
   "metadata": {},
   "outputs": [
    {
     "name": "stderr",
     "output_type": "stream",
     "text": [
      "c:\\Users\\Machine Learning\\anaconda3\\envs\\label-backend\\Lib\\site-packages\\albumentations\\__init__.py:24: UserWarning: A new version of Albumentations is available: 2.0.4 (you have 1.4.21). Upgrade using: pip install -U albumentations. To disable automatic update checks, set the environment variable NO_ALBUMENTATIONS_UPDATE to 1.\n",
      "  check_for_updates()\n",
      "\n",
      "Exporting patches:   0%|          | 0/87 [00:00<?, ?it/s]\n",
      "Exporting patches:   1%|          | 1/87 [00:01<02:14,  1.56s/it]\n",
      "Exporting patches:   2%|▏         | 2/87 [00:03<02:14,  1.59s/it]\n",
      "Exporting patches:   3%|▎         | 3/87 [00:04<02:14,  1.60s/it]\n",
      "Exporting patches:   5%|▍         | 4/87 [00:06<02:12,  1.60s/it]\n",
      "Exporting patches:   6%|▌         | 5/87 [00:07<02:11,  1.61s/it]\n",
      "Exporting patches:   7%|▋         | 6/87 [00:09<02:10,  1.61s/it]\n",
      "Exporting patches:   8%|▊         | 7/87 [00:11<02:08,  1.61s/it]\n",
      "Exporting patches:   9%|▉         | 8/87 [00:12<02:07,  1.61s/it]\n",
      "Exporting patches:  10%|█         | 9/87 [00:14<02:04,  1.60s/it]\n",
      "Exporting patches:  11%|█▏        | 10/87 [00:16<02:03,  1.60s/it]\n",
      "Exporting patches:  13%|█▎        | 11/87 [00:17<02:01,  1.60s/it]\n",
      "Exporting patches:  14%|█▍        | 12/87 [00:19<02:00,  1.61s/it]\n",
      "Exporting patches:  15%|█▍        | 13/87 [00:20<01:59,  1.62s/it]\n",
      "Exporting patches:  16%|█▌        | 14/87 [00:22<01:57,  1.60s/it]\n",
      "Exporting patches:  17%|█▋        | 15/87 [00:24<01:55,  1.61s/it]\n",
      "Exporting patches:  18%|█▊        | 16/87 [00:25<01:54,  1.61s/it]\n",
      "Exporting patches:  20%|█▉        | 17/87 [00:27<01:52,  1.61s/it]\n",
      "Exporting patches:  21%|██        | 18/87 [00:28<01:50,  1.61s/it]\n",
      "Exporting patches:  22%|██▏       | 19/87 [00:30<01:49,  1.61s/it]\n",
      "Exporting patches:  23%|██▎       | 20/87 [00:32<01:48,  1.62s/it]\n",
      "Exporting patches:  24%|██▍       | 21/87 [00:33<01:47,  1.62s/it]\n",
      "Exporting patches:  25%|██▌       | 22/87 [00:35<01:43,  1.60s/it]\n",
      "Exporting patches:  26%|██▋       | 23/87 [00:36<01:41,  1.59s/it]\n",
      "Exporting patches:  28%|██▊       | 24/87 [00:38<01:39,  1.58s/it]\n",
      "Exporting patches:  29%|██▊       | 25/87 [00:39<01:36,  1.56s/it]\n",
      "Exporting patches:  30%|██▉       | 26/87 [00:41<01:34,  1.54s/it]\n",
      "Exporting patches:  31%|███       | 27/87 [00:43<01:33,  1.55s/it]\n",
      "Exporting patches:  32%|███▏      | 28/87 [00:44<01:31,  1.55s/it]\n",
      "Exporting patches:  33%|███▎      | 29/87 [00:46<01:30,  1.56s/it]\n",
      "Exporting patches:  34%|███▍      | 30/87 [00:47<01:28,  1.55s/it]\n",
      "Exporting patches:  36%|███▌      | 31/87 [00:49<01:26,  1.55s/it]\n",
      "Exporting patches:  37%|███▋      | 32/87 [00:50<01:24,  1.53s/it]\n",
      "Exporting patches:  38%|███▊      | 33/87 [00:52<01:23,  1.54s/it]\n",
      "Exporting patches:  39%|███▉      | 34/87 [00:53<01:21,  1.54s/it]\n",
      "Exporting patches:  40%|████      | 35/87 [00:55<01:20,  1.56s/it]\n",
      "Exporting patches:  41%|████▏     | 36/87 [00:57<01:20,  1.57s/it]\n",
      "Exporting patches:  43%|████▎     | 37/87 [00:58<01:18,  1.58s/it]\n",
      "Exporting patches:  44%|████▎     | 38/87 [01:00<01:17,  1.59s/it]\n",
      "Exporting patches:  45%|████▍     | 39/87 [01:01<01:16,  1.59s/it]\n",
      "Exporting patches:  46%|████▌     | 40/87 [01:03<01:14,  1.59s/it]\n",
      "Exporting patches:  47%|████▋     | 41/87 [01:05<01:13,  1.59s/it]\n",
      "Exporting patches:  48%|████▊     | 42/87 [01:06<01:12,  1.60s/it]\n",
      "Exporting patches:  49%|████▉     | 43/87 [01:08<01:10,  1.61s/it]\n",
      "Exporting patches:  51%|█████     | 44/87 [01:09<01:09,  1.61s/it]\n",
      "Exporting patches:  52%|█████▏    | 45/87 [01:11<01:07,  1.60s/it]\n",
      "Exporting patches:  53%|█████▎    | 46/87 [01:13<01:05,  1.59s/it]\n",
      "Exporting patches:  54%|█████▍    | 47/87 [01:14<01:03,  1.58s/it]\n",
      "Exporting patches:  55%|█████▌    | 48/87 [01:16<01:01,  1.57s/it]\n",
      "Exporting patches:  56%|█████▋    | 49/87 [01:17<01:00,  1.58s/it]\n",
      "Exporting patches:  57%|█████▋    | 50/87 [01:19<00:59,  1.60s/it]\n",
      "Exporting patches:  59%|█████▊    | 51/87 [01:21<00:57,  1.60s/it]\n",
      "Exporting patches:  60%|█████▉    | 52/87 [01:22<00:56,  1.62s/it]\n",
      "Exporting patches:  61%|██████    | 53/87 [01:24<00:55,  1.62s/it]\n",
      "Exporting patches:  62%|██████▏   | 54/87 [01:25<00:53,  1.62s/it]\n",
      "Exporting patches:  63%|██████▎   | 55/87 [01:27<00:51,  1.61s/it]\n",
      "Exporting patches:  64%|██████▍   | 56/87 [01:29<00:49,  1.61s/it]\n",
      "Exporting patches:  66%|██████▌   | 57/87 [01:30<00:48,  1.63s/it]\n",
      "Exporting patches:  67%|██████▋   | 58/87 [01:32<00:47,  1.64s/it]\n",
      "Exporting patches:  68%|██████▊   | 59/87 [01:34<00:45,  1.63s/it]\n",
      "Exporting patches:  69%|██████▉   | 60/87 [01:35<00:44,  1.63s/it]\n",
      "Exporting patches:  70%|███████   | 61/87 [01:37<00:42,  1.63s/it]\n",
      "Exporting patches:  71%|███████▏  | 62/87 [01:38<00:40,  1.64s/it]\n",
      "Exporting patches:  72%|███████▏  | 63/87 [01:40<00:39,  1.63s/it]\n",
      "Exporting patches:  74%|███████▎  | 64/87 [01:42<00:37,  1.63s/it]\n",
      "Exporting patches:  75%|███████▍  | 65/87 [01:43<00:36,  1.64s/it]\n",
      "Exporting patches:  76%|███████▌  | 66/87 [01:45<00:34,  1.63s/it]\n",
      "Exporting patches:  77%|███████▋  | 67/87 [01:47<00:32,  1.64s/it]\n",
      "Exporting patches:  78%|███████▊  | 68/87 [01:48<00:30,  1.63s/it]\n",
      "Exporting patches:  79%|███████▉  | 69/87 [01:50<00:29,  1.64s/it]\n",
      "Exporting patches:  80%|████████  | 70/87 [01:52<00:28,  1.65s/it]\n",
      "Exporting patches:  82%|████████▏ | 71/87 [01:53<00:26,  1.65s/it]\n",
      "Exporting patches:  83%|████████▎ | 72/87 [01:55<00:24,  1.66s/it]\n",
      "Exporting patches:  84%|████████▍ | 73/87 [01:57<00:23,  1.66s/it]\n",
      "Exporting patches:  85%|████████▌ | 74/87 [01:58<00:21,  1.68s/it]\n",
      "Exporting patches:  86%|████████▌ | 75/87 [02:00<00:20,  1.68s/it]\n",
      "Exporting patches:  87%|████████▋ | 76/87 [02:02<00:18,  1.70s/it]\n",
      "Exporting patches:  89%|████████▊ | 77/87 [02:03<00:16,  1.68s/it]\n",
      "Exporting patches:  90%|████████▉ | 78/87 [02:05<00:15,  1.70s/it]\n",
      "Exporting patches:  91%|█████████ | 79/87 [02:07<00:13,  1.69s/it]\n",
      "Exporting patches:  92%|█████████▏| 80/87 [02:08<00:11,  1.68s/it]\n",
      "Exporting patches:  93%|█████████▎| 81/87 [02:10<00:09,  1.67s/it]\n",
      "Exporting patches:  94%|█████████▍| 82/87 [02:12<00:08,  1.66s/it]\n",
      "Exporting patches:  95%|█████████▌| 83/87 [02:13<00:06,  1.69s/it]\n",
      "Exporting patches:  97%|█████████▋| 84/87 [02:15<00:05,  1.69s/it]\n",
      "Exporting patches:  98%|█████████▊| 85/87 [02:17<00:03,  1.67s/it]\n",
      "Exporting patches:  99%|█████████▉| 86/87 [02:18<00:01,  1.66s/it]\n",
      "Exporting patches: 100%|██████████| 87/87 [02:20<00:00,  1.64s/it]\n",
      "Exporting patches: 100%|██████████| 87/87 [02:20<00:00,  1.62s/it]\n"
     ]
    }
   ],
   "source": [
    "# New script for tiling data\n",
    "# images_to_tile = r\"D:\\PhD\\Data per camp\\Extra training data\\savmap_dataset_v2\\raw_data\\images\"\n",
    "# destination_directory = r\"D:\\PhD\\Data per camp\\Extra training data\\savmap_dataset_v2\\raw_data\\images-tiled\"\n",
    "!python ../../HerdNet/tools/patcher.py \"D:\\PhD\\Data per camp\\Wet season\\Leopard rock\\Camp 22+37-41\\Rep 3\" 0 0 0 -overlapfactor 0.1  -ratiowidth 0.5 -ratioheight 0.5 -rmheight 0 -rmwidth 0 -dest \"D:\\PhD\\Data per camp\\Wet season\\Leopard rock\\Camp 22+37-41\\Rep 3 - tiled\" -pattern \"**/*.JPG\""
   ]
  },
  {
   "cell_type": "markdown",
   "metadata": {},
   "source": [
    "# Pre-annotating data for Labelstudio"
   ]
  },
  {
   "cell_type": "code",
   "execution_count": 2,
   "metadata": {},
   "outputs": [],
   "source": [
    "from dotenv import load_dotenv\n",
    "load_dotenv('../.env')\n",
    "\n",
    "from datalabeling.annotator import Annotator\n",
    "import os\n",
    "from pathlib import Path\n",
    "import torch\n",
    "from tqdm import tqdm"
   ]
  },
  {
   "cell_type": "markdown",
   "metadata": {},
   "source": [
    "### Creating a JSON file to be uuploaded to Label studio"
   ]
  },
  {
   "cell_type": "code",
   "execution_count": null,
   "metadata": {},
   "outputs": [],
   "source": [
    "# Example\n",
    "# provide correct alias, \"pt\", \"onnx\"\n",
    "alias = \"last\" # the aliases are found in mlflow tracker UI, use \"last-1\" to use the previous model\n",
    "name = \"obb-detector\" # detector, \"obb-detector\"\n",
    "handler = Annotator(mlflow_model_alias=alias,\n",
    "                    mlflow_model_name=name,\n",
    "                    is_yolo_obb= name.strip() == \"obb-detector\",\n",
    "                    # dotenv_path=\"../.env\"\n",
    "                    )\n",
    "path_img_dir=r\"D:\\PhD\\Africa Parks\\Liuwa aerial survey_ALL\\CENSUS 2019\\DAY 2 CENSUS 2019_CONVERTED\\AP 2019 day 2 - tiled\"\n",
    "root=\"D:\\\\\"\n",
    "save_json_path = os.path.join(Path(path_img_dir).parent, f\"{Path(path_img_dir).name}_preannotation_label-studio.json\")\n",
    "\n",
    "# build and saves json\n",
    "directory_preds = handler.build_upload_json(path_img_dir=path_img_dir,\n",
    "                                            root=root,\n",
    "                                            save_json_path=save_json_path,\n",
    "                                            pattern=\"**/*.JPG\")"
   ]
  },
  {
   "cell_type": "markdown",
   "metadata": {},
   "source": [
    "### Pre-annotating an existing project using Label studio API\n",
    "It seems that it will not work well (i.e. filtering) with older projects created prior to Label studio software update.\n",
    "It is the **recommended way of pre-annotating data in Labelstudio**."
   ]
  },
  {
   "cell_type": "code",
   "execution_count": 8,
   "metadata": {},
   "outputs": [
    {
     "name": "stderr",
     "output_type": "stream",
     "text": [
      "02/15/2025 20:20:09 - INFO - datalabeling.annotator.models -   Computing device: cuda:0\n",
      "Uploading predictions:   1%|          | 2/348 [00:00<01:15,  4.56it/s]"
     ]
    },
    {
     "name": "stdout",
     "output_type": "stream",
     "text": [
      "Prediction performed in 0.26926684379577637 seconds.\n",
      "Prediction performed in 0.11402606964111328 seconds.\n"
     ]
    },
    {
     "name": "stderr",
     "output_type": "stream",
     "text": [
      "Uploading predictions:   1%|          | 4/348 [00:00<00:57,  6.00it/s]"
     ]
    },
    {
     "name": "stdout",
     "output_type": "stream",
     "text": [
      "Prediction performed in 0.0995032787322998 seconds.\n",
      "Prediction performed in 0.10026764869689941 seconds.\n"
     ]
    },
    {
     "name": "stderr",
     "output_type": "stream",
     "text": [
      "Uploading predictions:   2%|▏         | 6/348 [00:01<00:52,  6.52it/s]"
     ]
    },
    {
     "name": "stdout",
     "output_type": "stream",
     "text": [
      "Prediction performed in 0.08104872703552246 seconds.\n",
      "Prediction performed in 0.10051536560058594 seconds.\n"
     ]
    },
    {
     "name": "stderr",
     "output_type": "stream",
     "text": [
      "Uploading predictions:   2%|▏         | 7/348 [00:01<00:51,  6.60it/s]"
     ]
    },
    {
     "name": "stdout",
     "output_type": "stream",
     "text": [
      "Prediction performed in 0.1005563735961914 seconds.\n",
      "Prediction performed in 0.09942889213562012 seconds.\n"
     ]
    },
    {
     "name": "stderr",
     "output_type": "stream",
     "text": [
      "Uploading predictions:   3%|▎         | 10/348 [00:01<00:57,  5.87it/s]"
     ]
    },
    {
     "name": "stdout",
     "output_type": "stream",
     "text": [
      "Prediction performed in 0.09988832473754883 seconds.\n",
      "Prediction performed in 0.10661602020263672 seconds.\n"
     ]
    },
    {
     "name": "stderr",
     "output_type": "stream",
     "text": [
      "Uploading predictions:   3%|▎         | 12/348 [00:02<00:53,  6.27it/s]"
     ]
    },
    {
     "name": "stdout",
     "output_type": "stream",
     "text": [
      "Prediction performed in 0.10061025619506836 seconds.\n",
      "Prediction performed in 0.10413599014282227 seconds.\n"
     ]
    },
    {
     "name": "stderr",
     "output_type": "stream",
     "text": [
      "Uploading predictions:   4%|▍         | 14/348 [00:02<00:50,  6.60it/s]"
     ]
    },
    {
     "name": "stdout",
     "output_type": "stream",
     "text": [
      "Prediction performed in 0.08386087417602539 seconds.\n",
      "Prediction performed in 0.11443042755126953 seconds.\n"
     ]
    },
    {
     "name": "stderr",
     "output_type": "stream",
     "text": [
      "Uploading predictions:   5%|▍         | 16/348 [00:02<00:48,  6.80it/s]"
     ]
    },
    {
     "name": "stdout",
     "output_type": "stream",
     "text": [
      "Prediction performed in 0.10003829002380371 seconds.\n",
      "Prediction performed in 0.10200047492980957 seconds.\n"
     ]
    },
    {
     "name": "stderr",
     "output_type": "stream",
     "text": [
      "Uploading predictions:   5%|▌         | 18/348 [00:02<00:49,  6.73it/s]"
     ]
    },
    {
     "name": "stdout",
     "output_type": "stream",
     "text": [
      "Prediction performed in 0.1004338264465332 seconds.\n",
      "Prediction performed in 0.1002359390258789 seconds.\n"
     ]
    },
    {
     "name": "stderr",
     "output_type": "stream",
     "text": [
      "Uploading predictions:   6%|▌         | 20/348 [00:03<00:48,  6.70it/s]"
     ]
    },
    {
     "name": "stdout",
     "output_type": "stream",
     "text": [
      "Prediction performed in 0.10011172294616699 seconds.\n",
      "Prediction performed in 0.10032105445861816 seconds.\n"
     ]
    },
    {
     "name": "stderr",
     "output_type": "stream",
     "text": [
      "Uploading predictions:   6%|▋         | 22/348 [00:03<00:47,  6.85it/s]"
     ]
    },
    {
     "name": "stdout",
     "output_type": "stream",
     "text": [
      "Prediction performed in 0.10010194778442383 seconds.\n",
      "Prediction performed in 0.11522960662841797 seconds.\n"
     ]
    },
    {
     "name": "stderr",
     "output_type": "stream",
     "text": [
      "Uploading predictions:   7%|▋         | 24/348 [00:03<00:46,  6.91it/s]"
     ]
    },
    {
     "name": "stdout",
     "output_type": "stream",
     "text": [
      "Prediction performed in 0.10060572624206543 seconds.\n",
      "Prediction performed in 0.11682319641113281 seconds.\n"
     ]
    },
    {
     "name": "stderr",
     "output_type": "stream",
     "text": [
      "Uploading predictions:   7%|▋         | 26/348 [00:04<00:47,  6.72it/s]"
     ]
    },
    {
     "name": "stdout",
     "output_type": "stream",
     "text": [
      "Prediction performed in 0.08548402786254883 seconds.\n",
      "Prediction performed in 0.12092256546020508 seconds.\n"
     ]
    },
    {
     "name": "stderr",
     "output_type": "stream",
     "text": [
      "Uploading predictions:   8%|▊         | 28/348 [00:04<00:48,  6.59it/s]"
     ]
    },
    {
     "name": "stdout",
     "output_type": "stream",
     "text": [
      "Prediction performed in 0.09999513626098633 seconds.\n",
      "Prediction performed in 0.11742568016052246 seconds.\n"
     ]
    },
    {
     "name": "stderr",
     "output_type": "stream",
     "text": [
      "Uploading predictions:   9%|▊         | 30/348 [00:04<00:46,  6.77it/s]"
     ]
    },
    {
     "name": "stdout",
     "output_type": "stream",
     "text": [
      "Prediction performed in 0.09377002716064453 seconds.\n",
      "Prediction performed in 0.10248088836669922 seconds.\n"
     ]
    },
    {
     "name": "stderr",
     "output_type": "stream",
     "text": [
      "Uploading predictions:   9%|▉         | 32/348 [00:04<00:46,  6.80it/s]"
     ]
    },
    {
     "name": "stdout",
     "output_type": "stream",
     "text": [
      "Prediction performed in 0.09507203102111816 seconds.\n",
      "Prediction performed in 0.10492706298828125 seconds.\n"
     ]
    },
    {
     "name": "stderr",
     "output_type": "stream",
     "text": [
      "Uploading predictions:  10%|▉         | 34/348 [00:05<00:44,  6.98it/s]"
     ]
    },
    {
     "name": "stdout",
     "output_type": "stream",
     "text": [
      "Prediction performed in 0.0920107364654541 seconds.\n",
      "Prediction performed in 0.09615230560302734 seconds.\n"
     ]
    },
    {
     "name": "stderr",
     "output_type": "stream",
     "text": [
      "Uploading predictions:  10%|█         | 36/348 [00:05<00:45,  6.82it/s]"
     ]
    },
    {
     "name": "stdout",
     "output_type": "stream",
     "text": [
      "Prediction performed in 0.09590911865234375 seconds.\n",
      "Prediction performed in 0.11639118194580078 seconds.\n"
     ]
    },
    {
     "name": "stderr",
     "output_type": "stream",
     "text": [
      "Uploading predictions:  11%|█         | 38/348 [00:05<00:44,  6.91it/s]"
     ]
    },
    {
     "name": "stdout",
     "output_type": "stream",
     "text": [
      "Prediction performed in 0.09998679161071777 seconds.\n",
      "Prediction performed in 0.1150054931640625 seconds.\n"
     ]
    },
    {
     "name": "stderr",
     "output_type": "stream",
     "text": [
      "Uploading predictions:  11%|█▏        | 40/348 [00:06<00:44,  6.92it/s]"
     ]
    },
    {
     "name": "stdout",
     "output_type": "stream",
     "text": [
      "Prediction performed in 0.10002541542053223 seconds.\n",
      "Prediction performed in 0.11700749397277832 seconds.\n"
     ]
    },
    {
     "name": "stderr",
     "output_type": "stream",
     "text": [
      "Uploading predictions:  12%|█▏        | 42/348 [00:06<00:43,  6.97it/s]"
     ]
    },
    {
     "name": "stdout",
     "output_type": "stream",
     "text": [
      "Prediction performed in 0.09510254859924316 seconds.\n",
      "Prediction performed in 0.0999746322631836 seconds.\n"
     ]
    },
    {
     "name": "stderr",
     "output_type": "stream",
     "text": [
      "Uploading predictions:  12%|█▏        | 43/348 [00:06<00:44,  6.85it/s]"
     ]
    },
    {
     "name": "stdout",
     "output_type": "stream",
     "text": [
      "Prediction performed in 0.08055973052978516 seconds.\n",
      "Prediction performed in 0.11957716941833496 seconds.\n"
     ]
    },
    {
     "name": "stderr",
     "output_type": "stream",
     "text": [
      "Uploading predictions:  13%|█▎        | 46/348 [00:07<00:44,  6.76it/s]"
     ]
    },
    {
     "name": "stdout",
     "output_type": "stream",
     "text": [
      "Prediction performed in 0.09482479095458984 seconds.\n",
      "Prediction performed in 0.11642932891845703 seconds.\n"
     ]
    },
    {
     "name": "stderr",
     "output_type": "stream",
     "text": [
      "Uploading predictions:  14%|█▍        | 48/348 [00:07<00:43,  6.92it/s]"
     ]
    },
    {
     "name": "stdout",
     "output_type": "stream",
     "text": [
      "Prediction performed in 0.10024261474609375 seconds.\n",
      "Prediction performed in 0.09998750686645508 seconds.\n"
     ]
    },
    {
     "name": "stderr",
     "output_type": "stream",
     "text": [
      "Uploading predictions:  14%|█▍        | 50/348 [00:07<00:42,  7.03it/s]"
     ]
    },
    {
     "name": "stdout",
     "output_type": "stream",
     "text": [
      "Prediction performed in 0.08532285690307617 seconds.\n",
      "Prediction performed in 0.09988737106323242 seconds.\n"
     ]
    },
    {
     "name": "stderr",
     "output_type": "stream",
     "text": [
      "Uploading predictions:  15%|█▍        | 52/348 [00:07<00:43,  6.77it/s]"
     ]
    },
    {
     "name": "stdout",
     "output_type": "stream",
     "text": [
      "Prediction performed in 0.10010170936584473 seconds.\n",
      "Prediction performed in 0.10036683082580566 seconds.\n"
     ]
    },
    {
     "name": "stderr",
     "output_type": "stream",
     "text": [
      "Uploading predictions:  16%|█▌        | 54/348 [00:08<00:42,  6.88it/s]"
     ]
    },
    {
     "name": "stdout",
     "output_type": "stream",
     "text": [
      "Prediction performed in 0.10005450248718262 seconds.\n",
      "Prediction performed in 0.09956026077270508 seconds.\n"
     ]
    },
    {
     "name": "stderr",
     "output_type": "stream",
     "text": [
      "Uploading predictions:  16%|█▌        | 56/348 [00:08<00:42,  6.93it/s]"
     ]
    },
    {
     "name": "stdout",
     "output_type": "stream",
     "text": [
      "Prediction performed in 0.10187005996704102 seconds.\n",
      "Prediction performed in 0.09995722770690918 seconds.\n"
     ]
    },
    {
     "name": "stderr",
     "output_type": "stream",
     "text": [
      "Uploading predictions:  17%|█▋        | 58/348 [00:08<00:42,  6.86it/s]"
     ]
    },
    {
     "name": "stdout",
     "output_type": "stream",
     "text": [
      "Prediction performed in 0.08375382423400879 seconds.\n",
      "Prediction performed in 0.10165882110595703 seconds.\n"
     ]
    },
    {
     "name": "stderr",
     "output_type": "stream",
     "text": [
      "Uploading predictions:  17%|█▋        | 60/348 [00:09<00:41,  7.01it/s]"
     ]
    },
    {
     "name": "stdout",
     "output_type": "stream",
     "text": [
      "Prediction performed in 0.09284353256225586 seconds.\n",
      "Prediction performed in 0.0998234748840332 seconds.\n"
     ]
    },
    {
     "name": "stderr",
     "output_type": "stream",
     "text": [
      "Uploading predictions:  18%|█▊        | 62/348 [00:09<00:41,  6.84it/s]"
     ]
    },
    {
     "name": "stdout",
     "output_type": "stream",
     "text": [
      "Prediction performed in 0.09426069259643555 seconds.\n",
      "Prediction performed in 0.10938262939453125 seconds.\n"
     ]
    },
    {
     "name": "stderr",
     "output_type": "stream",
     "text": [
      "Uploading predictions:  18%|█▊        | 64/348 [00:09<00:42,  6.75it/s]"
     ]
    },
    {
     "name": "stdout",
     "output_type": "stream",
     "text": [
      "Prediction performed in 0.10938310623168945 seconds.\n",
      "Prediction performed in 0.10938358306884766 seconds.\n"
     ]
    },
    {
     "name": "stderr",
     "output_type": "stream",
     "text": [
      "Uploading predictions:  19%|█▉        | 66/348 [00:09<00:42,  6.71it/s]"
     ]
    },
    {
     "name": "stdout",
     "output_type": "stream",
     "text": [
      "Prediction performed in 0.09375548362731934 seconds.\n",
      "Prediction performed in 0.10938358306884766 seconds.\n"
     ]
    },
    {
     "name": "stderr",
     "output_type": "stream",
     "text": [
      "Uploading predictions:  19%|█▉        | 67/348 [00:10<00:41,  6.83it/s]"
     ]
    },
    {
     "name": "stdout",
     "output_type": "stream",
     "text": [
      "Prediction performed in 0.09375810623168945 seconds.\n",
      "Prediction performed in 0.10938334465026855 seconds.\n"
     ]
    },
    {
     "name": "stderr",
     "output_type": "stream",
     "text": [
      "Uploading predictions:  20%|██        | 70/348 [00:10<00:40,  6.90it/s]"
     ]
    },
    {
     "name": "stdout",
     "output_type": "stream",
     "text": [
      "Prediction performed in 0.09375667572021484 seconds.\n",
      "Prediction performed in 0.10938310623168945 seconds.\n"
     ]
    },
    {
     "name": "stderr",
     "output_type": "stream",
     "text": [
      "Uploading predictions:  21%|██        | 72/348 [00:10<00:41,  6.63it/s]"
     ]
    },
    {
     "name": "stdout",
     "output_type": "stream",
     "text": [
      "Prediction performed in 0.09375643730163574 seconds.\n",
      "Prediction performed in 0.10948753356933594 seconds.\n"
     ]
    },
    {
     "name": "stderr",
     "output_type": "stream",
     "text": [
      "Uploading predictions:  21%|██▏       | 74/348 [00:11<00:40,  6.78it/s]"
     ]
    },
    {
     "name": "stdout",
     "output_type": "stream",
     "text": [
      "Prediction performed in 0.08392500877380371 seconds.\n",
      "Prediction performed in 0.09888434410095215 seconds.\n"
     ]
    },
    {
     "name": "stderr",
     "output_type": "stream",
     "text": [
      "Uploading predictions:  22%|██▏       | 76/348 [00:11<00:39,  6.94it/s]"
     ]
    },
    {
     "name": "stdout",
     "output_type": "stream",
     "text": [
      "Prediction performed in 0.09375715255737305 seconds.\n",
      "Prediction performed in 0.10938358306884766 seconds.\n"
     ]
    },
    {
     "name": "stderr",
     "output_type": "stream",
     "text": [
      "Uploading predictions:  22%|██▏       | 78/348 [00:11<00:38,  7.03it/s]"
     ]
    },
    {
     "name": "stdout",
     "output_type": "stream",
     "text": [
      "Prediction performed in 0.09375667572021484 seconds.\n",
      "Prediction performed in 0.10938334465026855 seconds.\n"
     ]
    },
    {
     "name": "stderr",
     "output_type": "stream",
     "text": [
      "Uploading predictions:  23%|██▎       | 80/348 [00:11<00:39,  6.84it/s]"
     ]
    },
    {
     "name": "stdout",
     "output_type": "stream",
     "text": [
      "Prediction performed in 0.09375691413879395 seconds.\n",
      "Prediction performed in 0.10938382148742676 seconds.\n"
     ]
    },
    {
     "name": "stderr",
     "output_type": "stream",
     "text": [
      "Uploading predictions:  23%|██▎       | 81/348 [00:12<00:38,  6.92it/s]"
     ]
    },
    {
     "name": "stdout",
     "output_type": "stream",
     "text": [
      "Prediction performed in 0.0948946475982666 seconds.\n",
      "Prediction performed in 0.10938358306884766 seconds.\n"
     ]
    },
    {
     "name": "stderr",
     "output_type": "stream",
     "text": [
      "Uploading predictions:  24%|██▍       | 84/348 [00:12<00:39,  6.71it/s]"
     ]
    },
    {
     "name": "stdout",
     "output_type": "stream",
     "text": [
      "Prediction performed in 0.10938358306884766 seconds.\n",
      "Prediction performed in 0.10938358306884766 seconds.\n"
     ]
    },
    {
     "name": "stderr",
     "output_type": "stream",
     "text": [
      "Uploading predictions:  25%|██▍       | 86/348 [00:12<00:38,  6.84it/s]"
     ]
    },
    {
     "name": "stdout",
     "output_type": "stream",
     "text": [
      "Prediction performed in 0.09375691413879395 seconds.\n",
      "Prediction performed in 0.09375691413879395 seconds.\n"
     ]
    },
    {
     "name": "stderr",
     "output_type": "stream",
     "text": [
      "Uploading predictions:  25%|██▌       | 88/348 [00:13<00:38,  6.77it/s]"
     ]
    },
    {
     "name": "stdout",
     "output_type": "stream",
     "text": [
      "Prediction performed in 0.10236310958862305 seconds.\n",
      "Prediction performed in 0.10026836395263672 seconds.\n"
     ]
    },
    {
     "name": "stderr",
     "output_type": "stream",
     "text": [
      "Uploading predictions:  26%|██▌       | 90/348 [00:13<00:37,  6.83it/s]"
     ]
    },
    {
     "name": "stdout",
     "output_type": "stream",
     "text": [
      "Prediction performed in 0.09375166893005371 seconds.\n",
      "Prediction performed in 0.09375596046447754 seconds.\n"
     ]
    },
    {
     "name": "stderr",
     "output_type": "stream",
     "text": [
      "Uploading predictions:  26%|██▋       | 92/348 [00:13<00:36,  6.97it/s]"
     ]
    },
    {
     "name": "stdout",
     "output_type": "stream",
     "text": [
      "Prediction performed in 0.09375739097595215 seconds.\n",
      "Prediction performed in 0.10938358306884766 seconds.\n"
     ]
    },
    {
     "name": "stderr",
     "output_type": "stream",
     "text": [
      "Uploading predictions:  27%|██▋       | 94/348 [00:13<00:36,  6.94it/s]"
     ]
    },
    {
     "name": "stdout",
     "output_type": "stream",
     "text": [
      "Prediction performed in 0.09375596046447754 seconds.\n",
      "Prediction performed in 0.09994649887084961 seconds.\n"
     ]
    },
    {
     "name": "stderr",
     "output_type": "stream",
     "text": [
      "Uploading predictions:  27%|██▋       | 95/348 [00:14<00:36,  6.86it/s]"
     ]
    },
    {
     "name": "stdout",
     "output_type": "stream",
     "text": [
      "Prediction performed in 0.08326196670532227 seconds.\n",
      "Prediction performed in 0.12560772895812988 seconds.\n"
     ]
    },
    {
     "name": "stderr",
     "output_type": "stream",
     "text": [
      "Uploading predictions:  28%|██▊       | 98/348 [00:14<00:37,  6.60it/s]"
     ]
    },
    {
     "name": "stdout",
     "output_type": "stream",
     "text": [
      "Prediction performed in 0.09783053398132324 seconds.\n",
      "Prediction performed in 0.10695242881774902 seconds.\n"
     ]
    },
    {
     "name": "stderr",
     "output_type": "stream",
     "text": [
      "Uploading predictions:  29%|██▊       | 100/348 [00:14<00:37,  6.62it/s]"
     ]
    },
    {
     "name": "stdout",
     "output_type": "stream",
     "text": [
      "Prediction performed in 0.09793567657470703 seconds.\n",
      "Prediction performed in 0.10795879364013672 seconds.\n"
     ]
    },
    {
     "name": "stderr",
     "output_type": "stream",
     "text": [
      "Uploading predictions:  29%|██▉       | 102/348 [00:15<00:36,  6.71it/s]"
     ]
    },
    {
     "name": "stdout",
     "output_type": "stream",
     "text": [
      "Prediction performed in 0.09577298164367676 seconds.\n",
      "Prediction performed in 0.10499286651611328 seconds.\n"
     ]
    },
    {
     "name": "stderr",
     "output_type": "stream",
     "text": [
      "Uploading predictions:  30%|██▉       | 103/348 [00:15<00:35,  6.81it/s]"
     ]
    },
    {
     "name": "stdout",
     "output_type": "stream",
     "text": [
      "Prediction performed in 0.10408973693847656 seconds.\n",
      "Prediction performed in 0.13924169540405273 seconds.\n"
     ]
    },
    {
     "name": "stderr",
     "output_type": "stream",
     "text": [
      "Uploading predictions:  30%|███       | 106/348 [00:15<00:39,  6.11it/s]"
     ]
    },
    {
     "name": "stdout",
     "output_type": "stream",
     "text": [
      "Prediction performed in 0.12500905990600586 seconds.\n",
      "Prediction performed in 0.10938334465026855 seconds.\n"
     ]
    },
    {
     "name": "stderr",
     "output_type": "stream",
     "text": [
      "Uploading predictions:  31%|███       | 108/348 [00:16<00:36,  6.59it/s]"
     ]
    },
    {
     "name": "stdout",
     "output_type": "stream",
     "text": [
      "Prediction performed in 0.09375691413879395 seconds.\n",
      "Prediction performed in 0.11692190170288086 seconds.\n"
     ]
    },
    {
     "name": "stderr",
     "output_type": "stream",
     "text": [
      "Uploading predictions:  32%|███▏      | 110/348 [00:16<00:36,  6.46it/s]"
     ]
    },
    {
     "name": "stdout",
     "output_type": "stream",
     "text": [
      "Prediction performed in 0.10651397705078125 seconds.\n",
      "Prediction performed in 0.11065435409545898 seconds.\n"
     ]
    },
    {
     "name": "stderr",
     "output_type": "stream",
     "text": [
      "Uploading predictions:  32%|███▏      | 111/348 [00:16<00:35,  6.74it/s]"
     ]
    },
    {
     "name": "stdout",
     "output_type": "stream",
     "text": [
      "Prediction performed in 0.09197068214416504 seconds.\n",
      "Prediction performed in 0.09964227676391602 seconds.\n"
     ]
    },
    {
     "name": "stderr",
     "output_type": "stream",
     "text": [
      "Uploading predictions:  32%|███▏      | 113/348 [00:16<00:35,  6.58it/s]"
     ]
    },
    {
     "name": "stdout",
     "output_type": "stream",
     "text": [
      "Prediction performed in 0.09762334823608398 seconds.\n",
      "Prediction performed in 0.11098885536193848 seconds.\n"
     ]
    },
    {
     "name": "stderr",
     "output_type": "stream",
     "text": [
      "Uploading predictions:  33%|███▎      | 116/348 [00:17<00:36,  6.39it/s]"
     ]
    },
    {
     "name": "stdout",
     "output_type": "stream",
     "text": [
      "Prediction performed in 0.09450840950012207 seconds.\n",
      "Prediction performed in 0.11911845207214355 seconds.\n"
     ]
    },
    {
     "name": "stderr",
     "output_type": "stream",
     "text": [
      "Uploading predictions:  34%|███▍      | 118/348 [00:17<00:33,  6.81it/s]"
     ]
    },
    {
     "name": "stdout",
     "output_type": "stream",
     "text": [
      "Prediction performed in 0.0781259536743164 seconds.\n",
      "Prediction performed in 0.10938334465026855 seconds.\n"
     ]
    },
    {
     "name": "stderr",
     "output_type": "stream",
     "text": [
      "Uploading predictions:  34%|███▍      | 120/348 [00:17<00:33,  6.74it/s]"
     ]
    },
    {
     "name": "stdout",
     "output_type": "stream",
     "text": [
      "Prediction performed in 0.09375619888305664 seconds.\n",
      "Prediction performed in 0.10938310623168945 seconds.\n"
     ]
    },
    {
     "name": "stderr",
     "output_type": "stream",
     "text": [
      "Uploading predictions:  35%|███▌      | 122/348 [00:18<00:32,  6.92it/s]"
     ]
    },
    {
     "name": "stdout",
     "output_type": "stream",
     "text": [
      "Prediction performed in 0.09375715255737305 seconds.\n",
      "Prediction performed in 0.09375524520874023 seconds.\n"
     ]
    },
    {
     "name": "stderr",
     "output_type": "stream",
     "text": [
      "Uploading predictions:  36%|███▌      | 124/348 [00:18<00:32,  6.79it/s]"
     ]
    },
    {
     "name": "stdout",
     "output_type": "stream",
     "text": [
      "Prediction performed in 0.11258244514465332 seconds.\n",
      "Prediction performed in 0.10575175285339355 seconds.\n"
     ]
    },
    {
     "name": "stderr",
     "output_type": "stream",
     "text": [
      "Uploading predictions:  36%|███▌      | 126/348 [00:18<00:32,  6.86it/s]"
     ]
    },
    {
     "name": "stdout",
     "output_type": "stream",
     "text": [
      "Prediction performed in 0.09423494338989258 seconds.\n",
      "Prediction performed in 0.10243582725524902 seconds.\n"
     ]
    },
    {
     "name": "stderr",
     "output_type": "stream",
     "text": [
      "Uploading predictions:  37%|███▋      | 128/348 [00:19<00:32,  6.81it/s]"
     ]
    },
    {
     "name": "stdout",
     "output_type": "stream",
     "text": [
      "Prediction performed in 0.0992729663848877 seconds.\n",
      "Prediction performed in 0.10938382148742676 seconds.\n"
     ]
    },
    {
     "name": "stderr",
     "output_type": "stream",
     "text": [
      "Uploading predictions:  37%|███▋      | 130/348 [00:19<00:31,  6.90it/s]"
     ]
    },
    {
     "name": "stdout",
     "output_type": "stream",
     "text": [
      "Prediction performed in 0.0935201644897461 seconds.\n",
      "Prediction performed in 0.10938167572021484 seconds.\n"
     ]
    },
    {
     "name": "stderr",
     "output_type": "stream",
     "text": [
      "Uploading predictions:  38%|███▊      | 132/348 [00:19<00:30,  7.00it/s]"
     ]
    },
    {
     "name": "stdout",
     "output_type": "stream",
     "text": [
      "Prediction performed in 0.10938310623168945 seconds.\n",
      "Prediction performed in 0.10938382148742676 seconds.\n"
     ]
    },
    {
     "name": "stderr",
     "output_type": "stream",
     "text": [
      "Uploading predictions:  39%|███▊      | 134/348 [00:19<00:31,  6.83it/s]"
     ]
    },
    {
     "name": "stdout",
     "output_type": "stream",
     "text": [
      "Prediction performed in 0.09375548362731934 seconds.\n",
      "Prediction performed in 0.09375619888305664 seconds.\n"
     ]
    },
    {
     "name": "stderr",
     "output_type": "stream",
     "text": [
      "Uploading predictions:  39%|███▉      | 136/348 [00:20<00:30,  6.97it/s]"
     ]
    },
    {
     "name": "stdout",
     "output_type": "stream",
     "text": [
      "Prediction performed in 0.09375691413879395 seconds.\n",
      "Prediction performed in 0.10938119888305664 seconds.\n"
     ]
    },
    {
     "name": "stderr",
     "output_type": "stream",
     "text": [
      "Uploading predictions:  40%|███▉      | 138/348 [00:20<00:30,  6.81it/s]"
     ]
    },
    {
     "name": "stdout",
     "output_type": "stream",
     "text": [
      "Prediction performed in 0.09375667572021484 seconds.\n",
      "Prediction performed in 0.09375667572021484 seconds.\n"
     ]
    },
    {
     "name": "stderr",
     "output_type": "stream",
     "text": [
      "Uploading predictions:  40%|████      | 140/348 [00:20<00:29,  6.96it/s]"
     ]
    },
    {
     "name": "stdout",
     "output_type": "stream",
     "text": [
      "Prediction performed in 0.09375715255737305 seconds.\n",
      "Prediction performed in 0.10938382148742676 seconds.\n"
     ]
    },
    {
     "name": "stderr",
     "output_type": "stream",
     "text": [
      "Uploading predictions:  41%|████      | 142/348 [00:21<00:29,  7.03it/s]"
     ]
    },
    {
     "name": "stdout",
     "output_type": "stream",
     "text": [
      "Prediction performed in 0.07813000679016113 seconds.\n",
      "Prediction performed in 0.10938358306884766 seconds.\n"
     ]
    },
    {
     "name": "stderr",
     "output_type": "stream",
     "text": [
      "Uploading predictions:  41%|████▏     | 144/348 [00:21<00:29,  6.84it/s]"
     ]
    },
    {
     "name": "stdout",
     "output_type": "stream",
     "text": [
      "Prediction performed in 0.09375476837158203 seconds.\n",
      "Prediction performed in 0.10938334465026855 seconds.\n"
     ]
    },
    {
     "name": "stderr",
     "output_type": "stream",
     "text": [
      "Uploading predictions:  42%|████▏     | 146/348 [00:21<00:28,  6.98it/s]"
     ]
    },
    {
     "name": "stdout",
     "output_type": "stream",
     "text": [
      "Prediction performed in 0.09375667572021484 seconds.\n",
      "Prediction performed in 0.10938310623168945 seconds.\n"
     ]
    },
    {
     "name": "stderr",
     "output_type": "stream",
     "text": [
      "Uploading predictions:  43%|████▎     | 148/348 [00:21<00:29,  6.79it/s]"
     ]
    },
    {
     "name": "stdout",
     "output_type": "stream",
     "text": [
      "Prediction performed in 0.10815024375915527 seconds.\n",
      "Prediction performed in 0.10753941535949707 seconds.\n"
     ]
    },
    {
     "name": "stderr",
     "output_type": "stream",
     "text": [
      "Uploading predictions:  43%|████▎     | 150/348 [00:22<00:28,  6.87it/s]"
     ]
    },
    {
     "name": "stdout",
     "output_type": "stream",
     "text": [
      "Prediction performed in 0.09270882606506348 seconds.\n",
      "Prediction performed in 0.10092663764953613 seconds.\n"
     ]
    },
    {
     "name": "stderr",
     "output_type": "stream",
     "text": [
      "Uploading predictions:  44%|████▎     | 152/348 [00:22<00:29,  6.72it/s]"
     ]
    },
    {
     "name": "stdout",
     "output_type": "stream",
     "text": [
      "Prediction performed in 0.10315847396850586 seconds.\n",
      "Prediction performed in 0.11041665077209473 seconds.\n"
     ]
    },
    {
     "name": "stderr",
     "output_type": "stream",
     "text": [
      "Uploading predictions:  44%|████▍     | 154/348 [00:22<00:28,  6.85it/s]"
     ]
    },
    {
     "name": "stdout",
     "output_type": "stream",
     "text": [
      "Prediction performed in 0.09253931045532227 seconds.\n",
      "Prediction performed in 0.10438895225524902 seconds.\n"
     ]
    },
    {
     "name": "stderr",
     "output_type": "stream",
     "text": [
      "Uploading predictions:  45%|████▍     | 156/348 [00:23<00:28,  6.84it/s]"
     ]
    },
    {
     "name": "stdout",
     "output_type": "stream",
     "text": [
      "Prediction performed in 0.09497547149658203 seconds.\n",
      "Prediction performed in 0.10667586326599121 seconds.\n"
     ]
    },
    {
     "name": "stderr",
     "output_type": "stream",
     "text": [
      "Uploading predictions:  45%|████▌     | 158/348 [00:23<00:27,  6.93it/s]"
     ]
    },
    {
     "name": "stdout",
     "output_type": "stream",
     "text": [
      "Prediction performed in 0.10225772857666016 seconds.\n",
      "Prediction performed in 0.10374569892883301 seconds.\n"
     ]
    },
    {
     "name": "stderr",
     "output_type": "stream",
     "text": [
      "Uploading predictions:  46%|████▌     | 160/348 [00:23<00:27,  6.93it/s]"
     ]
    },
    {
     "name": "stdout",
     "output_type": "stream",
     "text": [
      "Prediction performed in 0.09997344017028809 seconds.\n",
      "Prediction performed in 0.09868311882019043 seconds.\n"
     ]
    },
    {
     "name": "stderr",
     "output_type": "stream",
     "text": [
      "Uploading predictions:  47%|████▋     | 162/348 [00:24<00:27,  6.80it/s]"
     ]
    },
    {
     "name": "stdout",
     "output_type": "stream",
     "text": [
      "Prediction performed in 0.09375762939453125 seconds.\n",
      "Prediction performed in 0.09375739097595215 seconds.\n"
     ]
    },
    {
     "name": "stderr",
     "output_type": "stream",
     "text": [
      "Uploading predictions:  47%|████▋     | 164/348 [00:24<00:27,  6.73it/s]"
     ]
    },
    {
     "name": "stdout",
     "output_type": "stream",
     "text": [
      "Prediction performed in 0.10986757278442383 seconds.\n",
      "Prediction performed in 0.10938334465026855 seconds.\n"
     ]
    },
    {
     "name": "stderr",
     "output_type": "stream",
     "text": [
      "Uploading predictions:  48%|████▊     | 166/348 [00:24<00:26,  6.92it/s]"
     ]
    },
    {
     "name": "stdout",
     "output_type": "stream",
     "text": [
      "Prediction performed in 0.10938334465026855 seconds.\n",
      "Prediction performed in 0.10938358306884766 seconds.\n"
     ]
    },
    {
     "name": "stderr",
     "output_type": "stream",
     "text": [
      "Uploading predictions:  48%|████▊     | 167/348 [00:24<00:27,  6.64it/s]"
     ]
    },
    {
     "name": "stdout",
     "output_type": "stream",
     "text": [
      "Prediction performed in 0.10846209526062012 seconds.\n",
      "Prediction performed in 0.14898300170898438 seconds.\n"
     ]
    },
    {
     "name": "stderr",
     "output_type": "stream",
     "text": [
      "Uploading predictions:  49%|████▉     | 170/348 [00:25<00:28,  6.22it/s]"
     ]
    },
    {
     "name": "stdout",
     "output_type": "stream",
     "text": [
      "Prediction performed in 0.10458755493164062 seconds.\n",
      "Prediction performed in 0.10965538024902344 seconds.\n"
     ]
    },
    {
     "name": "stderr",
     "output_type": "stream",
     "text": [
      "Uploading predictions:  49%|████▉     | 172/348 [00:25<00:27,  6.31it/s]"
     ]
    },
    {
     "name": "stdout",
     "output_type": "stream",
     "text": [
      "Prediction performed in 0.10099911689758301 seconds.\n",
      "Prediction performed in 0.11463594436645508 seconds.\n"
     ]
    },
    {
     "name": "stderr",
     "output_type": "stream",
     "text": [
      "Uploading predictions:  50%|████▉     | 173/348 [00:25<00:27,  6.34it/s]"
     ]
    },
    {
     "name": "stdout",
     "output_type": "stream",
     "text": [
      "Prediction performed in 0.10807967185974121 seconds.\n",
      "Prediction performed in 0.1332993507385254 seconds.\n"
     ]
    },
    {
     "name": "stderr",
     "output_type": "stream",
     "text": [
      "Uploading predictions:  50%|█████     | 175/348 [00:26<00:27,  6.28it/s]"
     ]
    },
    {
     "name": "stdout",
     "output_type": "stream",
     "text": [
      "Prediction performed in 0.09375309944152832 seconds.\n",
      "Prediction performed in 0.1255052089691162 seconds.\n"
     ]
    },
    {
     "name": "stderr",
     "output_type": "stream",
     "text": [
      "Uploading predictions:  51%|█████     | 178/348 [00:26<00:26,  6.53it/s]"
     ]
    },
    {
     "name": "stdout",
     "output_type": "stream",
     "text": [
      "Prediction performed in 0.09375619888305664 seconds.\n",
      "Prediction performed in 0.10938167572021484 seconds.\n"
     ]
    },
    {
     "name": "stderr",
     "output_type": "stream",
     "text": [
      "Uploading predictions:  51%|█████▏    | 179/348 [00:26<00:25,  6.70it/s]"
     ]
    },
    {
     "name": "stdout",
     "output_type": "stream",
     "text": [
      "Prediction performed in 0.09375739097595215 seconds.\n",
      "Prediction performed in 0.10872554779052734 seconds.\n"
     ]
    },
    {
     "name": "stderr",
     "output_type": "stream",
     "text": [
      "Uploading predictions:  52%|█████▏    | 181/348 [00:27<00:26,  6.35it/s]"
     ]
    },
    {
     "name": "stdout",
     "output_type": "stream",
     "text": [
      "Prediction performed in 0.10490918159484863 seconds.\n",
      "Prediction performed in 0.1250932216644287 seconds.\n"
     ]
    },
    {
     "name": "stderr",
     "output_type": "stream",
     "text": [
      "Uploading predictions:  53%|█████▎    | 184/348 [00:27<00:26,  6.28it/s]"
     ]
    },
    {
     "name": "stdout",
     "output_type": "stream",
     "text": [
      "Prediction performed in 0.10396742820739746 seconds.\n",
      "Prediction performed in 0.10990715026855469 seconds.\n"
     ]
    },
    {
     "name": "stderr",
     "output_type": "stream",
     "text": [
      "Uploading predictions:  53%|█████▎    | 186/348 [00:27<00:25,  6.39it/s]"
     ]
    },
    {
     "name": "stdout",
     "output_type": "stream",
     "text": [
      "Prediction performed in 0.09998679161071777 seconds.\n",
      "Prediction performed in 0.10958552360534668 seconds.\n"
     ]
    },
    {
     "name": "stderr",
     "output_type": "stream",
     "text": [
      "Uploading predictions:  54%|█████▍    | 188/348 [00:28<00:24,  6.48it/s]"
     ]
    },
    {
     "name": "stdout",
     "output_type": "stream",
     "text": [
      "Prediction performed in 0.10121631622314453 seconds.\n",
      "Prediction performed in 0.11124920845031738 seconds.\n"
     ]
    },
    {
     "name": "stderr",
     "output_type": "stream",
     "text": [
      "Uploading predictions:  55%|█████▍    | 190/348 [00:28<00:24,  6.53it/s]"
     ]
    },
    {
     "name": "stdout",
     "output_type": "stream",
     "text": [
      "Prediction performed in 0.09700703620910645 seconds.\n",
      "Prediction performed in 0.11464810371398926 seconds.\n"
     ]
    },
    {
     "name": "stderr",
     "output_type": "stream",
     "text": [
      "Uploading predictions:  55%|█████▌    | 192/348 [00:28<00:23,  6.60it/s]"
     ]
    },
    {
     "name": "stdout",
     "output_type": "stream",
     "text": [
      "Prediction performed in 0.10938429832458496 seconds.\n",
      "Prediction performed in 0.12500953674316406 seconds.\n"
     ]
    },
    {
     "name": "stderr",
     "output_type": "stream",
     "text": [
      "Uploading predictions:  55%|█████▌    | 193/348 [00:28<00:22,  6.75it/s]"
     ]
    },
    {
     "name": "stdout",
     "output_type": "stream",
     "text": [
      "Prediction performed in 0.09375739097595215 seconds.\n",
      "Prediction performed in 0.10938310623168945 seconds.\n"
     ]
    },
    {
     "name": "stderr",
     "output_type": "stream",
     "text": [
      "Uploading predictions:  56%|█████▌    | 195/348 [00:29<00:22,  6.77it/s]"
     ]
    },
    {
     "name": "stdout",
     "output_type": "stream",
     "text": [
      "Prediction performed in 0.09375762939453125 seconds.\n",
      "Prediction performed in 0.12293601036071777 seconds.\n"
     ]
    },
    {
     "name": "stderr",
     "output_type": "stream",
     "text": [
      "Uploading predictions:  57%|█████▋    | 198/348 [00:29<00:23,  6.34it/s]"
     ]
    },
    {
     "name": "stdout",
     "output_type": "stream",
     "text": [
      "Prediction performed in 0.10251212120056152 seconds.\n",
      "Prediction performed in 0.11097550392150879 seconds.\n"
     ]
    },
    {
     "name": "stderr",
     "output_type": "stream",
     "text": [
      "Uploading predictions:  57%|█████▋    | 200/348 [00:29<00:23,  6.33it/s]"
     ]
    },
    {
     "name": "stdout",
     "output_type": "stream",
     "text": [
      "Prediction performed in 0.10072946548461914 seconds.\n",
      "Prediction performed in 0.11463308334350586 seconds.\n"
     ]
    },
    {
     "name": "stderr",
     "output_type": "stream",
     "text": [
      "Uploading predictions:  58%|█████▊    | 202/348 [00:30<00:22,  6.58it/s]"
     ]
    },
    {
     "name": "stdout",
     "output_type": "stream",
     "text": [
      "Prediction performed in 0.09292149543762207 seconds.\n",
      "Prediction performed in 0.10940957069396973 seconds.\n"
     ]
    },
    {
     "name": "stderr",
     "output_type": "stream",
     "text": [
      "Uploading predictions:  58%|█████▊    | 203/348 [00:30<00:22,  6.53it/s]"
     ]
    },
    {
     "name": "stdout",
     "output_type": "stream",
     "text": [
      "Prediction performed in 0.10938382148742676 seconds.\n"
     ]
    },
    {
     "name": "stderr",
     "output_type": "stream",
     "text": [
      "Uploading predictions:  59%|█████▉    | 205/348 [00:30<00:22,  6.38it/s]"
     ]
    },
    {
     "name": "stdout",
     "output_type": "stream",
     "text": [
      "Prediction performed in 0.15626192092895508 seconds.\n",
      "Prediction performed in 0.10938405990600586 seconds.\n"
     ]
    },
    {
     "name": "stderr",
     "output_type": "stream",
     "text": [
      "Uploading predictions:  59%|█████▉    | 207/348 [00:31<00:21,  6.59it/s]"
     ]
    },
    {
     "name": "stdout",
     "output_type": "stream",
     "text": [
      "Prediction performed in 0.10938382148742676 seconds.\n",
      "Prediction performed in 0.09375715255737305 seconds.\n"
     ]
    },
    {
     "name": "stderr",
     "output_type": "stream",
     "text": [
      "Uploading predictions:  60%|██████    | 209/348 [00:31<00:20,  6.91it/s]"
     ]
    },
    {
     "name": "stdout",
     "output_type": "stream",
     "text": [
      "Prediction performed in 0.10938382148742676 seconds.\n",
      "Prediction performed in 0.09375500679016113 seconds.\n"
     ]
    },
    {
     "name": "stderr",
     "output_type": "stream",
     "text": [
      "Uploading predictions:  61%|██████    | 211/348 [00:31<00:20,  6.70it/s]"
     ]
    },
    {
     "name": "stdout",
     "output_type": "stream",
     "text": [
      "Prediction performed in 0.10938262939453125 seconds.\n",
      "Prediction performed in 0.10938286781311035 seconds.\n"
     ]
    },
    {
     "name": "stderr",
     "output_type": "stream",
     "text": [
      "Uploading predictions:  61%|██████    | 213/348 [00:31<00:19,  6.75it/s]"
     ]
    },
    {
     "name": "stdout",
     "output_type": "stream",
     "text": [
      "Prediction performed in 0.10938382148742676 seconds.\n",
      "Prediction performed in 0.09375739097595215 seconds.\n"
     ]
    },
    {
     "name": "stderr",
     "output_type": "stream",
     "text": [
      "Uploading predictions:  62%|██████▏   | 215/348 [00:32<00:19,  6.92it/s]"
     ]
    },
    {
     "name": "stdout",
     "output_type": "stream",
     "text": [
      "Prediction performed in 0.10938358306884766 seconds.\n",
      "Prediction performed in 0.09486722946166992 seconds.\n"
     ]
    },
    {
     "name": "stderr",
     "output_type": "stream",
     "text": [
      "Uploading predictions:  62%|██████▏   | 217/348 [00:32<00:19,  6.86it/s]"
     ]
    },
    {
     "name": "stdout",
     "output_type": "stream",
     "text": [
      "Prediction performed in 0.10938334465026855 seconds.\n",
      "Prediction performed in 0.09375548362731934 seconds.\n"
     ]
    },
    {
     "name": "stderr",
     "output_type": "stream",
     "text": [
      "Uploading predictions:  63%|██████▎   | 219/348 [00:32<00:18,  6.83it/s]"
     ]
    },
    {
     "name": "stdout",
     "output_type": "stream",
     "text": [
      "Prediction performed in 0.10938310623168945 seconds.\n",
      "Prediction performed in 0.09375667572021484 seconds.\n"
     ]
    },
    {
     "name": "stderr",
     "output_type": "stream",
     "text": [
      "Uploading predictions:  64%|██████▎   | 221/348 [00:33<00:18,  6.80it/s]"
     ]
    },
    {
     "name": "stdout",
     "output_type": "stream",
     "text": [
      "Prediction performed in 0.10938286781311035 seconds.\n",
      "Prediction performed in 0.11134958267211914 seconds.\n"
     ]
    },
    {
     "name": "stderr",
     "output_type": "stream",
     "text": [
      "Uploading predictions:  64%|██████▍   | 223/348 [00:33<00:18,  6.73it/s]"
     ]
    },
    {
     "name": "stdout",
     "output_type": "stream",
     "text": [
      "Prediction performed in 0.12150382995605469 seconds.\n",
      "Prediction performed in 0.11406660079956055 seconds.\n"
     ]
    },
    {
     "name": "stderr",
     "output_type": "stream",
     "text": [
      "Uploading predictions:  65%|██████▍   | 225/348 [00:33<00:18,  6.70it/s]"
     ]
    },
    {
     "name": "stdout",
     "output_type": "stream",
     "text": [
      "Prediction performed in 0.12669682502746582 seconds.\n",
      "Prediction performed in 0.10088634490966797 seconds.\n"
     ]
    },
    {
     "name": "stderr",
     "output_type": "stream",
     "text": [
      "Uploading predictions:  65%|██████▌   | 227/348 [00:33<00:17,  6.87it/s]"
     ]
    },
    {
     "name": "stdout",
     "output_type": "stream",
     "text": [
      "Prediction performed in 0.11304879188537598 seconds.\n",
      "Prediction performed in 0.09375715255737305 seconds.\n"
     ]
    },
    {
     "name": "stderr",
     "output_type": "stream",
     "text": [
      "Uploading predictions:  66%|██████▌   | 229/348 [00:34<00:17,  6.83it/s]"
     ]
    },
    {
     "name": "stdout",
     "output_type": "stream",
     "text": [
      "Prediction performed in 0.10938310623168945 seconds.\n",
      "Prediction performed in 0.09425520896911621 seconds.\n"
     ]
    },
    {
     "name": "stderr",
     "output_type": "stream",
     "text": [
      "Uploading predictions:  66%|██████▋   | 231/348 [00:34<00:17,  6.81it/s]"
     ]
    },
    {
     "name": "stdout",
     "output_type": "stream",
     "text": [
      "Prediction performed in 0.10938405990600586 seconds.\n",
      "Prediction performed in 0.10938334465026855 seconds.\n"
     ]
    },
    {
     "name": "stderr",
     "output_type": "stream",
     "text": [
      "Uploading predictions:  67%|██████▋   | 233/348 [00:34<00:16,  7.03it/s]"
     ]
    },
    {
     "name": "stdout",
     "output_type": "stream",
     "text": [
      "Prediction performed in 0.10938310623168945 seconds.\n",
      "Prediction performed in 0.09375715255737305 seconds.\n"
     ]
    },
    {
     "name": "stderr",
     "output_type": "stream",
     "text": [
      "Uploading predictions:  68%|██████▊   | 235/348 [00:35<00:16,  6.91it/s]"
     ]
    },
    {
     "name": "stdout",
     "output_type": "stream",
     "text": [
      "Prediction performed in 0.10938358306884766 seconds.\n",
      "Prediction performed in 0.09375643730163574 seconds.\n"
     ]
    },
    {
     "name": "stderr",
     "output_type": "stream",
     "text": [
      "Uploading predictions:  68%|██████▊   | 237/348 [00:35<00:16,  6.85it/s]"
     ]
    },
    {
     "name": "stdout",
     "output_type": "stream",
     "text": [
      "Prediction performed in 0.10938882827758789 seconds.\n",
      "Prediction performed in 0.09375834465026855 seconds.\n"
     ]
    },
    {
     "name": "stderr",
     "output_type": "stream",
     "text": [
      "Uploading predictions:  69%|██████▊   | 239/348 [00:35<00:15,  6.83it/s]"
     ]
    },
    {
     "name": "stdout",
     "output_type": "stream",
     "text": [
      "Prediction performed in 0.12500953674316406 seconds.\n",
      "Prediction performed in 0.10938286781311035 seconds.\n"
     ]
    },
    {
     "name": "stderr",
     "output_type": "stream",
     "text": [
      "Uploading predictions:  69%|██████▉   | 241/348 [00:36<00:15,  6.81it/s]"
     ]
    },
    {
     "name": "stdout",
     "output_type": "stream",
     "text": [
      "Prediction performed in 0.10938310623168945 seconds.\n",
      "Prediction performed in 0.09375715255737305 seconds.\n"
     ]
    },
    {
     "name": "stderr",
     "output_type": "stream",
     "text": [
      "Uploading predictions:  70%|██████▉   | 243/348 [00:36<00:15,  6.96it/s]"
     ]
    },
    {
     "name": "stdout",
     "output_type": "stream",
     "text": [
      "Prediction performed in 0.10938358306884766 seconds.\n",
      "Prediction performed in 0.09375548362731934 seconds.\n"
     ]
    },
    {
     "name": "stderr",
     "output_type": "stream",
     "text": [
      "Uploading predictions:  70%|███████   | 245/348 [00:36<00:14,  6.88it/s]"
     ]
    },
    {
     "name": "stdout",
     "output_type": "stream",
     "text": [
      "Prediction performed in 0.10938334465026855 seconds.\n",
      "Prediction performed in 0.09375596046447754 seconds.\n"
     ]
    },
    {
     "name": "stderr",
     "output_type": "stream",
     "text": [
      "Uploading predictions:  71%|███████   | 247/348 [00:36<00:14,  6.84it/s]"
     ]
    },
    {
     "name": "stdout",
     "output_type": "stream",
     "text": [
      "Prediction performed in 0.10938262939453125 seconds.\n",
      "Prediction performed in 0.10938310623168945 seconds.\n"
     ]
    },
    {
     "name": "stderr",
     "output_type": "stream",
     "text": [
      "Uploading predictions:  72%|███████▏  | 249/348 [00:37<00:14,  6.81it/s]"
     ]
    },
    {
     "name": "stdout",
     "output_type": "stream",
     "text": [
      "Prediction performed in 0.10938334465026855 seconds.\n",
      "Prediction performed in 0.09375786781311035 seconds.\n"
     ]
    },
    {
     "name": "stderr",
     "output_type": "stream",
     "text": [
      "Uploading predictions:  72%|███████▏  | 251/348 [00:37<00:14,  6.74it/s]"
     ]
    },
    {
     "name": "stdout",
     "output_type": "stream",
     "text": [
      "Prediction performed in 0.10938382148742676 seconds.\n",
      "Prediction performed in 0.09375643730163574 seconds.\n"
     ]
    },
    {
     "name": "stderr",
     "output_type": "stream",
     "text": [
      "Uploading predictions:  73%|███████▎  | 253/348 [00:37<00:14,  6.78it/s]"
     ]
    },
    {
     "name": "stdout",
     "output_type": "stream",
     "text": [
      "Prediction performed in 0.1218869686126709 seconds.\n",
      "Prediction performed in 0.09504389762878418 seconds.\n"
     ]
    },
    {
     "name": "stderr",
     "output_type": "stream",
     "text": [
      "Uploading predictions:  73%|███████▎  | 255/348 [00:38<00:13,  6.82it/s]"
     ]
    },
    {
     "name": "stdout",
     "output_type": "stream",
     "text": [
      "Prediction performed in 0.10780763626098633 seconds.\n",
      "Prediction performed in 0.09877634048461914 seconds.\n"
     ]
    },
    {
     "name": "stderr",
     "output_type": "stream",
     "text": [
      "Uploading predictions:  74%|███████▍  | 257/348 [00:38<00:13,  6.82it/s]"
     ]
    },
    {
     "name": "stdout",
     "output_type": "stream",
     "text": [
      "Prediction performed in 0.1109623908996582 seconds.\n",
      "Prediction performed in 0.09468531608581543 seconds.\n"
     ]
    },
    {
     "name": "stderr",
     "output_type": "stream",
     "text": [
      "Uploading predictions:  74%|███████▍  | 259/348 [00:38<00:12,  6.88it/s]"
     ]
    },
    {
     "name": "stdout",
     "output_type": "stream",
     "text": [
      "Prediction performed in 0.10997557640075684 seconds.\n",
      "Prediction performed in 0.09866738319396973 seconds.\n"
     ]
    },
    {
     "name": "stderr",
     "output_type": "stream",
     "text": [
      "Uploading predictions:  75%|███████▌  | 261/348 [00:38<00:12,  6.77it/s]"
     ]
    },
    {
     "name": "stdout",
     "output_type": "stream",
     "text": [
      "Prediction performed in 0.11292362213134766 seconds.\n",
      "Prediction performed in 0.08362913131713867 seconds.\n"
     ]
    },
    {
     "name": "stderr",
     "output_type": "stream",
     "text": [
      "Uploading predictions:  75%|███████▌  | 262/348 [00:39<00:12,  6.70it/s]"
     ]
    },
    {
     "name": "stdout",
     "output_type": "stream",
     "text": [
      "Prediction performed in 0.09973597526550293 seconds.\n",
      "Prediction performed in 0.1010596752166748 seconds.\n"
     ]
    },
    {
     "name": "stderr",
     "output_type": "stream",
     "text": [
      "Uploading predictions:  76%|███████▌  | 265/348 [00:39<00:12,  6.48it/s]"
     ]
    },
    {
     "name": "stdout",
     "output_type": "stream",
     "text": [
      "Prediction performed in 0.11629867553710938 seconds.\n",
      "Prediction performed in 0.10880684852600098 seconds.\n"
     ]
    },
    {
     "name": "stderr",
     "output_type": "stream",
     "text": [
      "Uploading predictions:  77%|███████▋  | 267/348 [00:39<00:11,  6.79it/s]"
     ]
    },
    {
     "name": "stdout",
     "output_type": "stream",
     "text": [
      "Prediction performed in 0.1147007942199707 seconds.\n",
      "Prediction performed in 0.10403847694396973 seconds.\n",
      "Prediction performed in 0.1284933090209961 seconds.\n"
     ]
    },
    {
     "name": "stderr",
     "output_type": "stream",
     "text": [
      "Uploading predictions:  78%|███████▊  | 270/348 [00:40<00:14,  5.47it/s]"
     ]
    },
    {
     "name": "stdout",
     "output_type": "stream",
     "text": [
      "Prediction performed in 0.08681368827819824 seconds.\n",
      "Prediction performed in 0.09375643730163574 seconds.\n"
     ]
    },
    {
     "name": "stderr",
     "output_type": "stream",
     "text": [
      "Uploading predictions:  78%|███████▊  | 272/348 [00:40<00:12,  6.03it/s]"
     ]
    },
    {
     "name": "stdout",
     "output_type": "stream",
     "text": [
      "Prediction performed in 0.10065865516662598 seconds.\n",
      "Prediction performed in 0.10995841026306152 seconds.\n"
     ]
    },
    {
     "name": "stderr",
     "output_type": "stream",
     "text": [
      "Uploading predictions:  79%|███████▊  | 274/348 [00:41<00:11,  6.40it/s]"
     ]
    },
    {
     "name": "stdout",
     "output_type": "stream",
     "text": [
      "Prediction performed in 0.09517621994018555 seconds.\n",
      "Prediction performed in 0.10629034042358398 seconds.\n"
     ]
    },
    {
     "name": "stderr",
     "output_type": "stream",
     "text": [
      "Uploading predictions:  79%|███████▉  | 276/348 [00:41<00:11,  6.45it/s]"
     ]
    },
    {
     "name": "stdout",
     "output_type": "stream",
     "text": [
      "Prediction performed in 0.09851551055908203 seconds.\n",
      "Prediction performed in 0.11821508407592773 seconds.\n"
     ]
    },
    {
     "name": "stderr",
     "output_type": "stream",
     "text": [
      "Uploading predictions:  80%|███████▉  | 278/348 [00:41<00:10,  6.59it/s]"
     ]
    },
    {
     "name": "stdout",
     "output_type": "stream",
     "text": [
      "Prediction performed in 0.0928657054901123 seconds.\n",
      "Prediction performed in 0.11307001113891602 seconds.\n"
     ]
    },
    {
     "name": "stderr",
     "output_type": "stream",
     "text": [
      "Uploading predictions:  80%|████████  | 280/348 [00:42<00:10,  6.62it/s]"
     ]
    },
    {
     "name": "stdout",
     "output_type": "stream",
     "text": [
      "Prediction performed in 0.1001288890838623 seconds.\n",
      "Prediction performed in 0.11133432388305664 seconds.\n"
     ]
    },
    {
     "name": "stderr",
     "output_type": "stream",
     "text": [
      "Uploading predictions:  81%|████████  | 282/348 [00:42<00:09,  6.81it/s]"
     ]
    },
    {
     "name": "stdout",
     "output_type": "stream",
     "text": [
      "Prediction performed in 0.09681510925292969 seconds.\n",
      "Prediction performed in 0.10689949989318848 seconds.\n"
     ]
    },
    {
     "name": "stderr",
     "output_type": "stream",
     "text": [
      "Uploading predictions:  82%|████████▏ | 284/348 [00:42<00:09,  6.66it/s]"
     ]
    },
    {
     "name": "stdout",
     "output_type": "stream",
     "text": [
      "Prediction performed in 0.10111141204833984 seconds.\n",
      "Prediction performed in 0.11592268943786621 seconds.\n"
     ]
    },
    {
     "name": "stderr",
     "output_type": "stream",
     "text": [
      "Uploading predictions:  82%|████████▏ | 286/348 [00:42<00:09,  6.73it/s]"
     ]
    },
    {
     "name": "stdout",
     "output_type": "stream",
     "text": [
      "Prediction performed in 0.1011350154876709 seconds.\n",
      "Prediction performed in 0.10615062713623047 seconds.\n"
     ]
    },
    {
     "name": "stderr",
     "output_type": "stream",
     "text": [
      "Uploading predictions:  83%|████████▎ | 288/348 [00:43<00:08,  6.77it/s]"
     ]
    },
    {
     "name": "stdout",
     "output_type": "stream",
     "text": [
      "Prediction performed in 0.10007190704345703 seconds.\n",
      "Prediction performed in 0.09474539756774902 seconds.\n"
     ]
    },
    {
     "name": "stderr",
     "output_type": "stream",
     "text": [
      "Uploading predictions:  83%|████████▎ | 290/348 [00:43<00:08,  6.79it/s]"
     ]
    },
    {
     "name": "stdout",
     "output_type": "stream",
     "text": [
      "Prediction performed in 0.10629677772521973 seconds.\n",
      "Prediction performed in 0.1172480583190918 seconds.\n"
     ]
    },
    {
     "name": "stderr",
     "output_type": "stream",
     "text": [
      "Uploading predictions:  84%|████████▍ | 292/348 [00:43<00:08,  6.64it/s]"
     ]
    },
    {
     "name": "stdout",
     "output_type": "stream",
     "text": [
      "Prediction performed in 0.09996843338012695 seconds.\n",
      "Prediction performed in 0.09705543518066406 seconds.\n"
     ]
    },
    {
     "name": "stderr",
     "output_type": "stream",
     "text": [
      "Uploading predictions:  84%|████████▍ | 294/348 [00:44<00:08,  6.71it/s]"
     ]
    },
    {
     "name": "stdout",
     "output_type": "stream",
     "text": [
      "Prediction performed in 0.09549617767333984 seconds.\n",
      "Prediction performed in 0.10703516006469727 seconds.\n"
     ]
    },
    {
     "name": "stderr",
     "output_type": "stream",
     "text": [
      "Uploading predictions:  85%|████████▌ | 296/348 [00:44<00:07,  6.67it/s]"
     ]
    },
    {
     "name": "stdout",
     "output_type": "stream",
     "text": [
      "Prediction performed in 0.10514426231384277 seconds.\n",
      "Prediction performed in 0.12469768524169922 seconds.\n"
     ]
    },
    {
     "name": "stderr",
     "output_type": "stream",
     "text": [
      "Uploading predictions:  86%|████████▌ | 298/348 [00:44<00:07,  6.87it/s]"
     ]
    },
    {
     "name": "stdout",
     "output_type": "stream",
     "text": [
      "Prediction performed in 0.0980534553527832 seconds.\n",
      "Prediction performed in 0.10205197334289551 seconds.\n"
     ]
    },
    {
     "name": "stderr",
     "output_type": "stream",
     "text": [
      "Uploading predictions:  86%|████████▌ | 299/348 [00:44<00:07,  6.69it/s]"
     ]
    },
    {
     "name": "stdout",
     "output_type": "stream",
     "text": [
      "Prediction performed in 0.11447906494140625 seconds.\n",
      "Prediction performed in 0.1129770278930664 seconds.\n"
     ]
    },
    {
     "name": "stderr",
     "output_type": "stream",
     "text": [
      "Uploading predictions:  87%|████████▋ | 302/348 [00:45<00:06,  6.67it/s]"
     ]
    },
    {
     "name": "stdout",
     "output_type": "stream",
     "text": [
      "Prediction performed in 0.0913550853729248 seconds.\n",
      "Prediction performed in 0.10638308525085449 seconds.\n"
     ]
    },
    {
     "name": "stderr",
     "output_type": "stream",
     "text": [
      "Uploading predictions:  87%|████████▋ | 303/348 [00:45<00:06,  6.78it/s]"
     ]
    },
    {
     "name": "stdout",
     "output_type": "stream",
     "text": [
      "Prediction performed in 0.09896302223205566 seconds.\n",
      "Prediction performed in 0.10966014862060547 seconds.\n"
     ]
    },
    {
     "name": "stderr",
     "output_type": "stream",
     "text": [
      "Uploading predictions:  88%|████████▊ | 306/348 [00:45<00:06,  6.90it/s]"
     ]
    },
    {
     "name": "stdout",
     "output_type": "stream",
     "text": [
      "Prediction performed in 0.0958399772644043 seconds.\n",
      "Prediction performed in 0.10077142715454102 seconds.\n"
     ]
    },
    {
     "name": "stderr",
     "output_type": "stream",
     "text": [
      "Uploading predictions:  89%|████████▊ | 308/348 [00:46<00:06,  6.57it/s]"
     ]
    },
    {
     "name": "stdout",
     "output_type": "stream",
     "text": [
      "Prediction performed in 0.10725665092468262 seconds.\n",
      "Prediction performed in 0.11135029792785645 seconds.\n"
     ]
    },
    {
     "name": "stderr",
     "output_type": "stream",
     "text": [
      "Uploading predictions:  89%|████████▉ | 310/348 [00:46<00:05,  6.56it/s]"
     ]
    },
    {
     "name": "stdout",
     "output_type": "stream",
     "text": [
      "Prediction performed in 0.0985713005065918 seconds.\n",
      "Prediction performed in 0.11104226112365723 seconds.\n"
     ]
    },
    {
     "name": "stderr",
     "output_type": "stream",
     "text": [
      "Uploading predictions:  90%|████████▉ | 312/348 [00:46<00:05,  6.66it/s]"
     ]
    },
    {
     "name": "stdout",
     "output_type": "stream",
     "text": [
      "Prediction performed in 0.0994570255279541 seconds.\n",
      "Prediction performed in 0.11107516288757324 seconds.\n"
     ]
    },
    {
     "name": "stderr",
     "output_type": "stream",
     "text": [
      "Uploading predictions:  90%|████████▉ | 313/348 [00:46<00:05,  6.71it/s]"
     ]
    },
    {
     "name": "stdout",
     "output_type": "stream",
     "text": [
      "Prediction performed in 0.10910892486572266 seconds.\n",
      "Prediction performed in 0.11260485649108887 seconds.\n"
     ]
    },
    {
     "name": "stderr",
     "output_type": "stream",
     "text": [
      "Uploading predictions:  91%|█████████ | 316/348 [00:47<00:04,  6.62it/s]"
     ]
    },
    {
     "name": "stdout",
     "output_type": "stream",
     "text": [
      "Prediction performed in 0.08954811096191406 seconds.\n",
      "Prediction performed in 0.11212515830993652 seconds.\n"
     ]
    },
    {
     "name": "stderr",
     "output_type": "stream",
     "text": [
      "Uploading predictions:  91%|█████████▏| 318/348 [00:47<00:04,  6.70it/s]"
     ]
    },
    {
     "name": "stdout",
     "output_type": "stream",
     "text": [
      "Prediction performed in 0.09638237953186035 seconds.\n",
      "Prediction performed in 0.11917924880981445 seconds.\n"
     ]
    },
    {
     "name": "stderr",
     "output_type": "stream",
     "text": [
      "Uploading predictions:  92%|█████████▏| 320/348 [00:48<00:04,  6.63it/s]"
     ]
    },
    {
     "name": "stdout",
     "output_type": "stream",
     "text": [
      "Prediction performed in 0.09917354583740234 seconds.\n",
      "Prediction performed in 0.11295485496520996 seconds.\n"
     ]
    },
    {
     "name": "stderr",
     "output_type": "stream",
     "text": [
      "Uploading predictions:  93%|█████████▎| 322/348 [00:48<00:03,  6.55it/s]"
     ]
    },
    {
     "name": "stdout",
     "output_type": "stream",
     "text": [
      "Prediction performed in 0.09782552719116211 seconds.\n",
      "Prediction performed in 0.11150407791137695 seconds.\n"
     ]
    },
    {
     "name": "stderr",
     "output_type": "stream",
     "text": [
      "Uploading predictions:  93%|█████████▎| 324/348 [00:48<00:03,  6.50it/s]"
     ]
    },
    {
     "name": "stdout",
     "output_type": "stream",
     "text": [
      "Prediction performed in 0.10274577140808105 seconds.\n",
      "Prediction performed in 0.11232209205627441 seconds.\n"
     ]
    },
    {
     "name": "stderr",
     "output_type": "stream",
     "text": [
      "Uploading predictions:  94%|█████████▎| 326/348 [00:48<00:03,  6.67it/s]"
     ]
    },
    {
     "name": "stdout",
     "output_type": "stream",
     "text": [
      "Prediction performed in 0.0964350700378418 seconds.\n",
      "Prediction performed in 0.10670256614685059 seconds.\n"
     ]
    },
    {
     "name": "stderr",
     "output_type": "stream",
     "text": [
      "Uploading predictions:  94%|█████████▍| 327/348 [00:49<00:03,  6.75it/s]"
     ]
    },
    {
     "name": "stdout",
     "output_type": "stream",
     "text": [
      "Prediction performed in 0.09938859939575195 seconds.\n",
      "Prediction performed in 0.1105353832244873 seconds.\n"
     ]
    },
    {
     "name": "stderr",
     "output_type": "stream",
     "text": [
      "Uploading predictions:  95%|█████████▍| 330/348 [00:49<00:02,  6.50it/s]"
     ]
    },
    {
     "name": "stdout",
     "output_type": "stream",
     "text": [
      "Prediction performed in 0.10842299461364746 seconds.\n",
      "Prediction performed in 0.11308908462524414 seconds.\n"
     ]
    },
    {
     "name": "stderr",
     "output_type": "stream",
     "text": [
      "Uploading predictions:  95%|█████████▌| 332/348 [00:49<00:02,  6.60it/s]"
     ]
    },
    {
     "name": "stdout",
     "output_type": "stream",
     "text": [
      "Prediction performed in 0.09854292869567871 seconds.\n",
      "Prediction performed in 0.11047530174255371 seconds.\n"
     ]
    },
    {
     "name": "stderr",
     "output_type": "stream",
     "text": [
      "Uploading predictions:  96%|█████████▌| 334/348 [00:50<00:02,  6.63it/s]"
     ]
    },
    {
     "name": "stdout",
     "output_type": "stream",
     "text": [
      "Prediction performed in 0.09818577766418457 seconds.\n",
      "Prediction performed in 0.11022806167602539 seconds.\n"
     ]
    },
    {
     "name": "stderr",
     "output_type": "stream",
     "text": [
      "Uploading predictions:  97%|█████████▋| 336/348 [00:50<00:01,  6.57it/s]"
     ]
    },
    {
     "name": "stdout",
     "output_type": "stream",
     "text": [
      "Prediction performed in 0.09676599502563477 seconds.\n",
      "Prediction performed in 0.12438559532165527 seconds.\n"
     ]
    },
    {
     "name": "stderr",
     "output_type": "stream",
     "text": [
      "Uploading predictions:  97%|█████████▋| 338/348 [00:50<00:01,  6.69it/s]"
     ]
    },
    {
     "name": "stdout",
     "output_type": "stream",
     "text": [
      "Prediction performed in 0.09697675704956055 seconds.\n",
      "Prediction performed in 0.1072089672088623 seconds.\n"
     ]
    },
    {
     "name": "stderr",
     "output_type": "stream",
     "text": [
      "Uploading predictions:  98%|█████████▊| 340/348 [00:51<00:01,  6.61it/s]"
     ]
    },
    {
     "name": "stdout",
     "output_type": "stream",
     "text": [
      "Prediction performed in 0.10018157958984375 seconds.\n",
      "Prediction performed in 0.11166787147521973 seconds.\n"
     ]
    },
    {
     "name": "stderr",
     "output_type": "stream",
     "text": [
      "Uploading predictions:  98%|█████████▊| 342/348 [00:51<00:00,  6.70it/s]"
     ]
    },
    {
     "name": "stdout",
     "output_type": "stream",
     "text": [
      "Prediction performed in 0.09857845306396484 seconds.\n",
      "Prediction performed in 0.1057896614074707 seconds.\n"
     ]
    },
    {
     "name": "stderr",
     "output_type": "stream",
     "text": [
      "Uploading predictions:  99%|█████████▉| 344/348 [00:51<00:00,  6.60it/s]"
     ]
    },
    {
     "name": "stdout",
     "output_type": "stream",
     "text": [
      "Prediction performed in 0.09868144989013672 seconds.\n",
      "Prediction performed in 0.11440896987915039 seconds.\n"
     ]
    },
    {
     "name": "stderr",
     "output_type": "stream",
     "text": [
      "Uploading predictions:  99%|█████████▉| 346/348 [00:51<00:00,  6.72it/s]"
     ]
    },
    {
     "name": "stdout",
     "output_type": "stream",
     "text": [
      "Prediction performed in 0.09491991996765137 seconds.\n",
      "Prediction performed in 0.10835671424865723 seconds.\n"
     ]
    },
    {
     "name": "stderr",
     "output_type": "stream",
     "text": [
      "Uploading predictions: 100%|██████████| 348/348 [00:52<00:00,  6.55it/s]"
     ]
    },
    {
     "name": "stdout",
     "output_type": "stream",
     "text": [
      "Prediction performed in 0.09988093376159668 seconds.\n",
      "Prediction performed in 0.11794090270996094 seconds.\n"
     ]
    },
    {
     "name": "stderr",
     "output_type": "stream",
     "text": [
      "Uploading predictions: 100%|██████████| 348/348 [00:52<00:00,  6.66it/s]\n",
      "02/15/2025 20:21:04 - INFO - datalabeling.annotator.models -   Computing device: cuda:0\n",
      "Uploading predictions:   0%|          | 1/348 [00:00<01:42,  3.38it/s]"
     ]
    },
    {
     "name": "stdout",
     "output_type": "stream",
     "text": [
      "Prediction performed in 0.24405217170715332 seconds.\n",
      "Prediction performed in 0.11562442779541016 seconds.\n"
     ]
    },
    {
     "name": "stderr",
     "output_type": "stream",
     "text": [
      "Uploading predictions:   1%|          | 4/348 [00:00<00:58,  5.87it/s]"
     ]
    },
    {
     "name": "stdout",
     "output_type": "stream",
     "text": [
      "Prediction performed in 0.10424089431762695 seconds.\n",
      "Prediction performed in 0.11071181297302246 seconds.\n"
     ]
    },
    {
     "name": "stderr",
     "output_type": "stream",
     "text": [
      "Uploading predictions:   2%|▏         | 6/348 [00:01<00:51,  6.65it/s]"
     ]
    },
    {
     "name": "stdout",
     "output_type": "stream",
     "text": [
      "Prediction performed in 0.09332084655761719 seconds.\n",
      "Prediction performed in 0.10938096046447754 seconds.\n"
     ]
    },
    {
     "name": "stderr",
     "output_type": "stream",
     "text": [
      "Uploading predictions:   2%|▏         | 8/348 [00:01<00:51,  6.63it/s]"
     ]
    },
    {
     "name": "stdout",
     "output_type": "stream",
     "text": [
      "Prediction performed in 0.10938286781311035 seconds.\n",
      "Prediction performed in 0.10802555084228516 seconds.\n"
     ]
    },
    {
     "name": "stderr",
     "output_type": "stream",
     "text": [
      "Uploading predictions:   3%|▎         | 10/348 [00:01<00:49,  6.79it/s]"
     ]
    },
    {
     "name": "stdout",
     "output_type": "stream",
     "text": [
      "Prediction performed in 0.0917973518371582 seconds.\n",
      "Prediction performed in 0.10938310623168945 seconds.\n"
     ]
    },
    {
     "name": "stderr",
     "output_type": "stream",
     "text": [
      "Uploading predictions:   3%|▎         | 12/348 [00:01<00:48,  6.88it/s]"
     ]
    },
    {
     "name": "stdout",
     "output_type": "stream",
     "text": [
      "Prediction performed in 0.09375667572021484 seconds.\n",
      "Prediction performed in 0.10938239097595215 seconds.\n"
     ]
    },
    {
     "name": "stderr",
     "output_type": "stream",
     "text": [
      "Uploading predictions:   4%|▍         | 14/348 [00:02<00:47,  7.01it/s]"
     ]
    },
    {
     "name": "stdout",
     "output_type": "stream",
     "text": [
      "Prediction performed in 0.10308337211608887 seconds.\n",
      "Prediction performed in 0.1023569107055664 seconds.\n"
     ]
    },
    {
     "name": "stderr",
     "output_type": "stream",
     "text": [
      "Uploading predictions:   5%|▍         | 16/348 [00:02<00:47,  6.94it/s]"
     ]
    },
    {
     "name": "stdout",
     "output_type": "stream",
     "text": [
      "Prediction performed in 0.09962987899780273 seconds.\n",
      "Prediction performed in 0.10119175910949707 seconds.\n"
     ]
    },
    {
     "name": "stderr",
     "output_type": "stream",
     "text": [
      "Uploading predictions:   5%|▌         | 18/348 [00:02<00:47,  6.94it/s]"
     ]
    },
    {
     "name": "stdout",
     "output_type": "stream",
     "text": [
      "Prediction performed in 0.09939146041870117 seconds.\n",
      "Prediction performed in 0.10571742057800293 seconds.\n"
     ]
    },
    {
     "name": "stderr",
     "output_type": "stream",
     "text": [
      "Uploading predictions:   6%|▌         | 20/348 [00:03<00:47,  6.88it/s]"
     ]
    },
    {
     "name": "stdout",
     "output_type": "stream",
     "text": [
      "Prediction performed in 0.09949231147766113 seconds.\n",
      "Prediction performed in 0.11330294609069824 seconds.\n"
     ]
    },
    {
     "name": "stderr",
     "output_type": "stream",
     "text": [
      "Uploading predictions:   6%|▋         | 22/348 [00:03<00:46,  7.01it/s]"
     ]
    },
    {
     "name": "stdout",
     "output_type": "stream",
     "text": [
      "Prediction performed in 0.0940096378326416 seconds.\n",
      "Prediction performed in 0.10596513748168945 seconds.\n"
     ]
    },
    {
     "name": "stderr",
     "output_type": "stream",
     "text": [
      "Uploading predictions:   7%|▋         | 24/348 [00:03<00:46,  6.94it/s]"
     ]
    },
    {
     "name": "stdout",
     "output_type": "stream",
     "text": [
      "Prediction performed in 0.09903645515441895 seconds.\n",
      "Prediction performed in 0.11121129989624023 seconds.\n"
     ]
    },
    {
     "name": "stderr",
     "output_type": "stream",
     "text": [
      "Uploading predictions:   7%|▋         | 26/348 [00:03<00:44,  7.18it/s]"
     ]
    },
    {
     "name": "stdout",
     "output_type": "stream",
     "text": [
      "Prediction performed in 0.08559679985046387 seconds.\n",
      "Prediction performed in 0.10895681381225586 seconds.\n"
     ]
    },
    {
     "name": "stderr",
     "output_type": "stream",
     "text": [
      "Uploading predictions:   8%|▊         | 28/348 [00:04<00:46,  6.82it/s]"
     ]
    },
    {
     "name": "stdout",
     "output_type": "stream",
     "text": [
      "Prediction performed in 0.10372638702392578 seconds.\n",
      "Prediction performed in 0.11866617202758789 seconds.\n"
     ]
    },
    {
     "name": "stderr",
     "output_type": "stream",
     "text": [
      "Uploading predictions:   9%|▊         | 30/348 [00:04<00:45,  6.95it/s]"
     ]
    },
    {
     "name": "stdout",
     "output_type": "stream",
     "text": [
      "Prediction performed in 0.09204602241516113 seconds.\n",
      "Prediction performed in 0.1029515266418457 seconds.\n"
     ]
    },
    {
     "name": "stderr",
     "output_type": "stream",
     "text": [
      "Uploading predictions:   9%|▉         | 32/348 [00:04<00:46,  6.80it/s]"
     ]
    },
    {
     "name": "stdout",
     "output_type": "stream",
     "text": [
      "Prediction performed in 0.09791970252990723 seconds.\n",
      "Prediction performed in 0.11510586738586426 seconds.\n"
     ]
    },
    {
     "name": "stderr",
     "output_type": "stream",
     "text": [
      "Uploading predictions:  10%|▉         | 34/348 [00:05<00:46,  6.82it/s]"
     ]
    },
    {
     "name": "stdout",
     "output_type": "stream",
     "text": [
      "Prediction performed in 0.10159420967102051 seconds.\n",
      "Prediction performed in 0.1181650161743164 seconds.\n"
     ]
    },
    {
     "name": "stderr",
     "output_type": "stream",
     "text": [
      "Uploading predictions:  10%|█         | 36/348 [00:05<00:45,  6.86it/s]"
     ]
    },
    {
     "name": "stdout",
     "output_type": "stream",
     "text": [
      "Prediction performed in 0.09562277793884277 seconds.\n",
      "Prediction performed in 0.11394953727722168 seconds.\n"
     ]
    },
    {
     "name": "stderr",
     "output_type": "stream",
     "text": [
      "Uploading predictions:  11%|█         | 38/348 [00:05<00:43,  7.05it/s]"
     ]
    },
    {
     "name": "stdout",
     "output_type": "stream",
     "text": [
      "Prediction performed in 0.0983426570892334 seconds.\n",
      "Prediction performed in 0.11017847061157227 seconds.\n"
     ]
    },
    {
     "name": "stderr",
     "output_type": "stream",
     "text": [
      "Uploading predictions:  11%|█         | 39/348 [00:05<00:44,  6.92it/s]"
     ]
    },
    {
     "name": "stdout",
     "output_type": "stream",
     "text": [
      "Prediction performed in 0.09999322891235352 seconds.\n",
      "Prediction performed in 0.12174224853515625 seconds.\n"
     ]
    },
    {
     "name": "stderr",
     "output_type": "stream",
     "text": [
      "Uploading predictions:  12%|█▏        | 42/348 [00:06<00:45,  6.80it/s]"
     ]
    },
    {
     "name": "stdout",
     "output_type": "stream",
     "text": [
      "Prediction performed in 0.09462261199951172 seconds.\n",
      "Prediction performed in 0.1075601577758789 seconds.\n"
     ]
    },
    {
     "name": "stderr",
     "output_type": "stream",
     "text": [
      "Uploading predictions:  13%|█▎        | 44/348 [00:06<00:44,  6.84it/s]"
     ]
    },
    {
     "name": "stdout",
     "output_type": "stream",
     "text": [
      "Prediction performed in 0.10008645057678223 seconds.\n",
      "Prediction performed in 0.11364364624023438 seconds.\n"
     ]
    },
    {
     "name": "stderr",
     "output_type": "stream",
     "text": [
      "Uploading predictions:  13%|█▎        | 46/348 [00:06<00:44,  6.85it/s]"
     ]
    },
    {
     "name": "stdout",
     "output_type": "stream",
     "text": [
      "Prediction performed in 0.10302996635437012 seconds.\n",
      "Prediction performed in 0.1082448959350586 seconds.\n"
     ]
    },
    {
     "name": "stderr",
     "output_type": "stream",
     "text": [
      "Uploading predictions:  14%|█▍        | 48/348 [00:07<00:44,  6.67it/s]"
     ]
    },
    {
     "name": "stdout",
     "output_type": "stream",
     "text": [
      "Prediction performed in 0.10077071189880371 seconds.\n",
      "Prediction performed in 0.12067937850952148 seconds.\n"
     ]
    },
    {
     "name": "stderr",
     "output_type": "stream",
     "text": [
      "Uploading predictions:  14%|█▍        | 50/348 [00:07<00:44,  6.76it/s]"
     ]
    },
    {
     "name": "stdout",
     "output_type": "stream",
     "text": [
      "Prediction performed in 0.0965733528137207 seconds.\n",
      "Prediction performed in 0.10874366760253906 seconds.\n"
     ]
    },
    {
     "name": "stderr",
     "output_type": "stream",
     "text": [
      "Uploading predictions:  15%|█▍        | 52/348 [00:07<00:44,  6.70it/s]"
     ]
    },
    {
     "name": "stdout",
     "output_type": "stream",
     "text": [
      "Prediction performed in 0.10168313980102539 seconds.\n",
      "Prediction performed in 0.11287546157836914 seconds.\n"
     ]
    },
    {
     "name": "stderr",
     "output_type": "stream",
     "text": [
      "Uploading predictions:  16%|█▌        | 54/348 [00:07<00:42,  6.93it/s]"
     ]
    },
    {
     "name": "stdout",
     "output_type": "stream",
     "text": [
      "Prediction performed in 0.09781765937805176 seconds.\n",
      "Prediction performed in 0.10637211799621582 seconds.\n"
     ]
    },
    {
     "name": "stderr",
     "output_type": "stream",
     "text": [
      "Uploading predictions:  16%|█▌        | 56/348 [00:08<00:43,  6.74it/s]"
     ]
    },
    {
     "name": "stdout",
     "output_type": "stream",
     "text": [
      "Prediction performed in 0.10618352890014648 seconds.\n",
      "Prediction performed in 0.11102604866027832 seconds.\n"
     ]
    },
    {
     "name": "stderr",
     "output_type": "stream",
     "text": [
      "Uploading predictions:  17%|█▋        | 58/348 [00:08<00:42,  6.89it/s]"
     ]
    },
    {
     "name": "stdout",
     "output_type": "stream",
     "text": [
      "Prediction performed in 0.09615588188171387 seconds.\n",
      "Prediction performed in 0.09304547309875488 seconds.\n"
     ]
    },
    {
     "name": "stderr",
     "output_type": "stream",
     "text": [
      "Uploading predictions:  17%|█▋        | 60/348 [00:08<00:43,  6.70it/s]"
     ]
    },
    {
     "name": "stdout",
     "output_type": "stream",
     "text": [
      "Prediction performed in 0.10101175308227539 seconds.\n",
      "Prediction performed in 0.11777329444885254 seconds.\n"
     ]
    },
    {
     "name": "stderr",
     "output_type": "stream",
     "text": [
      "Uploading predictions:  18%|█▊        | 62/348 [00:09<00:41,  6.84it/s]"
     ]
    },
    {
     "name": "stdout",
     "output_type": "stream",
     "text": [
      "Prediction performed in 0.10038208961486816 seconds.\n",
      "Prediction performed in 0.10497069358825684 seconds.\n"
     ]
    },
    {
     "name": "stderr",
     "output_type": "stream",
     "text": [
      "Uploading predictions:  18%|█▊        | 64/348 [00:09<00:40,  7.02it/s]"
     ]
    },
    {
     "name": "stdout",
     "output_type": "stream",
     "text": [
      "Prediction performed in 0.10140371322631836 seconds.\n",
      "Prediction performed in 0.11061930656433105 seconds.\n"
     ]
    },
    {
     "name": "stderr",
     "output_type": "stream",
     "text": [
      "Uploading predictions:  19%|█▉        | 66/348 [00:09<00:41,  6.88it/s]"
     ]
    },
    {
     "name": "stdout",
     "output_type": "stream",
     "text": [
      "Prediction performed in 0.11250567436218262 seconds.\n",
      "Prediction performed in 0.10675644874572754 seconds.\n"
     ]
    },
    {
     "name": "stderr",
     "output_type": "stream",
     "text": [
      "Uploading predictions:  20%|█▉        | 68/348 [00:09<00:41,  6.81it/s]"
     ]
    },
    {
     "name": "stdout",
     "output_type": "stream",
     "text": [
      "Prediction performed in 0.09885764122009277 seconds.\n",
      "Prediction performed in 0.12323403358459473 seconds.\n"
     ]
    },
    {
     "name": "stderr",
     "output_type": "stream",
     "text": [
      "Uploading predictions:  20%|██        | 70/348 [00:10<00:40,  6.79it/s]"
     ]
    },
    {
     "name": "stdout",
     "output_type": "stream",
     "text": [
      "Prediction performed in 0.08933424949645996 seconds.\n",
      "Prediction performed in 0.11660146713256836 seconds.\n"
     ]
    },
    {
     "name": "stderr",
     "output_type": "stream",
     "text": [
      "Uploading predictions:  21%|██        | 72/348 [00:10<00:40,  6.79it/s]"
     ]
    },
    {
     "name": "stdout",
     "output_type": "stream",
     "text": [
      "Prediction performed in 0.09988665580749512 seconds.\n",
      "Prediction performed in 0.11185169219970703 seconds.\n"
     ]
    },
    {
     "name": "stderr",
     "output_type": "stream",
     "text": [
      "Uploading predictions:  21%|██▏       | 74/348 [00:10<00:39,  6.90it/s]"
     ]
    },
    {
     "name": "stdout",
     "output_type": "stream",
     "text": [
      "Prediction performed in 0.09496092796325684 seconds.\n",
      "Prediction performed in 0.10662627220153809 seconds.\n"
     ]
    },
    {
     "name": "stderr",
     "output_type": "stream",
     "text": [
      "Uploading predictions:  22%|██▏       | 76/348 [00:11<00:39,  6.89it/s]"
     ]
    },
    {
     "name": "stdout",
     "output_type": "stream",
     "text": [
      "Prediction performed in 0.10073566436767578 seconds.\n",
      "Prediction performed in 0.0997309684753418 seconds.\n"
     ]
    },
    {
     "name": "stderr",
     "output_type": "stream",
     "text": [
      "Uploading predictions:  22%|██▏       | 78/348 [00:11<00:38,  6.97it/s]"
     ]
    },
    {
     "name": "stdout",
     "output_type": "stream",
     "text": [
      "Prediction performed in 0.09566402435302734 seconds.\n",
      "Prediction performed in 0.1036994457244873 seconds.\n"
     ]
    },
    {
     "name": "stderr",
     "output_type": "stream",
     "text": [
      "Uploading predictions:  23%|██▎       | 80/348 [00:11<00:38,  6.98it/s]"
     ]
    },
    {
     "name": "stdout",
     "output_type": "stream",
     "text": [
      "Prediction performed in 0.09709715843200684 seconds.\n",
      "Prediction performed in 0.09836649894714355 seconds.\n"
     ]
    },
    {
     "name": "stderr",
     "output_type": "stream",
     "text": [
      "Uploading predictions:  24%|██▎       | 82/348 [00:12<00:38,  6.91it/s]"
     ]
    },
    {
     "name": "stdout",
     "output_type": "stream",
     "text": [
      "Prediction performed in 0.10427546501159668 seconds.\n",
      "Prediction performed in 0.10821771621704102 seconds.\n"
     ]
    },
    {
     "name": "stderr",
     "output_type": "stream",
     "text": [
      "Uploading predictions:  24%|██▍       | 84/348 [00:12<00:38,  6.91it/s]"
     ]
    },
    {
     "name": "stdout",
     "output_type": "stream",
     "text": [
      "Prediction performed in 0.09985613822937012 seconds.\n",
      "Prediction performed in 0.11107611656188965 seconds.\n"
     ]
    },
    {
     "name": "stderr",
     "output_type": "stream",
     "text": [
      "Uploading predictions:  25%|██▍       | 86/348 [00:12<00:37,  7.00it/s]"
     ]
    },
    {
     "name": "stdout",
     "output_type": "stream",
     "text": [
      "Prediction performed in 0.09908413887023926 seconds.\n",
      "Prediction performed in 0.09698629379272461 seconds.\n"
     ]
    },
    {
     "name": "stderr",
     "output_type": "stream",
     "text": [
      "Uploading predictions:  25%|██▌       | 88/348 [00:12<00:37,  6.84it/s]"
     ]
    },
    {
     "name": "stdout",
     "output_type": "stream",
     "text": [
      "Prediction performed in 0.09903860092163086 seconds.\n",
      "Prediction performed in 0.11453652381896973 seconds.\n"
     ]
    },
    {
     "name": "stderr",
     "output_type": "stream",
     "text": [
      "Uploading predictions:  26%|██▌       | 89/348 [00:13<00:36,  7.09it/s]"
     ]
    },
    {
     "name": "stdout",
     "output_type": "stream",
     "text": [
      "Prediction performed in 0.09155416488647461 seconds.\n",
      "Prediction performed in 0.09960651397705078 seconds.\n"
     ]
    },
    {
     "name": "stderr",
     "output_type": "stream",
     "text": [
      "Uploading predictions:  26%|██▋       | 92/348 [00:13<00:37,  6.81it/s]"
     ]
    },
    {
     "name": "stdout",
     "output_type": "stream",
     "text": [
      "Prediction performed in 0.10039091110229492 seconds.\n",
      "Prediction performed in 0.11068224906921387 seconds.\n"
     ]
    },
    {
     "name": "stderr",
     "output_type": "stream",
     "text": [
      "Uploading predictions:  27%|██▋       | 94/348 [00:13<00:36,  7.02it/s]"
     ]
    },
    {
     "name": "stdout",
     "output_type": "stream",
     "text": [
      "Prediction performed in 0.09129023551940918 seconds.\n",
      "Prediction performed in 0.10434436798095703 seconds.\n"
     ]
    },
    {
     "name": "stderr",
     "output_type": "stream",
     "text": [
      "Uploading predictions:  28%|██▊       | 96/348 [00:14<00:36,  6.89it/s]"
     ]
    },
    {
     "name": "stdout",
     "output_type": "stream",
     "text": [
      "Prediction performed in 0.10032200813293457 seconds.\n",
      "Prediction performed in 0.09837746620178223 seconds.\n"
     ]
    },
    {
     "name": "stderr",
     "output_type": "stream",
     "text": [
      "Uploading predictions:  28%|██▊       | 98/348 [00:14<00:35,  7.02it/s]"
     ]
    },
    {
     "name": "stdout",
     "output_type": "stream",
     "text": [
      "Prediction performed in 0.09150171279907227 seconds.\n",
      "Prediction performed in 0.10352182388305664 seconds.\n"
     ]
    },
    {
     "name": "stderr",
     "output_type": "stream",
     "text": [
      "Uploading predictions:  29%|██▊       | 100/348 [00:14<00:35,  6.99it/s]"
     ]
    },
    {
     "name": "stdout",
     "output_type": "stream",
     "text": [
      "Prediction performed in 0.09796929359436035 seconds.\n",
      "Prediction performed in 0.10848045349121094 seconds.\n"
     ]
    },
    {
     "name": "stderr",
     "output_type": "stream",
     "text": [
      "Uploading predictions:  29%|██▉       | 102/348 [00:14<00:34,  7.08it/s]"
     ]
    },
    {
     "name": "stdout",
     "output_type": "stream",
     "text": [
      "Prediction performed in 0.0945594310760498 seconds.\n",
      "Prediction performed in 0.10419774055480957 seconds.\n"
     ]
    },
    {
     "name": "stderr",
     "output_type": "stream",
     "text": [
      "Uploading predictions:  30%|██▉       | 104/348 [00:15<00:34,  6.98it/s]"
     ]
    },
    {
     "name": "stdout",
     "output_type": "stream",
     "text": [
      "Prediction performed in 0.09853196144104004 seconds.\n",
      "Prediction performed in 0.11953234672546387 seconds.\n"
     ]
    },
    {
     "name": "stderr",
     "output_type": "stream",
     "text": [
      "Uploading predictions:  30%|███       | 106/348 [00:15<00:33,  7.15it/s]"
     ]
    },
    {
     "name": "stdout",
     "output_type": "stream",
     "text": [
      "Prediction performed in 0.09452342987060547 seconds.\n",
      "Prediction performed in 0.11353588104248047 seconds.\n"
     ]
    },
    {
     "name": "stderr",
     "output_type": "stream",
     "text": [
      "Uploading predictions:  31%|███       | 107/348 [00:15<00:37,  6.46it/s]"
     ]
    },
    {
     "name": "stdout",
     "output_type": "stream",
     "text": [
      "Prediction performed in 0.10230135917663574 seconds.\n"
     ]
    },
    {
     "name": "stderr",
     "output_type": "stream",
     "text": [
      "Uploading predictions:  31%|███▏      | 109/348 [00:15<00:37,  6.36it/s]"
     ]
    },
    {
     "name": "stdout",
     "output_type": "stream",
     "text": [
      "Prediction performed in 0.13470840454101562 seconds.\n",
      "Prediction performed in 0.10614585876464844 seconds.\n"
     ]
    },
    {
     "name": "stderr",
     "output_type": "stream",
     "text": [
      "Uploading predictions:  32%|███▏      | 111/348 [00:16<00:35,  6.71it/s]"
     ]
    },
    {
     "name": "stdout",
     "output_type": "stream",
     "text": [
      "Prediction performed in 0.10819220542907715 seconds.\n",
      "Prediction performed in 0.09888386726379395 seconds.\n"
     ]
    },
    {
     "name": "stderr",
     "output_type": "stream",
     "text": [
      "Uploading predictions:  32%|███▏      | 113/348 [00:16<00:34,  6.87it/s]"
     ]
    },
    {
     "name": "stdout",
     "output_type": "stream",
     "text": [
      "Prediction performed in 0.11441469192504883 seconds.\n",
      "Prediction performed in 0.09375166893005371 seconds.\n"
     ]
    },
    {
     "name": "stderr",
     "output_type": "stream",
     "text": [
      "Uploading predictions:  33%|███▎      | 115/348 [00:16<00:35,  6.59it/s]"
     ]
    },
    {
     "name": "stdout",
     "output_type": "stream",
     "text": [
      "Prediction performed in 0.10609626770019531 seconds.\n",
      "Prediction performed in 0.10772562026977539 seconds.\n"
     ]
    },
    {
     "name": "stderr",
     "output_type": "stream",
     "text": [
      "Uploading predictions:  34%|███▎      | 117/348 [00:17<00:32,  7.01it/s]"
     ]
    },
    {
     "name": "stdout",
     "output_type": "stream",
     "text": [
      "Prediction performed in 0.11197280883789062 seconds.\n",
      "Prediction performed in 0.09313416481018066 seconds.\n"
     ]
    },
    {
     "name": "stderr",
     "output_type": "stream",
     "text": [
      "Uploading predictions:  34%|███▍      | 119/348 [00:17<00:32,  7.13it/s]"
     ]
    },
    {
     "name": "stdout",
     "output_type": "stream",
     "text": [
      "Prediction performed in 0.10938262939453125 seconds.\n",
      "Prediction performed in 0.09375691413879395 seconds.\n"
     ]
    },
    {
     "name": "stderr",
     "output_type": "stream",
     "text": [
      "Uploading predictions:  35%|███▍      | 121/348 [00:17<00:31,  7.26it/s]"
     ]
    },
    {
     "name": "stdout",
     "output_type": "stream",
     "text": [
      "Prediction performed in 0.12363457679748535 seconds.\n",
      "Prediction performed in 0.0850675106048584 seconds.\n"
     ]
    },
    {
     "name": "stderr",
     "output_type": "stream",
     "text": [
      "Uploading predictions:  35%|███▌      | 123/348 [00:17<00:32,  6.93it/s]"
     ]
    },
    {
     "name": "stdout",
     "output_type": "stream",
     "text": [
      "Prediction performed in 0.12579679489135742 seconds.\n",
      "Prediction performed in 0.1124422550201416 seconds.\n"
     ]
    },
    {
     "name": "stderr",
     "output_type": "stream",
     "text": [
      "Uploading predictions:  36%|███▌      | 125/348 [00:18<00:30,  7.22it/s]"
     ]
    },
    {
     "name": "stdout",
     "output_type": "stream",
     "text": [
      "Prediction performed in 0.09686398506164551 seconds.\n",
      "Prediction performed in 0.09375619888305664 seconds.\n"
     ]
    },
    {
     "name": "stderr",
     "output_type": "stream",
     "text": [
      "Uploading predictions:  36%|███▋      | 127/348 [00:18<00:30,  7.17it/s]"
     ]
    },
    {
     "name": "stdout",
     "output_type": "stream",
     "text": [
      "Prediction performed in 0.10938310623168945 seconds.\n",
      "Prediction performed in 0.10938382148742676 seconds.\n"
     ]
    },
    {
     "name": "stderr",
     "output_type": "stream",
     "text": [
      "Uploading predictions:  37%|███▋      | 129/348 [00:18<00:31,  6.97it/s]"
     ]
    },
    {
     "name": "stdout",
     "output_type": "stream",
     "text": [
      "Prediction performed in 0.10938334465026855 seconds.\n",
      "Prediction performed in 0.09375596046447754 seconds.\n"
     ]
    },
    {
     "name": "stderr",
     "output_type": "stream",
     "text": [
      "Uploading predictions:  38%|███▊      | 131/348 [00:19<00:29,  7.28it/s]"
     ]
    },
    {
     "name": "stdout",
     "output_type": "stream",
     "text": [
      "Prediction performed in 0.09375739097595215 seconds.\n",
      "Prediction performed in 0.09377551078796387 seconds.\n"
     ]
    },
    {
     "name": "stderr",
     "output_type": "stream",
     "text": [
      "Uploading predictions:  38%|███▊      | 133/348 [00:19<00:29,  7.17it/s]"
     ]
    },
    {
     "name": "stdout",
     "output_type": "stream",
     "text": [
      "Prediction performed in 0.10938358306884766 seconds.\n",
      "Prediction performed in 0.0954122543334961 seconds.\n"
     ]
    },
    {
     "name": "stderr",
     "output_type": "stream",
     "text": [
      "Uploading predictions:  39%|███▉      | 135/348 [00:19<00:28,  7.39it/s]"
     ]
    },
    {
     "name": "stdout",
     "output_type": "stream",
     "text": [
      "Prediction performed in 0.09375643730163574 seconds.\n",
      "Prediction performed in 0.09375643730163574 seconds.\n"
     ]
    },
    {
     "name": "stderr",
     "output_type": "stream",
     "text": [
      "Uploading predictions:  39%|███▉      | 137/348 [00:19<00:28,  7.32it/s]"
     ]
    },
    {
     "name": "stdout",
     "output_type": "stream",
     "text": [
      "Prediction performed in 0.10938358306884766 seconds.\n",
      "Prediction performed in 0.09375667572021484 seconds.\n"
     ]
    },
    {
     "name": "stderr",
     "output_type": "stream",
     "text": [
      "Uploading predictions:  40%|███▉      | 139/348 [00:20<00:28,  7.28it/s]"
     ]
    },
    {
     "name": "stdout",
     "output_type": "stream",
     "text": [
      "Prediction performed in 0.09424304962158203 seconds.\n",
      "Prediction performed in 0.09375762939453125 seconds.\n"
     ]
    },
    {
     "name": "stderr",
     "output_type": "stream",
     "text": [
      "Uploading predictions:  41%|████      | 141/348 [00:20<00:28,  7.27it/s]"
     ]
    },
    {
     "name": "stdout",
     "output_type": "stream",
     "text": [
      "Prediction performed in 0.09375691413879395 seconds.\n",
      "Prediction performed in 0.09375643730163574 seconds.\n"
     ]
    },
    {
     "name": "stderr",
     "output_type": "stream",
     "text": [
      "Uploading predictions:  41%|████      | 143/348 [00:20<00:27,  7.44it/s]"
     ]
    },
    {
     "name": "stdout",
     "output_type": "stream",
     "text": [
      "Prediction performed in 0.09375739097595215 seconds.\n",
      "Prediction performed in 0.09375667572021484 seconds.\n"
     ]
    },
    {
     "name": "stderr",
     "output_type": "stream",
     "text": [
      "Uploading predictions:  42%|████▏     | 145/348 [00:21<00:28,  7.15it/s]"
     ]
    },
    {
     "name": "stdout",
     "output_type": "stream",
     "text": [
      "Prediction performed in 0.10938262939453125 seconds.\n",
      "Prediction performed in 0.0836939811706543 seconds.\n"
     ]
    },
    {
     "name": "stderr",
     "output_type": "stream",
     "text": [
      "Uploading predictions:  42%|████▏     | 147/348 [00:21<00:27,  7.20it/s]"
     ]
    },
    {
     "name": "stdout",
     "output_type": "stream",
     "text": [
      "Prediction performed in 0.10307478904724121 seconds.\n",
      "Prediction performed in 0.09762144088745117 seconds.\n"
     ]
    },
    {
     "name": "stderr",
     "output_type": "stream",
     "text": [
      "Uploading predictions:  43%|████▎     | 149/348 [00:21<00:27,  7.17it/s]"
     ]
    },
    {
     "name": "stdout",
     "output_type": "stream",
     "text": [
      "Prediction performed in 0.10936975479125977 seconds.\n",
      "Prediction performed in 0.0938420295715332 seconds.\n"
     ]
    },
    {
     "name": "stderr",
     "output_type": "stream",
     "text": [
      "Uploading predictions:  43%|████▎     | 151/348 [00:21<00:26,  7.30it/s]"
     ]
    },
    {
     "name": "stdout",
     "output_type": "stream",
     "text": [
      "Prediction performed in 0.10541939735412598 seconds.\n",
      "Prediction performed in 0.0922398567199707 seconds.\n"
     ]
    },
    {
     "name": "stderr",
     "output_type": "stream",
     "text": [
      "Uploading predictions:  44%|████▍     | 153/348 [00:22<00:27,  7.06it/s]"
     ]
    },
    {
     "name": "stdout",
     "output_type": "stream",
     "text": [
      "Prediction performed in 0.09688782691955566 seconds.\n",
      "Prediction performed in 0.09801769256591797 seconds.\n"
     ]
    },
    {
     "name": "stderr",
     "output_type": "stream",
     "text": [
      "Uploading predictions:  45%|████▍     | 155/348 [00:22<00:26,  7.25it/s]"
     ]
    },
    {
     "name": "stdout",
     "output_type": "stream",
     "text": [
      "Prediction performed in 0.09775614738464355 seconds.\n",
      "Prediction performed in 0.1002969741821289 seconds.\n"
     ]
    },
    {
     "name": "stderr",
     "output_type": "stream",
     "text": [
      "Uploading predictions:  45%|████▌     | 157/348 [00:22<00:27,  7.07it/s]"
     ]
    },
    {
     "name": "stdout",
     "output_type": "stream",
     "text": [
      "Prediction performed in 0.12302637100219727 seconds.\n",
      "Prediction performed in 0.09804153442382812 seconds.\n"
     ]
    },
    {
     "name": "stderr",
     "output_type": "stream",
     "text": [
      "Uploading predictions:  46%|████▌     | 159/348 [00:22<00:26,  7.21it/s]"
     ]
    },
    {
     "name": "stdout",
     "output_type": "stream",
     "text": [
      "Prediction performed in 0.1037452220916748 seconds.\n",
      "Prediction performed in 0.10437417030334473 seconds.\n"
     ]
    },
    {
     "name": "stderr",
     "output_type": "stream",
     "text": [
      "Uploading predictions:  46%|████▋     | 161/348 [00:23<00:26,  7.04it/s]"
     ]
    },
    {
     "name": "stdout",
     "output_type": "stream",
     "text": [
      "Prediction performed in 0.12349486351013184 seconds.\n",
      "Prediction performed in 0.10013341903686523 seconds.\n"
     ]
    },
    {
     "name": "stderr",
     "output_type": "stream",
     "text": [
      "Uploading predictions:  47%|████▋     | 163/348 [00:23<00:25,  7.15it/s]"
     ]
    },
    {
     "name": "stdout",
     "output_type": "stream",
     "text": [
      "Prediction performed in 0.09375762939453125 seconds.\n",
      "Prediction performed in 0.09375810623168945 seconds.\n"
     ]
    },
    {
     "name": "stderr",
     "output_type": "stream",
     "text": [
      "Uploading predictions:  47%|████▋     | 165/348 [00:23<00:26,  6.94it/s]"
     ]
    },
    {
     "name": "stdout",
     "output_type": "stream",
     "text": [
      "Prediction performed in 0.10938286781311035 seconds.\n",
      "Prediction performed in 0.10302376747131348 seconds.\n"
     ]
    },
    {
     "name": "stderr",
     "output_type": "stream",
     "text": [
      "Uploading predictions:  48%|████▊     | 167/348 [00:24<00:26,  6.89it/s]"
     ]
    },
    {
     "name": "stdout",
     "output_type": "stream",
     "text": [
      "Prediction performed in 0.10888385772705078 seconds.\n",
      "Prediction performed in 0.1045677661895752 seconds.\n"
     ]
    },
    {
     "name": "stderr",
     "output_type": "stream",
     "text": [
      "Uploading predictions:  49%|████▊     | 169/348 [00:24<00:25,  6.95it/s]"
     ]
    },
    {
     "name": "stdout",
     "output_type": "stream",
     "text": [
      "Prediction performed in 0.11407279968261719 seconds.\n",
      "Prediction performed in 0.09522819519042969 seconds.\n"
     ]
    },
    {
     "name": "stderr",
     "output_type": "stream",
     "text": [
      "Uploading predictions:  49%|████▉     | 171/348 [00:24<00:25,  6.99it/s]"
     ]
    },
    {
     "name": "stdout",
     "output_type": "stream",
     "text": [
      "Prediction performed in 0.1079411506652832 seconds.\n",
      "Prediction performed in 0.10106515884399414 seconds.\n"
     ]
    },
    {
     "name": "stderr",
     "output_type": "stream",
     "text": [
      "Uploading predictions:  50%|████▉     | 173/348 [00:25<00:25,  6.90it/s]"
     ]
    },
    {
     "name": "stdout",
     "output_type": "stream",
     "text": [
      "Prediction performed in 0.11281394958496094 seconds.\n",
      "Prediction performed in 0.10155940055847168 seconds.\n"
     ]
    },
    {
     "name": "stderr",
     "output_type": "stream",
     "text": [
      "Uploading predictions:  50%|█████     | 175/348 [00:25<00:25,  6.88it/s]"
     ]
    },
    {
     "name": "stdout",
     "output_type": "stream",
     "text": [
      "Prediction performed in 0.10815644264221191 seconds.\n",
      "Prediction performed in 0.10474634170532227 seconds.\n"
     ]
    },
    {
     "name": "stderr",
     "output_type": "stream",
     "text": [
      "Uploading predictions:  51%|█████     | 177/348 [00:25<00:24,  6.91it/s]"
     ]
    },
    {
     "name": "stdout",
     "output_type": "stream",
     "text": [
      "Prediction performed in 0.11717009544372559 seconds.\n",
      "Prediction performed in 0.0970005989074707 seconds.\n"
     ]
    },
    {
     "name": "stderr",
     "output_type": "stream",
     "text": [
      "Uploading predictions:  51%|█████▏    | 179/348 [00:25<00:24,  6.87it/s]"
     ]
    },
    {
     "name": "stdout",
     "output_type": "stream",
     "text": [
      "Prediction performed in 0.11411762237548828 seconds.\n",
      "Prediction performed in 0.10094666481018066 seconds.\n"
     ]
    },
    {
     "name": "stderr",
     "output_type": "stream",
     "text": [
      "Uploading predictions:  52%|█████▏    | 181/348 [00:26<00:24,  6.79it/s]"
     ]
    },
    {
     "name": "stdout",
     "output_type": "stream",
     "text": [
      "Prediction performed in 0.10982704162597656 seconds.\n",
      "Prediction performed in 0.11444473266601562 seconds.\n"
     ]
    },
    {
     "name": "stderr",
     "output_type": "stream",
     "text": [
      "Uploading predictions:  53%|█████▎    | 183/348 [00:26<00:23,  6.98it/s]"
     ]
    },
    {
     "name": "stdout",
     "output_type": "stream",
     "text": [
      "Prediction performed in 0.10994625091552734 seconds.\n",
      "Prediction performed in 0.09861087799072266 seconds.\n"
     ]
    },
    {
     "name": "stderr",
     "output_type": "stream",
     "text": [
      "Uploading predictions:  53%|█████▎    | 185/348 [00:26<00:24,  6.72it/s]"
     ]
    },
    {
     "name": "stdout",
     "output_type": "stream",
     "text": [
      "Prediction performed in 0.11976909637451172 seconds.\n",
      "Prediction performed in 0.10357403755187988 seconds.\n"
     ]
    },
    {
     "name": "stderr",
     "output_type": "stream",
     "text": [
      "Uploading predictions:  54%|█████▎    | 187/348 [00:27<00:23,  6.86it/s]"
     ]
    },
    {
     "name": "stdout",
     "output_type": "stream",
     "text": [
      "Prediction performed in 0.10693764686584473 seconds.\n",
      "Prediction performed in 0.10043621063232422 seconds.\n"
     ]
    },
    {
     "name": "stderr",
     "output_type": "stream",
     "text": [
      "Uploading predictions:  54%|█████▍    | 189/348 [00:27<00:22,  6.93it/s]"
     ]
    },
    {
     "name": "stdout",
     "output_type": "stream",
     "text": [
      "Prediction performed in 0.1044158935546875 seconds.\n",
      "Prediction performed in 0.0986640453338623 seconds.\n"
     ]
    },
    {
     "name": "stderr",
     "output_type": "stream",
     "text": [
      "Uploading predictions:  55%|█████▍    | 191/348 [00:27<00:22,  7.05it/s]"
     ]
    },
    {
     "name": "stdout",
     "output_type": "stream",
     "text": [
      "Prediction performed in 0.10609626770019531 seconds.\n",
      "Prediction performed in 0.08658123016357422 seconds.\n"
     ]
    },
    {
     "name": "stderr",
     "output_type": "stream",
     "text": [
      "Uploading predictions:  55%|█████▌    | 193/348 [00:27<00:22,  6.86it/s]"
     ]
    },
    {
     "name": "stdout",
     "output_type": "stream",
     "text": [
      "Prediction performed in 0.12005448341369629 seconds.\n",
      "Prediction performed in 0.10419058799743652 seconds.\n"
     ]
    },
    {
     "name": "stderr",
     "output_type": "stream",
     "text": [
      "Uploading predictions:  56%|█████▌    | 195/348 [00:28<00:22,  6.83it/s]"
     ]
    },
    {
     "name": "stdout",
     "output_type": "stream",
     "text": [
      "Prediction performed in 0.10132122039794922 seconds.\n",
      "Prediction performed in 0.10189342498779297 seconds.\n"
     ]
    },
    {
     "name": "stderr",
     "output_type": "stream",
     "text": [
      "Uploading predictions:  57%|█████▋    | 197/348 [00:28<00:22,  6.80it/s]"
     ]
    },
    {
     "name": "stdout",
     "output_type": "stream",
     "text": [
      "Prediction performed in 0.1185767650604248 seconds.\n",
      "Prediction performed in 0.10102033615112305 seconds.\n"
     ]
    },
    {
     "name": "stderr",
     "output_type": "stream",
     "text": [
      "Uploading predictions:  57%|█████▋    | 199/348 [00:28<00:21,  6.84it/s]"
     ]
    },
    {
     "name": "stdout",
     "output_type": "stream",
     "text": [
      "Prediction performed in 0.1037745475769043 seconds.\n",
      "Prediction performed in 0.10938382148742676 seconds.\n"
     ]
    },
    {
     "name": "stderr",
     "output_type": "stream",
     "text": [
      "Uploading predictions:  58%|█████▊    | 201/348 [00:29<00:21,  6.92it/s]"
     ]
    },
    {
     "name": "stdout",
     "output_type": "stream",
     "text": [
      "Prediction performed in 0.11383748054504395 seconds.\n",
      "Prediction performed in 0.09630322456359863 seconds.\n"
     ]
    },
    {
     "name": "stderr",
     "output_type": "stream",
     "text": [
      "Uploading predictions:  58%|█████▊    | 203/348 [00:29<00:21,  6.89it/s]"
     ]
    },
    {
     "name": "stdout",
     "output_type": "stream",
     "text": [
      "Prediction performed in 0.10863542556762695 seconds.\n",
      "Prediction performed in 0.10331082344055176 seconds.\n"
     ]
    },
    {
     "name": "stderr",
     "output_type": "stream",
     "text": [
      "Uploading predictions:  59%|█████▉    | 205/348 [00:29<00:20,  6.99it/s]"
     ]
    },
    {
     "name": "stdout",
     "output_type": "stream",
     "text": [
      "Prediction performed in 0.11684989929199219 seconds.\n",
      "Prediction performed in 0.09697270393371582 seconds.\n"
     ]
    },
    {
     "name": "stderr",
     "output_type": "stream",
     "text": [
      "Uploading predictions:  59%|█████▉    | 207/348 [00:30<00:21,  6.63it/s]"
     ]
    },
    {
     "name": "stdout",
     "output_type": "stream",
     "text": [
      "Prediction performed in 0.1218881607055664 seconds.\n",
      "Prediction performed in 0.11835169792175293 seconds.\n"
     ]
    },
    {
     "name": "stderr",
     "output_type": "stream",
     "text": [
      "Uploading predictions:  60%|██████    | 209/348 [00:30<00:20,  6.77it/s]"
     ]
    },
    {
     "name": "stdout",
     "output_type": "stream",
     "text": [
      "Prediction performed in 0.12188386917114258 seconds.\n",
      "Prediction performed in 0.10509562492370605 seconds.\n"
     ]
    },
    {
     "name": "stderr",
     "output_type": "stream",
     "text": [
      "Uploading predictions:  61%|██████    | 211/348 [00:30<00:19,  7.09it/s]"
     ]
    },
    {
     "name": "stdout",
     "output_type": "stream",
     "text": [
      "Prediction performed in 0.10910964012145996 seconds.\n",
      "Prediction performed in 0.1009676456451416 seconds.\n"
     ]
    },
    {
     "name": "stderr",
     "output_type": "stream",
     "text": [
      "Uploading predictions:  61%|██████    | 213/348 [00:30<00:20,  6.71it/s]"
     ]
    },
    {
     "name": "stdout",
     "output_type": "stream",
     "text": [
      "Prediction performed in 0.13449573516845703 seconds.\n",
      "Prediction performed in 0.09750247001647949 seconds.\n"
     ]
    },
    {
     "name": "stderr",
     "output_type": "stream",
     "text": [
      "Uploading predictions:  62%|██████▏   | 215/348 [00:31<00:19,  6.82it/s]"
     ]
    },
    {
     "name": "stdout",
     "output_type": "stream",
     "text": [
      "Prediction performed in 0.10854005813598633 seconds.\n",
      "Prediction performed in 0.1023871898651123 seconds.\n"
     ]
    },
    {
     "name": "stderr",
     "output_type": "stream",
     "text": [
      "Uploading predictions:  62%|██████▏   | 217/348 [00:31<00:18,  6.91it/s]"
     ]
    },
    {
     "name": "stdout",
     "output_type": "stream",
     "text": [
      "Prediction performed in 0.11412405967712402 seconds.\n",
      "Prediction performed in 0.09802675247192383 seconds.\n"
     ]
    },
    {
     "name": "stderr",
     "output_type": "stream",
     "text": [
      "Uploading predictions:  63%|██████▎   | 219/348 [00:31<00:18,  6.95it/s]"
     ]
    },
    {
     "name": "stdout",
     "output_type": "stream",
     "text": [
      "Prediction performed in 0.11104846000671387 seconds.\n",
      "Prediction performed in 0.10107064247131348 seconds.\n"
     ]
    },
    {
     "name": "stderr",
     "output_type": "stream",
     "text": [
      "Uploading predictions:  64%|██████▎   | 221/348 [00:32<00:18,  7.04it/s]"
     ]
    },
    {
     "name": "stdout",
     "output_type": "stream",
     "text": [
      "Prediction performed in 0.11163687705993652 seconds.\n",
      "Prediction performed in 0.09946703910827637 seconds.\n"
     ]
    },
    {
     "name": "stderr",
     "output_type": "stream",
     "text": [
      "Uploading predictions:  64%|██████▍   | 223/348 [00:32<00:17,  7.07it/s]"
     ]
    },
    {
     "name": "stdout",
     "output_type": "stream",
     "text": [
      "Prediction performed in 0.10937881469726562 seconds.\n",
      "Prediction performed in 0.09375739097595215 seconds.\n"
     ]
    },
    {
     "name": "stderr",
     "output_type": "stream",
     "text": [
      "Uploading predictions:  65%|██████▍   | 225/348 [00:32<00:17,  7.09it/s]"
     ]
    },
    {
     "name": "stdout",
     "output_type": "stream",
     "text": [
      "Prediction performed in 0.10938358306884766 seconds.\n",
      "Prediction performed in 0.10938382148742676 seconds.\n"
     ]
    },
    {
     "name": "stderr",
     "output_type": "stream",
     "text": [
      "Uploading predictions:  65%|██████▌   | 227/348 [00:32<00:17,  6.98it/s]"
     ]
    },
    {
     "name": "stdout",
     "output_type": "stream",
     "text": [
      "Prediction performed in 0.11740851402282715 seconds.\n",
      "Prediction performed in 0.09925580024719238 seconds.\n"
     ]
    },
    {
     "name": "stderr",
     "output_type": "stream",
     "text": [
      "Uploading predictions:  66%|██████▌   | 229/348 [00:33<00:17,  6.95it/s]"
     ]
    },
    {
     "name": "stdout",
     "output_type": "stream",
     "text": [
      "Prediction performed in 0.11497950553894043 seconds.\n",
      "Prediction performed in 0.0971379280090332 seconds.\n"
     ]
    },
    {
     "name": "stderr",
     "output_type": "stream",
     "text": [
      "Uploading predictions:  66%|██████▋   | 231/348 [00:33<00:16,  7.03it/s]"
     ]
    },
    {
     "name": "stdout",
     "output_type": "stream",
     "text": [
      "Prediction performed in 0.10703563690185547 seconds.\n",
      "Prediction performed in 0.10091876983642578 seconds.\n"
     ]
    },
    {
     "name": "stderr",
     "output_type": "stream",
     "text": [
      "Uploading predictions:  67%|██████▋   | 233/348 [00:33<00:16,  6.90it/s]"
     ]
    },
    {
     "name": "stdout",
     "output_type": "stream",
     "text": [
      "Prediction performed in 0.11165642738342285 seconds.\n",
      "Prediction performed in 0.10153555870056152 seconds.\n"
     ]
    },
    {
     "name": "stderr",
     "output_type": "stream",
     "text": [
      "Uploading predictions:  68%|██████▊   | 235/348 [00:34<00:15,  7.18it/s]"
     ]
    },
    {
     "name": "stdout",
     "output_type": "stream",
     "text": [
      "Prediction performed in 0.1059720516204834 seconds.\n",
      "Prediction performed in 0.09296059608459473 seconds.\n"
     ]
    },
    {
     "name": "stderr",
     "output_type": "stream",
     "text": [
      "Uploading predictions:  68%|██████▊   | 237/348 [00:34<00:16,  6.89it/s]"
     ]
    },
    {
     "name": "stdout",
     "output_type": "stream",
     "text": [
      "Prediction performed in 0.12063717842102051 seconds.\n",
      "Prediction performed in 0.09854412078857422 seconds.\n"
     ]
    },
    {
     "name": "stderr",
     "output_type": "stream",
     "text": [
      "Uploading predictions:  69%|██████▊   | 239/348 [00:34<00:15,  6.97it/s]"
     ]
    },
    {
     "name": "stdout",
     "output_type": "stream",
     "text": [
      "Prediction performed in 0.10822248458862305 seconds.\n",
      "Prediction performed in 0.10092544555664062 seconds.\n"
     ]
    },
    {
     "name": "stderr",
     "output_type": "stream",
     "text": [
      "Uploading predictions:  69%|██████▉   | 241/348 [00:34<00:15,  6.97it/s]"
     ]
    },
    {
     "name": "stdout",
     "output_type": "stream",
     "text": [
      "Prediction performed in 0.11098337173461914 seconds.\n",
      "Prediction performed in 0.09697842597961426 seconds.\n"
     ]
    },
    {
     "name": "stderr",
     "output_type": "stream",
     "text": [
      "Uploading predictions:  70%|██████▉   | 243/348 [00:35<00:15,  6.92it/s]"
     ]
    },
    {
     "name": "stdout",
     "output_type": "stream",
     "text": [
      "Prediction performed in 0.11685299873352051 seconds.\n",
      "Prediction performed in 0.09851241111755371 seconds.\n"
     ]
    },
    {
     "name": "stderr",
     "output_type": "stream",
     "text": [
      "Uploading predictions:  70%|███████   | 244/348 [00:35<00:15,  6.68it/s]"
     ]
    },
    {
     "name": "stdout",
     "output_type": "stream",
     "text": [
      "Prediction performed in 0.11684298515319824 seconds.\n",
      "Prediction performed in 0.10515475273132324 seconds.\n"
     ]
    },
    {
     "name": "stderr",
     "output_type": "stream",
     "text": [
      "Uploading predictions:  71%|███████   | 247/348 [00:36<00:17,  5.77it/s]"
     ]
    },
    {
     "name": "stdout",
     "output_type": "stream",
     "text": [
      "Prediction performed in 0.11097073554992676 seconds.\n",
      "Prediction performed in 0.10375475883483887 seconds.\n"
     ]
    },
    {
     "name": "stderr",
     "output_type": "stream",
     "text": [
      "Uploading predictions:  72%|███████▏  | 249/348 [00:36<00:15,  6.40it/s]"
     ]
    },
    {
     "name": "stdout",
     "output_type": "stream",
     "text": [
      "Prediction performed in 0.11639976501464844 seconds.\n",
      "Prediction performed in 0.09376382827758789 seconds.\n"
     ]
    },
    {
     "name": "stderr",
     "output_type": "stream",
     "text": [
      "Uploading predictions:  72%|███████▏  | 251/348 [00:36<00:14,  6.55it/s]"
     ]
    },
    {
     "name": "stdout",
     "output_type": "stream",
     "text": [
      "Prediction performed in 0.11040282249450684 seconds.\n",
      "Prediction performed in 0.10538172721862793 seconds.\n"
     ]
    },
    {
     "name": "stderr",
     "output_type": "stream",
     "text": [
      "Uploading predictions:  73%|███████▎  | 253/348 [00:36<00:13,  6.80it/s]"
     ]
    },
    {
     "name": "stdout",
     "output_type": "stream",
     "text": [
      "Prediction performed in 0.11199831962585449 seconds.\n",
      "Prediction performed in 0.09296894073486328 seconds.\n"
     ]
    },
    {
     "name": "stderr",
     "output_type": "stream",
     "text": [
      "Uploading predictions:  73%|███████▎  | 255/348 [00:37<00:13,  6.91it/s]"
     ]
    },
    {
     "name": "stdout",
     "output_type": "stream",
     "text": [
      "Prediction performed in 0.11083626747131348 seconds.\n",
      "Prediction performed in 0.09840750694274902 seconds.\n"
     ]
    },
    {
     "name": "stderr",
     "output_type": "stream",
     "text": [
      "Uploading predictions:  74%|███████▍  | 257/348 [00:37<00:13,  6.96it/s]"
     ]
    },
    {
     "name": "stdout",
     "output_type": "stream",
     "text": [
      "Prediction performed in 0.1141822338104248 seconds.\n",
      "Prediction performed in 0.09602856636047363 seconds.\n"
     ]
    },
    {
     "name": "stderr",
     "output_type": "stream",
     "text": [
      "Uploading predictions:  74%|███████▍  | 259/348 [00:37<00:12,  7.00it/s]"
     ]
    },
    {
     "name": "stdout",
     "output_type": "stream",
     "text": [
      "Prediction performed in 0.10976505279541016 seconds.\n",
      "Prediction performed in 0.1008903980255127 seconds.\n"
     ]
    },
    {
     "name": "stderr",
     "output_type": "stream",
     "text": [
      "Uploading predictions:  75%|███████▌  | 261/348 [00:38<00:13,  6.56it/s]"
     ]
    },
    {
     "name": "stdout",
     "output_type": "stream",
     "text": [
      "Prediction performed in 0.11134147644042969 seconds.\n",
      "Prediction performed in 0.10153985023498535 seconds.\n"
     ]
    },
    {
     "name": "stderr",
     "output_type": "stream",
     "text": [
      "Uploading predictions:  76%|███████▌  | 263/348 [00:38<00:12,  6.76it/s]"
     ]
    },
    {
     "name": "stdout",
     "output_type": "stream",
     "text": [
      "Prediction performed in 0.10027146339416504 seconds.\n",
      "Prediction performed in 0.10036730766296387 seconds.\n"
     ]
    },
    {
     "name": "stderr",
     "output_type": "stream",
     "text": [
      "Uploading predictions:  76%|███████▌  | 265/348 [00:38<00:12,  6.89it/s]"
     ]
    },
    {
     "name": "stdout",
     "output_type": "stream",
     "text": [
      "Prediction performed in 0.1103200912475586 seconds.\n",
      "Prediction performed in 0.09641695022583008 seconds.\n"
     ]
    },
    {
     "name": "stderr",
     "output_type": "stream",
     "text": [
      "Uploading predictions:  77%|███████▋  | 267/348 [00:38<00:12,  6.69it/s]"
     ]
    },
    {
     "name": "stdout",
     "output_type": "stream",
     "text": [
      "Prediction performed in 0.1038973331451416 seconds.\n",
      "Prediction performed in 0.10739398002624512 seconds.\n"
     ]
    },
    {
     "name": "stderr",
     "output_type": "stream",
     "text": [
      "Uploading predictions:  77%|███████▋  | 269/348 [00:39<00:11,  6.70it/s]"
     ]
    },
    {
     "name": "stdout",
     "output_type": "stream",
     "text": [
      "Prediction performed in 0.11558961868286133 seconds.\n",
      "Prediction performed in 0.09672856330871582 seconds.\n"
     ]
    },
    {
     "name": "stderr",
     "output_type": "stream",
     "text": [
      "Uploading predictions:  78%|███████▊  | 271/348 [00:39<00:11,  6.88it/s]"
     ]
    },
    {
     "name": "stdout",
     "output_type": "stream",
     "text": [
      "Prediction performed in 0.1106252670288086 seconds.\n",
      "Prediction performed in 0.09944438934326172 seconds.\n"
     ]
    },
    {
     "name": "stderr",
     "output_type": "stream",
     "text": [
      "Uploading predictions:  78%|███████▊  | 273/348 [00:39<00:10,  6.98it/s]"
     ]
    },
    {
     "name": "stdout",
     "output_type": "stream",
     "text": [
      "Prediction performed in 0.10612654685974121 seconds.\n",
      "Prediction performed in 0.08599376678466797 seconds.\n"
     ]
    },
    {
     "name": "stderr",
     "output_type": "stream",
     "text": [
      "Uploading predictions:  79%|███████▉  | 275/348 [00:40<00:10,  6.73it/s]"
     ]
    },
    {
     "name": "stdout",
     "output_type": "stream",
     "text": [
      "Prediction performed in 0.11476659774780273 seconds.\n",
      "Prediction performed in 0.1086125373840332 seconds.\n"
     ]
    },
    {
     "name": "stderr",
     "output_type": "stream",
     "text": [
      "Uploading predictions:  80%|███████▉  | 277/348 [00:40<00:10,  6.59it/s]"
     ]
    },
    {
     "name": "stdout",
     "output_type": "stream",
     "text": [
      "Prediction performed in 0.1166222095489502 seconds.\n",
      "Prediction performed in 0.0989847183227539 seconds.\n"
     ]
    },
    {
     "name": "stderr",
     "output_type": "stream",
     "text": [
      "Uploading predictions:  80%|████████  | 279/348 [00:40<00:10,  6.66it/s]"
     ]
    },
    {
     "name": "stdout",
     "output_type": "stream",
     "text": [
      "Prediction performed in 0.13127517700195312 seconds.\n",
      "Prediction performed in 0.10938858985900879 seconds.\n"
     ]
    },
    {
     "name": "stderr",
     "output_type": "stream",
     "text": [
      "Uploading predictions:  81%|████████  | 281/348 [00:41<00:09,  6.73it/s]"
     ]
    },
    {
     "name": "stdout",
     "output_type": "stream",
     "text": [
      "Prediction performed in 0.10938382148742676 seconds.\n",
      "Prediction performed in 0.09375691413879395 seconds.\n"
     ]
    },
    {
     "name": "stderr",
     "output_type": "stream",
     "text": [
      "Uploading predictions:  81%|████████▏ | 283/348 [00:41<00:09,  6.91it/s]"
     ]
    },
    {
     "name": "stdout",
     "output_type": "stream",
     "text": [
      "Prediction performed in 0.10987687110900879 seconds.\n",
      "Prediction performed in 0.09375762939453125 seconds.\n"
     ]
    },
    {
     "name": "stderr",
     "output_type": "stream",
     "text": [
      "Uploading predictions:  82%|████████▏ | 285/348 [00:41<00:08,  7.08it/s]"
     ]
    },
    {
     "name": "stdout",
     "output_type": "stream",
     "text": [
      "Prediction performed in 0.10938382148742676 seconds.\n",
      "Prediction performed in 0.09375762939453125 seconds.\n"
     ]
    },
    {
     "name": "stderr",
     "output_type": "stream",
     "text": [
      "Uploading predictions:  82%|████████▏ | 287/348 [00:41<00:08,  6.94it/s]"
     ]
    },
    {
     "name": "stdout",
     "output_type": "stream",
     "text": [
      "Prediction performed in 0.09375786781311035 seconds.\n",
      "Prediction performed in 0.09375786781311035 seconds.\n"
     ]
    },
    {
     "name": "stderr",
     "output_type": "stream",
     "text": [
      "Uploading predictions:  83%|████████▎ | 289/348 [00:42<00:08,  6.86it/s]"
     ]
    },
    {
     "name": "stdout",
     "output_type": "stream",
     "text": [
      "Prediction performed in 0.10938310623168945 seconds.\n",
      "Prediction performed in 0.09424638748168945 seconds.\n"
     ]
    },
    {
     "name": "stderr",
     "output_type": "stream",
     "text": [
      "Uploading predictions:  84%|████████▎ | 291/348 [00:42<00:07,  7.22it/s]"
     ]
    },
    {
     "name": "stdout",
     "output_type": "stream",
     "text": [
      "Prediction performed in 0.09375715255737305 seconds.\n",
      "Prediction performed in 0.09375810623168945 seconds.\n"
     ]
    },
    {
     "name": "stderr",
     "output_type": "stream",
     "text": [
      "Uploading predictions:  84%|████████▍ | 293/348 [00:42<00:07,  7.05it/s]"
     ]
    },
    {
     "name": "stdout",
     "output_type": "stream",
     "text": [
      "Prediction performed in 0.12500929832458496 seconds.\n",
      "Prediction performed in 0.09329652786254883 seconds.\n"
     ]
    },
    {
     "name": "stderr",
     "output_type": "stream",
     "text": [
      "Uploading predictions:  85%|████████▍ | 295/348 [00:43<00:07,  7.06it/s]"
     ]
    },
    {
     "name": "stdout",
     "output_type": "stream",
     "text": [
      "Prediction performed in 0.10392236709594727 seconds.\n",
      "Prediction performed in 0.10016107559204102 seconds.\n"
     ]
    },
    {
     "name": "stderr",
     "output_type": "stream",
     "text": [
      "Uploading predictions:  85%|████████▌ | 297/348 [00:43<00:07,  6.94it/s]"
     ]
    },
    {
     "name": "stdout",
     "output_type": "stream",
     "text": [
      "Prediction performed in 0.1202843189239502 seconds.\n",
      "Prediction performed in 0.09856724739074707 seconds.\n"
     ]
    },
    {
     "name": "stderr",
     "output_type": "stream",
     "text": [
      "Uploading predictions:  86%|████████▌ | 299/348 [00:43<00:07,  6.98it/s]"
     ]
    },
    {
     "name": "stdout",
     "output_type": "stream",
     "text": [
      "Prediction performed in 0.10454869270324707 seconds.\n",
      "Prediction performed in 0.10155105590820312 seconds.\n"
     ]
    },
    {
     "name": "stderr",
     "output_type": "stream",
     "text": [
      "Uploading predictions:  86%|████████▋ | 301/348 [00:43<00:06,  7.13it/s]"
     ]
    },
    {
     "name": "stdout",
     "output_type": "stream",
     "text": [
      "Prediction performed in 0.11483025550842285 seconds.\n",
      "Prediction performed in 0.095367431640625 seconds.\n"
     ]
    },
    {
     "name": "stderr",
     "output_type": "stream",
     "text": [
      "Uploading predictions:  87%|████████▋ | 303/348 [00:44<00:06,  6.93it/s]"
     ]
    },
    {
     "name": "stdout",
     "output_type": "stream",
     "text": [
      "Prediction performed in 0.11145877838134766 seconds.\n",
      "Prediction performed in 0.10118985176086426 seconds.\n"
     ]
    },
    {
     "name": "stderr",
     "output_type": "stream",
     "text": [
      "Uploading predictions:  88%|████████▊ | 305/348 [00:44<00:06,  7.00it/s]"
     ]
    },
    {
     "name": "stdout",
     "output_type": "stream",
     "text": [
      "Prediction performed in 0.10877060890197754 seconds.\n",
      "Prediction performed in 0.09567546844482422 seconds.\n"
     ]
    },
    {
     "name": "stderr",
     "output_type": "stream",
     "text": [
      "Uploading predictions:  88%|████████▊ | 307/348 [00:44<00:05,  7.18it/s]"
     ]
    },
    {
     "name": "stdout",
     "output_type": "stream",
     "text": [
      "Prediction performed in 0.10529136657714844 seconds.\n",
      "Prediction performed in 0.09375810623168945 seconds.\n"
     ]
    },
    {
     "name": "stderr",
     "output_type": "stream",
     "text": [
      "Uploading predictions:  89%|████████▉ | 309/348 [00:45<00:05,  7.04it/s]"
     ]
    },
    {
     "name": "stdout",
     "output_type": "stream",
     "text": [
      "Prediction performed in 0.12500977516174316 seconds.\n",
      "Prediction performed in 0.10511493682861328 seconds.\n"
     ]
    },
    {
     "name": "stderr",
     "output_type": "stream",
     "text": [
      "Uploading predictions:  89%|████████▉ | 311/348 [00:45<00:05,  7.08it/s]"
     ]
    },
    {
     "name": "stdout",
     "output_type": "stream",
     "text": [
      "Prediction performed in 0.1167287826538086 seconds.\n",
      "Prediction performed in 0.11156678199768066 seconds.\n"
     ]
    },
    {
     "name": "stderr",
     "output_type": "stream",
     "text": [
      "Uploading predictions:  90%|████████▉ | 313/348 [00:45<00:05,  6.89it/s]"
     ]
    },
    {
     "name": "stdout",
     "output_type": "stream",
     "text": [
      "Prediction performed in 0.12743401527404785 seconds.\n",
      "Prediction performed in 0.0833134651184082 seconds.\n"
     ]
    },
    {
     "name": "stderr",
     "output_type": "stream",
     "text": [
      "Uploading predictions:  91%|█████████ | 315/348 [00:45<00:04,  6.92it/s]"
     ]
    },
    {
     "name": "stdout",
     "output_type": "stream",
     "text": [
      "Prediction performed in 0.10445356369018555 seconds.\n",
      "Prediction performed in 0.10021710395812988 seconds.\n"
     ]
    },
    {
     "name": "stderr",
     "output_type": "stream",
     "text": [
      "Uploading predictions:  91%|█████████ | 317/348 [00:46<00:04,  6.93it/s]"
     ]
    },
    {
     "name": "stdout",
     "output_type": "stream",
     "text": [
      "Prediction performed in 0.11575651168823242 seconds.\n",
      "Prediction performed in 0.0966639518737793 seconds.\n"
     ]
    },
    {
     "name": "stderr",
     "output_type": "stream",
     "text": [
      "Uploading predictions:  92%|█████████▏| 319/348 [00:46<00:04,  6.83it/s]"
     ]
    },
    {
     "name": "stdout",
     "output_type": "stream",
     "text": [
      "Prediction performed in 0.12400221824645996 seconds.\n",
      "Prediction performed in 0.10156369209289551 seconds.\n"
     ]
    },
    {
     "name": "stderr",
     "output_type": "stream",
     "text": [
      "Uploading predictions:  92%|█████████▏| 321/348 [00:46<00:03,  6.89it/s]"
     ]
    },
    {
     "name": "stdout",
     "output_type": "stream",
     "text": [
      "Prediction performed in 0.10938382148742676 seconds.\n",
      "Prediction performed in 0.10908102989196777 seconds.\n"
     ]
    },
    {
     "name": "stderr",
     "output_type": "stream",
     "text": [
      "Uploading predictions:  93%|█████████▎| 323/348 [00:47<00:03,  7.06it/s]"
     ]
    },
    {
     "name": "stdout",
     "output_type": "stream",
     "text": [
      "Prediction performed in 0.10606884956359863 seconds.\n",
      "Prediction performed in 0.09997153282165527 seconds.\n"
     ]
    },
    {
     "name": "stderr",
     "output_type": "stream",
     "text": [
      "Uploading predictions:  93%|█████████▎| 325/348 [00:47<00:03,  6.98it/s]"
     ]
    },
    {
     "name": "stdout",
     "output_type": "stream",
     "text": [
      "Prediction performed in 0.12091207504272461 seconds.\n",
      "Prediction performed in 0.0939326286315918 seconds.\n"
     ]
    },
    {
     "name": "stderr",
     "output_type": "stream",
     "text": [
      "Uploading predictions:  94%|█████████▍| 327/348 [00:47<00:03,  6.98it/s]"
     ]
    },
    {
     "name": "stdout",
     "output_type": "stream",
     "text": [
      "Prediction performed in 0.10611534118652344 seconds.\n",
      "Prediction performed in 0.10170769691467285 seconds.\n"
     ]
    },
    {
     "name": "stderr",
     "output_type": "stream",
     "text": [
      "Uploading predictions:  95%|█████████▍| 329/348 [00:47<00:02,  6.97it/s]"
     ]
    },
    {
     "name": "stdout",
     "output_type": "stream",
     "text": [
      "Prediction performed in 0.11399507522583008 seconds.\n",
      "Prediction performed in 0.09681344032287598 seconds.\n"
     ]
    },
    {
     "name": "stderr",
     "output_type": "stream",
     "text": [
      "Uploading predictions:  95%|█████████▍| 330/348 [00:48<00:02,  6.83it/s]"
     ]
    },
    {
     "name": "stdout",
     "output_type": "stream",
     "text": [
      "Prediction performed in 0.10009503364562988 seconds.\n",
      "Prediction performed in 0.10435652732849121 seconds.\n"
     ]
    },
    {
     "name": "stderr",
     "output_type": "stream",
     "text": [
      "Uploading predictions:  96%|█████████▌| 333/348 [00:48<00:02,  6.69it/s]"
     ]
    },
    {
     "name": "stdout",
     "output_type": "stream",
     "text": [
      "Prediction performed in 0.11809277534484863 seconds.\n",
      "Prediction performed in 0.10812592506408691 seconds.\n"
     ]
    },
    {
     "name": "stderr",
     "output_type": "stream",
     "text": [
      "Uploading predictions:  96%|█████████▋| 335/348 [00:48<00:01,  6.86it/s]"
     ]
    },
    {
     "name": "stdout",
     "output_type": "stream",
     "text": [
      "Prediction performed in 0.10679769515991211 seconds.\n",
      "Prediction performed in 0.09293460845947266 seconds.\n"
     ]
    },
    {
     "name": "stderr",
     "output_type": "stream",
     "text": [
      "Uploading predictions:  97%|█████████▋| 337/348 [00:49<00:01,  6.99it/s]"
     ]
    },
    {
     "name": "stdout",
     "output_type": "stream",
     "text": [
      "Prediction performed in 0.1124114990234375 seconds.\n",
      "Prediction performed in 0.07969164848327637 seconds.\n"
     ]
    },
    {
     "name": "stderr",
     "output_type": "stream",
     "text": [
      "Uploading predictions:  97%|█████████▋| 338/348 [00:49<00:01,  6.96it/s]"
     ]
    },
    {
     "name": "stdout",
     "output_type": "stream",
     "text": [
      "Prediction performed in 0.09479284286499023 seconds.\n",
      "Prediction performed in 0.10145926475524902 seconds.\n"
     ]
    },
    {
     "name": "stderr",
     "output_type": "stream",
     "text": [
      "Uploading predictions:  98%|█████████▊| 341/348 [00:49<00:01,  6.60it/s]"
     ]
    },
    {
     "name": "stdout",
     "output_type": "stream",
     "text": [
      "Prediction performed in 0.11518740653991699 seconds.\n",
      "Prediction performed in 0.09807705879211426 seconds.\n"
     ]
    },
    {
     "name": "stderr",
     "output_type": "stream",
     "text": [
      "Uploading predictions:  99%|█████████▊| 343/348 [00:50<00:00,  6.88it/s]"
     ]
    },
    {
     "name": "stdout",
     "output_type": "stream",
     "text": [
      "Prediction performed in 0.09790325164794922 seconds.\n",
      "Prediction performed in 0.09995579719543457 seconds.\n"
     ]
    },
    {
     "name": "stderr",
     "output_type": "stream",
     "text": [
      "Uploading predictions:  99%|█████████▉| 345/348 [00:50<00:00,  7.03it/s]"
     ]
    },
    {
     "name": "stdout",
     "output_type": "stream",
     "text": [
      "Prediction performed in 0.12650203704833984 seconds.\n",
      "Prediction performed in 0.08656501770019531 seconds.\n"
     ]
    },
    {
     "name": "stderr",
     "output_type": "stream",
     "text": [
      "Uploading predictions: 100%|█████████▉| 347/348 [00:50<00:00,  6.69it/s]"
     ]
    },
    {
     "name": "stdout",
     "output_type": "stream",
     "text": [
      "Prediction performed in 0.12347793579101562 seconds.\n",
      "Prediction performed in 0.10241365432739258 seconds.\n"
     ]
    },
    {
     "name": "stderr",
     "output_type": "stream",
     "text": [
      "Uploading predictions: 100%|██████████| 348/348 [00:50<00:00,  6.85it/s]"
     ]
    },
    {
     "name": "stdout",
     "output_type": "stream",
     "text": [
      "Prediction performed in 0.11631298065185547 seconds.\n"
     ]
    },
    {
     "name": "stderr",
     "output_type": "stream",
     "text": [
      "\n"
     ]
    }
   ],
   "source": [
    "# provide correct alias, \"pt\", \"onnx\"\n",
    "aliases = [\"version6\", \"version5\"]\n",
    "project_id = 89 # insert correct project_id by loooking at the url\n",
    "for alias in aliases:\n",
    "    name = \"obb-detector\" # detector, \"obb-detector\"\n",
    "    handler = Annotator(mlflow_model_alias=alias,\n",
    "                        mlflow_model_name=name,\n",
    "                        confidence_threshold=0.25,\n",
    "                        is_yolo_obb=name.strip() == \"obb-detector\",\n",
    "                        dotenv_path=\"../.env\")\n",
    "    handler.upload_predictions(project_id=project_id)"
   ]
  },
  {
   "cell_type": "markdown",
   "metadata": {},
   "source": [
    "**Before running the script below, make sure that you have exported the annotations so you can revert back!!!**"
   ]
  },
  {
   "cell_type": "code",
   "execution_count": 59,
   "metadata": {},
   "outputs": [
    {
     "name": "stderr",
     "output_type": "stream",
     "text": [
      "02/15/2025 14:31:21 - INFO - datalabeling.annotator.models -   Computing device: cuda:0\n",
      "correcting annotations: 100%|██████████| 566/566 [00:31<00:00, 18.12it/s]\n"
     ]
    }
   ],
   "source": [
    "#  Cleaning annotations - NO WAY BACK\n",
    "name = \"obb-detector\"\n",
    "handler = Annotator(mlflow_model_alias=\"version6\",\n",
    "                        mlflow_model_name=name,\n",
    "                        confidence_threshold=0.25,\n",
    "                        is_yolo_obb=name.strip() == \"obb-detector\",\n",
    "                        dotenv_path=\"../.env\")\n",
    "\n",
    "# Select project\n",
    "project_id = 88\n",
    "project = handler.labelstudio_client.get_project(id=project_id)\n",
    "\n",
    "# Delete annotations saved with label \"wildlife\" assigned by the predictor\n",
    "tasks = project.get_tasks()\n",
    "for task in tqdm(tasks,desc=\"correcting annotations\"):\n",
    "        task_id = task['id']\n",
    "        img_url = task['data']['image']\n",
    "\n",
    "        if len(task[\"annotations\"][0]['result'])>1:\n",
    "            results_to_keep = []\n",
    "            annot_id = task[\"annotations\"][0][\"id\"]\n",
    "            for annot in task['annotations'][0]['result']:\n",
    "                if annot['value']['rectanglelabels'][0] != 'wildlife':\n",
    "                    results_to_keep.append(annot)\n",
    "                    # print(annot['value'],annot['id'],end=\"\\n\")\n",
    "            # print(f\"Updating annotations {annot_id} from task {task_id}.\")\n",
    "            # print(results_to_keep)\n",
    "            project.update_annotation(annot_id,result=results_to_keep)"
   ]
  },
  {
   "cell_type": "code",
   "execution_count": 55,
   "metadata": {},
   "outputs": [
    {
     "data": {
      "text/plain": [
       "(1, 8, 152009, 60568)"
      ]
     },
     "execution_count": 55,
     "metadata": {},
     "output_type": "execute_result"
    }
   ],
   "source": [
    "len(task['annotations']), len(task['annotations'][0]['result']), task['id'], task[\"annotations\"][0][\"id\"]"
   ]
  },
  {
   "cell_type": "code",
   "execution_count": 52,
   "metadata": {},
   "outputs": [
    {
     "data": {
      "text/plain": [
       "{'original_width': 4506,\n",
       " 'original_height': 2730,\n",
       " 'image_rotation': 0,\n",
       " 'value': {'x': 86.51410749209387,\n",
       "  'y': 43.134913182520606,\n",
       "  'width': 1.667947510957612,\n",
       "  'height': 2.548828125,\n",
       "  'rotation': 0,\n",
       "  'rectanglelabels': ['wildlife']},\n",
       " 'id': 'LXtHpQTq6J',\n",
       " 'from_name': 'label',\n",
       " 'to_name': 'image',\n",
       " 'type': 'rectanglelabels',\n",
       " 'origin': 'prediction',\n",
       " 'score': 0.24935585260391235}"
      ]
     },
     "execution_count": 52,
     "metadata": {},
     "output_type": "execute_result"
    }
   ],
   "source": [
    "task['annotations'][0]['result'][0] #['value']['rectanglelabels']"
   ]
  },
  {
   "cell_type": "code",
   "execution_count": 54,
   "metadata": {},
   "outputs": [],
   "source": [
    "results_to_keep = []\n",
    "for annot in task['annotations'][0]['result']:\n",
    "    if annot['value']['rectanglelabels'][0] != 'wildlife':\n",
    "        results_to_keep.append(annot)\n",
    "        print(annot['value'],annot['id'],end=\"\\n\")"
   ]
  },
  {
   "cell_type": "code",
   "execution_count": 48,
   "metadata": {},
   "outputs": [
    {
     "data": {
      "text/plain": [
       "[]"
      ]
     },
     "execution_count": 48,
     "metadata": {},
     "output_type": "execute_result"
    }
   ],
   "source": [
    "results_to_keep"
   ]
  },
  {
   "cell_type": "code",
   "execution_count": null,
   "metadata": {},
   "outputs": [
    {
     "name": "stderr",
     "output_type": "stream",
     "text": [
      "02/15/2025 13:51:57 - ERROR - label_studio_sdk._legacy.client -   \n",
      "--------------------------------------------\n",
      "Request URL: http://localhost:8080/api/annotations/LXtHpQTq6J\n",
      "Response status code: 404\n",
      "Response content:\n",
      "\n",
      "\n",
      "\n",
      "<!doctype html>\n",
      "<html lang=\"en\">\n",
      "<head>\n",
      "  <title>Label Studio</title>\n",
      "  <meta charset=\"utf-8\">\n",
      "  <meta name=\"author\" content=\"\"/>\n",
      "  <meta name=\"viewport\" content=\"width=device-width, initial-scale=0.9, shrink-to-fit=no\">\n",
      "\n",
      "  <!-- Address string color -->\n",
      "  <meta name=\"theme-color\" content=\"#272727\"> <!-- Chrome, Firefox OS and Opera -->\n",
      "  <meta name=\"msapplication-navbutton-color\" content=\"#272727\">  <!-- Windows Phone -->\n",
      "  <meta name=\"apple-mobile-web-app-status-bar-style\" content=\"#272727\">  <!-- iOS Safari -->\n",
      "\n",
      "  <link href=\"/static/images/favicon.8992b8aa4126.ico\" rel=\"shortcut icon\"/>\n",
      "  <link href=\"/static/css/main.cf908d032736.css\" rel=\"stylesheet\"/>\n",
      "  <link href=\"/react-app/main.css?v=d9b816\" rel=\"stylesheet\">\n",
      "\n",
      "  \n",
      "  <title>404 | Label Studio</title>\n",
      "  <link rel=\"stylesheet\" href=\"/static/css/error.5de8005851df.css\"/>\n",
      "\n",
      "</head>\n",
      "\n",
      "<body>\n",
      "\n",
      "<div class=\"ls-global-error\">\n",
      "  <h1>Server error</h1>\n",
      "  <img class=\"ls-global-error__heidi\" src=\"/static/images/opossum_broken.df8566d9c026.svg\" height=\"111\" alt=\"Heidi's down\" />\n",
      "  <h2>404 Not Found</h2>\n",
      "  <p class=\"ls-global-error__actions\">\n",
      "    <a class=\"ls-global-error__slack button\" target=\"_blank\" href=\"https://slack.labelstud.io/?source=product-404-error\">\n",
      "      <img src=\"/static/images/slack.86883b6a07a0.png\" width=\"16\" />\n",
      "      Ask on Slack\n",
      "    </a>\n",
      "    <button onClick=\"history.back()\">Go Back</button>\n",
      "    <button onClick=\"location.reload()\">Reload</button>\n",
      "  </p>\n",
      "</div>\n",
      "\n",
      "\n",
      "</body>\n",
      "</html>\n",
      "\n",
      "\n",
      "SDK error traceback:\n"
     ]
    },
    {
     "ename": "HTTPError",
     "evalue": "404 Client Error: Not Found for url: http://localhost:8080/api/annotations/LXtHpQTq6J",
     "output_type": "error",
     "traceback": [
      "\u001b[1;31m---------------------------------------------------------------------------\u001b[0m",
      "\u001b[1;31mHTTPError\u001b[0m                                 Traceback (most recent call last)",
      "Cell \u001b[1;32mIn[37], line 1\u001b[0m\n\u001b[1;32m----> 1\u001b[0m \u001b[43mproject\u001b[49m\u001b[38;5;241;43m.\u001b[39;49m\u001b[43mdelete_annotation\u001b[49m\u001b[43m(\u001b[49m\u001b[43mannotation_id\u001b[49m\u001b[38;5;241;43m=\u001b[39;49m\u001b[38;5;124;43m\"\u001b[39;49m\u001b[38;5;124;43mLXtHpQTq6J\u001b[39;49m\u001b[38;5;124;43m\"\u001b[39;49m\u001b[43m)\u001b[49m\n",
      "File \u001b[1;32mc:\\Users\\Machine Learning\\anaconda3\\envs\\label-backend\\Lib\\site-packages\\label_studio_sdk\\_legacy\\project.py:1273\u001b[0m, in \u001b[0;36mProject.delete_annotation\u001b[1;34m(self, annotation_id)\u001b[0m\n\u001b[0;32m   1259\u001b[0m \u001b[38;5;28;01mdef\u001b[39;00m \u001b[38;5;21mdelete_annotation\u001b[39m(\u001b[38;5;28mself\u001b[39m, annotation_id: \u001b[38;5;28mint\u001b[39m) \u001b[38;5;241m-\u001b[39m\u001b[38;5;241m>\u001b[39m \u001b[38;5;28mint\u001b[39m:\n\u001b[0;32m   1260\u001b[0m \u001b[38;5;250m    \u001b[39m\u001b[38;5;124;03m\"\"\"Delete an annotation using the annotation ID. This action can't be undone!\u001b[39;00m\n\u001b[0;32m   1261\u001b[0m \n\u001b[0;32m   1262\u001b[0m \u001b[38;5;124;03m    Parameters\u001b[39;00m\n\u001b[1;32m   (...)\u001b[0m\n\u001b[0;32m   1271\u001b[0m \n\u001b[0;32m   1272\u001b[0m \u001b[38;5;124;03m    \"\"\"\u001b[39;00m\n\u001b[1;32m-> 1273\u001b[0m     response \u001b[38;5;241m=\u001b[39m \u001b[38;5;28;43mself\u001b[39;49m\u001b[38;5;241;43m.\u001b[39;49m\u001b[43mmake_request\u001b[49m\u001b[43m(\u001b[49m\u001b[38;5;124;43m\"\u001b[39;49m\u001b[38;5;124;43mDELETE\u001b[39;49m\u001b[38;5;124;43m\"\u001b[39;49m\u001b[43m,\u001b[49m\u001b[43m \u001b[49m\u001b[38;5;124;43mf\u001b[39;49m\u001b[38;5;124;43m\"\u001b[39;49m\u001b[38;5;124;43m/api/annotations/\u001b[39;49m\u001b[38;5;132;43;01m{\u001b[39;49;00m\u001b[43mannotation_id\u001b[49m\u001b[38;5;132;43;01m}\u001b[39;49;00m\u001b[38;5;124;43m\"\u001b[39;49m\u001b[43m)\u001b[49m\n\u001b[0;32m   1274\u001b[0m     response\u001b[38;5;241m.\u001b[39mraise_for_status()\n\u001b[0;32m   1275\u001b[0m     \u001b[38;5;28;01mreturn\u001b[39;00m response\u001b[38;5;241m.\u001b[39mstatus_code\n",
      "File \u001b[1;32mc:\\Users\\Machine Learning\\anaconda3\\envs\\label-backend\\Lib\\site-packages\\label_studio_sdk\\_legacy\\client.py:448\u001b[0m, in \u001b[0;36mClient.make_request\u001b[1;34m(self, method, url, *args, **kwargs)\u001b[0m\n\u001b[0;32m    446\u001b[0m     \u001b[38;5;28;01mif\u001b[39;00m response\u001b[38;5;241m.\u001b[39mstatus_code \u001b[38;5;241m>\u001b[39m\u001b[38;5;241m=\u001b[39m \u001b[38;5;241m400\u001b[39m:\n\u001b[0;32m    447\u001b[0m         \u001b[38;5;28mself\u001b[39m\u001b[38;5;241m.\u001b[39mlog_response_error(response)\n\u001b[1;32m--> 448\u001b[0m         \u001b[43mresponse\u001b[49m\u001b[38;5;241;43m.\u001b[39;49m\u001b[43mraise_for_status\u001b[49m\u001b[43m(\u001b[49m\u001b[43m)\u001b[49m\n\u001b[0;32m    450\u001b[0m \u001b[38;5;28;01mreturn\u001b[39;00m response\n",
      "File \u001b[1;32mc:\\Users\\Machine Learning\\anaconda3\\envs\\label-backend\\Lib\\site-packages\\requests\\models.py:1021\u001b[0m, in \u001b[0;36mResponse.raise_for_status\u001b[1;34m(self)\u001b[0m\n\u001b[0;32m   1016\u001b[0m     http_error_msg \u001b[38;5;241m=\u001b[39m (\n\u001b[0;32m   1017\u001b[0m         \u001b[38;5;124mf\u001b[39m\u001b[38;5;124m\"\u001b[39m\u001b[38;5;132;01m{\u001b[39;00m\u001b[38;5;28mself\u001b[39m\u001b[38;5;241m.\u001b[39mstatus_code\u001b[38;5;132;01m}\u001b[39;00m\u001b[38;5;124m Server Error: \u001b[39m\u001b[38;5;132;01m{\u001b[39;00mreason\u001b[38;5;132;01m}\u001b[39;00m\u001b[38;5;124m for url: \u001b[39m\u001b[38;5;132;01m{\u001b[39;00m\u001b[38;5;28mself\u001b[39m\u001b[38;5;241m.\u001b[39murl\u001b[38;5;132;01m}\u001b[39;00m\u001b[38;5;124m\"\u001b[39m\n\u001b[0;32m   1018\u001b[0m     )\n\u001b[0;32m   1020\u001b[0m \u001b[38;5;28;01mif\u001b[39;00m http_error_msg:\n\u001b[1;32m-> 1021\u001b[0m     \u001b[38;5;28;01mraise\u001b[39;00m HTTPError(http_error_msg, response\u001b[38;5;241m=\u001b[39m\u001b[38;5;28mself\u001b[39m)\n",
      "\u001b[1;31mHTTPError\u001b[0m: 404 Client Error: Not Found for url: http://localhost:8080/api/annotations/LXtHpQTq6J"
     ]
    }
   ],
   "source": [
    "project.update_annotation(annotation_id=...,)"
   ]
  },
  {
   "cell_type": "markdown",
   "metadata": {},
   "source": [
    "To speed up inference on intel, make changes inn ultralytics/nn/autobackend.py:\n",
    "```\n",
    "- device_name = \"AUTO:NPU,GPU,CPU\" # CPU, GPU, NPU, AUTO,\"AUTO:GPU,NPU\"\n",
    "- inference_mode = \"LATENCY\" # OpenVINO inference modes are 'LATENCY', 'THROUGHPUT' (not recommended), or 'CUMULATIVE_THROUGHPUT'\n",
    "- LOGGER.info(f\"Using OpenVINO {inference_mode} mode for inference...\")\n",
    "- ov_compiled_model = core.compile_model(\n",
    "                ov_model,\n",
    "                device_name=device_name,  # AUTO selects best available device, do not modify\n",
    "                config={\"PERFORMANCE_HINT\": inference_mode,\n",
    "                        \"CACHE_DIR\": os.environ[\"OPENVINO_CACHE_MODEL\"]}, # make sure to set environment variable\n",
    "            )\n",
    "```"
   ]
  },
  {
   "cell_type": "code",
   "execution_count": null,
   "metadata": {},
   "outputs": [],
   "source": [
    "# using path_to_weights\n",
    "# go to ultralytics.nn.autobackend to modify ov_compiled device to \"AUTO:NPU,GPU,CPU\"\n",
    "\n",
    "use_sliding_window=True\n",
    "\n",
    "handler = Annotator(path_to_weights=r\"C:\\Users\\FADELCO\\OneDrive\\Bureau\\datalabeling\\models\\best_openvino_model\",\n",
    "                    is_yolo_obb=True,\n",
    "                    tilesize=1280,\n",
    "                    overlapratio=0.1,\n",
    "                    use_sliding_window=use_sliding_window,\n",
    "                    confidence_threshold=0.5,\n",
    "                    device=\"NPU\", # \"cpu\", \"cuda\"\n",
    "                    tag_to_append=f\"-sahi:{use_sliding_window}\",\n",
    "                    dotenv_path=\"../.env\")\n",
    "\n",
    "project_id = 3 # insert correct project_id by loooking at the url\n",
    "top_n=10\n",
    "handler.upload_predictions(project_id=project_id,top_n=top_n)"
   ]
  },
  {
   "cell_type": "code",
   "execution_count": null,
   "metadata": {},
   "outputs": [],
   "source": [
    "from label_studio_ml.utils import get_local_path\n",
    "from urllib.parse import unquote, quote\n",
    "import os\n",
    "path = unquote(\"/data/local-files/?d=savmap_dataset_v2%5Cimages_splits%5C003a34ee6b7841e6851b8fe511ebe102_0.JPG\")\n",
    "get_local_path(path,download_resources=False)#,os.path.exists(get_local_path(path))"
   ]
  },
  {
   "cell_type": "markdown",
   "metadata": {},
   "source": [
    "# Inference with Sahi"
   ]
  },
  {
   "cell_type": "code",
   "execution_count": null,
   "metadata": {},
   "outputs": [],
   "source": [
    "from ultralytics import YOLO\n",
    "from PIL import Image\n",
    "import time\n",
    "import numpy as np\n",
    "from datalabeling.annotator import Detector\n",
    "from dotenv import load_dotenv"
   ]
  },
  {
   "cell_type": "code",
   "execution_count": null,
   "metadata": {},
   "outputs": [],
   "source": [
    "# load env variable, loads model cache location!!\n",
    "load_dotenv('../.env')"
   ]
  },
  {
   "cell_type": "code",
   "execution_count": null,
   "metadata": {},
   "outputs": [],
   "source": [
    "IMAGE_PATH = r\"D:\\savmap_dataset_v2\\images_splits\\00a033fefe644429a1e0fcffe88f8b39_1.JPG\""
   ]
  },
  {
   "cell_type": "markdown",
   "metadata": {},
   "source": [
    "## Optimizing with Openvino"
   ]
  },
  {
   "cell_type": "markdown",
   "metadata": {},
   "source": [
    "To speed up inference on intel, make changes inn ultralytics/nn/autobackend.py:\n",
    "```\n",
    "- device_name = \"AUTO:NPU,GPU,CPU\" # CPU, GPU, NPU, AUTO,\"AUTO:GPU,NPU\"\n",
    "- inference_mode = \"LATENCY\" # OpenVINO inference modes are 'LATENCY', 'THROUGHPUT' (not recommended), or 'CUMULATIVE_THROUGHPUT'\n",
    "- LOGGER.info(f\"Using OpenVINO {inference_mode} mode for inference...\")\n",
    "- ov_compiled_model = core.compile_model(\n",
    "                ov_model,\n",
    "                device_name=device_name,  # AUTO selects best available device, do not modify\n",
    "                config={\"PERFORMANCE_HINT\": inference_mode,\n",
    "                        \"CACHE_DIR\": os.environ[\"OPENVINO_CACHE_MODEL\"]}, # make sure to set environment variable\n",
    "            )\n",
    "```"
   ]
  },
  {
   "cell_type": "code",
   "execution_count": null,
   "metadata": {},
   "outputs": [],
   "source": [
    "# Define detector\n",
    "# to speed up inference on intel, make\n",
    "model = Detector(path_to_weights=r\"C:\\Users\\FADELCO\\OneDrive\\Bureau\\datalabeling\\models\\best_openvino_model\",\n",
    "                confidence_threshold=0.1,\n",
    "                overlap_ratio=0.1,\n",
    "                tilesize=1280,\n",
    "                device='CPU',\n",
    "                use_sliding_window=False,\n",
    "                is_yolo_obb=True)"
   ]
  },
  {
   "cell_type": "code",
   "execution_count": null,
   "metadata": {},
   "outputs": [],
   "source": [
    "image = Image.open(IMAGE_PATH)\n",
    "\n",
    "while True:\n",
    "    start_time = time.perf_counter()\n",
    "    print(model.predict(image,return_coco=True,nms_iou=0.5))\n",
    "    end_time = time.perf_counter()\n",
    "    print(f\"Device took {end_time-start_time:.2f} seconds.\")\n",
    "\n",
    "    break"
   ]
  },
  {
   "cell_type": "code",
   "execution_count": null,
   "metadata": {},
   "outputs": [],
   "source": [
    "# inference with openvino\n",
    "import openvino as ov\n",
    "import openvino.properties.hint as hints\n",
    "import torch\n",
    "import torchvision.transforms as F\n",
    "from ultralytics.utils import DEFAULT_CFG\n",
    "from ultralytics.cfg import get_cfg\n",
    "from ultralytics.data.converter import coco80_to_coco91_class\n",
    "\n",
    "# load validator\n",
    "args = get_cfg(cfg=DEFAULT_CFG)\n",
    "det_model = YOLO(r\"C:\\Users\\FADELCO\\OneDrive\\Bureau\\datalabeling\\models\\best.pt\")\n",
    "det_validator = det_model.task_map[det_model.task][\"validator\"](args=args)\n",
    "det_validator.is_coco = True\n",
    "det_validator.class_map = coco80_to_coco91_class()\n",
    "det_validator.names = det_model.model.names\n",
    "det_validator.metrics.names = det_validator.names\n",
    "det_validator.nc = det_model.model.model[-1].nc\n",
    "det_validator.stride = 32\n",
    "args = get_cfg(cfg=DEFAULT_CFG)\n",
    "det_model = YOLO(r\"C:\\Users\\FADELCO\\OneDrive\\Bureau\\datalabeling\\models\\best.pt\")\n",
    "\n",
    "core = ov.Core()\n",
    "det_model_path = r\"C:\\Users\\FADELCO\\OneDrive\\Bureau\\datalabeling\\models\\best_openvino_model\\best.xml\"\n",
    "det_ov_model = core.read_model(det_model_path)\n",
    "\n",
    "device = \"AUTO:NPU,GPU\" # CPU, NPU, GPU \"AUTO:NPU,GPU,CPU\" \n",
    "\n",
    "print(\"Available core devices: \",core.available_devices)\n",
    "\n",
    "# reshaping for batch prediction\n",
    "input_layer = det_ov_model.input(0)\n",
    "output_layer = det_ov_model.output(0)\n",
    "new_shape = ov.PartialShape([1, 3, 1280, 1280])\n",
    "det_ov_model.reshape({input_layer.any_name: new_shape})\n",
    "\n",
    "ov_config = {hints.performance_mode: hints.PerformanceMode.THROUGHPUT,\n",
    "             \"CACHE_DIR\": '../models/model_cache'}\n",
    "\n",
    "if (\"GPU\" in core.available_devices) and device==\"GPU\":\n",
    "    ov_config[\"GPU_DISABLE_WINOGRAD_CONVOLUTION\"] = \"YES\"\n",
    "det_compiled_model = core.compile_model(det_ov_model, device, ov_config)\n",
    "\n",
    "def infer(image):\n",
    "    image = det_validator.preprocess({\"img\":image,\"batch_idx\":torch.Tensor([0]),\n",
    "                                      \"cls\":torch.Tensor([0]),\n",
    "                                      \"bboxes\":torch.Tensor([0.,0.,0.,0.])})[\"img\"]\n",
    "    results = det_compiled_model(image)\n",
    "    preds = torch.from_numpy(results[det_compiled_model.output(0)])\n",
    "    return det_validator.postprocess(preds) #torch.from_numpy(result[0])"
   ]
  },
  {
   "cell_type": "code",
   "execution_count": null,
   "metadata": {},
   "outputs": [],
   "source": [
    "# image = Image.open(IMAGE_PATH)\n",
    "# image = F.PILToTensor()(image)[None,:,:1280,:1280]\n",
    "# infer(image)"
   ]
  },
  {
   "cell_type": "code",
   "execution_count": null,
   "metadata": {},
   "outputs": [],
   "source": [
    "# inference with pt\n",
    "# model = YOLO(r\"C:\\Users\\FADELCO\\OneDrive\\Bureau\\datalabeling\\models\\best.pt\",task='obb')"
   ]
  },
  {
   "cell_type": "code",
   "execution_count": null,
   "metadata": {},
   "outputs": [],
   "source": [
    "# rescaling input images\n",
    "# model(image/255.)"
   ]
  },
  {
   "cell_type": "code",
   "execution_count": null,
   "metadata": {},
   "outputs": [],
   "source": [
    "# inference with openvino\n",
    "# model_vino = YOLO(r\"C:\\Users\\FADELCO\\OneDrive\\Bureau\\datalabeling\\models\\best_openvino_model\",task='obb')\n",
    "# model_vino(image/255.)"
   ]
  },
  {
   "cell_type": "code",
   "execution_count": null,
   "metadata": {},
   "outputs": [],
   "source": [
    "# sahi_model_obb = Detector(path_to_weights=r\"C:\\Users\\FADELCO\\OneDrive\\Bureau\\datalabeling\\models\\best_openvino_model\",\n",
    "#                     confidence_threshold=0.6,\n",
    "#                     overlap_ratio=0.1,\n",
    "#                     tilesize=640,\n",
    "#                     is_yolo_obb=True)"
   ]
  },
  {
   "cell_type": "code",
   "execution_count": null,
   "metadata": {},
   "outputs": [],
   "source": [
    "# image_path = r\"D:\\savmap_dataset_v2\\images\\0d1ba3c424ad4414ac37dbd0c93460ea.JPG\"\n",
    "# image = Image.open(image_path)\n",
    "# print(image.size)"
   ]
  },
  {
   "cell_type": "code",
   "execution_count": null,
   "metadata": {},
   "outputs": [],
   "source": [
    "# result = sahi_model_obb.predict(image,False)"
   ]
  },
  {
   "cell_type": "code",
   "execution_count": null,
   "metadata": {},
   "outputs": [],
   "source": [
    "# result\n",
    "# result.export_visuals('../.tmp')"
   ]
  },
  {
   "cell_type": "markdown",
   "metadata": {},
   "source": [
    "## Sahi inference calibration"
   ]
  },
  {
   "cell_type": "code",
   "execution_count": null,
   "metadata": {},
   "outputs": [],
   "source": [
    "from itertools import product"
   ]
  },
  {
   "cell_type": "code",
   "execution_count": null,
   "metadata": {},
   "outputs": [],
   "source": []
  },
  {
   "cell_type": "code",
   "execution_count": null,
   "metadata": {},
   "outputs": [],
   "source": [
    "# hyperparams\n",
    "overlap_ratios = [0.1,0.2,0.3]\n",
    "tilesizes = [640,2*640,3*640]\n",
    "imgsz = [640,2*640,3*640]\n",
    "\n",
    "for ratio, tilesize, image_size in product(overlap_ratios,tilesizes,imgsz):\n",
    "    print(ratio,tilesize,image_size)\n",
    "    # Define detector\n",
    "    # to speed up inference on intel, make\n",
    "    model = Detector(path_to_weights=r\"C:\\Users\\FADELCO\\OneDrive\\Bureau\\datalabeling\\models\\best_openvino_model\",\n",
    "                    confidence_threshold=0.1,\n",
    "                    overlap_ratio=0.1,\n",
    "                    tilesize=2000,\n",
    "                    imgsz=1280,\n",
    "                    device='CPU',\n",
    "                    use_sliding_window=True,\n",
    "                    is_yolo_obb=True)\n",
    "    \n",
    "    #TODO\n"
   ]
  },
  {
   "cell_type": "code",
   "execution_count": null,
   "metadata": {},
   "outputs": [],
   "source": []
  },
  {
   "cell_type": "markdown",
   "metadata": {},
   "source": [
    "# YOLO data_config.yaml "
   ]
  },
  {
   "cell_type": "code",
   "execution_count": null,
   "metadata": {},
   "outputs": [],
   "source": [
    "import yaml\n",
    "import json\n",
    "from arguments import Arguments"
   ]
  },
  {
   "cell_type": "code",
   "execution_count": null,
   "metadata": {},
   "outputs": [],
   "source": [
    "# load yaml\n",
    "with open(r\"D:\\PhD\\Data per camp\\IdentificationDataset\\data_config.yaml\",'r') as file:\n",
    "    yolo_config = yaml.load(file,Loader=yaml.FullLoader)\n",
    "yolo_config"
   ]
  },
  {
   "cell_type": "code",
   "execution_count": null,
   "metadata": {},
   "outputs": [],
   "source": [
    "# load label mapping\n",
    "args = Arguments()\n",
    "with open(r\"D:\\PhD\\Data per camp\\IdentificationDataset\\label_mapping.json\",'r') as file:\n",
    "    label_map = json.load(file)\n",
    "names = [p['name'] for p in label_map if p['name'] not in args.discard_labels ]\n",
    "label_map = dict(zip(range(len(names)),names))\n",
    "label_map"
   ]
  },
  {
   "cell_type": "code",
   "execution_count": null,
   "metadata": {},
   "outputs": [],
   "source": [
    "yolo_config.update({'names':label_map,'nc':len(label_map)})\n",
    "yolo_config"
   ]
  },
  {
   "cell_type": "code",
   "execution_count": null,
   "metadata": {},
   "outputs": [],
   "source": [
    "with open(r\"D:\\PhD\\Data per camp\\IdentificationDataset\\data_config.yaml\",'w') as file:\n",
    "    yaml.dump(yolo_config,file,default_flow_style=False, sort_keys=False)"
   ]
  },
  {
   "cell_type": "markdown",
   "metadata": {},
   "source": [
    "# Dataset distribution"
   ]
  },
  {
   "cell_type": "markdown",
   "metadata": {},
   "source": [
    "## Visualize distribution per annotation project"
   ]
  },
  {
   "cell_type": "code",
   "execution_count": null,
   "metadata": {},
   "outputs": [],
   "source": [
    "from datalabeling.dataset import convert_json_annotations_to_coco, load_coco_annotations\n",
    "from pathlib import Path\n",
    "import json\n",
    "import pandas as pd\n",
    "from collections import Counter\n",
    "from dotenv import load_dotenv\n",
    "from label_studio_sdk import Client\n",
    "# from itertools import chain\n",
    "import os"
   ]
  },
  {
   "cell_type": "code",
   "execution_count": 2,
   "metadata": {},
   "outputs": [],
   "source": [
    "dotenv_path=r\"..\\.env\"\n",
    "load_dotenv(dotenv_path=dotenv_path)\n",
    "# Connect to the Label Studio API and check the connection\n",
    "LABEL_STUDIO_URL = os.getenv('LABEL_STUDIO_URL')\n",
    "API_KEY = os.getenv(\"LABEL_STUDIO_API_KEY\")\n",
    "labelstudio_client = Client(url=LABEL_STUDIO_URL, api_key=API_KEY)"
   ]
  },
  {
   "cell_type": "code",
   "execution_count": 7,
   "metadata": {},
   "outputs": [
    {
     "name": "stdout",
     "output_type": "stream",
     "text": [
      "Number of instances for each label is:\n",
      " {'impala': 5, 'wildebeest': 568, 'zebra': 1045, 'reedbuck': 1, 'lechwe': 392, 'buffalo': 397, 'wildlife': 3}\n",
      "\n",
      "Number of images for each label is:\n",
      " {'zebra': 93, 'buffalo': 18, 'wildlife': 3, 'reedbuck': 1, 'impala': 3, 'lechwe': 26, 'wildebeest': 44}\n"
     ]
    }
   ],
   "source": [
    "project_id = 69 # project id\n",
    "project = labelstudio_client.get_project(id=project_id)\n",
    "\n",
    "# \n",
    "num_images = dict()\n",
    "\n",
    "# Iterating \n",
    "tasks = project.get_tasks()\n",
    "annotator_id = 0\n",
    "labels = []\n",
    "for task in tasks:\n",
    "    result = task['annotations'][0]['result']\n",
    "    img_labels = []\n",
    "    for annot in result:\n",
    "        img_labels = annot['value']['rectanglelabels'] + img_labels\n",
    "    labels = labels + img_labels\n",
    "    # update stats holder\n",
    "    for label in set(img_labels):\n",
    "        try:\n",
    "            num_images[label] += 1\n",
    "        except:\n",
    "            num_images[label] = 1\n",
    "\n",
    "stats = {f\"{k}\":labels.count(k) for k in set(labels)}\n",
    "print(\"Number of instances for each label is:\\n\",stats,end=\"\\n\\n\")\n",
    "print(\"Number of images for each label is:\\n\",num_images)\n"
   ]
  },
  {
   "cell_type": "code",
   "execution_count": null,
   "metadata": {},
   "outputs": [],
   "source": [
    "ls_dir = r\"D:\\PhD\\Data per camp\\Exported annotations and labels\\Wet season - Rep 1\\all\\labelstudio\"\n",
    "dest_dir = Path(ls_dir).with_name(\"coco-format\")\n",
    "save_excel_path = Path(ls_dir).with_name(\"stats.xlsx\")\n",
    "\n",
    "# Uncomment to run if needed\n",
    "# convert_json_annotations_to_coco(input_dir=ls_dir,\n",
    "#                                  dest_dir_coco=str(dest_dir),\n",
    "#                                  ls_client=labelstudio_client,\n",
    "#                                  parse_ls_config=True)"
   ]
  },
  {
   "cell_type": "code",
   "execution_count": null,
   "metadata": {},
   "outputs": [],
   "source": [
    "coco_annotations_dict = load_coco_annotations(dest_dir)\n",
    "coco_annotations_dict"
   ]
  },
  {
   "cell_type": "code",
   "execution_count": null,
   "metadata": {},
   "outputs": [],
   "source": [
    "def get_labels_count(coco_annotation:dict):\n",
    "\n",
    "    result = Counter([annot['category_id'] for annot in coco_annotation['annotations']])\n",
    "\n",
    "    label_map = {cat['id']:cat['name'] for cat in coco_annotation['categories']}\n",
    "\n",
    "    result = {label_map[k]:v for k,v in result.items()}\n",
    "\n",
    "    return result\n",
    "\n",
    "label_stats = dict()\n",
    "\n",
    "for img_dir,coco_path in coco_annotations_dict.items():\n",
    "\n",
    "    with open(coco_path,'r') as f:\n",
    "        coco_annotation = json.load(fp=f)\n",
    "    \n",
    "    label_stats[img_dir] = get_labels_count(coco_annotation)\n",
    "\n",
    "label_stats = pd.DataFrame.from_dict(label_stats,orient='index').fillna(0)"
   ]
  },
  {
   "cell_type": "code",
   "execution_count": null,
   "metadata": {},
   "outputs": [],
   "source": [
    "label_stats"
   ]
  },
  {
   "cell_type": "code",
   "execution_count": null,
   "metadata": {},
   "outputs": [],
   "source": [
    "# uncomment to save\n",
    "label_stats.to_excel(save_excel_path)"
   ]
  },
  {
   "cell_type": "markdown",
   "metadata": {},
   "source": [
    "## Visualize splits' distribution"
   ]
  },
  {
   "cell_type": "code",
   "execution_count": null,
   "metadata": {},
   "outputs": [],
   "source": [
    "import yaml\n",
    "import pandas as pd\n",
    "import os\n",
    "from pathlib import Path"
   ]
  },
  {
   "cell_type": "code",
   "execution_count": null,
   "metadata": {},
   "outputs": [],
   "source": [
    "# load yaml\n",
    "with open(r\"D:\\PhD\\Data per camp\\Extra training data\\WAID\\data_config.yaml\",'r') as file:\n",
    "    yolo_config = yaml.load(file,Loader=yaml.FullLoader)\n",
    "yolo_config"
   ]
  },
  {
   "cell_type": "code",
   "execution_count": null,
   "metadata": {},
   "outputs": [],
   "source": [
    "label_map = yolo_config['names']"
   ]
  },
  {
   "cell_type": "code",
   "execution_count": null,
   "metadata": {},
   "outputs": [],
   "source": [
    "split = 'train'\n",
    "\n",
    "path_dataset = os.path.join(yolo_config['path'],yolo_config[split][0])\n",
    "path_dataset = path_dataset.replace('images','labels')\n",
    "\n",
    "path_dataset"
   ]
  },
  {
   "cell_type": "code",
   "execution_count": null,
   "metadata": {},
   "outputs": [],
   "source": [
    "labels = list()\n",
    "\n",
    "for txtfile in Path(path_dataset).glob(\"*.txt\"):\n",
    "\n",
    "    df = pd.read_csv(txtfile,sep=\" \",names = ['class','x','y','w','h'] )\n",
    "    df['class'] = df['class'].astype(int)    \n",
    "    df['image'] = txtfile.stem\n",
    "    labels.append(df)\n"
   ]
  },
  {
   "cell_type": "code",
   "execution_count": null,
   "metadata": {},
   "outputs": [],
   "source": [
    "df = pd.concat(labels,axis=0)\n",
    "df['class'] = df['class'].map(label_map)"
   ]
  },
  {
   "cell_type": "code",
   "execution_count": null,
   "metadata": {},
   "outputs": [],
   "source": [
    "images_per_class = dict()\n",
    "for cls in df['class'].unique():\n",
    "    num_imge = df.loc[df['class'] == cls,'image'].unique().shape[0]\n",
    "    images_per_class[cls] = num_imge"
   ]
  },
  {
   "cell_type": "code",
   "execution_count": null,
   "metadata": {},
   "outputs": [],
   "source": [
    "print(\"Split:\", split)\n",
    "print(images_per_class)"
   ]
  },
  {
   "cell_type": "code",
   "execution_count": null,
   "metadata": {},
   "outputs": [],
   "source": [
    "print('Split:',split)\n",
    "print(df['class'].value_counts())"
   ]
  },
  {
   "cell_type": "code",
   "execution_count": null,
   "metadata": {},
   "outputs": [],
   "source": [
    "df['class'].value_counts().plot(kind='bar',figsize=(10,5),logy=True,title=f\"{split} label distribution\")"
   ]
  },
  {
   "cell_type": "markdown",
   "metadata": {},
   "source": [
    "# Computing metrics on Validation set"
   ]
  },
  {
   "cell_type": "code",
   "execution_count": null,
   "metadata": {},
   "outputs": [],
   "source": [
    "from ultralytics import YOLO\n",
    "# from pathlib import Path\n",
    "import torch"
   ]
  },
  {
   "cell_type": "code",
   "execution_count": null,
   "metadata": {},
   "outputs": [],
   "source": [
    "# Load a model\n",
    "path = r\"C:\\Users\\fadel\\OneDrive\\Bureau\\WILD-AI\\datalabeling\\base_models_weights\\yolov8-wildai-obb.pt\"\n",
    "# path = r\"C:\\Users\\fadel\\OneDrive\\Bureau\\WILD-AI\\datalabeling\\base_models_weights\\yolov5su.pt\"\n",
    "model = YOLO(path)  "
   ]
  },
  {
   "cell_type": "code",
   "execution_count": null,
   "metadata": {},
   "outputs": [],
   "source": [
    "pred = model.predict(r\"C:\\Users\\fadel\\OneDrive\\Bureau\\WILD-AI\\datalabeling\\data\\train_wildai\\images\\01f1653a94f14044bf11d78c5b4221d1.JPG\")"
   ]
  },
  {
   "cell_type": "code",
   "execution_count": null,
   "metadata": {},
   "outputs": [],
   "source": [
    "[result.obb for result in pred]"
   ]
  },
  {
   "cell_type": "code",
   "execution_count": null,
   "metadata": {},
   "outputs": [],
   "source": [
    "pred[0].obb.xyxy"
   ]
  },
  {
   "cell_type": "code",
   "execution_count": null,
   "metadata": {},
   "outputs": [],
   "source": [
    "pred[0].obb.cls"
   ]
  },
  {
   "cell_type": "code",
   "execution_count": null,
   "metadata": {},
   "outputs": [],
   "source": [
    "pred[0].obb.conf"
   ]
  },
  {
   "cell_type": "code",
   "execution_count": null,
   "metadata": {},
   "outputs": [],
   "source": [
    "# Customize validation settings\n",
    "validation_results = model.val(data=r\"C:\\Users\\fadel\\OneDrive\\Bureau\\WILD-AI\\datalabeling\\data\\data_config.yaml\",\n",
    "                                imgsz=640,\n",
    "                                batch=8,\n",
    "                                conf=0.25,\n",
    "                                iou=0.5,\n",
    "                                device=\"cpu\")"
   ]
  },
  {
   "cell_type": "code",
   "execution_count": null,
   "metadata": {},
   "outputs": [],
   "source": [
    "# Compute predictions\n",
    "from datalabeling.annotator import Detector\n",
    "\n",
    "handler = Detector(path_to_weights=path,confidence_threshold=0.3)\n",
    "predictions = handler.predict_directory(r\"C:\\Users\\fadel\\OneDrive\\Bureau\\WILD-AI\\datalabeling\\data\\train_wildai\\images\")"
   ]
  },
  {
   "cell_type": "markdown",
   "metadata": {},
   "source": [
    "# Dataset label format conversion"
   ]
  },
  {
   "cell_type": "code",
   "execution_count": null,
   "metadata": {},
   "outputs": [],
   "source": [
    "import pandas as pd\n",
    "import numpy as np"
   ]
  },
  {
   "cell_type": "code",
   "execution_count": null,
   "metadata": {},
   "outputs": [],
   "source": [
    "def check_label_format(loaded_df:pd.DataFrame)->str:\n",
    "    \"\"\"checks label format\n",
    "\n",
    "    Args:\n",
    "        loaded_df (pd.DataFrame): target values\n",
    "\n",
    "    Raises:\n",
    "        NotImplementedError: when the format is not yolo or yolo-obb\n",
    "\n",
    "    Returns:\n",
    "        str: yolo or yolo-obb\n",
    "    \"\"\"\n",
    "\n",
    "    num_features = len(loaded_df.columns)\n",
    "\n",
    "    if num_features == 5:\n",
    "        return \"yolo\"\n",
    "    elif num_features == 9:\n",
    "        return \"yolo-obb\"\n",
    "    else:\n",
    "        raise NotImplementedError(f\"The number of features ({num_features}) in the label file is wrong. Check yolo or yolo-obb format.\")"
   ]
  },
  {
   "cell_type": "code",
   "execution_count": null,
   "metadata": {},
   "outputs": [],
   "source": [
    "label_path = r\"D:\\PhD\\Data per camp\\DetectionDataset\\Rep 1\\train\\labels\\DJI_20231002150401_0009_0_48_0_1271_640_1911.txt\"\n",
    "df = pd.read_csv(label_path,sep=' ',header=None)\n",
    "df"
   ]
  },
  {
   "cell_type": "code",
   "execution_count": null,
   "metadata": {},
   "outputs": [],
   "source": [
    "isinstance(df.iloc[:,0].dtype, np.dtypes.IntDType)"
   ]
  },
  {
   "cell_type": "code",
   "execution_count": null,
   "metadata": {},
   "outputs": [],
   "source": [
    "check_label_format(df)"
   ]
  },
  {
   "cell_type": "code",
   "execution_count": null,
   "metadata": {},
   "outputs": [],
   "source": [
    "len(df.columns)"
   ]
  },
  {
   "cell_type": "code",
   "execution_count": null,
   "metadata": {},
   "outputs": [],
   "source": [
    "df.columns = ['id','x1','y1','x2','y2','x3','y3','x4','y4']\n",
    "\n",
    "df"
   ]
  },
  {
   "cell_type": "markdown",
   "metadata": {},
   "source": [
    "# Debug"
   ]
  },
  {
   "cell_type": "code",
   "execution_count": 2,
   "metadata": {},
   "outputs": [],
   "source": [
    "from ultralytics import YOLO\n",
    "import yaml\n",
    "from datalabeling.arguments import Arguments\n",
    "import os, logging, traceback\n",
    "from pathlib import Path\n",
    "import pandas as pd\n",
    "import math"
   ]
  },
  {
   "cell_type": "code",
   "execution_count": 60,
   "metadata": {},
   "outputs": [],
   "source": [
    "def sample_pos_neg(images_paths:list,ratio:float,seed:int=41):\n",
    "\n",
    "    # build dataframe\n",
    "    is_empty = [1 - Path(str(p).replace('images','labels')).with_suffix('.txt').exists() for p in images_paths]\n",
    "    data = pd.DataFrame.from_dict({\"image_paths\":images_paths,\"is_empty\":is_empty},\n",
    "                                        orient=\"columns\")\n",
    "    # get empty and non empty\n",
    "    num_empty = (data[\"is_empty\"]==1).sum()\n",
    "    num_non_empty = len(data)-num_empty\n",
    "    if num_empty==0:\n",
    "        print(\"contains only positive samples\")\n",
    "    num_sampled_empty = min(math.floor(num_non_empty*ratio),num_empty)\n",
    "    sampled_empty = data.loc[data['is_empty']==1].sample(n=num_sampled_empty,random_state=seed)\n",
    "    # concatenate\n",
    "    sampled_data = pd.concat([sampled_empty,data.loc[data['is_empty']==0]])\n",
    "\n",
    "    print(f\"Sampling: pos={num_non_empty} & neg={num_sampled_empty}\",end=\"\\n\")\n",
    "\n",
    "    return sampled_data['image_paths'].to_list()\n",
    "\n",
    "\n",
    "def get_data_cfg_paths_for_cl(ratio:float,data_config_yaml:str,cl_save_dir:str,seed:int=41,split:str='train'):\n",
    "\n",
    "    with open(data_config_yaml,'r') as file:\n",
    "        yolo_config = yaml.load(file,Loader=yaml.FullLoader)\n",
    "\n",
    "    root = yolo_config[\"path\"]\n",
    "    train_dirs_images = [os.path.join(root,p) for p in yolo_config[split]]\n",
    "    \n",
    "    # sample positive and negative images\n",
    "    sampled_imgs_paths = []\n",
    "    for dir_images in train_dirs_images:\n",
    "        print(f\"Sampling positive and negative samples from {dir_images}\")\n",
    "        paths = sample_pos_neg(images_paths=list(Path(dir_images).iterdir()),\n",
    "                       ratio=ratio,\n",
    "                       seed=seed\n",
    "                       )\n",
    "        sampled_imgs_paths = sampled_imgs_paths + paths\n",
    "\n",
    "    \n",
    "    # save selected images in txt file\n",
    "    save_path_samples = os.path.join(cl_save_dir,f\"{split}_ratio_{ratio}-seed_{seed}.txt\")\n",
    "    pd.Series(sampled_imgs_paths).to_csv(save_path_samples,\n",
    "                                        index=False,header=False)\n",
    "    print(f\"Saving {len(sampled_imgs_paths)} sampled images.\")\n",
    "    # save config\n",
    "    if split == 'train':\n",
    "        cfg_dict = {'path':root,\n",
    "                    'names': yolo_config['names'],\n",
    "                    'train': os.path.relpath(save_path_samples,start=root),\n",
    "                    'val':   yolo_config['val'],\n",
    "                    'nc': yolo_config['nc'],\n",
    "                }\n",
    "    elif split == 'val':\n",
    "        cfg_dict = {'path':root,\n",
    "                    'names': yolo_config['names'],\n",
    "                    'val': os.path.relpath(save_path_samples,start=root),\n",
    "                    'train':   yolo_config['val'],\n",
    "                    'nc': yolo_config['nc'],\n",
    "                }\n",
    "    else:\n",
    "        raise NotImplementedError\n",
    "    save_path_cfg = Path(save_path_samples).with_suffix('.yml')\n",
    "    with open(save_path_cfg,'w') as file:\n",
    "        yaml.dump(cfg_dict,file)\n",
    "\n",
    "    print(f\"Saving samples at: {save_path_samples} and data_cfg at {save_path_cfg}\",end=\"\\n\\n\")\n",
    "\n",
    "    return save_path_cfg\n"
   ]
  },
  {
   "cell_type": "code",
   "execution_count": 61,
   "metadata": {},
   "outputs": [
    {
     "name": "stdout",
     "output_type": "stream",
     "text": [
      "Sampling positive and negative samples from D:\\PhD\\Data per camp\\DetectionDataset\\delplanque_tiled_data\\train_tiled\\images\n",
      "contains only positive samples\n",
      "Sampling: pos=4511 & neg=0\n",
      "Sampling positive and negative samples from D:\\PhD\\Data per camp\\DetectionDataset\\delplanque_tiled_data\\val_tiled\\images\n",
      "contains only positive samples\n",
      "Sampling: pos=636 & neg=0\n",
      "Sampling positive and negative samples from D:\\PhD\\Data per camp\\DetectionDataset\\Rep 1\\train\\images\n",
      "Sampling: pos=520 & neg=520\n",
      "Saving 6187 sampled images.\n",
      "Saving samples at: D:\\PhD\\Data per camp\\DetectionDataset\\continuous_learning\\train_ratio_1.0-seed_41.txt and data_cfg at D:\\PhD\\Data per camp\\DetectionDataset\\continuous_learning\\train_ratio_1.0-seed_41.yml\n",
      "\n"
     ]
    },
    {
     "data": {
      "text/plain": [
       "WindowsPath('D:/PhD/Data per camp/DetectionDataset/continuous_learning/train_ratio_1.0-seed_41.yml')"
      ]
     },
     "execution_count": 61,
     "metadata": {},
     "output_type": "execute_result"
    }
   ],
   "source": [
    "data_config_yaml=r\"C:\\Users\\Machine Learning\\Desktop\\workspace-wildAI\\datalabeling\\data\\dataset_1.yaml\"\n",
    "cl_save_dir = r\"D:\\PhD\\Data per camp\\DetectionDataset\\continuous_learning\"\n",
    "cl_cfg_path = get_data_cfg_paths_for_cl(ratio=1.,data_config_yaml=data_config_yaml,cl_save_dir=cl_save_dir,seed=41,split='train')\n",
    "cl_cfg_path\n"
   ]
  },
  {
   "cell_type": "code",
   "execution_count": 63,
   "metadata": {},
   "outputs": [
    {
     "name": "stdout",
     "output_type": "stream",
     "text": [
      "0.001 1 20 None\n",
      "0.005 2 5 10\n",
      "0.0001 5 5 15\n",
      "1e-05 10 5 20\n"
     ]
    }
   ],
   "source": [
    "for lr, ratio, num_epochs,freeze in zip((1e-3,5e-3,1e-4,1e-5),(1,2,5,10),(20,5,5,5),(None,10,15,20)):\n",
    "\n",
    "    print(lr, ratio, num_epochs, freeze)"
   ]
  }
 ],
 "metadata": {
  "kernelspec": {
   "display_name": "label-backend",
   "language": "python",
   "name": "python3"
  },
  "language_info": {
   "codemirror_mode": {
    "name": "ipython",
    "version": 3
   },
   "file_extension": ".py",
   "mimetype": "text/x-python",
   "name": "python",
   "nbconvert_exporter": "python",
   "pygments_lexer": "ipython3",
   "version": "3.12.2"
  },
  "orig_nbformat": 4
 },
 "nbformat": 4,
 "nbformat_minor": 2
}
