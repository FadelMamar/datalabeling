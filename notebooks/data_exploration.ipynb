{
 "cells": [
  {
   "cell_type": "markdown",
   "metadata": {},
   "source": [
    "# Image tiling for annotation"
   ]
  },
  {
   "cell_type": "markdown",
   "metadata": {},
   "source": [
    "#### Meanings of arguments\n",
    "- ```-ratioheight``` : proportion of tile  w.r.t height of image. Example 0.5 means dividing the image in two bands w.r.t height.\n",
    "- ```-ratiowidth``` : proportion of tile w.r.t to width of image. Example 1.0 means the width of the tile is the same as the image.\n",
    "- ```-overlapfactor``` : percentage of overlap. It should be less than 1.\n",
    "- ```-rmheight``` : percentage of height to remove or crop at bottom and top\n",
    "- ```-rmwidth``` : percentage of width to remove or crop on each side of the image\n",
    "- ```-pattern``` : \"**/*.JPG\" will get all .JPG images in directory and subdirectories. On windows it will get both .JPG and .jpg. On unix it will only get .JPG images\n"
   ]
  },
  {
   "cell_type": "code",
   "execution_count": 5,
   "metadata": {},
   "outputs": [
    {
     "name": "stderr",
     "output_type": "stream",
     "text": [
      "c:\\Users\\Machine Learning\\anaconda3\\envs\\label-backend\\Lib\\site-packages\\albumentations\\__init__.py:24: UserWarning: A new version of Albumentations is available: 2.0.4 (you have 1.4.21). Upgrade using: pip install -U albumentations. To disable automatic update checks, set the environment variable NO_ALBUMENTATIONS_UPDATE to 1.\n",
      "  check_for_updates()\n",
      "\n",
      "Exporting patches:   0%|          | 0/126 [00:00<?, ?it/s]\n",
      "Exporting patches:   1%|          | 1/126 [00:01<03:20,  1.60s/it]\n",
      "Exporting patches:   2%|▏         | 2/126 [00:03<03:20,  1.61s/it]\n",
      "Exporting patches:   2%|▏         | 3/126 [00:04<03:16,  1.59s/it]\n",
      "Exporting patches:   3%|▎         | 4/126 [00:06<03:16,  1.61s/it]\n",
      "Exporting patches:   4%|▍         | 5/126 [00:07<03:12,  1.59s/it]\n",
      "Exporting patches:   5%|▍         | 6/126 [00:09<03:11,  1.60s/it]\n",
      "Exporting patches:   6%|▌         | 7/126 [00:11<03:11,  1.61s/it]\n",
      "Exporting patches:   6%|▋         | 8/126 [00:12<03:10,  1.61s/it]\n",
      "Exporting patches:   7%|▋         | 9/126 [00:14<03:09,  1.62s/it]\n",
      "Exporting patches:   8%|▊         | 10/126 [00:16<03:07,  1.61s/it]\n",
      "Exporting patches:   9%|▊         | 11/126 [00:17<03:03,  1.60s/it]\n",
      "Exporting patches:  10%|▉         | 12/126 [00:19<03:05,  1.63s/it]\n",
      "Exporting patches:  10%|█         | 13/126 [00:20<03:02,  1.61s/it]\n",
      "Exporting patches:  11%|█         | 14/126 [00:22<03:01,  1.62s/it]\n",
      "Exporting patches:  12%|█▏        | 15/126 [00:24<03:00,  1.62s/it]\n",
      "Exporting patches:  13%|█▎        | 16/126 [00:25<02:58,  1.62s/it]\n",
      "Exporting patches:  13%|█▎        | 17/126 [00:27<02:57,  1.63s/it]\n",
      "Exporting patches:  14%|█▍        | 18/126 [00:29<02:58,  1.66s/it]\n",
      "Exporting patches:  15%|█▌        | 19/126 [00:30<02:55,  1.64s/it]\n",
      "Exporting patches:  16%|█▌        | 20/126 [00:32<02:53,  1.64s/it]\n",
      "Exporting patches:  17%|█▋        | 21/126 [00:34<02:51,  1.63s/it]\n",
      "Exporting patches:  17%|█▋        | 22/126 [00:35<02:50,  1.64s/it]\n",
      "Exporting patches:  18%|█▊        | 23/126 [00:37<02:51,  1.66s/it]\n",
      "Exporting patches:  19%|█▉        | 24/126 [00:39<02:50,  1.67s/it]\n",
      "Exporting patches:  20%|█▉        | 25/126 [00:40<02:48,  1.66s/it]\n",
      "Exporting patches:  21%|██        | 26/126 [00:42<02:46,  1.67s/it]\n",
      "Exporting patches:  21%|██▏       | 27/126 [00:44<02:43,  1.66s/it]\n",
      "Exporting patches:  22%|██▏       | 28/126 [00:45<02:41,  1.65s/it]\n",
      "Exporting patches:  23%|██▎       | 29/126 [00:47<02:40,  1.66s/it]\n",
      "Exporting patches:  24%|██▍       | 30/126 [00:48<02:38,  1.65s/it]\n",
      "Exporting patches:  25%|██▍       | 31/126 [00:50<02:36,  1.65s/it]\n",
      "Exporting patches:  25%|██▌       | 32/126 [00:52<02:35,  1.65s/it]\n",
      "Exporting patches:  26%|██▌       | 33/126 [00:53<02:33,  1.65s/it]\n",
      "Exporting patches:  27%|██▋       | 34/126 [00:55<02:31,  1.65s/it]\n",
      "Exporting patches:  28%|██▊       | 35/126 [00:57<02:30,  1.65s/it]\n",
      "Exporting patches:  29%|██▊       | 36/126 [00:58<02:29,  1.66s/it]\n",
      "Exporting patches:  29%|██▉       | 37/126 [01:00<02:27,  1.66s/it]\n",
      "Exporting patches:  30%|███       | 38/126 [01:02<02:25,  1.65s/it]\n",
      "Exporting patches:  31%|███       | 39/126 [01:03<02:23,  1.64s/it]\n",
      "Exporting patches:  32%|███▏      | 40/126 [01:05<02:20,  1.63s/it]\n",
      "Exporting patches:  33%|███▎      | 41/126 [01:07<02:18,  1.62s/it]\n",
      "Exporting patches:  33%|███▎      | 42/126 [01:08<02:14,  1.61s/it]\n",
      "Exporting patches:  34%|███▍      | 43/126 [01:10<02:13,  1.61s/it]\n",
      "Exporting patches:  35%|███▍      | 44/126 [01:11<02:11,  1.61s/it]\n",
      "Exporting patches:  36%|███▌      | 45/126 [01:13<02:10,  1.61s/it]\n",
      "Exporting patches:  37%|███▋      | 46/126 [01:15<02:08,  1.61s/it]\n",
      "Exporting patches:  37%|███▋      | 47/126 [01:16<02:06,  1.60s/it]\n",
      "Exporting patches:  38%|███▊      | 48/126 [01:18<02:06,  1.62s/it]\n",
      "Exporting patches:  39%|███▉      | 49/126 [01:19<02:04,  1.61s/it]\n",
      "Exporting patches:  40%|███▉      | 50/126 [01:21<02:02,  1.61s/it]\n",
      "Exporting patches:  40%|████      | 51/126 [01:23<02:01,  1.62s/it]\n",
      "Exporting patches:  41%|████▏     | 52/126 [01:24<01:58,  1.61s/it]\n",
      "Exporting patches:  42%|████▏     | 53/126 [01:26<01:57,  1.61s/it]\n",
      "Exporting patches:  43%|████▎     | 54/126 [01:27<01:54,  1.60s/it]\n",
      "Exporting patches:  44%|████▎     | 55/126 [01:29<01:53,  1.60s/it]\n",
      "Exporting patches:  44%|████▍     | 56/126 [01:31<01:52,  1.60s/it]\n",
      "Exporting patches:  45%|████▌     | 57/126 [01:32<01:50,  1.60s/it]\n",
      "Exporting patches:  46%|████▌     | 58/126 [01:34<01:49,  1.61s/it]\n",
      "Exporting patches:  47%|████▋     | 59/126 [01:35<01:46,  1.59s/it]\n",
      "Exporting patches:  48%|████▊     | 60/126 [01:37<01:44,  1.59s/it]\n",
      "Exporting patches:  48%|████▊     | 61/126 [01:39<01:42,  1.58s/it]\n",
      "Exporting patches:  49%|████▉     | 62/126 [01:40<01:40,  1.58s/it]\n",
      "Exporting patches:  50%|█████     | 63/126 [01:42<01:39,  1.58s/it]\n",
      "Exporting patches:  51%|█████     | 64/126 [01:43<01:37,  1.57s/it]\n",
      "Exporting patches:  52%|█████▏    | 65/126 [01:45<01:35,  1.57s/it]\n",
      "Exporting patches:  52%|█████▏    | 66/126 [01:46<01:33,  1.57s/it]\n",
      "Exporting patches:  53%|█████▎    | 67/126 [01:48<01:32,  1.57s/it]\n",
      "Exporting patches:  54%|█████▍    | 68/126 [01:49<01:30,  1.57s/it]\n",
      "Exporting patches:  55%|█████▍    | 69/126 [01:51<01:29,  1.56s/it]\n",
      "Exporting patches:  56%|█████▌    | 70/126 [01:53<01:28,  1.58s/it]\n",
      "Exporting patches:  56%|█████▋    | 71/126 [01:54<01:26,  1.57s/it]\n",
      "Exporting patches:  57%|█████▋    | 72/126 [01:56<01:25,  1.58s/it]\n",
      "Exporting patches:  58%|█████▊    | 73/126 [01:57<01:23,  1.57s/it]\n",
      "Exporting patches:  59%|█████▊    | 74/126 [01:59<01:21,  1.57s/it]\n",
      "Exporting patches:  60%|█████▉    | 75/126 [02:00<01:19,  1.56s/it]\n",
      "Exporting patches:  60%|██████    | 76/126 [02:02<01:17,  1.55s/it]\n",
      "Exporting patches:  61%|██████    | 77/126 [02:04<01:15,  1.54s/it]\n",
      "Exporting patches:  62%|██████▏   | 78/126 [02:05<01:14,  1.54s/it]\n",
      "Exporting patches:  63%|██████▎   | 79/126 [02:07<01:14,  1.58s/it]\n",
      "Exporting patches:  63%|██████▎   | 80/126 [02:08<01:12,  1.57s/it]\n",
      "Exporting patches:  64%|██████▍   | 81/126 [02:10<01:10,  1.57s/it]\n",
      "Exporting patches:  65%|██████▌   | 82/126 [02:11<01:08,  1.56s/it]\n",
      "Exporting patches:  66%|██████▌   | 83/126 [02:13<01:06,  1.56s/it]\n",
      "Exporting patches:  67%|██████▋   | 84/126 [02:14<01:05,  1.55s/it]\n",
      "Exporting patches:  67%|██████▋   | 85/126 [02:16<01:03,  1.55s/it]\n",
      "Exporting patches:  68%|██████▊   | 86/126 [02:18<01:01,  1.54s/it]\n",
      "Exporting patches:  69%|██████▉   | 87/126 [02:19<01:00,  1.54s/it]\n",
      "Exporting patches:  70%|██████▉   | 88/126 [02:21<00:58,  1.54s/it]\n",
      "Exporting patches:  71%|███████   | 89/126 [02:22<00:56,  1.54s/it]\n",
      "Exporting patches:  71%|███████▏  | 90/126 [02:24<00:55,  1.55s/it]\n",
      "Exporting patches:  72%|███████▏  | 91/126 [02:25<00:54,  1.54s/it]\n",
      "Exporting patches:  73%|███████▎  | 92/126 [02:27<00:52,  1.55s/it]\n",
      "Exporting patches:  74%|███████▍  | 93/126 [02:28<00:50,  1.54s/it]\n",
      "Exporting patches:  75%|███████▍  | 94/126 [02:30<00:49,  1.54s/it]\n",
      "Exporting patches:  75%|███████▌  | 95/126 [02:31<00:47,  1.53s/it]\n",
      "Exporting patches:  76%|███████▌  | 96/126 [02:33<00:46,  1.54s/it]\n",
      "Exporting patches:  77%|███████▋  | 97/126 [02:34<00:44,  1.54s/it]\n",
      "Exporting patches:  78%|███████▊  | 98/126 [02:36<00:43,  1.54s/it]\n",
      "Exporting patches:  79%|███████▊  | 99/126 [02:38<00:41,  1.55s/it]\n",
      "Exporting patches:  79%|███████▉  | 100/126 [02:39<00:40,  1.55s/it]\n",
      "Exporting patches:  80%|████████  | 101/126 [02:41<00:39,  1.56s/it]\n",
      "Exporting patches:  81%|████████  | 102/126 [02:42<00:37,  1.56s/it]\n",
      "Exporting patches:  82%|████████▏ | 103/126 [02:44<00:35,  1.56s/it]\n",
      "Exporting patches:  83%|████████▎ | 104/126 [02:45<00:34,  1.56s/it]\n",
      "Exporting patches:  83%|████████▎ | 105/126 [02:47<00:32,  1.56s/it]\n",
      "Exporting patches:  84%|████████▍ | 106/126 [02:49<00:31,  1.57s/it]\n",
      "Exporting patches:  85%|████████▍ | 107/126 [02:50<00:29,  1.57s/it]\n",
      "Exporting patches:  86%|████████▌ | 108/126 [02:52<00:28,  1.58s/it]\n",
      "Exporting patches:  87%|████████▋ | 109/126 [02:53<00:26,  1.56s/it]\n",
      "Exporting patches:  87%|████████▋ | 110/126 [02:55<00:25,  1.56s/it]\n",
      "Exporting patches:  88%|████████▊ | 111/126 [02:56<00:23,  1.55s/it]\n",
      "Exporting patches:  89%|████████▉ | 112/126 [02:58<00:21,  1.55s/it]\n",
      "Exporting patches:  90%|████████▉ | 113/126 [02:59<00:20,  1.55s/it]\n",
      "Exporting patches:  90%|█████████ | 114/126 [03:01<00:18,  1.54s/it]\n",
      "Exporting patches:  91%|█████████▏| 115/126 [03:03<00:16,  1.54s/it]\n",
      "Exporting patches:  92%|█████████▏| 116/126 [03:04<00:15,  1.55s/it]\n",
      "Exporting patches:  93%|█████████▎| 117/126 [03:06<00:14,  1.56s/it]\n",
      "Exporting patches:  94%|█████████▎| 118/126 [03:07<00:12,  1.56s/it]\n",
      "Exporting patches:  94%|█████████▍| 119/126 [03:09<00:11,  1.57s/it]\n",
      "Exporting patches:  95%|█████████▌| 120/126 [03:10<00:09,  1.57s/it]\n",
      "Exporting patches:  96%|█████████▌| 121/126 [03:12<00:07,  1.57s/it]\n",
      "Exporting patches:  97%|█████████▋| 122/126 [03:14<00:06,  1.56s/it]\n",
      "Exporting patches:  98%|█████████▊| 123/126 [03:15<00:04,  1.56s/it]\n",
      "Exporting patches:  98%|█████████▊| 124/126 [03:17<00:03,  1.56s/it]\n",
      "Exporting patches:  99%|█████████▉| 125/126 [03:18<00:01,  1.57s/it]\n",
      "Exporting patches: 100%|██████████| 126/126 [03:20<00:00,  1.58s/it]\n",
      "Exporting patches: 100%|██████████| 126/126 [03:20<00:00,  1.59s/it]\n"
     ]
    }
   ],
   "source": [
    "# New script for tiling data\n",
    "# images_to_tile = r\"D:\\PhD\\Data per camp\\Extra training data\\savmap_dataset_v2\\raw_data\\images\"\n",
    "# destination_directory = r\"D:\\PhD\\Data per camp\\Extra training data\\savmap_dataset_v2\\raw_data\\images-tiled\"\n",
    "!python ../../HerdNet/tools/patcher.py \"D:\\PhD\\Data per camp\\Wet season\\Leopard rock\\Camp 1_8+35-36\\Rep 3\" 0 0 0 -overlapfactor 0.1  -ratiowidth 0.5 -ratioheight 0.5 -rmheight 0 -rmwidth 0 -dest \"D:\\PhD\\Data per camp\\Wet season\\Leopard rock\\Camp 1_8+35-36\\Rep 3 - tiled\" -pattern \"**/*.JPG\""
   ]
  },
  {
   "cell_type": "markdown",
   "metadata": {},
   "source": [
    "# Pre-annotating data for Labelstudio"
   ]
  },
  {
   "cell_type": "code",
   "execution_count": 53,
   "metadata": {},
   "outputs": [],
   "source": [
    "from dotenv import load_dotenv\n",
    "load_dotenv('../.env')\n",
    "\n",
    "from datalabeling.annotator import Annotator\n",
    "import os\n",
    "from pathlib import Path\n",
    "import torch\n",
    "from tqdm import tqdm"
   ]
  },
  {
   "cell_type": "markdown",
   "metadata": {},
   "source": [
    "### Creating a JSON file to be uuploaded to Label studio"
   ]
  },
  {
   "cell_type": "code",
   "execution_count": null,
   "metadata": {},
   "outputs": [],
   "source": [
    "# Example\n",
    "# provide correct alias, \"pt\", \"onnx\"\n",
    "alias = \"last\" # the aliases are found in mlflow tracker UI, use \"last-1\" to use the previous model\n",
    "name = \"obb-detector\" # detector, \"obb-detector\"\n",
    "handler = Annotator(mlflow_model_alias=alias,\n",
    "                    mlflow_model_name=name,\n",
    "                    is_yolo_obb= name.strip() == \"obb-detector\",\n",
    "                    # dotenv_path=\"../.env\"\n",
    "                    )\n",
    "path_img_dir=r\"D:\\PhD\\Africa Parks\\Liuwa aerial survey_ALL\\CENSUS 2019\\DAY 2 CENSUS 2019_CONVERTED\\AP 2019 day 2 - tiled\"\n",
    "root=\"D:\\\\\"\n",
    "save_json_path = os.path.join(Path(path_img_dir).parent, f\"{Path(path_img_dir).name}_preannotation_label-studio.json\")\n",
    "\n",
    "# build and saves json\n",
    "directory_preds = handler.build_upload_json(path_img_dir=path_img_dir,\n",
    "                                            root=root,\n",
    "                                            save_json_path=save_json_path,\n",
    "                                            pattern=\"**/*.JPG\")"
   ]
  },
  {
   "cell_type": "markdown",
   "metadata": {},
   "source": [
    "### Pre-annotating an existing project using Label studio API\n",
    "It seems that it will not work well (i.e. filtering) with older projects created prior to Label studio software update.\n",
    "It is the **recommended way of pre-annotating data in Labelstudio**."
   ]
  },
  {
   "cell_type": "code",
   "execution_count": 4,
   "metadata": {},
   "outputs": [
    {
     "name": "stderr",
     "output_type": "stream",
     "text": [
      "02/14/2025 17:04:18 - INFO - datalabeling.annotator.models -   Computing device: cuda:0\n",
      "Uploading predictions:   0%|          | 1/566 [00:05<50:45,  5.39s/it]"
     ]
    },
    {
     "name": "stdout",
     "output_type": "stream",
     "text": [
      "Prediction performed in 5.326715707778931 seconds.\n"
     ]
    },
    {
     "name": "stderr",
     "output_type": "stream",
     "text": [
      "Uploading predictions:   0%|          | 2/566 [00:05<22:09,  2.36s/it]"
     ]
    },
    {
     "name": "stdout",
     "output_type": "stream",
     "text": [
      "Prediction performed in 0.18864798545837402 seconds.\n"
     ]
    },
    {
     "name": "stderr",
     "output_type": "stream",
     "text": [
      "Uploading predictions:   1%|          | 3/566 [00:05<12:57,  1.38s/it]"
     ]
    },
    {
     "name": "stdout",
     "output_type": "stream",
     "text": [
      "Prediction performed in 0.1875154972076416 seconds.\n",
      "Prediction performed in 0.12500977516174316 seconds.\n"
     ]
    },
    {
     "name": "stderr",
     "output_type": "stream",
     "text": [
      "Uploading predictions:   1%|          | 5/566 [00:06<05:52,  1.59it/s]"
     ]
    },
    {
     "name": "stdout",
     "output_type": "stream",
     "text": [
      "Prediction performed in 0.09375834465026855 seconds.\n",
      "Prediction performed in 0.10939788818359375 seconds.\n"
     ]
    },
    {
     "name": "stderr",
     "output_type": "stream",
     "text": [
      "Uploading predictions:   1%|          | 7/566 [00:06<03:21,  2.77it/s]"
     ]
    },
    {
     "name": "stdout",
     "output_type": "stream",
     "text": [
      "Prediction performed in 0.09375715255737305 seconds.\n",
      "Prediction performed in 0.1261124610900879 seconds.\n"
     ]
    },
    {
     "name": "stderr",
     "output_type": "stream",
     "text": [
      "Uploading predictions:   2%|▏         | 9/566 [00:06<02:20,  3.96it/s]"
     ]
    },
    {
     "name": "stdout",
     "output_type": "stream",
     "text": [
      "Prediction performed in 0.10938334465026855 seconds.\n",
      "Prediction performed in 0.10938334465026855 seconds.\n"
     ]
    },
    {
     "name": "stderr",
     "output_type": "stream",
     "text": [
      "Uploading predictions:   2%|▏         | 12/566 [00:07<01:43,  5.34it/s]"
     ]
    },
    {
     "name": "stdout",
     "output_type": "stream",
     "text": [
      "Prediction performed in 0.09375786781311035 seconds.\n",
      "Prediction performed in 0.11658000946044922 seconds.\n"
     ]
    },
    {
     "name": "stderr",
     "output_type": "stream",
     "text": [
      "Uploading predictions:   2%|▏         | 14/566 [00:07<01:32,  5.96it/s]"
     ]
    },
    {
     "name": "stdout",
     "output_type": "stream",
     "text": [
      "Prediction performed in 0.09960341453552246 seconds.\n",
      "Prediction performed in 0.11428594589233398 seconds.\n"
     ]
    },
    {
     "name": "stderr",
     "output_type": "stream",
     "text": [
      "Uploading predictions:   3%|▎         | 15/566 [00:07<01:28,  6.20it/s]"
     ]
    },
    {
     "name": "stdout",
     "output_type": "stream",
     "text": [
      "Prediction performed in 0.1029810905456543 seconds.\n",
      "Prediction performed in 0.11694169044494629 seconds.\n"
     ]
    },
    {
     "name": "stderr",
     "output_type": "stream",
     "text": [
      "Uploading predictions:   3%|▎         | 18/566 [00:08<01:25,  6.44it/s]"
     ]
    },
    {
     "name": "stdout",
     "output_type": "stream",
     "text": [
      "Prediction performed in 0.09891724586486816 seconds.\n",
      "Prediction performed in 0.11605429649353027 seconds.\n"
     ]
    },
    {
     "name": "stderr",
     "output_type": "stream",
     "text": [
      "Uploading predictions:   4%|▎         | 20/566 [00:08<01:25,  6.42it/s]"
     ]
    },
    {
     "name": "stdout",
     "output_type": "stream",
     "text": [
      "Prediction performed in 0.1060950756072998 seconds.\n",
      "Prediction performed in 0.10405445098876953 seconds.\n"
     ]
    },
    {
     "name": "stderr",
     "output_type": "stream",
     "text": [
      "Uploading predictions:   4%|▎         | 21/566 [00:08<01:26,  6.27it/s]"
     ]
    },
    {
     "name": "stdout",
     "output_type": "stream",
     "text": [
      "Prediction performed in 0.1107022762298584 seconds.\n",
      "Prediction performed in 0.11774277687072754 seconds.\n"
     ]
    },
    {
     "name": "stderr",
     "output_type": "stream",
     "text": [
      "Uploading predictions:   4%|▍         | 23/566 [00:08<01:30,  6.01it/s]"
     ]
    },
    {
     "name": "stdout",
     "output_type": "stream",
     "text": [
      "Prediction performed in 0.12425732612609863 seconds.\n",
      "Prediction performed in 0.12844204902648926 seconds.\n"
     ]
    },
    {
     "name": "stderr",
     "output_type": "stream",
     "text": [
      "Uploading predictions:   5%|▍         | 26/566 [00:09<01:24,  6.42it/s]"
     ]
    },
    {
     "name": "stdout",
     "output_type": "stream",
     "text": [
      "Prediction performed in 0.09687662124633789 seconds.\n",
      "Prediction performed in 0.10938334465026855 seconds.\n"
     ]
    },
    {
     "name": "stderr",
     "output_type": "stream",
     "text": [
      "Uploading predictions:   5%|▍         | 27/566 [00:09<01:24,  6.42it/s]"
     ]
    },
    {
     "name": "stdout",
     "output_type": "stream",
     "text": [
      "Prediction performed in 0.10938453674316406 seconds.\n",
      "Prediction performed in 0.12087488174438477 seconds.\n"
     ]
    },
    {
     "name": "stderr",
     "output_type": "stream",
     "text": [
      "Uploading predictions:   5%|▌         | 30/566 [00:10<01:25,  6.26it/s]"
     ]
    },
    {
     "name": "stdout",
     "output_type": "stream",
     "text": [
      "Prediction performed in 0.11109328269958496 seconds.\n",
      "Prediction performed in 0.11992979049682617 seconds.\n"
     ]
    },
    {
     "name": "stderr",
     "output_type": "stream",
     "text": [
      "Uploading predictions:   5%|▌         | 31/566 [00:10<01:28,  6.08it/s]"
     ]
    },
    {
     "name": "stdout",
     "output_type": "stream",
     "text": [
      "Prediction performed in 0.12670350074768066 seconds.\n",
      "Prediction performed in 0.12782955169677734 seconds.\n"
     ]
    },
    {
     "name": "stderr",
     "output_type": "stream",
     "text": [
      "Uploading predictions:   6%|▌         | 34/566 [00:10<01:24,  6.33it/s]"
     ]
    },
    {
     "name": "stdout",
     "output_type": "stream",
     "text": [
      "Prediction performed in 0.09375786781311035 seconds.\n",
      "Prediction performed in 0.10988521575927734 seconds.\n"
     ]
    },
    {
     "name": "stderr",
     "output_type": "stream",
     "text": [
      "Uploading predictions:   6%|▋         | 36/566 [00:10<01:20,  6.60it/s]"
     ]
    },
    {
     "name": "stdout",
     "output_type": "stream",
     "text": [
      "Prediction performed in 0.10843443870544434 seconds.\n",
      "Prediction performed in 0.1093602180480957 seconds.\n"
     ]
    },
    {
     "name": "stderr",
     "output_type": "stream",
     "text": [
      "Uploading predictions:   7%|▋         | 38/566 [00:11<01:19,  6.64it/s]"
     ]
    },
    {
     "name": "stdout",
     "output_type": "stream",
     "text": [
      "Prediction performed in 0.10938405990600586 seconds.\n",
      "Prediction performed in 0.10938405990600586 seconds.\n"
     ]
    },
    {
     "name": "stderr",
     "output_type": "stream",
     "text": [
      "Uploading predictions:   7%|▋         | 39/566 [00:11<01:20,  6.57it/s]"
     ]
    },
    {
     "name": "stdout",
     "output_type": "stream",
     "text": [
      "Prediction performed in 0.10938358306884766 seconds.\n",
      "Prediction performed in 0.10938429832458496 seconds.\n"
     ]
    },
    {
     "name": "stderr",
     "output_type": "stream",
     "text": [
      "Uploading predictions:   7%|▋         | 41/566 [00:11<01:18,  6.68it/s]"
     ]
    },
    {
     "name": "stdout",
     "output_type": "stream",
     "text": [
      "Prediction performed in 0.09378218650817871 seconds.\n",
      "Prediction performed in 0.10938382148742676 seconds.\n"
     ]
    },
    {
     "name": "stderr",
     "output_type": "stream",
     "text": [
      "Uploading predictions:   8%|▊         | 44/566 [00:12<01:18,  6.63it/s]"
     ]
    },
    {
     "name": "stdout",
     "output_type": "stream",
     "text": [
      "Prediction performed in 0.1125800609588623 seconds.\n",
      "Prediction performed in 0.12501001358032227 seconds.\n"
     ]
    },
    {
     "name": "stderr",
     "output_type": "stream",
     "text": [
      "Uploading predictions:   8%|▊         | 46/566 [00:12<01:18,  6.65it/s]"
     ]
    },
    {
     "name": "stdout",
     "output_type": "stream",
     "text": [
      "Prediction performed in 0.09375739097595215 seconds.\n",
      "Prediction performed in 0.12501025199890137 seconds.\n"
     ]
    },
    {
     "name": "stderr",
     "output_type": "stream",
     "text": [
      "Uploading predictions:   8%|▊         | 47/566 [00:12<01:18,  6.58it/s]"
     ]
    },
    {
     "name": "stdout",
     "output_type": "stream",
     "text": [
      "Prediction performed in 0.10938429832458496 seconds.\n",
      "Prediction performed in 0.10938429832458496 seconds.\n"
     ]
    },
    {
     "name": "stderr",
     "output_type": "stream",
     "text": [
      "Uploading predictions:   9%|▉         | 50/566 [00:13<01:16,  6.74it/s]"
     ]
    },
    {
     "name": "stdout",
     "output_type": "stream",
     "text": [
      "Prediction performed in 0.09375667572021484 seconds.\n",
      "Prediction performed in 0.10938286781311035 seconds.\n"
     ]
    },
    {
     "name": "stderr",
     "output_type": "stream",
     "text": [
      "Uploading predictions:   9%|▉         | 51/566 [00:13<01:18,  6.53it/s]"
     ]
    },
    {
     "name": "stdout",
     "output_type": "stream",
     "text": [
      "Prediction performed in 0.10938429832458496 seconds.\n",
      "Prediction performed in 0.1156916618347168 seconds.\n"
     ]
    },
    {
     "name": "stderr",
     "output_type": "stream",
     "text": [
      "Uploading predictions:  10%|▉         | 54/566 [00:13<01:19,  6.44it/s]"
     ]
    },
    {
     "name": "stdout",
     "output_type": "stream",
     "text": [
      "Prediction performed in 0.09999752044677734 seconds.\n",
      "Prediction performed in 0.10885810852050781 seconds.\n"
     ]
    },
    {
     "name": "stderr",
     "output_type": "stream",
     "text": [
      "Uploading predictions:  10%|▉         | 55/566 [00:13<01:19,  6.42it/s]"
     ]
    },
    {
     "name": "stdout",
     "output_type": "stream",
     "text": [
      "Prediction performed in 0.1060330867767334 seconds.\n",
      "Prediction performed in 0.11684274673461914 seconds.\n"
     ]
    },
    {
     "name": "stderr",
     "output_type": "stream",
     "text": [
      "Uploading predictions:  10%|█         | 58/566 [00:14<01:19,  6.42it/s]"
     ]
    },
    {
     "name": "stdout",
     "output_type": "stream",
     "text": [
      "Prediction performed in 0.0961294174194336 seconds.\n",
      "Prediction performed in 0.11128449440002441 seconds.\n"
     ]
    },
    {
     "name": "stderr",
     "output_type": "stream",
     "text": [
      "Uploading predictions:  10%|█         | 59/566 [00:14<01:18,  6.49it/s]"
     ]
    },
    {
     "name": "stdout",
     "output_type": "stream",
     "text": [
      "Prediction performed in 0.10937833786010742 seconds.\n",
      "Prediction performed in 0.11820483207702637 seconds.\n"
     ]
    },
    {
     "name": "stderr",
     "output_type": "stream",
     "text": [
      "Uploading predictions:  11%|█         | 61/566 [00:14<01:20,  6.29it/s]"
     ]
    },
    {
     "name": "stdout",
     "output_type": "stream",
     "text": [
      "Prediction performed in 0.11623668670654297 seconds.\n",
      "Prediction performed in 0.11711883544921875 seconds.\n"
     ]
    },
    {
     "name": "stderr",
     "output_type": "stream",
     "text": [
      "Uploading predictions:  11%|█         | 63/566 [00:15<01:21,  6.17it/s]"
     ]
    },
    {
     "name": "stdout",
     "output_type": "stream",
     "text": [
      "Prediction performed in 0.11055779457092285 seconds.\n",
      "Prediction performed in 0.1214292049407959 seconds.\n"
     ]
    },
    {
     "name": "stderr",
     "output_type": "stream",
     "text": [
      "Uploading predictions:  12%|█▏        | 66/566 [00:15<01:18,  6.40it/s]"
     ]
    },
    {
     "name": "stdout",
     "output_type": "stream",
     "text": [
      "Prediction performed in 0.10398173332214355 seconds.\n",
      "Prediction performed in 0.11160492897033691 seconds.\n"
     ]
    },
    {
     "name": "stderr",
     "output_type": "stream",
     "text": [
      "Uploading predictions:  12%|█▏        | 68/566 [00:15<01:15,  6.63it/s]"
     ]
    },
    {
     "name": "stdout",
     "output_type": "stream",
     "text": [
      "Prediction performed in 0.10986852645874023 seconds.\n",
      "Prediction performed in 0.1172037124633789 seconds.\n"
     ]
    },
    {
     "name": "stderr",
     "output_type": "stream",
     "text": [
      "Uploading predictions:  12%|█▏        | 69/566 [00:16<01:17,  6.42it/s]"
     ]
    },
    {
     "name": "stdout",
     "output_type": "stream",
     "text": [
      "Prediction performed in 0.10101437568664551 seconds.\n",
      "Prediction performed in 0.11668276786804199 seconds.\n"
     ]
    },
    {
     "name": "stderr",
     "output_type": "stream",
     "text": [
      "Uploading predictions:  13%|█▎        | 71/566 [00:16<01:18,  6.30it/s]"
     ]
    },
    {
     "name": "stdout",
     "output_type": "stream",
     "text": [
      "Prediction performed in 0.10590910911560059 seconds.\n",
      "Prediction performed in 0.13379335403442383 seconds.\n"
     ]
    },
    {
     "name": "stderr",
     "output_type": "stream",
     "text": [
      "Uploading predictions:  13%|█▎        | 73/566 [00:16<01:20,  6.11it/s]"
     ]
    },
    {
     "name": "stdout",
     "output_type": "stream",
     "text": [
      "Prediction performed in 0.10699224472045898 seconds.\n",
      "Prediction performed in 0.10389018058776855 seconds.\n"
     ]
    },
    {
     "name": "stderr",
     "output_type": "stream",
     "text": [
      "Uploading predictions:  13%|█▎        | 76/566 [00:17<01:14,  6.60it/s]"
     ]
    },
    {
     "name": "stdout",
     "output_type": "stream",
     "text": [
      "Prediction performed in 0.09873247146606445 seconds.\n",
      "Prediction performed in 0.10938358306884766 seconds.\n"
     ]
    },
    {
     "name": "stderr",
     "output_type": "stream",
     "text": [
      "Uploading predictions:  14%|█▎        | 77/566 [00:17<01:12,  6.75it/s]"
     ]
    },
    {
     "name": "stdout",
     "output_type": "stream",
     "text": [
      "Prediction performed in 0.09375739097595215 seconds.\n",
      "Prediction performed in 0.10938310623168945 seconds.\n"
     ]
    },
    {
     "name": "stderr",
     "output_type": "stream",
     "text": [
      "Uploading predictions:  14%|█▍        | 80/566 [00:17<01:11,  6.76it/s]"
     ]
    },
    {
     "name": "stdout",
     "output_type": "stream",
     "text": [
      "Prediction performed in 0.09375810623168945 seconds.\n",
      "Prediction performed in 0.10938167572021484 seconds.\n"
     ]
    },
    {
     "name": "stderr",
     "output_type": "stream",
     "text": [
      "Uploading predictions:  14%|█▍        | 81/566 [00:17<01:12,  6.65it/s]"
     ]
    },
    {
     "name": "stdout",
     "output_type": "stream",
     "text": [
      "Prediction performed in 0.10938501358032227 seconds.\n",
      "Prediction performed in 0.10938477516174316 seconds.\n"
     ]
    },
    {
     "name": "stderr",
     "output_type": "stream",
     "text": [
      "Uploading predictions:  15%|█▍        | 84/566 [00:18<01:10,  6.84it/s]"
     ]
    },
    {
     "name": "stdout",
     "output_type": "stream",
     "text": [
      "Prediction performed in 0.09375810623168945 seconds.\n",
      "Prediction performed in 0.10938382148742676 seconds.\n"
     ]
    },
    {
     "name": "stderr",
     "output_type": "stream",
     "text": [
      "Uploading predictions:  15%|█▌        | 85/566 [00:18<01:11,  6.70it/s]"
     ]
    },
    {
     "name": "stdout",
     "output_type": "stream",
     "text": [
      "Prediction performed in 0.09375643730163574 seconds.\n",
      "Prediction performed in 0.10941123962402344 seconds.\n"
     ]
    },
    {
     "name": "stderr",
     "output_type": "stream",
     "text": [
      "Uploading predictions:  15%|█▌        | 87/566 [00:18<01:10,  6.75it/s]"
     ]
    },
    {
     "name": "stdout",
     "output_type": "stream",
     "text": [
      "Prediction performed in 0.09375929832458496 seconds.\n",
      "Prediction performed in 0.10938358306884766 seconds.\n"
     ]
    },
    {
     "name": "stderr",
     "output_type": "stream",
     "text": [
      "Uploading predictions:  16%|█▌        | 90/566 [00:19<01:11,  6.66it/s]"
     ]
    },
    {
     "name": "stdout",
     "output_type": "stream",
     "text": [
      "Prediction performed in 0.10938358306884766 seconds.\n",
      "Prediction performed in 0.12501072883605957 seconds.\n"
     ]
    },
    {
     "name": "stderr",
     "output_type": "stream",
     "text": [
      "Uploading predictions:  16%|█▋        | 92/566 [00:19<01:10,  6.73it/s]"
     ]
    },
    {
     "name": "stdout",
     "output_type": "stream",
     "text": [
      "Prediction performed in 0.10938453674316406 seconds.\n",
      "Prediction performed in 0.10938358306884766 seconds.\n"
     ]
    },
    {
     "name": "stderr",
     "output_type": "stream",
     "text": [
      "Uploading predictions:  16%|█▋        | 93/566 [00:19<01:11,  6.62it/s]"
     ]
    },
    {
     "name": "stdout",
     "output_type": "stream",
     "text": [
      "Prediction performed in 0.09424972534179688 seconds.\n",
      "Prediction performed in 0.10938453674316406 seconds.\n"
     ]
    },
    {
     "name": "stderr",
     "output_type": "stream",
     "text": [
      "Uploading predictions:  17%|█▋        | 95/566 [00:20<01:10,  6.71it/s]"
     ]
    },
    {
     "name": "stdout",
     "output_type": "stream",
     "text": [
      "Prediction performed in 0.09375786781311035 seconds.\n",
      "Prediction performed in 0.10938382148742676 seconds.\n"
     ]
    },
    {
     "name": "stderr",
     "output_type": "stream",
     "text": [
      "Uploading predictions:  17%|█▋        | 97/566 [00:20<01:09,  6.76it/s]"
     ]
    },
    {
     "name": "stdout",
     "output_type": "stream",
     "text": [
      "Prediction performed in 0.09375858306884766 seconds.\n",
      "Prediction performed in 0.12500929832458496 seconds.\n"
     ]
    },
    {
     "name": "stderr",
     "output_type": "stream",
     "text": [
      "Uploading predictions:  18%|█▊        | 100/566 [00:20<01:09,  6.72it/s]"
     ]
    },
    {
     "name": "stdout",
     "output_type": "stream",
     "text": [
      "Prediction performed in 0.09375810623168945 seconds.\n",
      "Prediction performed in 0.10938286781311035 seconds.\n"
     ]
    },
    {
     "name": "stderr",
     "output_type": "stream",
     "text": [
      "Uploading predictions:  18%|█▊        | 101/566 [00:20<01:10,  6.62it/s]"
     ]
    },
    {
     "name": "stdout",
     "output_type": "stream",
     "text": [
      "Prediction performed in 0.10938429832458496 seconds.\n",
      "Prediction performed in 0.10938405990600586 seconds.\n"
     ]
    },
    {
     "name": "stderr",
     "output_type": "stream",
     "text": [
      "Uploading predictions:  18%|█▊        | 104/566 [00:21<01:10,  6.57it/s]"
     ]
    },
    {
     "name": "stdout",
     "output_type": "stream",
     "text": [
      "Prediction performed in 0.10539722442626953 seconds.\n",
      "Prediction performed in 0.11211228370666504 seconds.\n"
     ]
    },
    {
     "name": "stderr",
     "output_type": "stream",
     "text": [
      "Uploading predictions:  19%|█▊        | 106/566 [00:21<01:11,  6.43it/s]"
     ]
    },
    {
     "name": "stdout",
     "output_type": "stream",
     "text": [
      "Prediction performed in 0.10684704780578613 seconds.\n",
      "Prediction performed in 0.11712408065795898 seconds.\n"
     ]
    },
    {
     "name": "stderr",
     "output_type": "stream",
     "text": [
      "Uploading predictions:  19%|█▉        | 108/566 [00:22<01:10,  6.53it/s]"
     ]
    },
    {
     "name": "stdout",
     "output_type": "stream",
     "text": [
      "Prediction performed in 0.0974111557006836 seconds.\n",
      "Prediction performed in 0.11200761795043945 seconds.\n"
     ]
    },
    {
     "name": "stderr",
     "output_type": "stream",
     "text": [
      "Uploading predictions:  19%|█▉        | 110/566 [00:22<01:10,  6.46it/s]"
     ]
    },
    {
     "name": "stdout",
     "output_type": "stream",
     "text": [
      "Prediction performed in 0.10695981979370117 seconds.\n",
      "Prediction performed in 0.1170191764831543 seconds.\n"
     ]
    },
    {
     "name": "stderr",
     "output_type": "stream",
     "text": [
      "Uploading predictions:  20%|█▉        | 112/566 [00:22<01:08,  6.63it/s]"
     ]
    },
    {
     "name": "stdout",
     "output_type": "stream",
     "text": [
      "Prediction performed in 0.10209965705871582 seconds.\n",
      "Prediction performed in 0.10533666610717773 seconds.\n"
     ]
    },
    {
     "name": "stderr",
     "output_type": "stream",
     "text": [
      "Uploading predictions:  20%|█▉        | 113/566 [00:22<01:07,  6.66it/s]"
     ]
    },
    {
     "name": "stdout",
     "output_type": "stream",
     "text": [
      "Prediction performed in 0.09866976737976074 seconds.\n",
      "Prediction performed in 0.11776971817016602 seconds.\n"
     ]
    },
    {
     "name": "stderr",
     "output_type": "stream",
     "text": [
      "Uploading predictions:  20%|██        | 115/566 [00:23<01:06,  6.77it/s]"
     ]
    },
    {
     "name": "stdout",
     "output_type": "stream",
     "text": [
      "Prediction performed in 0.08724021911621094 seconds.\n",
      "Prediction performed in 0.10938405990600586 seconds.\n"
     ]
    },
    {
     "name": "stderr",
     "output_type": "stream",
     "text": [
      "Uploading predictions:  21%|██        | 117/566 [00:23<01:07,  6.70it/s]"
     ]
    },
    {
     "name": "stdout",
     "output_type": "stream",
     "text": [
      "Prediction performed in 0.10904455184936523 seconds.\n",
      "Prediction performed in 0.119171142578125 seconds.\n"
     ]
    },
    {
     "name": "stderr",
     "output_type": "stream",
     "text": [
      "Uploading predictions:  21%|██        | 120/566 [00:23<01:11,  6.27it/s]"
     ]
    },
    {
     "name": "stdout",
     "output_type": "stream",
     "text": [
      "Prediction performed in 0.10380411148071289 seconds.\n",
      "Prediction performed in 0.11872458457946777 seconds.\n"
     ]
    },
    {
     "name": "stderr",
     "output_type": "stream",
     "text": [
      "Uploading predictions:  21%|██▏       | 121/566 [00:24<01:11,  6.22it/s]"
     ]
    },
    {
     "name": "stdout",
     "output_type": "stream",
     "text": [
      "Prediction performed in 0.1131901741027832 seconds.\n",
      "Prediction performed in 0.12309789657592773 seconds.\n"
     ]
    },
    {
     "name": "stderr",
     "output_type": "stream",
     "text": [
      "Uploading predictions:  22%|██▏       | 124/566 [00:24<01:08,  6.48it/s]"
     ]
    },
    {
     "name": "stdout",
     "output_type": "stream",
     "text": [
      "Prediction performed in 0.0922861099243164 seconds.\n",
      "Prediction performed in 0.10938405990600586 seconds.\n"
     ]
    },
    {
     "name": "stderr",
     "output_type": "stream",
     "text": [
      "Uploading predictions:  22%|██▏       | 125/566 [00:24<01:08,  6.46it/s]"
     ]
    },
    {
     "name": "stdout",
     "output_type": "stream",
     "text": [
      "Prediction performed in 0.10938286781311035 seconds.\n",
      "Prediction performed in 0.12821531295776367 seconds.\n"
     ]
    },
    {
     "name": "stderr",
     "output_type": "stream",
     "text": [
      "Uploading predictions:  22%|██▏       | 127/566 [00:24<01:08,  6.40it/s]"
     ]
    },
    {
     "name": "stdout",
     "output_type": "stream",
     "text": [
      "Prediction performed in 0.09375548362731934 seconds.\n",
      "Prediction performed in 0.10938334465026855 seconds.\n"
     ]
    },
    {
     "name": "stderr",
     "output_type": "stream",
     "text": [
      "Uploading predictions:  23%|██▎       | 130/566 [00:25<01:08,  6.40it/s]"
     ]
    },
    {
     "name": "stdout",
     "output_type": "stream",
     "text": [
      "Prediction performed in 0.1187896728515625 seconds.\n",
      "Prediction performed in 0.12500929832458496 seconds.\n"
     ]
    },
    {
     "name": "stderr",
     "output_type": "stream",
     "text": [
      "Uploading predictions:  23%|██▎       | 131/566 [00:25<01:09,  6.27it/s]"
     ]
    },
    {
     "name": "stdout",
     "output_type": "stream",
     "text": [
      "Prediction performed in 0.09271001815795898 seconds.\n",
      "Prediction performed in 0.11220049858093262 seconds.\n"
     ]
    },
    {
     "name": "stderr",
     "output_type": "stream",
     "text": [
      "Uploading predictions:  23%|██▎       | 133/566 [00:25<01:14,  5.78it/s]"
     ]
    },
    {
     "name": "stdout",
     "output_type": "stream",
     "text": [
      "Prediction performed in 0.11558079719543457 seconds.\n",
      "Prediction performed in 0.13132643699645996 seconds.\n"
     ]
    },
    {
     "name": "stderr",
     "output_type": "stream",
     "text": [
      "Uploading predictions:  24%|██▍       | 135/566 [00:26<01:13,  5.83it/s]"
     ]
    },
    {
     "name": "stdout",
     "output_type": "stream",
     "text": [
      "Prediction performed in 0.0882875919342041 seconds.\n",
      "Prediction performed in 0.10938382148742676 seconds.\n"
     ]
    },
    {
     "name": "stderr",
     "output_type": "stream",
     "text": [
      "Uploading predictions:  24%|██▍       | 137/566 [00:26<01:10,  6.10it/s]"
     ]
    },
    {
     "name": "stdout",
     "output_type": "stream",
     "text": [
      "Prediction performed in 0.10938310623168945 seconds.\n",
      "Prediction performed in 0.12500977516174316 seconds.\n"
     ]
    },
    {
     "name": "stderr",
     "output_type": "stream",
     "text": [
      "Uploading predictions:  25%|██▍       | 140/566 [00:27<01:05,  6.49it/s]"
     ]
    },
    {
     "name": "stdout",
     "output_type": "stream",
     "text": [
      "Prediction performed in 0.09375715255737305 seconds.\n",
      "Prediction performed in 0.10938334465026855 seconds.\n"
     ]
    },
    {
     "name": "stderr",
     "output_type": "stream",
     "text": [
      "Uploading predictions:  25%|██▍       | 141/566 [00:27<01:05,  6.46it/s]"
     ]
    },
    {
     "name": "stdout",
     "output_type": "stream",
     "text": [
      "Prediction performed in 0.09375667572021484 seconds.\n",
      "Prediction performed in 0.10938358306884766 seconds.\n"
     ]
    },
    {
     "name": "stderr",
     "output_type": "stream",
     "text": [
      "Uploading predictions:  25%|██▌       | 143/566 [00:27<01:05,  6.43it/s]"
     ]
    },
    {
     "name": "stdout",
     "output_type": "stream",
     "text": [
      "Prediction performed in 0.09375739097595215 seconds.\n",
      "Prediction performed in 0.12500929832458496 seconds.\n"
     ]
    },
    {
     "name": "stderr",
     "output_type": "stream",
     "text": [
      "Uploading predictions:  26%|██▌       | 145/566 [00:27<01:05,  6.41it/s]"
     ]
    },
    {
     "name": "stdout",
     "output_type": "stream",
     "text": [
      "Prediction performed in 0.09375643730163574 seconds.\n",
      "Prediction performed in 0.10938334465026855 seconds.\n"
     ]
    },
    {
     "name": "stderr",
     "output_type": "stream",
     "text": [
      "Uploading predictions:  26%|██▌       | 148/566 [00:28<01:03,  6.54it/s]"
     ]
    },
    {
     "name": "stdout",
     "output_type": "stream",
     "text": [
      "Prediction performed in 0.10938358306884766 seconds.\n",
      "Prediction performed in 0.10938262939453125 seconds.\n"
     ]
    },
    {
     "name": "stderr",
     "output_type": "stream",
     "text": [
      "Uploading predictions:  26%|██▋       | 149/566 [00:28<01:04,  6.50it/s]"
     ]
    },
    {
     "name": "stdout",
     "output_type": "stream",
     "text": [
      "Prediction performed in 0.10938429832458496 seconds.\n",
      "Prediction performed in 0.10938334465026855 seconds.\n"
     ]
    },
    {
     "name": "stderr",
     "output_type": "stream",
     "text": [
      "Uploading predictions:  27%|██▋       | 152/566 [00:28<01:05,  6.33it/s]"
     ]
    },
    {
     "name": "stdout",
     "output_type": "stream",
     "text": [
      "Prediction performed in 0.11368751525878906 seconds.\n",
      "Prediction performed in 0.10961198806762695 seconds.\n"
     ]
    },
    {
     "name": "stderr",
     "output_type": "stream",
     "text": [
      "Uploading predictions:  27%|██▋       | 154/566 [00:29<01:05,  6.30it/s]"
     ]
    },
    {
     "name": "stdout",
     "output_type": "stream",
     "text": [
      "Prediction performed in 0.10385680198669434 seconds.\n",
      "Prediction performed in 0.11681842803955078 seconds.\n"
     ]
    },
    {
     "name": "stderr",
     "output_type": "stream",
     "text": [
      "Uploading predictions:  28%|██▊       | 156/566 [00:29<01:04,  6.39it/s]"
     ]
    },
    {
     "name": "stdout",
     "output_type": "stream",
     "text": [
      "Prediction performed in 0.09791135787963867 seconds.\n",
      "Prediction performed in 0.10978078842163086 seconds.\n"
     ]
    },
    {
     "name": "stderr",
     "output_type": "stream",
     "text": [
      "Uploading predictions:  28%|██▊       | 157/566 [00:29<01:04,  6.37it/s]"
     ]
    },
    {
     "name": "stdout",
     "output_type": "stream",
     "text": [
      "Prediction performed in 0.10305333137512207 seconds.\n",
      "Prediction performed in 0.11356258392333984 seconds.\n"
     ]
    },
    {
     "name": "stderr",
     "output_type": "stream",
     "text": [
      "Uploading predictions:  28%|██▊       | 160/566 [00:30<01:03,  6.40it/s]"
     ]
    },
    {
     "name": "stdout",
     "output_type": "stream",
     "text": [
      "Prediction performed in 0.10828518867492676 seconds.\n",
      "Prediction performed in 0.09975624084472656 seconds.\n"
     ]
    },
    {
     "name": "stderr",
     "output_type": "stream",
     "text": [
      "Uploading predictions:  28%|██▊       | 161/566 [00:30<01:08,  5.96it/s]"
     ]
    },
    {
     "name": "stdout",
     "output_type": "stream",
     "text": [
      "Prediction performed in 0.12423419952392578 seconds.\n",
      "Prediction performed in 0.12360453605651855 seconds.\n"
     ]
    },
    {
     "name": "stderr",
     "output_type": "stream",
     "text": [
      "Uploading predictions:  29%|██▉       | 163/566 [00:30<01:08,  5.89it/s]"
     ]
    },
    {
     "name": "stdout",
     "output_type": "stream",
     "text": [
      "Prediction performed in 0.1078653335571289 seconds.\n",
      "Prediction performed in 0.11607503890991211 seconds.\n"
     ]
    },
    {
     "name": "stderr",
     "output_type": "stream",
     "text": [
      "Uploading predictions:  29%|██▉       | 165/566 [00:31<01:05,  6.13it/s]"
     ]
    },
    {
     "name": "stdout",
     "output_type": "stream",
     "text": [
      "Prediction performed in 0.08871889114379883 seconds.\n",
      "Prediction performed in 0.1292707920074463 seconds.\n"
     ]
    },
    {
     "name": "stderr",
     "output_type": "stream",
     "text": [
      "Uploading predictions:  30%|██▉       | 168/566 [00:31<01:03,  6.23it/s]"
     ]
    },
    {
     "name": "stdout",
     "output_type": "stream",
     "text": [
      "Prediction performed in 0.09533882141113281 seconds.\n",
      "Prediction performed in 0.10710406303405762 seconds.\n"
     ]
    },
    {
     "name": "stderr",
     "output_type": "stream",
     "text": [
      "Uploading predictions:  30%|██▉       | 169/566 [00:31<01:01,  6.42it/s]"
     ]
    },
    {
     "name": "stdout",
     "output_type": "stream",
     "text": [
      "Prediction performed in 0.1013026237487793 seconds.\n",
      "Prediction performed in 0.13257932662963867 seconds.\n"
     ]
    },
    {
     "name": "stderr",
     "output_type": "stream",
     "text": [
      "Uploading predictions:  30%|███       | 172/566 [00:32<01:01,  6.37it/s]"
     ]
    },
    {
     "name": "stdout",
     "output_type": "stream",
     "text": [
      "Prediction performed in 0.10938310623168945 seconds.\n",
      "Prediction performed in 0.11877703666687012 seconds.\n"
     ]
    },
    {
     "name": "stderr",
     "output_type": "stream",
     "text": [
      "Uploading predictions:  31%|███       | 173/566 [00:32<01:02,  6.27it/s]"
     ]
    },
    {
     "name": "stdout",
     "output_type": "stream",
     "text": [
      "Prediction performed in 0.11414527893066406 seconds.\n",
      "Prediction performed in 0.13952088356018066 seconds.\n"
     ]
    },
    {
     "name": "stderr",
     "output_type": "stream",
     "text": [
      "Uploading predictions:  31%|███       | 175/566 [00:32<01:06,  5.86it/s]"
     ]
    },
    {
     "name": "stdout",
     "output_type": "stream",
     "text": [
      "Prediction performed in 0.1050710678100586 seconds.\n",
      "Prediction performed in 0.11694812774658203 seconds.\n"
     ]
    },
    {
     "name": "stderr",
     "output_type": "stream",
     "text": [
      "Uploading predictions:  31%|███▏      | 177/566 [00:33<01:09,  5.60it/s]"
     ]
    },
    {
     "name": "stdout",
     "output_type": "stream",
     "text": [
      "Prediction performed in 0.11957836151123047 seconds.\n",
      "Prediction performed in 0.10938310623168945 seconds.\n"
     ]
    },
    {
     "name": "stderr",
     "output_type": "stream",
     "text": [
      "Uploading predictions:  32%|███▏      | 179/566 [00:33<01:05,  5.91it/s]"
     ]
    },
    {
     "name": "stdout",
     "output_type": "stream",
     "text": [
      "Prediction performed in 0.09375739097595215 seconds.\n",
      "Prediction performed in 0.10894298553466797 seconds.\n"
     ]
    },
    {
     "name": "stderr",
     "output_type": "stream",
     "text": [
      "Uploading predictions:  32%|███▏      | 181/566 [00:33<01:02,  6.14it/s]"
     ]
    },
    {
     "name": "stdout",
     "output_type": "stream",
     "text": [
      "Prediction performed in 0.10898613929748535 seconds.\n",
      "Prediction performed in 0.11382460594177246 seconds.\n"
     ]
    },
    {
     "name": "stderr",
     "output_type": "stream",
     "text": [
      "Uploading predictions:  32%|███▏      | 183/566 [00:34<01:00,  6.32it/s]"
     ]
    },
    {
     "name": "stdout",
     "output_type": "stream",
     "text": [
      "Prediction performed in 0.09829497337341309 seconds.\n",
      "Prediction performed in 0.1090548038482666 seconds.\n"
     ]
    },
    {
     "name": "stderr",
     "output_type": "stream",
     "text": [
      "Uploading predictions:  33%|███▎      | 185/566 [00:34<01:00,  6.34it/s]"
     ]
    },
    {
     "name": "stdout",
     "output_type": "stream",
     "text": [
      "Prediction performed in 0.10298633575439453 seconds.\n",
      "Prediction performed in 0.11400818824768066 seconds.\n"
     ]
    },
    {
     "name": "stderr",
     "output_type": "stream",
     "text": [
      "Uploading predictions:  33%|███▎      | 188/566 [00:34<00:59,  6.37it/s]"
     ]
    },
    {
     "name": "stdout",
     "output_type": "stream",
     "text": [
      "Prediction performed in 0.09941649436950684 seconds.\n",
      "Prediction performed in 0.10873293876647949 seconds.\n"
     ]
    },
    {
     "name": "stderr",
     "output_type": "stream",
     "text": [
      "Uploading predictions:  33%|███▎      | 189/566 [00:34<00:58,  6.41it/s]"
     ]
    },
    {
     "name": "stdout",
     "output_type": "stream",
     "text": [
      "Prediction performed in 0.10389542579650879 seconds.\n",
      "Prediction performed in 0.11992502212524414 seconds.\n"
     ]
    },
    {
     "name": "stderr",
     "output_type": "stream",
     "text": [
      "Uploading predictions:  34%|███▎      | 191/566 [00:35<00:59,  6.26it/s]"
     ]
    },
    {
     "name": "stdout",
     "output_type": "stream",
     "text": [
      "Prediction performed in 0.10514426231384277 seconds.\n",
      "Prediction performed in 0.13614201545715332 seconds.\n"
     ]
    },
    {
     "name": "stderr",
     "output_type": "stream",
     "text": [
      "Uploading predictions:  34%|███▍      | 194/566 [00:35<01:00,  6.10it/s]"
     ]
    },
    {
     "name": "stdout",
     "output_type": "stream",
     "text": [
      "Prediction performed in 0.1064307689666748 seconds.\n",
      "Prediction performed in 0.1115107536315918 seconds.\n"
     ]
    },
    {
     "name": "stderr",
     "output_type": "stream",
     "text": [
      "Uploading predictions:  35%|███▍      | 196/566 [00:36<00:59,  6.19it/s]"
     ]
    },
    {
     "name": "stdout",
     "output_type": "stream",
     "text": [
      "Prediction performed in 0.11405205726623535 seconds.\n",
      "Prediction performed in 0.12673163414001465 seconds.\n"
     ]
    },
    {
     "name": "stderr",
     "output_type": "stream",
     "text": [
      "Uploading predictions:  35%|███▍      | 197/566 [00:36<00:57,  6.42it/s]"
     ]
    },
    {
     "name": "stdout",
     "output_type": "stream",
     "text": [
      "Prediction performed in 0.10190224647521973 seconds.\n",
      "Prediction performed in 0.10938405990600586 seconds.\n"
     ]
    },
    {
     "name": "stderr",
     "output_type": "stream",
     "text": [
      "Uploading predictions:  35%|███▌      | 199/566 [00:36<00:56,  6.50it/s]"
     ]
    },
    {
     "name": "stdout",
     "output_type": "stream",
     "text": [
      "Prediction performed in 0.11143660545349121 seconds.\n",
      "Prediction performed in 0.10989665985107422 seconds.\n"
     ]
    },
    {
     "name": "stderr",
     "output_type": "stream",
     "text": [
      "Uploading predictions:  36%|███▌      | 201/566 [00:36<01:03,  5.74it/s]"
     ]
    },
    {
     "name": "stdout",
     "output_type": "stream",
     "text": [
      "Prediction performed in 0.10864877700805664 seconds.\n",
      "Prediction performed in 0.12378454208374023 seconds.\n"
     ]
    },
    {
     "name": "stderr",
     "output_type": "stream",
     "text": [
      "Uploading predictions:  36%|███▌      | 204/566 [00:37<00:59,  6.06it/s]"
     ]
    },
    {
     "name": "stdout",
     "output_type": "stream",
     "text": [
      "Prediction performed in 0.11052227020263672 seconds.\n",
      "Prediction performed in 0.1054229736328125 seconds.\n"
     ]
    },
    {
     "name": "stderr",
     "output_type": "stream",
     "text": [
      "Uploading predictions:  36%|███▋      | 206/566 [00:37<00:57,  6.23it/s]"
     ]
    },
    {
     "name": "stdout",
     "output_type": "stream",
     "text": [
      "Prediction performed in 0.0980679988861084 seconds.\n",
      "Prediction performed in 0.11013960838317871 seconds.\n"
     ]
    },
    {
     "name": "stderr",
     "output_type": "stream",
     "text": [
      "Uploading predictions:  37%|███▋      | 207/566 [00:37<00:57,  6.23it/s]"
     ]
    },
    {
     "name": "stdout",
     "output_type": "stream",
     "text": [
      "Prediction performed in 0.1073157787322998 seconds.\n",
      "Prediction performed in 0.11758971214294434 seconds.\n"
     ]
    },
    {
     "name": "stderr",
     "output_type": "stream",
     "text": [
      "Uploading predictions:  37%|███▋      | 209/566 [00:38<01:00,  5.92it/s]"
     ]
    },
    {
     "name": "stdout",
     "output_type": "stream",
     "text": [
      "Prediction performed in 0.12272334098815918 seconds.\n",
      "Prediction performed in 0.12851929664611816 seconds.\n"
     ]
    },
    {
     "name": "stderr",
     "output_type": "stream",
     "text": [
      "Uploading predictions:  37%|███▋      | 212/566 [00:38<00:57,  6.20it/s]"
     ]
    },
    {
     "name": "stdout",
     "output_type": "stream",
     "text": [
      "Prediction performed in 0.09375572204589844 seconds.\n",
      "Prediction performed in 0.10938334465026855 seconds.\n"
     ]
    },
    {
     "name": "stderr",
     "output_type": "stream",
     "text": [
      "Uploading predictions:  38%|███▊      | 213/566 [00:38<00:56,  6.30it/s]"
     ]
    },
    {
     "name": "stdout",
     "output_type": "stream",
     "text": [
      "Prediction performed in 0.10358929634094238 seconds.\n",
      "Prediction performed in 0.11326313018798828 seconds.\n"
     ]
    },
    {
     "name": "stderr",
     "output_type": "stream",
     "text": [
      "Uploading predictions:  38%|███▊      | 216/566 [00:39<00:54,  6.38it/s]"
     ]
    },
    {
     "name": "stdout",
     "output_type": "stream",
     "text": [
      "Prediction performed in 0.09375715255737305 seconds.\n",
      "Prediction performed in 0.10938334465026855 seconds.\n"
     ]
    },
    {
     "name": "stderr",
     "output_type": "stream",
     "text": [
      "Uploading predictions:  38%|███▊      | 217/566 [00:39<00:54,  6.38it/s]"
     ]
    },
    {
     "name": "stdout",
     "output_type": "stream",
     "text": [
      "Prediction performed in 0.09375691413879395 seconds.\n",
      "Prediction performed in 0.12500858306884766 seconds.\n"
     ]
    },
    {
     "name": "stderr",
     "output_type": "stream",
     "text": [
      "Uploading predictions:  39%|███▊      | 219/566 [00:39<00:54,  6.36it/s]"
     ]
    },
    {
     "name": "stdout",
     "output_type": "stream",
     "text": [
      "Prediction performed in 0.09375715255737305 seconds.\n",
      "Prediction performed in 0.11254048347473145 seconds.\n"
     ]
    },
    {
     "name": "stderr",
     "output_type": "stream",
     "text": [
      "Uploading predictions:  39%|███▉      | 221/566 [00:40<00:54,  6.29it/s]"
     ]
    },
    {
     "name": "stdout",
     "output_type": "stream",
     "text": [
      "Prediction performed in 0.10858654975891113 seconds.\n",
      "Prediction performed in 0.11400938034057617 seconds.\n"
     ]
    },
    {
     "name": "stderr",
     "output_type": "stream",
     "text": [
      "Uploading predictions:  39%|███▉      | 223/566 [00:40<00:54,  6.33it/s]"
     ]
    },
    {
     "name": "stdout",
     "output_type": "stream",
     "text": [
      "Prediction performed in 0.0974888801574707 seconds.\n",
      "Prediction performed in 0.10938334465026855 seconds.\n"
     ]
    },
    {
     "name": "stderr",
     "output_type": "stream",
     "text": [
      "Uploading predictions:  40%|███▉      | 225/566 [00:40<00:53,  6.36it/s]"
     ]
    },
    {
     "name": "stdout",
     "output_type": "stream",
     "text": [
      "Prediction performed in 0.10477828979492188 seconds.\n",
      "Prediction performed in 0.11591625213623047 seconds.\n"
     ]
    },
    {
     "name": "stderr",
     "output_type": "stream",
     "text": [
      "Uploading predictions:  40%|████      | 228/566 [00:41<00:52,  6.39it/s]"
     ]
    },
    {
     "name": "stdout",
     "output_type": "stream",
     "text": [
      "Prediction performed in 0.09794831275939941 seconds.\n",
      "Prediction performed in 0.10723137855529785 seconds.\n"
     ]
    },
    {
     "name": "stderr",
     "output_type": "stream",
     "text": [
      "Uploading predictions:  40%|████      | 229/566 [00:41<00:51,  6.51it/s]"
     ]
    },
    {
     "name": "stdout",
     "output_type": "stream",
     "text": [
      "Prediction performed in 0.10388374328613281 seconds.\n",
      "Prediction performed in 0.10938429832458496 seconds.\n"
     ]
    },
    {
     "name": "stderr",
     "output_type": "stream",
     "text": [
      "Uploading predictions:  41%|████      | 231/566 [00:41<00:53,  6.23it/s]"
     ]
    },
    {
     "name": "stdout",
     "output_type": "stream",
     "text": [
      "Prediction performed in 0.10108351707458496 seconds.\n",
      "Prediction performed in 0.14473414421081543 seconds.\n"
     ]
    },
    {
     "name": "stderr",
     "output_type": "stream",
     "text": [
      "Uploading predictions:  41%|████      | 233/566 [00:42<00:56,  5.88it/s]"
     ]
    },
    {
     "name": "stdout",
     "output_type": "stream",
     "text": [
      "Prediction performed in 0.10400247573852539 seconds.\n",
      "Prediction performed in 0.12392187118530273 seconds.\n"
     ]
    },
    {
     "name": "stderr",
     "output_type": "stream",
     "text": [
      "Uploading predictions:  42%|████▏     | 235/566 [00:42<00:55,  5.95it/s]"
     ]
    },
    {
     "name": "stdout",
     "output_type": "stream",
     "text": [
      "Prediction performed in 0.10523557662963867 seconds.\n",
      "Prediction performed in 0.12187910079956055 seconds.\n"
     ]
    },
    {
     "name": "stderr",
     "output_type": "stream",
     "text": [
      "Uploading predictions:  42%|████▏     | 236/566 [00:42<00:55,  5.92it/s]"
     ]
    },
    {
     "name": "stdout",
     "output_type": "stream",
     "text": [
      "Prediction performed in 0.10462546348571777 seconds.\n"
     ]
    },
    {
     "name": "stderr",
     "output_type": "stream",
     "text": [
      "Uploading predictions:  42%|████▏     | 239/566 [00:43<01:10,  4.64it/s]"
     ]
    },
    {
     "name": "stdout",
     "output_type": "stream",
     "text": [
      "Prediction performed in 0.1370835304260254 seconds.\n",
      "Prediction performed in 0.10821652412414551 seconds.\n"
     ]
    },
    {
     "name": "stderr",
     "output_type": "stream",
     "text": [
      "Uploading predictions:  42%|████▏     | 240/566 [00:43<01:07,  4.83it/s]"
     ]
    },
    {
     "name": "stdout",
     "output_type": "stream",
     "text": [
      "Prediction performed in 0.10938239097595215 seconds.\n",
      "Prediction performed in 0.12500929832458496 seconds.\n"
     ]
    },
    {
     "name": "stderr",
     "output_type": "stream",
     "text": [
      "Uploading predictions:  43%|████▎     | 243/566 [00:44<00:56,  5.68it/s]"
     ]
    },
    {
     "name": "stdout",
     "output_type": "stream",
     "text": [
      "Prediction performed in 0.10938334465026855 seconds.\n",
      "Prediction performed in 0.10171008110046387 seconds.\n"
     ]
    },
    {
     "name": "stderr",
     "output_type": "stream",
     "text": [
      "Uploading predictions:  43%|████▎     | 245/566 [00:44<00:53,  5.95it/s]"
     ]
    },
    {
     "name": "stdout",
     "output_type": "stream",
     "text": [
      "Prediction performed in 0.11153864860534668 seconds.\n",
      "Prediction performed in 0.11156058311462402 seconds.\n"
     ]
    },
    {
     "name": "stderr",
     "output_type": "stream",
     "text": [
      "Uploading predictions:  44%|████▎     | 247/566 [00:44<00:50,  6.28it/s]"
     ]
    },
    {
     "name": "stdout",
     "output_type": "stream",
     "text": [
      "Prediction performed in 0.10820436477661133 seconds.\n",
      "Prediction performed in 0.09375739097595215 seconds.\n"
     ]
    },
    {
     "name": "stderr",
     "output_type": "stream",
     "text": [
      "Uploading predictions:  44%|████▍     | 249/566 [00:45<00:49,  6.38it/s]"
     ]
    },
    {
     "name": "stdout",
     "output_type": "stream",
     "text": [
      "Prediction performed in 0.10938215255737305 seconds.\n",
      "Prediction performed in 0.1044766902923584 seconds.\n"
     ]
    },
    {
     "name": "stderr",
     "output_type": "stream",
     "text": [
      "Uploading predictions:  44%|████▍     | 251/566 [00:45<00:50,  6.29it/s]"
     ]
    },
    {
     "name": "stdout",
     "output_type": "stream",
     "text": [
      "Prediction performed in 0.12304377555847168 seconds.\n",
      "Prediction performed in 0.10261106491088867 seconds.\n"
     ]
    },
    {
     "name": "stderr",
     "output_type": "stream",
     "text": [
      "Uploading predictions:  45%|████▍     | 253/566 [00:45<00:50,  6.25it/s]"
     ]
    },
    {
     "name": "stdout",
     "output_type": "stream",
     "text": [
      "Prediction performed in 0.1147005558013916 seconds.\n",
      "Prediction performed in 0.1099250316619873 seconds.\n"
     ]
    },
    {
     "name": "stderr",
     "output_type": "stream",
     "text": [
      "Uploading predictions:  45%|████▌     | 255/566 [00:46<00:49,  6.30it/s]"
     ]
    },
    {
     "name": "stdout",
     "output_type": "stream",
     "text": [
      "Prediction performed in 0.12233686447143555 seconds.\n",
      "Prediction performed in 0.10692834854125977 seconds.\n"
     ]
    },
    {
     "name": "stderr",
     "output_type": "stream",
     "text": [
      "Uploading predictions:  45%|████▌     | 256/566 [00:46<00:48,  6.44it/s]"
     ]
    },
    {
     "name": "stdout",
     "output_type": "stream",
     "text": [
      "Prediction performed in 0.1054840087890625 seconds.\n",
      "Prediction performed in 0.10674643516540527 seconds.\n"
     ]
    },
    {
     "name": "stderr",
     "output_type": "stream",
     "text": [
      "Uploading predictions:  46%|████▌     | 258/566 [00:46<00:54,  5.68it/s]"
     ]
    },
    {
     "name": "stdout",
     "output_type": "stream",
     "text": [
      "Prediction performed in 0.15362048149108887 seconds.\n",
      "Prediction performed in 0.10427045822143555 seconds.\n"
     ]
    },
    {
     "name": "stderr",
     "output_type": "stream",
     "text": [
      "Uploading predictions:  46%|████▌     | 260/566 [00:46<00:55,  5.52it/s]"
     ]
    },
    {
     "name": "stdout",
     "output_type": "stream",
     "text": [
      "Prediction performed in 0.11350512504577637 seconds.\n",
      "Prediction performed in 0.12103557586669922 seconds.\n"
     ]
    },
    {
     "name": "stderr",
     "output_type": "stream",
     "text": [
      "Uploading predictions:  46%|████▋     | 263/566 [00:47<00:50,  6.00it/s]"
     ]
    },
    {
     "name": "stdout",
     "output_type": "stream",
     "text": [
      "Prediction performed in 0.1165456771850586 seconds.\n",
      "Prediction performed in 0.10032200813293457 seconds.\n"
     ]
    },
    {
     "name": "stderr",
     "output_type": "stream",
     "text": [
      "Uploading predictions:  47%|████▋     | 265/566 [00:47<00:48,  6.17it/s]"
     ]
    },
    {
     "name": "stdout",
     "output_type": "stream",
     "text": [
      "Prediction performed in 0.11494112014770508 seconds.\n",
      "Prediction performed in 0.09911465644836426 seconds.\n"
     ]
    },
    {
     "name": "stderr",
     "output_type": "stream",
     "text": [
      "Uploading predictions:  47%|████▋     | 267/566 [00:48<00:49,  6.02it/s]"
     ]
    },
    {
     "name": "stdout",
     "output_type": "stream",
     "text": [
      "Prediction performed in 0.12250542640686035 seconds.\n",
      "Prediction performed in 0.11412572860717773 seconds.\n"
     ]
    },
    {
     "name": "stderr",
     "output_type": "stream",
     "text": [
      "Uploading predictions:  48%|████▊     | 269/566 [00:48<00:49,  6.01it/s]"
     ]
    },
    {
     "name": "stdout",
     "output_type": "stream",
     "text": [
      "Prediction performed in 0.1162412166595459 seconds.\n",
      "Prediction performed in 0.10032248497009277 seconds.\n"
     ]
    },
    {
     "name": "stderr",
     "output_type": "stream",
     "text": [
      "Uploading predictions:  48%|████▊     | 271/566 [00:48<00:48,  6.10it/s]"
     ]
    },
    {
     "name": "stdout",
     "output_type": "stream",
     "text": [
      "Prediction performed in 0.10912609100341797 seconds.\n",
      "Prediction performed in 0.10133171081542969 seconds.\n"
     ]
    },
    {
     "name": "stderr",
     "output_type": "stream",
     "text": [
      "Uploading predictions:  48%|████▊     | 272/566 [00:48<00:49,  5.98it/s]"
     ]
    },
    {
     "name": "stdout",
     "output_type": "stream",
     "text": [
      "Prediction performed in 0.11971926689147949 seconds.\n",
      "Prediction performed in 0.10991930961608887 seconds.\n"
     ]
    },
    {
     "name": "stderr",
     "output_type": "stream",
     "text": [
      "Uploading predictions:  48%|████▊     | 274/566 [00:49<00:51,  5.71it/s]"
     ]
    },
    {
     "name": "stdout",
     "output_type": "stream",
     "text": [
      "Prediction performed in 0.10636758804321289 seconds.\n",
      "Prediction performed in 0.09375786781311035 seconds.\n"
     ]
    },
    {
     "name": "stderr",
     "output_type": "stream",
     "text": [
      "Uploading predictions:  49%|████▉     | 276/566 [00:49<00:50,  5.72it/s]"
     ]
    },
    {
     "name": "stdout",
     "output_type": "stream",
     "text": [
      "Prediction performed in 0.12501025199890137 seconds.\n",
      "Prediction performed in 0.10938358306884766 seconds.\n"
     ]
    },
    {
     "name": "stderr",
     "output_type": "stream",
     "text": [
      "Uploading predictions:  49%|████▉     | 278/566 [00:49<00:48,  5.88it/s]"
     ]
    },
    {
     "name": "stdout",
     "output_type": "stream",
     "text": [
      "Prediction performed in 0.10938358306884766 seconds.\n",
      "Prediction performed in 0.10938334465026855 seconds.\n"
     ]
    },
    {
     "name": "stderr",
     "output_type": "stream",
     "text": [
      "Uploading predictions:  49%|████▉     | 280/566 [00:50<00:49,  5.80it/s]"
     ]
    },
    {
     "name": "stdout",
     "output_type": "stream",
     "text": [
      "Prediction performed in 0.10938382148742676 seconds.\n",
      "Prediction performed in 0.09375739097595215 seconds.\n"
     ]
    },
    {
     "name": "stderr",
     "output_type": "stream",
     "text": [
      "Uploading predictions:  50%|█████     | 283/566 [00:50<00:47,  5.97it/s]"
     ]
    },
    {
     "name": "stdout",
     "output_type": "stream",
     "text": [
      "Prediction performed in 0.12501001358032227 seconds.\n",
      "Prediction performed in 0.09375739097595215 seconds.\n"
     ]
    },
    {
     "name": "stderr",
     "output_type": "stream",
     "text": [
      "Uploading predictions:  50%|█████     | 284/566 [00:50<00:47,  5.93it/s]"
     ]
    },
    {
     "name": "stdout",
     "output_type": "stream",
     "text": [
      "Prediction performed in 0.10938358306884766 seconds.\n",
      "Prediction performed in 0.09375786781311035 seconds.\n"
     ]
    },
    {
     "name": "stderr",
     "output_type": "stream",
     "text": [
      "Uploading predictions:  51%|█████     | 286/566 [00:51<00:47,  5.87it/s]"
     ]
    },
    {
     "name": "stdout",
     "output_type": "stream",
     "text": [
      "Prediction performed in 0.10938358306884766 seconds.\n",
      "Prediction performed in 0.09375739097595215 seconds.\n"
     ]
    },
    {
     "name": "stderr",
     "output_type": "stream",
     "text": [
      "Uploading predictions:  51%|█████     | 288/566 [00:51<00:46,  5.96it/s]"
     ]
    },
    {
     "name": "stdout",
     "output_type": "stream",
     "text": [
      "Prediction performed in 0.10938358306884766 seconds.\n",
      "Prediction performed in 0.10938405990600586 seconds.\n"
     ]
    },
    {
     "name": "stderr",
     "output_type": "stream",
     "text": [
      "Uploading predictions:  51%|█████     | 290/566 [00:51<00:47,  5.84it/s]"
     ]
    },
    {
     "name": "stdout",
     "output_type": "stream",
     "text": [
      "Prediction performed in 0.1249990463256836 seconds.\n",
      "Prediction performed in 0.09375762939453125 seconds.\n"
     ]
    },
    {
     "name": "stderr",
     "output_type": "stream",
     "text": [
      "Uploading predictions:  52%|█████▏    | 292/566 [00:52<00:44,  6.11it/s]"
     ]
    },
    {
     "name": "stdout",
     "output_type": "stream",
     "text": [
      "Prediction performed in 0.10938405990600586 seconds.\n",
      "Prediction performed in 0.10938429832458496 seconds.\n"
     ]
    },
    {
     "name": "stderr",
     "output_type": "stream",
     "text": [
      "Uploading predictions:  52%|█████▏    | 295/566 [00:52<00:44,  6.08it/s]"
     ]
    },
    {
     "name": "stdout",
     "output_type": "stream",
     "text": [
      "Prediction performed in 0.12500977516174316 seconds.\n",
      "Prediction performed in 0.09375762939453125 seconds.\n"
     ]
    },
    {
     "name": "stderr",
     "output_type": "stream",
     "text": [
      "Uploading predictions:  52%|█████▏    | 296/566 [00:52<00:44,  6.00it/s]"
     ]
    },
    {
     "name": "stdout",
     "output_type": "stream",
     "text": [
      "Prediction performed in 0.10938405990600586 seconds.\n",
      "Prediction performed in 0.09375762939453125 seconds.\n"
     ]
    },
    {
     "name": "stderr",
     "output_type": "stream",
     "text": [
      "Uploading predictions:  53%|█████▎    | 298/566 [00:53<00:45,  5.86it/s]"
     ]
    },
    {
     "name": "stdout",
     "output_type": "stream",
     "text": [
      "Prediction performed in 0.10938382148742676 seconds.\n",
      "Prediction performed in 0.09375739097595215 seconds.\n"
     ]
    },
    {
     "name": "stderr",
     "output_type": "stream",
     "text": [
      "Uploading predictions:  53%|█████▎    | 300/566 [00:53<00:44,  5.95it/s]"
     ]
    },
    {
     "name": "stdout",
     "output_type": "stream",
     "text": [
      "Prediction performed in 0.10938382148742676 seconds.\n",
      "Prediction performed in 0.09375786781311035 seconds.\n"
     ]
    },
    {
     "name": "stderr",
     "output_type": "stream",
     "text": [
      "Uploading predictions:  54%|█████▎    | 303/566 [00:54<00:42,  6.26it/s]"
     ]
    },
    {
     "name": "stdout",
     "output_type": "stream",
     "text": [
      "Prediction performed in 0.10938382148742676 seconds.\n",
      "Prediction performed in 0.08257746696472168 seconds.\n"
     ]
    },
    {
     "name": "stderr",
     "output_type": "stream",
     "text": [
      "Uploading predictions:  54%|█████▍    | 305/566 [00:54<00:41,  6.26it/s]"
     ]
    },
    {
     "name": "stdout",
     "output_type": "stream",
     "text": [
      "Prediction performed in 0.1002349853515625 seconds.\n",
      "Prediction performed in 0.08457040786743164 seconds.\n"
     ]
    },
    {
     "name": "stderr",
     "output_type": "stream",
     "text": [
      "Uploading predictions:  54%|█████▍    | 307/566 [00:54<00:40,  6.33it/s]"
     ]
    },
    {
     "name": "stdout",
     "output_type": "stream",
     "text": [
      "Prediction performed in 0.1039273738861084 seconds.\n",
      "Prediction performed in 0.08325982093811035 seconds.\n"
     ]
    },
    {
     "name": "stderr",
     "output_type": "stream",
     "text": [
      "Uploading predictions:  55%|█████▍    | 309/566 [00:55<00:39,  6.49it/s]"
     ]
    },
    {
     "name": "stdout",
     "output_type": "stream",
     "text": [
      "Prediction performed in 0.10011768341064453 seconds.\n",
      "Prediction performed in 0.10006403923034668 seconds.\n"
     ]
    },
    {
     "name": "stderr",
     "output_type": "stream",
     "text": [
      "Uploading predictions:  55%|█████▍    | 311/566 [00:55<00:39,  6.43it/s]"
     ]
    },
    {
     "name": "stdout",
     "output_type": "stream",
     "text": [
      "Prediction performed in 0.1149301528930664 seconds.\n",
      "Prediction performed in 0.09232354164123535 seconds.\n"
     ]
    },
    {
     "name": "stderr",
     "output_type": "stream",
     "text": [
      "Uploading predictions:  55%|█████▌    | 313/566 [00:55<00:39,  6.34it/s]"
     ]
    },
    {
     "name": "stdout",
     "output_type": "stream",
     "text": [
      "Prediction performed in 0.11666035652160645 seconds.\n",
      "Prediction performed in 0.1000814437866211 seconds.\n"
     ]
    },
    {
     "name": "stderr",
     "output_type": "stream",
     "text": [
      "Uploading predictions:  56%|█████▌    | 315/566 [00:55<00:39,  6.34it/s]"
     ]
    },
    {
     "name": "stdout",
     "output_type": "stream",
     "text": [
      "Prediction performed in 0.10199666023254395 seconds.\n",
      "Prediction performed in 0.0816342830657959 seconds.\n"
     ]
    },
    {
     "name": "stderr",
     "output_type": "stream",
     "text": [
      "Uploading predictions:  56%|█████▌    | 316/566 [00:56<00:38,  6.44it/s]"
     ]
    },
    {
     "name": "stdout",
     "output_type": "stream",
     "text": [
      "Prediction performed in 0.09724664688110352 seconds.\n",
      "Prediction performed in 0.09762978553771973 seconds.\n"
     ]
    },
    {
     "name": "stderr",
     "output_type": "stream",
     "text": [
      "Uploading predictions:  56%|█████▋    | 319/566 [00:56<00:39,  6.28it/s]"
     ]
    },
    {
     "name": "stdout",
     "output_type": "stream",
     "text": [
      "Prediction performed in 0.1069183349609375 seconds.\n",
      "Prediction performed in 0.08359646797180176 seconds.\n"
     ]
    },
    {
     "name": "stderr",
     "output_type": "stream",
     "text": [
      "Uploading predictions:  57%|█████▋    | 321/566 [00:56<00:38,  6.31it/s]"
     ]
    },
    {
     "name": "stdout",
     "output_type": "stream",
     "text": [
      "Prediction performed in 0.1000821590423584 seconds.\n",
      "Prediction performed in 0.08266997337341309 seconds.\n"
     ]
    },
    {
     "name": "stderr",
     "output_type": "stream",
     "text": [
      "Uploading predictions:  57%|█████▋    | 323/566 [00:57<00:38,  6.34it/s]"
     ]
    },
    {
     "name": "stdout",
     "output_type": "stream",
     "text": [
      "Prediction performed in 0.11571884155273438 seconds.\n",
      "Prediction performed in 0.09097957611083984 seconds.\n"
     ]
    },
    {
     "name": "stderr",
     "output_type": "stream",
     "text": [
      "Uploading predictions:  57%|█████▋    | 324/566 [00:57<00:37,  6.42it/s]"
     ]
    },
    {
     "name": "stdout",
     "output_type": "stream",
     "text": [
      "Prediction performed in 0.10007929801940918 seconds.\n",
      "Prediction performed in 0.09588909149169922 seconds.\n"
     ]
    },
    {
     "name": "stderr",
     "output_type": "stream",
     "text": [
      "Uploading predictions:  58%|█████▊    | 327/566 [00:57<00:37,  6.45it/s]"
     ]
    },
    {
     "name": "stdout",
     "output_type": "stream",
     "text": [
      "Prediction performed in 0.0989542007446289 seconds.\n",
      "Prediction performed in 0.09822320938110352 seconds.\n"
     ]
    },
    {
     "name": "stderr",
     "output_type": "stream",
     "text": [
      "Uploading predictions:  58%|█████▊    | 329/566 [00:58<00:36,  6.57it/s]"
     ]
    },
    {
     "name": "stdout",
     "output_type": "stream",
     "text": [
      "Prediction performed in 0.09997129440307617 seconds.\n",
      "Prediction performed in 0.10000395774841309 seconds.\n"
     ]
    },
    {
     "name": "stderr",
     "output_type": "stream",
     "text": [
      "Uploading predictions:  58%|█████▊    | 331/566 [00:58<00:36,  6.47it/s]"
     ]
    },
    {
     "name": "stdout",
     "output_type": "stream",
     "text": [
      "Prediction performed in 0.11669254302978516 seconds.\n",
      "Prediction performed in 0.08137845993041992 seconds.\n"
     ]
    },
    {
     "name": "stderr",
     "output_type": "stream",
     "text": [
      "Uploading predictions:  59%|█████▊    | 332/566 [00:58<00:35,  6.54it/s]"
     ]
    },
    {
     "name": "stdout",
     "output_type": "stream",
     "text": [
      "Prediction performed in 0.10036158561706543 seconds.\n",
      "Prediction performed in 0.08165550231933594 seconds.\n"
     ]
    },
    {
     "name": "stderr",
     "output_type": "stream",
     "text": [
      "Uploading predictions:  59%|█████▉    | 335/566 [00:59<00:35,  6.59it/s]"
     ]
    },
    {
     "name": "stdout",
     "output_type": "stream",
     "text": [
      "Prediction performed in 0.09746527671813965 seconds.\n",
      "Prediction performed in 0.08339381217956543 seconds.\n"
     ]
    },
    {
     "name": "stderr",
     "output_type": "stream",
     "text": [
      "Uploading predictions:  60%|█████▉    | 337/566 [00:59<00:34,  6.65it/s]"
     ]
    },
    {
     "name": "stdout",
     "output_type": "stream",
     "text": [
      "Prediction performed in 0.10171341896057129 seconds.\n",
      "Prediction performed in 0.09998798370361328 seconds.\n"
     ]
    },
    {
     "name": "stderr",
     "output_type": "stream",
     "text": [
      "Uploading predictions:  60%|█████▉    | 339/566 [00:59<00:35,  6.42it/s]"
     ]
    },
    {
     "name": "stdout",
     "output_type": "stream",
     "text": [
      "Prediction performed in 0.11645770072937012 seconds.\n",
      "Prediction performed in 0.09940004348754883 seconds.\n"
     ]
    },
    {
     "name": "stderr",
     "output_type": "stream",
     "text": [
      "Uploading predictions:  60%|██████    | 341/566 [01:00<00:34,  6.57it/s]"
     ]
    },
    {
     "name": "stdout",
     "output_type": "stream",
     "text": [
      "Prediction performed in 0.1003727912902832 seconds.\n",
      "Prediction performed in 0.08296513557434082 seconds.\n"
     ]
    },
    {
     "name": "stderr",
     "output_type": "stream",
     "text": [
      "Uploading predictions:  61%|██████    | 343/566 [01:00<00:34,  6.52it/s]"
     ]
    },
    {
     "name": "stdout",
     "output_type": "stream",
     "text": [
      "Prediction performed in 0.11474990844726562 seconds.\n",
      "Prediction performed in 0.10014128684997559 seconds.\n"
     ]
    },
    {
     "name": "stderr",
     "output_type": "stream",
     "text": [
      "Uploading predictions:  61%|██████    | 345/566 [01:00<00:33,  6.60it/s]"
     ]
    },
    {
     "name": "stdout",
     "output_type": "stream",
     "text": [
      "Prediction performed in 0.09989261627197266 seconds.\n",
      "Prediction performed in 0.10191512107849121 seconds.\n"
     ]
    },
    {
     "name": "stderr",
     "output_type": "stream",
     "text": [
      "Uploading predictions:  61%|██████    | 346/566 [01:00<00:38,  5.67it/s]"
     ]
    },
    {
     "name": "stdout",
     "output_type": "stream",
     "text": [
      "Prediction performed in 0.1412649154663086 seconds.\n",
      "Prediction performed in 0.11282110214233398 seconds.\n"
     ]
    },
    {
     "name": "stderr",
     "output_type": "stream",
     "text": [
      "Uploading predictions:  62%|██████▏   | 349/566 [01:01<00:36,  5.91it/s]"
     ]
    },
    {
     "name": "stdout",
     "output_type": "stream",
     "text": [
      "Prediction performed in 0.10860037803649902 seconds.\n",
      "Prediction performed in 0.10108685493469238 seconds.\n"
     ]
    },
    {
     "name": "stderr",
     "output_type": "stream",
     "text": [
      "Uploading predictions:  62%|██████▏   | 351/566 [01:01<00:35,  6.13it/s]"
     ]
    },
    {
     "name": "stdout",
     "output_type": "stream",
     "text": [
      "Prediction performed in 0.11008358001708984 seconds.\n",
      "Prediction performed in 0.09337091445922852 seconds.\n"
     ]
    },
    {
     "name": "stderr",
     "output_type": "stream",
     "text": [
      "Uploading predictions:  62%|██████▏   | 353/566 [01:02<00:34,  6.20it/s]"
     ]
    },
    {
     "name": "stdout",
     "output_type": "stream",
     "text": [
      "Prediction performed in 0.10501432418823242 seconds.\n",
      "Prediction performed in 0.09995675086975098 seconds.\n"
     ]
    },
    {
     "name": "stderr",
     "output_type": "stream",
     "text": [
      "Uploading predictions:  63%|██████▎   | 354/566 [01:02<00:35,  6.04it/s]"
     ]
    },
    {
     "name": "stdout",
     "output_type": "stream",
     "text": [
      "Prediction performed in 0.10759902000427246 seconds.\n",
      "Prediction performed in 0.09098172187805176 seconds.\n"
     ]
    },
    {
     "name": "stderr",
     "output_type": "stream",
     "text": [
      "Uploading predictions:  63%|██████▎   | 356/566 [01:02<00:34,  6.02it/s]"
     ]
    },
    {
     "name": "stdout",
     "output_type": "stream",
     "text": [
      "Prediction performed in 0.1028435230255127 seconds.\n",
      "Prediction performed in 0.1191713809967041 seconds.\n"
     ]
    },
    {
     "name": "stderr",
     "output_type": "stream",
     "text": [
      "Uploading predictions:  63%|██████▎   | 359/566 [01:02<00:33,  6.12it/s]"
     ]
    },
    {
     "name": "stdout",
     "output_type": "stream",
     "text": [
      "Prediction performed in 0.10981607437133789 seconds.\n",
      "Prediction performed in 0.0808563232421875 seconds.\n"
     ]
    },
    {
     "name": "stderr",
     "output_type": "stream",
     "text": [
      "Uploading predictions:  64%|██████▍   | 361/566 [01:03<00:32,  6.25it/s]"
     ]
    },
    {
     "name": "stdout",
     "output_type": "stream",
     "text": [
      "Prediction performed in 0.09415411949157715 seconds.\n",
      "Prediction performed in 0.10791778564453125 seconds.\n"
     ]
    },
    {
     "name": "stderr",
     "output_type": "stream",
     "text": [
      "Uploading predictions:  64%|██████▍   | 362/566 [01:03<00:33,  6.09it/s]"
     ]
    },
    {
     "name": "stdout",
     "output_type": "stream",
     "text": [
      "Prediction performed in 0.10701441764831543 seconds.\n",
      "Prediction performed in 0.10779881477355957 seconds.\n"
     ]
    },
    {
     "name": "stderr",
     "output_type": "stream",
     "text": [
      "Uploading predictions:  64%|██████▍   | 364/566 [01:03<00:33,  5.94it/s]"
     ]
    },
    {
     "name": "stdout",
     "output_type": "stream",
     "text": [
      "Prediction performed in 0.11194229125976562 seconds.\n",
      "Prediction performed in 0.1103823184967041 seconds.\n"
     ]
    },
    {
     "name": "stderr",
     "output_type": "stream",
     "text": [
      "Uploading predictions:  65%|██████▍   | 366/566 [01:04<00:34,  5.80it/s]"
     ]
    },
    {
     "name": "stdout",
     "output_type": "stream",
     "text": [
      "Prediction performed in 0.1157217025756836 seconds.\n",
      "Prediction performed in 0.10144519805908203 seconds.\n"
     ]
    },
    {
     "name": "stderr",
     "output_type": "stream",
     "text": [
      "Uploading predictions:  65%|██████▌   | 369/566 [01:04<00:32,  6.09it/s]"
     ]
    },
    {
     "name": "stdout",
     "output_type": "stream",
     "text": [
      "Prediction performed in 0.10214352607727051 seconds.\n",
      "Prediction performed in 0.09617209434509277 seconds.\n"
     ]
    },
    {
     "name": "stderr",
     "output_type": "stream",
     "text": [
      "Uploading predictions:  66%|██████▌   | 371/566 [01:04<00:30,  6.37it/s]"
     ]
    },
    {
     "name": "stdout",
     "output_type": "stream",
     "text": [
      "Prediction performed in 0.10637211799621582 seconds.\n",
      "Prediction performed in 0.08913230895996094 seconds.\n"
     ]
    },
    {
     "name": "stderr",
     "output_type": "stream",
     "text": [
      "Uploading predictions:  66%|██████▌   | 373/566 [01:05<00:29,  6.50it/s]"
     ]
    },
    {
     "name": "stdout",
     "output_type": "stream",
     "text": [
      "Prediction performed in 0.10346198081970215 seconds.\n",
      "Prediction performed in 0.09616231918334961 seconds.\n"
     ]
    },
    {
     "name": "stderr",
     "output_type": "stream",
     "text": [
      "Uploading predictions:  66%|██████▋   | 375/566 [01:05<00:29,  6.41it/s]"
     ]
    },
    {
     "name": "stdout",
     "output_type": "stream",
     "text": [
      "Prediction performed in 0.10786700248718262 seconds.\n",
      "Prediction performed in 0.08867025375366211 seconds.\n"
     ]
    },
    {
     "name": "stderr",
     "output_type": "stream",
     "text": [
      "Uploading predictions:  66%|██████▋   | 376/566 [01:05<00:29,  6.43it/s]"
     ]
    },
    {
     "name": "stdout",
     "output_type": "stream",
     "text": [
      "Prediction performed in 0.10354328155517578 seconds.\n",
      "Prediction performed in 0.10005521774291992 seconds.\n"
     ]
    },
    {
     "name": "stderr",
     "output_type": "stream",
     "text": [
      "Uploading predictions:  67%|██████▋   | 379/566 [01:06<00:29,  6.27it/s]"
     ]
    },
    {
     "name": "stdout",
     "output_type": "stream",
     "text": [
      "Prediction performed in 0.1131591796875 seconds.\n",
      "Prediction performed in 0.09628987312316895 seconds.\n"
     ]
    },
    {
     "name": "stderr",
     "output_type": "stream",
     "text": [
      "Uploading predictions:  67%|██████▋   | 380/566 [01:06<00:30,  6.20it/s]"
     ]
    },
    {
     "name": "stdout",
     "output_type": "stream",
     "text": [
      "Prediction performed in 0.10580182075500488 seconds.\n",
      "Prediction performed in 0.10002970695495605 seconds.\n"
     ]
    },
    {
     "name": "stderr",
     "output_type": "stream",
     "text": [
      "Uploading predictions:  68%|██████▊   | 383/566 [01:06<00:29,  6.27it/s]"
     ]
    },
    {
     "name": "stdout",
     "output_type": "stream",
     "text": [
      "Prediction performed in 0.11034989356994629 seconds.\n",
      "Prediction performed in 0.10424208641052246 seconds.\n"
     ]
    },
    {
     "name": "stderr",
     "output_type": "stream",
     "text": [
      "Uploading predictions:  68%|██████▊   | 384/566 [01:07<00:28,  6.31it/s]"
     ]
    },
    {
     "name": "stdout",
     "output_type": "stream",
     "text": [
      "Prediction performed in 0.10938286781311035 seconds.\n",
      "Prediction performed in 0.10938286781311035 seconds.\n"
     ]
    },
    {
     "name": "stderr",
     "output_type": "stream",
     "text": [
      "Uploading predictions:  68%|██████▊   | 387/566 [01:07<00:28,  6.33it/s]"
     ]
    },
    {
     "name": "stdout",
     "output_type": "stream",
     "text": [
      "Prediction performed in 0.10938286781311035 seconds.\n",
      "Prediction performed in 0.10938310623168945 seconds.\n"
     ]
    },
    {
     "name": "stderr",
     "output_type": "stream",
     "text": [
      "Uploading predictions:  69%|██████▊   | 388/566 [01:07<00:28,  6.21it/s]"
     ]
    },
    {
     "name": "stdout",
     "output_type": "stream",
     "text": [
      "Prediction performed in 0.1002969741821289 seconds.\n",
      "Prediction performed in 0.09375691413879395 seconds.\n"
     ]
    },
    {
     "name": "stderr",
     "output_type": "stream",
     "text": [
      "Uploading predictions:  69%|██████▉   | 391/566 [01:08<00:28,  6.15it/s]"
     ]
    },
    {
     "name": "stdout",
     "output_type": "stream",
     "text": [
      "Prediction performed in 0.12500953674316406 seconds.\n",
      "Prediction performed in 0.09375691413879395 seconds.\n"
     ]
    },
    {
     "name": "stderr",
     "output_type": "stream",
     "text": [
      "Uploading predictions:  69%|██████▉   | 392/566 [01:08<00:29,  5.98it/s]"
     ]
    },
    {
     "name": "stdout",
     "output_type": "stream",
     "text": [
      "Prediction performed in 0.11956095695495605 seconds.\n",
      "Prediction performed in 0.1082310676574707 seconds.\n"
     ]
    },
    {
     "name": "stderr",
     "output_type": "stream",
     "text": [
      "Uploading predictions:  70%|██████▉   | 395/566 [01:08<00:28,  6.04it/s]"
     ]
    },
    {
     "name": "stdout",
     "output_type": "stream",
     "text": [
      "Prediction performed in 0.11240959167480469 seconds.\n",
      "Prediction performed in 0.09533071517944336 seconds.\n"
     ]
    },
    {
     "name": "stderr",
     "output_type": "stream",
     "text": [
      "Uploading predictions:  70%|███████   | 397/566 [01:09<00:26,  6.30it/s]"
     ]
    },
    {
     "name": "stdout",
     "output_type": "stream",
     "text": [
      "Prediction performed in 0.1078486442565918 seconds.\n",
      "Prediction performed in 0.10093259811401367 seconds.\n"
     ]
    },
    {
     "name": "stderr",
     "output_type": "stream",
     "text": [
      "Uploading predictions:  70%|███████   | 399/566 [01:09<00:27,  6.06it/s]"
     ]
    },
    {
     "name": "stdout",
     "output_type": "stream",
     "text": [
      "Prediction performed in 0.11082339286804199 seconds.\n",
      "Prediction performed in 0.09898257255554199 seconds.\n"
     ]
    },
    {
     "name": "stderr",
     "output_type": "stream",
     "text": [
      "Uploading predictions:  71%|███████   | 400/566 [01:09<00:26,  6.17it/s]"
     ]
    },
    {
     "name": "stdout",
     "output_type": "stream",
     "text": [
      "Prediction performed in 0.10719776153564453 seconds.\n",
      "Prediction performed in 0.10019111633300781 seconds.\n"
     ]
    },
    {
     "name": "stderr",
     "output_type": "stream",
     "text": [
      "Uploading predictions:  71%|███████   | 403/566 [01:10<00:28,  5.82it/s]"
     ]
    },
    {
     "name": "stdout",
     "output_type": "stream",
     "text": [
      "Prediction performed in 0.13046002388000488 seconds.\n",
      "Prediction performed in 0.09629321098327637 seconds.\n"
     ]
    },
    {
     "name": "stderr",
     "output_type": "stream",
     "text": [
      "Uploading predictions:  71%|███████▏  | 404/566 [01:10<00:28,  5.60it/s]"
     ]
    },
    {
     "name": "stdout",
     "output_type": "stream",
     "text": [
      "Prediction performed in 0.10938620567321777 seconds.\n",
      "Prediction performed in 0.10417342185974121 seconds.\n"
     ]
    },
    {
     "name": "stderr",
     "output_type": "stream",
     "text": [
      "Uploading predictions:  72%|███████▏  | 407/566 [01:10<00:27,  5.88it/s]"
     ]
    },
    {
     "name": "stdout",
     "output_type": "stream",
     "text": [
      "Prediction performed in 0.1009969711303711 seconds.\n",
      "Prediction performed in 0.10209941864013672 seconds.\n"
     ]
    },
    {
     "name": "stderr",
     "output_type": "stream",
     "text": [
      "Uploading predictions:  72%|███████▏  | 408/566 [01:11<00:27,  5.84it/s]"
     ]
    },
    {
     "name": "stdout",
     "output_type": "stream",
     "text": [
      "Prediction performed in 0.11425566673278809 seconds.\n",
      "Prediction performed in 0.10001587867736816 seconds.\n"
     ]
    },
    {
     "name": "stderr",
     "output_type": "stream",
     "text": [
      "Uploading predictions:  73%|███████▎  | 411/566 [01:11<00:26,  5.88it/s]"
     ]
    },
    {
     "name": "stdout",
     "output_type": "stream",
     "text": [
      "Prediction performed in 0.12532472610473633 seconds.\n",
      "Prediction performed in 0.09656882286071777 seconds.\n"
     ]
    },
    {
     "name": "stderr",
     "output_type": "stream",
     "text": [
      "Uploading predictions:  73%|███████▎  | 412/566 [01:11<00:25,  5.94it/s]"
     ]
    },
    {
     "name": "stdout",
     "output_type": "stream",
     "text": [
      "Prediction performed in 0.10599088668823242 seconds.\n",
      "Prediction performed in 0.10131001472473145 seconds.\n"
     ]
    },
    {
     "name": "stderr",
     "output_type": "stream",
     "text": [
      "Uploading predictions:  73%|███████▎  | 415/566 [01:12<00:24,  6.15it/s]"
     ]
    },
    {
     "name": "stdout",
     "output_type": "stream",
     "text": [
      "Prediction performed in 0.11396121978759766 seconds.\n",
      "Prediction performed in 0.10037016868591309 seconds.\n"
     ]
    },
    {
     "name": "stderr",
     "output_type": "stream",
     "text": [
      "Uploading predictions:  74%|███████▎  | 417/566 [01:12<00:23,  6.21it/s]"
     ]
    },
    {
     "name": "stdout",
     "output_type": "stream",
     "text": [
      "Prediction performed in 0.10866308212280273 seconds.\n",
      "Prediction performed in 0.10080194473266602 seconds.\n"
     ]
    },
    {
     "name": "stderr",
     "output_type": "stream",
     "text": [
      "Uploading predictions:  74%|███████▍  | 419/566 [01:12<00:23,  6.31it/s]"
     ]
    },
    {
     "name": "stdout",
     "output_type": "stream",
     "text": [
      "Prediction performed in 0.1110069751739502 seconds.\n",
      "Prediction performed in 0.09687256813049316 seconds.\n"
     ]
    },
    {
     "name": "stderr",
     "output_type": "stream",
     "text": [
      "Uploading predictions:  74%|███████▍  | 421/566 [01:13<00:22,  6.41it/s]"
     ]
    },
    {
     "name": "stdout",
     "output_type": "stream",
     "text": [
      "Prediction performed in 0.10664677619934082 seconds.\n",
      "Prediction performed in 0.10161328315734863 seconds.\n"
     ]
    },
    {
     "name": "stderr",
     "output_type": "stream",
     "text": [
      "Uploading predictions:  75%|███████▍  | 423/566 [01:13<00:22,  6.27it/s]"
     ]
    },
    {
     "name": "stdout",
     "output_type": "stream",
     "text": [
      "Prediction performed in 0.12501025199890137 seconds.\n",
      "Prediction performed in 0.09375810623168945 seconds.\n"
     ]
    },
    {
     "name": "stderr",
     "output_type": "stream",
     "text": [
      "Uploading predictions:  75%|███████▌  | 425/566 [01:13<00:22,  6.34it/s]"
     ]
    },
    {
     "name": "stdout",
     "output_type": "stream",
     "text": [
      "Prediction performed in 0.10938286781311035 seconds.\n",
      "Prediction performed in 0.09375643730163574 seconds.\n"
     ]
    },
    {
     "name": "stderr",
     "output_type": "stream",
     "text": [
      "Uploading predictions:  75%|███████▌  | 426/566 [01:13<00:22,  6.21it/s]"
     ]
    },
    {
     "name": "stdout",
     "output_type": "stream",
     "text": [
      "Prediction performed in 0.10954570770263672 seconds.\n",
      "Prediction performed in 0.1307058334350586 seconds.\n"
     ]
    },
    {
     "name": "stderr",
     "output_type": "stream",
     "text": [
      "Uploading predictions:  76%|███████▌  | 428/566 [01:14<00:23,  5.84it/s]"
     ]
    },
    {
     "name": "stdout",
     "output_type": "stream",
     "text": [
      "Prediction performed in 0.11258745193481445 seconds.\n",
      "Prediction performed in 0.12591886520385742 seconds.\n"
     ]
    },
    {
     "name": "stderr",
     "output_type": "stream",
     "text": [
      "Uploading predictions:  76%|███████▌  | 431/566 [01:14<00:23,  5.81it/s]"
     ]
    },
    {
     "name": "stdout",
     "output_type": "stream",
     "text": [
      "Prediction performed in 0.13358664512634277 seconds.\n",
      "Prediction performed in 0.09685206413269043 seconds.\n"
     ]
    },
    {
     "name": "stderr",
     "output_type": "stream",
     "text": [
      "Uploading predictions:  76%|███████▋  | 432/566 [01:15<00:22,  5.88it/s]"
     ]
    },
    {
     "name": "stdout",
     "output_type": "stream",
     "text": [
      "Prediction performed in 0.10074424743652344 seconds.\n",
      "Prediction performed in 0.1080465316772461 seconds.\n"
     ]
    },
    {
     "name": "stderr",
     "output_type": "stream",
     "text": [
      "Uploading predictions:  77%|███████▋  | 434/566 [01:15<00:23,  5.56it/s]"
     ]
    },
    {
     "name": "stdout",
     "output_type": "stream",
     "text": [
      "Prediction performed in 0.1160731315612793 seconds.\n",
      "Prediction performed in 0.10525131225585938 seconds.\n"
     ]
    },
    {
     "name": "stderr",
     "output_type": "stream",
     "text": [
      "Uploading predictions:  77%|███████▋  | 436/566 [01:15<00:22,  5.70it/s]"
     ]
    },
    {
     "name": "stdout",
     "output_type": "stream",
     "text": [
      "Prediction performed in 0.11356234550476074 seconds.\n",
      "Prediction performed in 0.10098075866699219 seconds.\n"
     ]
    },
    {
     "name": "stderr",
     "output_type": "stream",
     "text": [
      "Uploading predictions:  78%|███████▊  | 439/566 [01:16<00:20,  6.12it/s]"
     ]
    },
    {
     "name": "stdout",
     "output_type": "stream",
     "text": [
      "Prediction performed in 0.11095070838928223 seconds.\n",
      "Prediction performed in 0.09440493583679199 seconds.\n"
     ]
    },
    {
     "name": "stderr",
     "output_type": "stream",
     "text": [
      "Uploading predictions:  78%|███████▊  | 441/566 [01:16<00:20,  6.10it/s]"
     ]
    },
    {
     "name": "stdout",
     "output_type": "stream",
     "text": [
      "Prediction performed in 0.1056818962097168 seconds.\n",
      "Prediction performed in 0.10239410400390625 seconds.\n"
     ]
    },
    {
     "name": "stderr",
     "output_type": "stream",
     "text": [
      "Uploading predictions:  78%|███████▊  | 443/566 [01:16<00:19,  6.23it/s]"
     ]
    },
    {
     "name": "stdout",
     "output_type": "stream",
     "text": [
      "Prediction performed in 0.11031222343444824 seconds.\n",
      "Prediction performed in 0.09551191329956055 seconds.\n"
     ]
    },
    {
     "name": "stderr",
     "output_type": "stream",
     "text": [
      "Uploading predictions:  79%|███████▊  | 445/566 [01:17<00:19,  6.34it/s]"
     ]
    },
    {
     "name": "stdout",
     "output_type": "stream",
     "text": [
      "Prediction performed in 0.1062161922454834 seconds.\n",
      "Prediction performed in 0.10096883773803711 seconds.\n"
     ]
    },
    {
     "name": "stderr",
     "output_type": "stream",
     "text": [
      "Uploading predictions:  79%|███████▉  | 447/566 [01:17<00:19,  6.24it/s]"
     ]
    },
    {
     "name": "stdout",
     "output_type": "stream",
     "text": [
      "Prediction performed in 0.10907697677612305 seconds.\n",
      "Prediction performed in 0.09499859809875488 seconds.\n"
     ]
    },
    {
     "name": "stderr",
     "output_type": "stream",
     "text": [
      "Uploading predictions:  79%|███████▉  | 449/566 [01:17<00:18,  6.33it/s]"
     ]
    },
    {
     "name": "stdout",
     "output_type": "stream",
     "text": [
      "Prediction performed in 0.09033012390136719 seconds.\n",
      "Prediction performed in 0.11035966873168945 seconds.\n"
     ]
    },
    {
     "name": "stderr",
     "output_type": "stream",
     "text": [
      "Uploading predictions:  80%|███████▉  | 451/566 [01:18<00:18,  6.24it/s]"
     ]
    },
    {
     "name": "stdout",
     "output_type": "stream",
     "text": [
      "Prediction performed in 0.10938334465026855 seconds.\n",
      "Prediction performed in 0.10033154487609863 seconds.\n"
     ]
    },
    {
     "name": "stderr",
     "output_type": "stream",
     "text": [
      "Uploading predictions:  80%|████████  | 453/566 [01:18<00:18,  6.24it/s]"
     ]
    },
    {
     "name": "stdout",
     "output_type": "stream",
     "text": [
      "Prediction performed in 0.10688638687133789 seconds.\n",
      "Prediction performed in 0.10030150413513184 seconds.\n"
     ]
    },
    {
     "name": "stderr",
     "output_type": "stream",
     "text": [
      "Uploading predictions:  80%|████████  | 454/566 [01:18<00:17,  6.34it/s]"
     ]
    },
    {
     "name": "stdout",
     "output_type": "stream",
     "text": [
      "Prediction performed in 0.11133193969726562 seconds.\n",
      "Prediction performed in 0.08670949935913086 seconds.\n"
     ]
    },
    {
     "name": "stderr",
     "output_type": "stream",
     "text": [
      "Uploading predictions:  80%|████████  | 455/566 [01:18<00:17,  6.27it/s]"
     ]
    },
    {
     "name": "stdout",
     "output_type": "stream",
     "text": [
      "Prediction performed in 0.12575531005859375 seconds.\n"
     ]
    },
    {
     "name": "stderr",
     "output_type": "stream",
     "text": [
      "Uploading predictions:  81%|████████  | 457/566 [01:19<00:23,  4.61it/s]"
     ]
    },
    {
     "name": "stdout",
     "output_type": "stream",
     "text": [
      "Prediction performed in 0.11467313766479492 seconds.\n"
     ]
    },
    {
     "name": "stderr",
     "output_type": "stream",
     "text": [
      "Uploading predictions:  81%|████████  | 459/566 [01:19<00:20,  5.21it/s]"
     ]
    },
    {
     "name": "stdout",
     "output_type": "stream",
     "text": [
      "Prediction performed in 0.11343240737915039 seconds.\n",
      "Prediction performed in 0.09064602851867676 seconds.\n"
     ]
    },
    {
     "name": "stderr",
     "output_type": "stream",
     "text": [
      "Uploading predictions:  81%|████████▏ | 460/566 [01:19<00:20,  5.26it/s]"
     ]
    },
    {
     "name": "stdout",
     "output_type": "stream",
     "text": [
      "Prediction performed in 0.1167452335357666 seconds.\n",
      "Prediction performed in 0.13758039474487305 seconds.\n"
     ]
    },
    {
     "name": "stderr",
     "output_type": "stream",
     "text": [
      "Uploading predictions:  82%|████████▏ | 462/566 [01:20<00:20,  5.01it/s]"
     ]
    },
    {
     "name": "stdout",
     "output_type": "stream",
     "text": [
      "Prediction performed in 0.1356050968170166 seconds.\n",
      "Prediction performed in 0.09923052787780762 seconds.\n"
     ]
    },
    {
     "name": "stderr",
     "output_type": "stream",
     "text": [
      "Uploading predictions:  82%|████████▏ | 464/566 [01:20<00:18,  5.39it/s]"
     ]
    },
    {
     "name": "stdout",
     "output_type": "stream",
     "text": [
      "Prediction performed in 0.10871553421020508 seconds.\n",
      "Prediction performed in 0.09570145606994629 seconds.\n"
     ]
    },
    {
     "name": "stderr",
     "output_type": "stream",
     "text": [
      "Uploading predictions:  83%|████████▎ | 467/566 [01:21<00:16,  6.01it/s]"
     ]
    },
    {
     "name": "stdout",
     "output_type": "stream",
     "text": [
      "Prediction performed in 0.12500929832458496 seconds.\n",
      "Prediction performed in 0.10969853401184082 seconds.\n"
     ]
    },
    {
     "name": "stderr",
     "output_type": "stream",
     "text": [
      "Uploading predictions:  83%|████████▎ | 469/566 [01:21<00:15,  6.22it/s]"
     ]
    },
    {
     "name": "stdout",
     "output_type": "stream",
     "text": [
      "Prediction performed in 0.10936617851257324 seconds.\n",
      "Prediction performed in 0.09957456588745117 seconds.\n"
     ]
    },
    {
     "name": "stderr",
     "output_type": "stream",
     "text": [
      "Uploading predictions:  83%|████████▎ | 471/566 [01:21<00:15,  6.18it/s]"
     ]
    },
    {
     "name": "stdout",
     "output_type": "stream",
     "text": [
      "Prediction performed in 0.10938334465026855 seconds.\n",
      "Prediction performed in 0.10938358306884766 seconds.\n"
     ]
    },
    {
     "name": "stderr",
     "output_type": "stream",
     "text": [
      "Uploading predictions:  83%|████████▎ | 472/566 [01:21<00:15,  6.07it/s]"
     ]
    },
    {
     "name": "stdout",
     "output_type": "stream",
     "text": [
      "Prediction performed in 0.10938286781311035 seconds.\n",
      "Prediction performed in 0.10938310623168945 seconds.\n"
     ]
    },
    {
     "name": "stderr",
     "output_type": "stream",
     "text": [
      "Uploading predictions:  84%|████████▍ | 475/566 [01:22<00:14,  6.15it/s]"
     ]
    },
    {
     "name": "stdout",
     "output_type": "stream",
     "text": [
      "Prediction performed in 0.10938310623168945 seconds.\n",
      "Prediction performed in 0.10938286781311035 seconds.\n"
     ]
    },
    {
     "name": "stderr",
     "output_type": "stream",
     "text": [
      "Uploading predictions:  84%|████████▍ | 476/566 [01:22<00:15,  5.77it/s]"
     ]
    },
    {
     "name": "stdout",
     "output_type": "stream",
     "text": [
      "Prediction performed in 0.10938310623168945 seconds.\n",
      "Prediction performed in 0.10494852066040039 seconds.\n"
     ]
    },
    {
     "name": "stderr",
     "output_type": "stream",
     "text": [
      "Uploading predictions:  85%|████████▍ | 479/566 [01:23<00:14,  6.00it/s]"
     ]
    },
    {
     "name": "stdout",
     "output_type": "stream",
     "text": [
      "Prediction performed in 0.12200260162353516 seconds.\n",
      "Prediction performed in 0.09811949729919434 seconds.\n"
     ]
    },
    {
     "name": "stderr",
     "output_type": "stream",
     "text": [
      "Uploading predictions:  85%|████████▍ | 481/566 [01:23<00:13,  6.08it/s]"
     ]
    },
    {
     "name": "stdout",
     "output_type": "stream",
     "text": [
      "Prediction performed in 0.10785675048828125 seconds.\n",
      "Prediction performed in 0.10185885429382324 seconds.\n"
     ]
    },
    {
     "name": "stderr",
     "output_type": "stream",
     "text": [
      "Uploading predictions:  85%|████████▌ | 483/566 [01:23<00:13,  6.10it/s]"
     ]
    },
    {
     "name": "stdout",
     "output_type": "stream",
     "text": [
      "Prediction performed in 0.10978293418884277 seconds.\n",
      "Prediction performed in 0.09735774993896484 seconds.\n"
     ]
    },
    {
     "name": "stderr",
     "output_type": "stream",
     "text": [
      "Uploading predictions:  86%|████████▌ | 484/566 [01:23<00:13,  6.10it/s]"
     ]
    },
    {
     "name": "stdout",
     "output_type": "stream",
     "text": [
      "Prediction performed in 0.10030698776245117 seconds.\n",
      "Prediction performed in 0.11281609535217285 seconds.\n"
     ]
    },
    {
     "name": "stderr",
     "output_type": "stream",
     "text": [
      "Uploading predictions:  86%|████████▌ | 486/566 [01:24<00:14,  5.45it/s]"
     ]
    },
    {
     "name": "stdout",
     "output_type": "stream",
     "text": [
      "Prediction performed in 0.12165164947509766 seconds.\n",
      "Prediction performed in 0.11305093765258789 seconds.\n"
     ]
    },
    {
     "name": "stderr",
     "output_type": "stream",
     "text": [
      "Uploading predictions:  86%|████████▌ | 488/566 [01:24<00:14,  5.40it/s]"
     ]
    },
    {
     "name": "stdout",
     "output_type": "stream",
     "text": [
      "Prediction performed in 0.11131548881530762 seconds.\n",
      "Prediction performed in 0.10347390174865723 seconds.\n"
     ]
    },
    {
     "name": "stderr",
     "output_type": "stream",
     "text": [
      "Uploading predictions:  87%|████████▋ | 491/566 [01:25<00:12,  5.81it/s]"
     ]
    },
    {
     "name": "stdout",
     "output_type": "stream",
     "text": [
      "Prediction performed in 0.11879420280456543 seconds.\n",
      "Prediction performed in 0.09089994430541992 seconds.\n"
     ]
    },
    {
     "name": "stderr",
     "output_type": "stream",
     "text": [
      "Uploading predictions:  87%|████████▋ | 492/566 [01:25<00:13,  5.66it/s]"
     ]
    },
    {
     "name": "stdout",
     "output_type": "stream",
     "text": [
      "Prediction performed in 0.11346840858459473 seconds.\n",
      "Prediction performed in 0.1060028076171875 seconds.\n"
     ]
    },
    {
     "name": "stderr",
     "output_type": "stream",
     "text": [
      "Uploading predictions:  87%|████████▋ | 494/566 [01:25<00:12,  5.61it/s]"
     ]
    },
    {
     "name": "stdout",
     "output_type": "stream",
     "text": [
      "Prediction performed in 0.11504411697387695 seconds.\n",
      "Prediction performed in 0.09375762939453125 seconds.\n"
     ]
    },
    {
     "name": "stderr",
     "output_type": "stream",
     "text": [
      "Uploading predictions:  88%|████████▊ | 496/566 [01:26<00:12,  5.82it/s]"
     ]
    },
    {
     "name": "stdout",
     "output_type": "stream",
     "text": [
      "Prediction performed in 0.10938429832458496 seconds.\n",
      "Prediction performed in 0.09375667572021484 seconds.\n"
     ]
    },
    {
     "name": "stderr",
     "output_type": "stream",
     "text": [
      "Uploading predictions:  88%|████████▊ | 498/566 [01:26<00:11,  5.81it/s]"
     ]
    },
    {
     "name": "stdout",
     "output_type": "stream",
     "text": [
      "Prediction performed in 0.1038198471069336 seconds.\n",
      "Prediction performed in 0.09375238418579102 seconds.\n"
     ]
    },
    {
     "name": "stderr",
     "output_type": "stream",
     "text": [
      "Uploading predictions:  88%|████████▊ | 500/566 [01:26<00:11,  5.98it/s]"
     ]
    },
    {
     "name": "stdout",
     "output_type": "stream",
     "text": [
      "Prediction performed in 0.09642887115478516 seconds.\n",
      "Prediction performed in 0.10111427307128906 seconds.\n"
     ]
    },
    {
     "name": "stderr",
     "output_type": "stream",
     "text": [
      "Uploading predictions:  89%|████████▊ | 502/566 [01:27<00:10,  6.07it/s]"
     ]
    },
    {
     "name": "stdout",
     "output_type": "stream",
     "text": [
      "Prediction performed in 0.09791088104248047 seconds.\n",
      "Prediction performed in 0.09375643730163574 seconds.\n"
     ]
    },
    {
     "name": "stderr",
     "output_type": "stream",
     "text": [
      "Uploading predictions:  89%|████████▉ | 505/566 [01:27<00:09,  6.25it/s]"
     ]
    },
    {
     "name": "stdout",
     "output_type": "stream",
     "text": [
      "Prediction performed in 0.10491514205932617 seconds.\n",
      "Prediction performed in 0.10145068168640137 seconds.\n"
     ]
    },
    {
     "name": "stderr",
     "output_type": "stream",
     "text": [
      "Uploading predictions:  89%|████████▉ | 506/566 [01:27<00:09,  6.04it/s]"
     ]
    },
    {
     "name": "stdout",
     "output_type": "stream",
     "text": [
      "Prediction performed in 0.11193323135375977 seconds.\n",
      "Prediction performed in 0.09803628921508789 seconds.\n"
     ]
    },
    {
     "name": "stderr",
     "output_type": "stream",
     "text": [
      "Uploading predictions:  90%|████████▉ | 509/566 [01:28<00:09,  6.26it/s]"
     ]
    },
    {
     "name": "stdout",
     "output_type": "stream",
     "text": [
      "Prediction performed in 0.10605573654174805 seconds.\n",
      "Prediction performed in 0.0992882251739502 seconds.\n"
     ]
    },
    {
     "name": "stderr",
     "output_type": "stream",
     "text": [
      "Uploading predictions:  90%|█████████ | 511/566 [01:28<00:08,  6.37it/s]"
     ]
    },
    {
     "name": "stdout",
     "output_type": "stream",
     "text": [
      "Prediction performed in 0.11121296882629395 seconds.\n",
      "Prediction performed in 0.10099673271179199 seconds.\n"
     ]
    },
    {
     "name": "stderr",
     "output_type": "stream",
     "text": [
      "Uploading predictions:  90%|█████████ | 512/566 [01:28<00:08,  6.16it/s]"
     ]
    },
    {
     "name": "stdout",
     "output_type": "stream",
     "text": [
      "Prediction performed in 0.10196876525878906 seconds.\n",
      "Prediction performed in 0.10929679870605469 seconds.\n"
     ]
    },
    {
     "name": "stderr",
     "output_type": "stream",
     "text": [
      "Uploading predictions:  91%|█████████ | 514/566 [01:29<00:09,  5.46it/s]"
     ]
    },
    {
     "name": "stdout",
     "output_type": "stream",
     "text": [
      "Prediction performed in 0.10864806175231934 seconds.\n"
     ]
    },
    {
     "name": "stderr",
     "output_type": "stream",
     "text": [
      "Uploading predictions:  91%|█████████ | 515/566 [01:29<00:09,  5.52it/s]"
     ]
    },
    {
     "name": "stdout",
     "output_type": "stream",
     "text": [
      "Prediction performed in 0.1163489818572998 seconds.\n",
      "Prediction performed in 0.10797667503356934 seconds.\n"
     ]
    },
    {
     "name": "stderr",
     "output_type": "stream",
     "text": [
      "Uploading predictions:  91%|█████████▏| 517/566 [01:29<00:08,  5.64it/s]"
     ]
    },
    {
     "name": "stdout",
     "output_type": "stream",
     "text": [
      "Prediction performed in 0.09720802307128906 seconds.\n"
     ]
    },
    {
     "name": "stderr",
     "output_type": "stream",
     "text": [
      "Uploading predictions:  92%|█████████▏| 518/566 [01:29<00:09,  5.19it/s]"
     ]
    },
    {
     "name": "stdout",
     "output_type": "stream",
     "text": [
      "Prediction performed in 0.11821770668029785 seconds.\n",
      "Prediction performed in 0.10499739646911621 seconds.\n"
     ]
    },
    {
     "name": "stderr",
     "output_type": "stream",
     "text": [
      "Uploading predictions:  92%|█████████▏| 520/566 [01:30<00:08,  5.50it/s]"
     ]
    },
    {
     "name": "stdout",
     "output_type": "stream",
     "text": [
      "Prediction performed in 0.11847066879272461 seconds.\n",
      "Prediction performed in 0.11850929260253906 seconds.\n"
     ]
    },
    {
     "name": "stderr",
     "output_type": "stream",
     "text": [
      "Uploading predictions:  92%|█████████▏| 523/566 [01:30<00:07,  6.05it/s]"
     ]
    },
    {
     "name": "stdout",
     "output_type": "stream",
     "text": [
      "Prediction performed in 0.11696124076843262 seconds.\n",
      "Prediction performed in 0.0924835205078125 seconds.\n"
     ]
    },
    {
     "name": "stderr",
     "output_type": "stream",
     "text": [
      "Uploading predictions:  93%|█████████▎| 525/566 [01:31<00:07,  5.82it/s]"
     ]
    },
    {
     "name": "stdout",
     "output_type": "stream",
     "text": [
      "Prediction performed in 0.10704588890075684 seconds.\n",
      "Prediction performed in 0.11285734176635742 seconds.\n"
     ]
    },
    {
     "name": "stderr",
     "output_type": "stream",
     "text": [
      "Uploading predictions:  93%|█████████▎| 526/566 [01:31<00:07,  5.58it/s]"
     ]
    },
    {
     "name": "stdout",
     "output_type": "stream",
     "text": [
      "Prediction performed in 0.1377110481262207 seconds.\n",
      "Prediction performed in 0.10117125511169434 seconds.\n"
     ]
    },
    {
     "name": "stderr",
     "output_type": "stream",
     "text": [
      "Uploading predictions:  93%|█████████▎| 528/566 [01:31<00:06,  5.47it/s]"
     ]
    },
    {
     "name": "stdout",
     "output_type": "stream",
     "text": [
      "Prediction performed in 0.11709403991699219 seconds.\n",
      "Prediction performed in 0.09520125389099121 seconds.\n"
     ]
    },
    {
     "name": "stderr",
     "output_type": "stream",
     "text": [
      "Uploading predictions:  94%|█████████▍| 531/566 [01:32<00:05,  5.86it/s]"
     ]
    },
    {
     "name": "stdout",
     "output_type": "stream",
     "text": [
      "Prediction performed in 0.12500739097595215 seconds.\n",
      "Prediction performed in 0.09375691413879395 seconds.\n"
     ]
    },
    {
     "name": "stderr",
     "output_type": "stream",
     "text": [
      "Uploading predictions:  94%|█████████▍| 532/566 [01:32<00:05,  5.84it/s]"
     ]
    },
    {
     "name": "stdout",
     "output_type": "stream",
     "text": [
      "Prediction performed in 0.10938262939453125 seconds.\n",
      "Prediction performed in 0.09865593910217285 seconds.\n"
     ]
    },
    {
     "name": "stderr",
     "output_type": "stream",
     "text": [
      "Uploading predictions:  95%|█████████▍| 535/566 [01:32<00:05,  6.04it/s]"
     ]
    },
    {
     "name": "stdout",
     "output_type": "stream",
     "text": [
      "Prediction performed in 0.11800193786621094 seconds.\n",
      "Prediction performed in 0.10103082656860352 seconds.\n"
     ]
    },
    {
     "name": "stderr",
     "output_type": "stream",
     "text": [
      "Uploading predictions:  95%|█████████▍| 536/566 [01:32<00:05,  5.98it/s]"
     ]
    },
    {
     "name": "stdout",
     "output_type": "stream",
     "text": [
      "Prediction performed in 0.10994434356689453 seconds.\n",
      "Prediction performed in 0.10497140884399414 seconds.\n"
     ]
    },
    {
     "name": "stderr",
     "output_type": "stream",
     "text": [
      "Uploading predictions:  95%|█████████▌| 538/566 [01:33<00:04,  5.93it/s]"
     ]
    },
    {
     "name": "stdout",
     "output_type": "stream",
     "text": [
      "Prediction performed in 0.1192162036895752 seconds.\n",
      "Prediction performed in 0.0990896224975586 seconds.\n"
     ]
    },
    {
     "name": "stderr",
     "output_type": "stream",
     "text": [
      "Uploading predictions:  96%|█████████▌| 541/566 [01:33<00:04,  6.23it/s]"
     ]
    },
    {
     "name": "stdout",
     "output_type": "stream",
     "text": [
      "Prediction performed in 0.09795165061950684 seconds.\n",
      "Prediction performed in 0.10669279098510742 seconds.\n"
     ]
    },
    {
     "name": "stderr",
     "output_type": "stream",
     "text": [
      "Uploading predictions:  96%|█████████▌| 543/566 [01:34<00:03,  5.97it/s]"
     ]
    },
    {
     "name": "stdout",
     "output_type": "stream",
     "text": [
      "Prediction performed in 0.11687254905700684 seconds.\n",
      "Prediction performed in 0.09086799621582031 seconds.\n"
     ]
    },
    {
     "name": "stderr",
     "output_type": "stream",
     "text": [
      "Uploading predictions:  96%|█████████▌| 544/566 [01:34<00:03,  5.73it/s]"
     ]
    },
    {
     "name": "stdout",
     "output_type": "stream",
     "text": [
      "Prediction performed in 0.11071300506591797 seconds.\n",
      "Prediction performed in 0.10973048210144043 seconds.\n"
     ]
    },
    {
     "name": "stderr",
     "output_type": "stream",
     "text": [
      "Uploading predictions:  96%|█████████▋| 546/566 [01:34<00:03,  5.50it/s]"
     ]
    },
    {
     "name": "stdout",
     "output_type": "stream",
     "text": [
      "Prediction performed in 0.1170661449432373 seconds.\n",
      "Prediction performed in 0.08645749092102051 seconds.\n"
     ]
    },
    {
     "name": "stderr",
     "output_type": "stream",
     "text": [
      "Uploading predictions:  97%|█████████▋| 548/566 [01:34<00:03,  5.75it/s]"
     ]
    },
    {
     "name": "stdout",
     "output_type": "stream",
     "text": [
      "Prediction performed in 0.10901737213134766 seconds.\n",
      "Prediction performed in 0.11442923545837402 seconds.\n"
     ]
    },
    {
     "name": "stderr",
     "output_type": "stream",
     "text": [
      "Uploading predictions:  97%|█████████▋| 550/566 [01:35<00:02,  5.44it/s]"
     ]
    },
    {
     "name": "stdout",
     "output_type": "stream",
     "text": [
      "Prediction performed in 0.12570571899414062 seconds.\n",
      "Prediction performed in 0.11637210845947266 seconds.\n"
     ]
    },
    {
     "name": "stderr",
     "output_type": "stream",
     "text": [
      "Uploading predictions:  98%|█████████▊| 552/566 [01:35<00:02,  5.34it/s]"
     ]
    },
    {
     "name": "stdout",
     "output_type": "stream",
     "text": [
      "Prediction performed in 0.11704015731811523 seconds.\n",
      "Prediction performed in 0.11270833015441895 seconds.\n"
     ]
    },
    {
     "name": "stderr",
     "output_type": "stream",
     "text": [
      "Uploading predictions:  98%|█████████▊| 555/566 [01:36<00:01,  5.92it/s]"
     ]
    },
    {
     "name": "stdout",
     "output_type": "stream",
     "text": [
      "Prediction performed in 0.11266493797302246 seconds.\n",
      "Prediction performed in 0.10010671615600586 seconds.\n"
     ]
    },
    {
     "name": "stderr",
     "output_type": "stream",
     "text": [
      "Uploading predictions:  98%|█████████▊| 557/566 [01:36<00:01,  5.94it/s]"
     ]
    },
    {
     "name": "stdout",
     "output_type": "stream",
     "text": [
      "Prediction performed in 0.11237454414367676 seconds.\n",
      "Prediction performed in 0.09890580177307129 seconds.\n"
     ]
    },
    {
     "name": "stderr",
     "output_type": "stream",
     "text": [
      "Uploading predictions:  99%|█████████▊| 558/566 [01:36<00:01,  5.95it/s]"
     ]
    },
    {
     "name": "stdout",
     "output_type": "stream",
     "text": [
      "Prediction performed in 0.11209225654602051 seconds.\n",
      "Prediction performed in 0.09735870361328125 seconds.\n"
     ]
    },
    {
     "name": "stderr",
     "output_type": "stream",
     "text": [
      "Uploading predictions:  99%|█████████▉| 560/566 [01:37<00:01,  5.99it/s]"
     ]
    },
    {
     "name": "stdout",
     "output_type": "stream",
     "text": [
      "Prediction performed in 0.10932731628417969 seconds.\n",
      "Prediction performed in 0.10659122467041016 seconds.\n"
     ]
    },
    {
     "name": "stderr",
     "output_type": "stream",
     "text": [
      "Uploading predictions:  99%|█████████▉| 563/566 [01:37<00:00,  6.01it/s]"
     ]
    },
    {
     "name": "stdout",
     "output_type": "stream",
     "text": [
      "Prediction performed in 0.11917948722839355 seconds.\n",
      "Prediction performed in 0.09656810760498047 seconds.\n"
     ]
    },
    {
     "name": "stderr",
     "output_type": "stream",
     "text": [
      "Uploading predictions: 100%|█████████▉| 564/566 [01:37<00:00,  6.11it/s]"
     ]
    },
    {
     "name": "stdout",
     "output_type": "stream",
     "text": [
      "Prediction performed in 0.10020279884338379 seconds.\n",
      "Prediction performed in 0.10305976867675781 seconds.\n"
     ]
    },
    {
     "name": "stderr",
     "output_type": "stream",
     "text": [
      "Uploading predictions: 100%|██████████| 566/566 [01:38<00:00,  5.77it/s]\n"
     ]
    },
    {
     "name": "stdout",
     "output_type": "stream",
     "text": [
      "Prediction performed in 0.11265206336975098 seconds.\n"
     ]
    },
    {
     "name": "stderr",
     "output_type": "stream",
     "text": [
      "02/14/2025 17:06:00 - INFO - datalabeling.annotator.models -   Computing device: cuda:0\n",
      "Uploading predictions:   0%|          | 2/566 [00:00<01:58,  4.77it/s]"
     ]
    },
    {
     "name": "stdout",
     "output_type": "stream",
     "text": [
      "Prediction performed in 0.25263500213623047 seconds.\n",
      "Prediction performed in 0.1076657772064209 seconds.\n"
     ]
    },
    {
     "name": "stderr",
     "output_type": "stream",
     "text": [
      "Uploading predictions:   1%|          | 4/566 [00:00<01:37,  5.77it/s]"
     ]
    },
    {
     "name": "stdout",
     "output_type": "stream",
     "text": [
      "Prediction performed in 0.1064443588256836 seconds.\n",
      "Prediction performed in 0.11932110786437988 seconds.\n"
     ]
    },
    {
     "name": "stderr",
     "output_type": "stream",
     "text": [
      "Uploading predictions:   1%|          | 6/566 [00:01<01:28,  6.34it/s]"
     ]
    },
    {
     "name": "stdout",
     "output_type": "stream",
     "text": [
      "Prediction performed in 0.09798359870910645 seconds.\n",
      "Prediction performed in 0.10996699333190918 seconds.\n"
     ]
    },
    {
     "name": "stderr",
     "output_type": "stream",
     "text": [
      "Uploading predictions:   1%|          | 7/566 [00:01<01:26,  6.43it/s]"
     ]
    },
    {
     "name": "stdout",
     "output_type": "stream",
     "text": [
      "Prediction performed in 0.11257338523864746 seconds.\n",
      "Prediction performed in 0.11565327644348145 seconds.\n"
     ]
    },
    {
     "name": "stderr",
     "output_type": "stream",
     "text": [
      "Uploading predictions:   2%|▏         | 10/566 [00:01<01:28,  6.25it/s]"
     ]
    },
    {
     "name": "stdout",
     "output_type": "stream",
     "text": [
      "Prediction performed in 0.11101341247558594 seconds.\n",
      "Prediction performed in 0.12302780151367188 seconds.\n"
     ]
    },
    {
     "name": "stderr",
     "output_type": "stream",
     "text": [
      "Uploading predictions:   2%|▏         | 11/566 [00:01<01:30,  6.14it/s]"
     ]
    },
    {
     "name": "stdout",
     "output_type": "stream",
     "text": [
      "Prediction performed in 0.12179040908813477 seconds.\n",
      "Prediction performed in 0.12163257598876953 seconds.\n"
     ]
    },
    {
     "name": "stderr",
     "output_type": "stream",
     "text": [
      "Uploading predictions:   2%|▏         | 14/566 [00:02<01:26,  6.41it/s]"
     ]
    },
    {
     "name": "stdout",
     "output_type": "stream",
     "text": [
      "Prediction performed in 0.09375715255737305 seconds.\n",
      "Prediction performed in 0.10815024375915527 seconds.\n"
     ]
    },
    {
     "name": "stderr",
     "output_type": "stream",
     "text": [
      "Uploading predictions:   3%|▎         | 15/566 [00:02<01:24,  6.49it/s]"
     ]
    },
    {
     "name": "stdout",
     "output_type": "stream",
     "text": [
      "Prediction performed in 0.10152864456176758 seconds.\n",
      "Prediction performed in 0.12060809135437012 seconds.\n"
     ]
    },
    {
     "name": "stderr",
     "output_type": "stream",
     "text": [
      "Uploading predictions:   3%|▎         | 17/566 [00:02<01:31,  6.02it/s]"
     ]
    },
    {
     "name": "stdout",
     "output_type": "stream",
     "text": [
      "Prediction performed in 0.13393759727478027 seconds.\n",
      "Prediction performed in 0.12832927703857422 seconds.\n"
     ]
    },
    {
     "name": "stderr",
     "output_type": "stream",
     "text": [
      "Uploading predictions:   3%|▎         | 19/566 [00:03<01:32,  5.93it/s]"
     ]
    },
    {
     "name": "stdout",
     "output_type": "stream",
     "text": [
      "Prediction performed in 0.11134743690490723 seconds.\n",
      "Prediction performed in 0.14886832237243652 seconds.\n"
     ]
    },
    {
     "name": "stderr",
     "output_type": "stream",
     "text": [
      "Uploading predictions:   4%|▎         | 21/566 [00:03<01:32,  5.92it/s]"
     ]
    },
    {
     "name": "stdout",
     "output_type": "stream",
     "text": [
      "Prediction performed in 0.10939717292785645 seconds.\n",
      "Prediction performed in 0.11160063743591309 seconds.\n"
     ]
    },
    {
     "name": "stderr",
     "output_type": "stream",
     "text": [
      "Uploading predictions:   4%|▍         | 23/566 [00:03<01:27,  6.17it/s]"
     ]
    },
    {
     "name": "stdout",
     "output_type": "stream",
     "text": [
      "Prediction performed in 0.10188055038452148 seconds.\n",
      "Prediction performed in 0.114532470703125 seconds.\n"
     ]
    },
    {
     "name": "stderr",
     "output_type": "stream",
     "text": [
      "Uploading predictions:   5%|▍         | 26/566 [00:04<01:23,  6.49it/s]"
     ]
    },
    {
     "name": "stdout",
     "output_type": "stream",
     "text": [
      "Prediction performed in 0.09893918037414551 seconds.\n",
      "Prediction performed in 0.12500929832458496 seconds.\n"
     ]
    },
    {
     "name": "stderr",
     "output_type": "stream",
     "text": [
      "Uploading predictions:   5%|▍         | 27/566 [00:04<01:20,  6.67it/s]"
     ]
    },
    {
     "name": "stdout",
     "output_type": "stream",
     "text": [
      "Prediction performed in 0.10938358306884766 seconds.\n",
      "Prediction performed in 0.1175544261932373 seconds.\n"
     ]
    },
    {
     "name": "stderr",
     "output_type": "stream",
     "text": [
      "Uploading predictions:   5%|▌         | 30/566 [00:04<01:22,  6.51it/s]"
     ]
    },
    {
     "name": "stdout",
     "output_type": "stream",
     "text": [
      "Prediction performed in 0.1006007194519043 seconds.\n",
      "Prediction performed in 0.11100935935974121 seconds.\n"
     ]
    },
    {
     "name": "stderr",
     "output_type": "stream",
     "text": [
      "Uploading predictions:   6%|▌         | 32/566 [00:05<01:22,  6.51it/s]"
     ]
    },
    {
     "name": "stdout",
     "output_type": "stream",
     "text": [
      "Prediction performed in 0.10500836372375488 seconds.\n",
      "Prediction performed in 0.11606550216674805 seconds.\n"
     ]
    },
    {
     "name": "stderr",
     "output_type": "stream",
     "text": [
      "Uploading predictions:   6%|▌         | 34/566 [00:05<01:20,  6.57it/s]"
     ]
    },
    {
     "name": "stdout",
     "output_type": "stream",
     "text": [
      "Prediction performed in 0.10082268714904785 seconds.\n",
      "Prediction performed in 0.11136364936828613 seconds.\n"
     ]
    },
    {
     "name": "stderr",
     "output_type": "stream",
     "text": [
      "Uploading predictions:   6%|▌         | 35/566 [00:05<01:19,  6.67it/s]"
     ]
    },
    {
     "name": "stdout",
     "output_type": "stream",
     "text": [
      "Prediction performed in 0.10486268997192383 seconds.\n",
      "Prediction performed in 0.11900973320007324 seconds.\n"
     ]
    },
    {
     "name": "stderr",
     "output_type": "stream",
     "text": [
      "Uploading predictions:   7%|▋         | 37/566 [00:05<01:18,  6.73it/s]"
     ]
    },
    {
     "name": "stdout",
     "output_type": "stream",
     "text": [
      "Prediction performed in 0.08564949035644531 seconds.\n",
      "Prediction performed in 0.11409187316894531 seconds.\n"
     ]
    },
    {
     "name": "stderr",
     "output_type": "stream",
     "text": [
      "Uploading predictions:   7%|▋         | 39/566 [00:06<01:24,  6.22it/s]"
     ]
    },
    {
     "name": "stdout",
     "output_type": "stream",
     "text": [
      "Prediction performed in 0.11592841148376465 seconds.\n",
      "Prediction performed in 0.12524914741516113 seconds.\n"
     ]
    },
    {
     "name": "stderr",
     "output_type": "stream",
     "text": [
      "Uploading predictions:   7%|▋         | 41/566 [00:06<01:25,  6.11it/s]"
     ]
    },
    {
     "name": "stdout",
     "output_type": "stream",
     "text": [
      "Prediction performed in 0.11235976219177246 seconds.\n",
      "Prediction performed in 0.11014413833618164 seconds.\n"
     ]
    },
    {
     "name": "stderr",
     "output_type": "stream",
     "text": [
      "Uploading predictions:   8%|▊         | 43/566 [00:06<01:26,  6.08it/s]"
     ]
    },
    {
     "name": "stdout",
     "output_type": "stream",
     "text": [
      "Prediction performed in 0.10916852951049805 seconds.\n",
      "Prediction performed in 0.1263892650604248 seconds.\n"
     ]
    },
    {
     "name": "stderr",
     "output_type": "stream",
     "text": [
      "Uploading predictions:   8%|▊         | 45/566 [00:07<01:27,  5.93it/s]"
     ]
    },
    {
     "name": "stdout",
     "output_type": "stream",
     "text": [
      "Prediction performed in 0.11389970779418945 seconds.\n"
     ]
    },
    {
     "name": "stderr",
     "output_type": "stream",
     "text": [
      "Uploading predictions:   8%|▊         | 47/566 [00:07<01:26,  6.01it/s]"
     ]
    },
    {
     "name": "stdout",
     "output_type": "stream",
     "text": [
      "Prediction performed in 0.1546339988708496 seconds.\n",
      "Prediction performed in 0.10404801368713379 seconds.\n"
     ]
    },
    {
     "name": "stderr",
     "output_type": "stream",
     "text": [
      "Uploading predictions:   9%|▊         | 49/566 [00:07<01:23,  6.18it/s]"
     ]
    },
    {
     "name": "stdout",
     "output_type": "stream",
     "text": [
      "Prediction performed in 0.11831068992614746 seconds.\n",
      "Prediction performed in 0.10458612442016602 seconds.\n"
     ]
    },
    {
     "name": "stderr",
     "output_type": "stream",
     "text": [
      "Uploading predictions:   9%|▉         | 51/566 [00:08<01:20,  6.37it/s]"
     ]
    },
    {
     "name": "stdout",
     "output_type": "stream",
     "text": [
      "Prediction performed in 0.11290884017944336 seconds.\n",
      "Prediction performed in 0.10661768913269043 seconds.\n"
     ]
    },
    {
     "name": "stderr",
     "output_type": "stream",
     "text": [
      "Uploading predictions:   9%|▉         | 53/566 [00:08<01:17,  6.61it/s]"
     ]
    },
    {
     "name": "stdout",
     "output_type": "stream",
     "text": [
      "Prediction performed in 0.11417603492736816 seconds.\n",
      "Prediction performed in 0.09738850593566895 seconds.\n"
     ]
    },
    {
     "name": "stderr",
     "output_type": "stream",
     "text": [
      "Uploading predictions:  10%|▉         | 55/566 [00:08<01:15,  6.80it/s]"
     ]
    },
    {
     "name": "stdout",
     "output_type": "stream",
     "text": [
      "Prediction performed in 0.09731054306030273 seconds.\n",
      "Prediction performed in 0.09375810623168945 seconds.\n"
     ]
    },
    {
     "name": "stderr",
     "output_type": "stream",
     "text": [
      "Uploading predictions:  10%|█         | 57/566 [00:09<01:14,  6.80it/s]"
     ]
    },
    {
     "name": "stdout",
     "output_type": "stream",
     "text": [
      "Prediction performed in 0.10944151878356934 seconds.\n",
      "Prediction performed in 0.09375810623168945 seconds.\n"
     ]
    },
    {
     "name": "stderr",
     "output_type": "stream",
     "text": [
      "Uploading predictions:  10%|█         | 59/566 [00:09<01:15,  6.74it/s]"
     ]
    },
    {
     "name": "stdout",
     "output_type": "stream",
     "text": [
      "Prediction performed in 0.10938382148742676 seconds.\n",
      "Prediction performed in 0.09375739097595215 seconds.\n"
     ]
    },
    {
     "name": "stderr",
     "output_type": "stream",
     "text": [
      "Uploading predictions:  11%|█         | 61/566 [00:09<01:15,  6.70it/s]"
     ]
    },
    {
     "name": "stdout",
     "output_type": "stream",
     "text": [
      "Prediction performed in 0.10938477516174316 seconds.\n",
      "Prediction performed in 0.10345959663391113 seconds.\n"
     ]
    },
    {
     "name": "stderr",
     "output_type": "stream",
     "text": [
      "Uploading predictions:  11%|█         | 63/566 [00:10<01:15,  6.69it/s]"
     ]
    },
    {
     "name": "stdout",
     "output_type": "stream",
     "text": [
      "Prediction performed in 0.11494731903076172 seconds.\n",
      "Prediction performed in 0.10291790962219238 seconds.\n"
     ]
    },
    {
     "name": "stderr",
     "output_type": "stream",
     "text": [
      "Uploading predictions:  11%|█▏        | 65/566 [00:10<01:16,  6.57it/s]"
     ]
    },
    {
     "name": "stdout",
     "output_type": "stream",
     "text": [
      "Prediction performed in 0.11606287956237793 seconds.\n",
      "Prediction performed in 0.10979533195495605 seconds.\n"
     ]
    },
    {
     "name": "stderr",
     "output_type": "stream",
     "text": [
      "Uploading predictions:  12%|█▏        | 67/566 [00:10<01:15,  6.60it/s]"
     ]
    },
    {
     "name": "stdout",
     "output_type": "stream",
     "text": [
      "Prediction performed in 0.1206052303314209 seconds.\n",
      "Prediction performed in 0.09800553321838379 seconds.\n"
     ]
    },
    {
     "name": "stderr",
     "output_type": "stream",
     "text": [
      "Uploading predictions:  12%|█▏        | 69/566 [00:10<01:16,  6.54it/s]"
     ]
    },
    {
     "name": "stdout",
     "output_type": "stream",
     "text": [
      "Prediction performed in 0.11100029945373535 seconds.\n",
      "Prediction performed in 0.11940169334411621 seconds.\n"
     ]
    },
    {
     "name": "stderr",
     "output_type": "stream",
     "text": [
      "Uploading predictions:  13%|█▎        | 71/566 [00:11<01:18,  6.34it/s]"
     ]
    },
    {
     "name": "stdout",
     "output_type": "stream",
     "text": [
      "Prediction performed in 0.1452345848083496 seconds.\n",
      "Prediction performed in 0.09641861915588379 seconds.\n"
     ]
    },
    {
     "name": "stderr",
     "output_type": "stream",
     "text": [
      "Uploading predictions:  13%|█▎        | 73/566 [00:11<01:20,  6.14it/s]"
     ]
    },
    {
     "name": "stdout",
     "output_type": "stream",
     "text": [
      "Prediction performed in 0.13093996047973633 seconds.\n",
      "Prediction performed in 0.11296224594116211 seconds.\n"
     ]
    },
    {
     "name": "stderr",
     "output_type": "stream",
     "text": [
      "Uploading predictions:  13%|█▎        | 75/566 [00:11<01:16,  6.39it/s]"
     ]
    },
    {
     "name": "stdout",
     "output_type": "stream",
     "text": [
      "Prediction performed in 0.11547136306762695 seconds.\n",
      "Prediction performed in 0.10406041145324707 seconds.\n"
     ]
    },
    {
     "name": "stderr",
     "output_type": "stream",
     "text": [
      "Uploading predictions:  13%|█▎        | 76/566 [00:12<01:17,  6.31it/s]"
     ]
    },
    {
     "name": "stdout",
     "output_type": "stream",
     "text": [
      "Prediction performed in 0.11551904678344727 seconds.\n",
      "Prediction performed in 0.12723636627197266 seconds.\n"
     ]
    },
    {
     "name": "stderr",
     "output_type": "stream",
     "text": [
      "Uploading predictions:  14%|█▍        | 78/566 [00:12<01:24,  5.76it/s]"
     ]
    },
    {
     "name": "stdout",
     "output_type": "stream",
     "text": [
      "Prediction performed in 0.13219356536865234 seconds.\n",
      "Prediction performed in 0.11454582214355469 seconds.\n"
     ]
    },
    {
     "name": "stderr",
     "output_type": "stream",
     "text": [
      "Uploading predictions:  14%|█▍        | 81/566 [00:12<01:20,  6.02it/s]"
     ]
    },
    {
     "name": "stdout",
     "output_type": "stream",
     "text": [
      "Prediction performed in 0.12501049041748047 seconds.\n",
      "Prediction performed in 0.10793042182922363 seconds.\n"
     ]
    },
    {
     "name": "stderr",
     "output_type": "stream",
     "text": [
      "Uploading predictions:  15%|█▍        | 83/566 [00:13<01:15,  6.42it/s]"
     ]
    },
    {
     "name": "stdout",
     "output_type": "stream",
     "text": [
      "Prediction performed in 0.11367321014404297 seconds.\n",
      "Prediction performed in 0.10381245613098145 seconds.\n"
     ]
    },
    {
     "name": "stderr",
     "output_type": "stream",
     "text": [
      "Uploading predictions:  15%|█▌        | 85/566 [00:13<01:14,  6.49it/s]"
     ]
    },
    {
     "name": "stdout",
     "output_type": "stream",
     "text": [
      "Prediction performed in 0.11901187896728516 seconds.\n",
      "Prediction performed in 0.10669517517089844 seconds.\n"
     ]
    },
    {
     "name": "stderr",
     "output_type": "stream",
     "text": [
      "Uploading predictions:  15%|█▌        | 87/566 [00:13<01:12,  6.59it/s]"
     ]
    },
    {
     "name": "stdout",
     "output_type": "stream",
     "text": [
      "Prediction performed in 0.11694002151489258 seconds.\n",
      "Prediction performed in 0.10118770599365234 seconds.\n"
     ]
    },
    {
     "name": "stderr",
     "output_type": "stream",
     "text": [
      "Uploading predictions:  16%|█▌        | 89/566 [00:14<01:11,  6.64it/s]"
     ]
    },
    {
     "name": "stdout",
     "output_type": "stream",
     "text": [
      "Prediction performed in 0.10982275009155273 seconds.\n",
      "Prediction performed in 0.10715460777282715 seconds.\n"
     ]
    },
    {
     "name": "stderr",
     "output_type": "stream",
     "text": [
      "Uploading predictions:  16%|█▌        | 91/566 [00:14<01:10,  6.76it/s]"
     ]
    },
    {
     "name": "stdout",
     "output_type": "stream",
     "text": [
      "Prediction performed in 0.1181488037109375 seconds.\n",
      "Prediction performed in 0.10329079627990723 seconds.\n"
     ]
    },
    {
     "name": "stderr",
     "output_type": "stream",
     "text": [
      "Uploading predictions:  16%|█▋        | 93/566 [00:14<01:09,  6.78it/s]"
     ]
    },
    {
     "name": "stdout",
     "output_type": "stream",
     "text": [
      "Prediction performed in 0.11913299560546875 seconds.\n",
      "Prediction performed in 0.10320353507995605 seconds.\n"
     ]
    },
    {
     "name": "stderr",
     "output_type": "stream",
     "text": [
      "Uploading predictions:  17%|█▋        | 95/566 [00:15<01:13,  6.42it/s]"
     ]
    },
    {
     "name": "stdout",
     "output_type": "stream",
     "text": [
      "Prediction performed in 0.13351726531982422 seconds.\n",
      "Prediction performed in 0.11799383163452148 seconds.\n"
     ]
    },
    {
     "name": "stderr",
     "output_type": "stream",
     "text": [
      "Uploading predictions:  17%|█▋        | 96/566 [00:15<01:19,  5.91it/s]"
     ]
    },
    {
     "name": "stdout",
     "output_type": "stream",
     "text": [
      "Prediction performed in 0.14983153343200684 seconds.\n",
      "Prediction performed in 0.1116020679473877 seconds.\n"
     ]
    },
    {
     "name": "stderr",
     "output_type": "stream",
     "text": [
      "Uploading predictions:  17%|█▋        | 99/566 [00:15<01:16,  6.13it/s]"
     ]
    },
    {
     "name": "stdout",
     "output_type": "stream",
     "text": [
      "Prediction performed in 0.13248038291931152 seconds.\n",
      "Prediction performed in 0.10713601112365723 seconds.\n"
     ]
    },
    {
     "name": "stderr",
     "output_type": "stream",
     "text": [
      "Uploading predictions:  18%|█▊        | 100/566 [00:15<01:16,  6.09it/s]"
     ]
    },
    {
     "name": "stdout",
     "output_type": "stream",
     "text": [
      "Prediction performed in 0.11881875991821289 seconds.\n",
      "Prediction performed in 0.11270999908447266 seconds.\n"
     ]
    },
    {
     "name": "stderr",
     "output_type": "stream",
     "text": [
      "Uploading predictions:  18%|█▊        | 103/566 [00:16<01:17,  6.00it/s]"
     ]
    },
    {
     "name": "stdout",
     "output_type": "stream",
     "text": [
      "Prediction performed in 0.14347100257873535 seconds.\n",
      "Prediction performed in 0.11653423309326172 seconds.\n"
     ]
    },
    {
     "name": "stderr",
     "output_type": "stream",
     "text": [
      "Uploading predictions:  19%|█▊        | 105/566 [00:16<01:13,  6.25it/s]"
     ]
    },
    {
     "name": "stdout",
     "output_type": "stream",
     "text": [
      "Prediction performed in 0.1163489818572998 seconds.\n",
      "Prediction performed in 0.09248948097229004 seconds.\n"
     ]
    },
    {
     "name": "stderr",
     "output_type": "stream",
     "text": [
      "Uploading predictions:  19%|█▉        | 107/566 [00:17<01:11,  6.38it/s]"
     ]
    },
    {
     "name": "stdout",
     "output_type": "stream",
     "text": [
      "Prediction performed in 0.12501049041748047 seconds.\n",
      "Prediction performed in 0.11216235160827637 seconds.\n"
     ]
    },
    {
     "name": "stderr",
     "output_type": "stream",
     "text": [
      "Uploading predictions:  19%|█▉        | 109/566 [00:17<01:09,  6.53it/s]"
     ]
    },
    {
     "name": "stdout",
     "output_type": "stream",
     "text": [
      "Prediction performed in 0.09864568710327148 seconds.\n",
      "Prediction performed in 0.10555148124694824 seconds.\n"
     ]
    },
    {
     "name": "stderr",
     "output_type": "stream",
     "text": [
      "Uploading predictions:  20%|█▉        | 111/566 [00:17<01:07,  6.73it/s]"
     ]
    },
    {
     "name": "stdout",
     "output_type": "stream",
     "text": [
      "Prediction performed in 0.11687231063842773 seconds.\n",
      "Prediction performed in 0.10041236877441406 seconds.\n"
     ]
    },
    {
     "name": "stderr",
     "output_type": "stream",
     "text": [
      "Uploading predictions:  20%|█▉        | 113/566 [00:17<01:08,  6.60it/s]"
     ]
    },
    {
     "name": "stdout",
     "output_type": "stream",
     "text": [
      "Prediction performed in 0.12174320220947266 seconds.\n",
      "Prediction performed in 0.1079552173614502 seconds.\n"
     ]
    },
    {
     "name": "stderr",
     "output_type": "stream",
     "text": [
      "Uploading predictions:  20%|██        | 115/566 [00:18<01:07,  6.72it/s]"
     ]
    },
    {
     "name": "stdout",
     "output_type": "stream",
     "text": [
      "Prediction performed in 0.11694884300231934 seconds.\n",
      "Prediction performed in 0.09851336479187012 seconds.\n"
     ]
    },
    {
     "name": "stderr",
     "output_type": "stream",
     "text": [
      "Uploading predictions:  21%|██        | 117/566 [00:18<01:07,  6.70it/s]"
     ]
    },
    {
     "name": "stdout",
     "output_type": "stream",
     "text": [
      "Prediction performed in 0.11039376258850098 seconds.\n",
      "Prediction performed in 0.10499405860900879 seconds.\n"
     ]
    },
    {
     "name": "stderr",
     "output_type": "stream",
     "text": [
      "Uploading predictions:  21%|██        | 119/566 [00:18<01:05,  6.79it/s]"
     ]
    },
    {
     "name": "stdout",
     "output_type": "stream",
     "text": [
      "Prediction performed in 0.11775469779968262 seconds.\n",
      "Prediction performed in 0.08629107475280762 seconds.\n"
     ]
    },
    {
     "name": "stderr",
     "output_type": "stream",
     "text": [
      "Uploading predictions:  21%|██▏       | 121/566 [00:19<01:06,  6.67it/s]"
     ]
    },
    {
     "name": "stdout",
     "output_type": "stream",
     "text": [
      "Prediction performed in 0.1201469898223877 seconds.\n",
      "Prediction performed in 0.10689282417297363 seconds.\n"
     ]
    },
    {
     "name": "stderr",
     "output_type": "stream",
     "text": [
      "Uploading predictions:  22%|██▏       | 123/566 [00:19<01:04,  6.85it/s]"
     ]
    },
    {
     "name": "stdout",
     "output_type": "stream",
     "text": [
      "Prediction performed in 0.11604857444763184 seconds.\n",
      "Prediction performed in 0.09890151023864746 seconds.\n"
     ]
    },
    {
     "name": "stderr",
     "output_type": "stream",
     "text": [
      "Uploading predictions:  22%|██▏       | 125/566 [00:19<01:04,  6.83it/s]"
     ]
    },
    {
     "name": "stdout",
     "output_type": "stream",
     "text": [
      "Prediction performed in 0.10938477516174316 seconds.\n",
      "Prediction performed in 0.10938429832458496 seconds.\n"
     ]
    },
    {
     "name": "stderr",
     "output_type": "stream",
     "text": [
      "Uploading predictions:  22%|██▏       | 127/566 [00:20<01:04,  6.81it/s]"
     ]
    },
    {
     "name": "stdout",
     "output_type": "stream",
     "text": [
      "Prediction performed in 0.12501096725463867 seconds.\n",
      "Prediction performed in 0.09375882148742676 seconds.\n"
     ]
    },
    {
     "name": "stderr",
     "output_type": "stream",
     "text": [
      "Uploading predictions:  23%|██▎       | 129/566 [00:20<01:04,  6.79it/s]"
     ]
    },
    {
     "name": "stdout",
     "output_type": "stream",
     "text": [
      "Prediction performed in 0.10938453674316406 seconds.\n",
      "Prediction performed in 0.10938334465026855 seconds.\n"
     ]
    },
    {
     "name": "stderr",
     "output_type": "stream",
     "text": [
      "Uploading predictions:  23%|██▎       | 131/566 [00:20<01:03,  6.87it/s]"
     ]
    },
    {
     "name": "stdout",
     "output_type": "stream",
     "text": [
      "Prediction performed in 0.10938262939453125 seconds.\n",
      "Prediction performed in 0.09375643730163574 seconds.\n"
     ]
    },
    {
     "name": "stderr",
     "output_type": "stream",
     "text": [
      "Uploading predictions:  23%|██▎       | 132/566 [00:20<01:04,  6.72it/s]"
     ]
    },
    {
     "name": "stdout",
     "output_type": "stream",
     "text": [
      "Prediction performed in 0.09375810623168945 seconds.\n",
      "Prediction performed in 0.10938382148742676 seconds.\n"
     ]
    },
    {
     "name": "stderr",
     "output_type": "stream",
     "text": [
      "Uploading predictions:  24%|██▍       | 135/566 [00:21<01:04,  6.71it/s]"
     ]
    },
    {
     "name": "stdout",
     "output_type": "stream",
     "text": [
      "Prediction performed in 0.1094202995300293 seconds.\n",
      "Prediction performed in 0.09375739097595215 seconds.\n"
     ]
    },
    {
     "name": "stderr",
     "output_type": "stream",
     "text": [
      "Uploading predictions:  24%|██▍       | 137/566 [00:21<01:04,  6.69it/s]"
     ]
    },
    {
     "name": "stdout",
     "output_type": "stream",
     "text": [
      "Prediction performed in 0.10938477516174316 seconds.\n",
      "Prediction performed in 0.09375905990600586 seconds.\n"
     ]
    },
    {
     "name": "stderr",
     "output_type": "stream",
     "text": [
      "Uploading predictions:  25%|██▍       | 139/566 [00:21<01:01,  6.90it/s]"
     ]
    },
    {
     "name": "stdout",
     "output_type": "stream",
     "text": [
      "Prediction performed in 0.10938525199890137 seconds.\n",
      "Prediction performed in 0.10938382148742676 seconds.\n"
     ]
    },
    {
     "name": "stderr",
     "output_type": "stream",
     "text": [
      "Uploading predictions:  25%|██▍       | 141/566 [00:22<01:02,  6.85it/s]"
     ]
    },
    {
     "name": "stdout",
     "output_type": "stream",
     "text": [
      "Prediction performed in 0.10938382148742676 seconds.\n",
      "Prediction performed in 0.10938239097595215 seconds.\n"
     ]
    },
    {
     "name": "stderr",
     "output_type": "stream",
     "text": [
      "Uploading predictions:  25%|██▌       | 143/566 [00:22<01:02,  6.82it/s]"
     ]
    },
    {
     "name": "stdout",
     "output_type": "stream",
     "text": [
      "Prediction performed in 0.1253972053527832 seconds.\n",
      "Prediction performed in 0.09375810623168945 seconds.\n"
     ]
    },
    {
     "name": "stderr",
     "output_type": "stream",
     "text": [
      "Uploading predictions:  26%|██▌       | 145/566 [00:22<01:03,  6.60it/s]"
     ]
    },
    {
     "name": "stdout",
     "output_type": "stream",
     "text": [
      "Prediction performed in 0.12501072883605957 seconds.\n",
      "Prediction performed in 0.10938334465026855 seconds.\n"
     ]
    },
    {
     "name": "stderr",
     "output_type": "stream",
     "text": [
      "Uploading predictions:  26%|██▌       | 147/566 [00:23<01:02,  6.69it/s]"
     ]
    },
    {
     "name": "stdout",
     "output_type": "stream",
     "text": [
      "Prediction performed in 0.10938334465026855 seconds.\n",
      "Prediction performed in 0.09425544738769531 seconds.\n"
     ]
    },
    {
     "name": "stderr",
     "output_type": "stream",
     "text": [
      "Uploading predictions:  26%|██▌       | 148/566 [00:23<01:01,  6.81it/s]"
     ]
    },
    {
     "name": "stdout",
     "output_type": "stream",
     "text": [
      "Prediction performed in 0.10938429832458496 seconds.\n",
      "Prediction performed in 0.12501001358032227 seconds.\n"
     ]
    },
    {
     "name": "stderr",
     "output_type": "stream",
     "text": [
      "Uploading predictions:  27%|██▋       | 151/566 [00:23<01:01,  6.70it/s]"
     ]
    },
    {
     "name": "stdout",
     "output_type": "stream",
     "text": [
      "Prediction performed in 0.12501215934753418 seconds.\n",
      "Prediction performed in 0.09375762939453125 seconds.\n"
     ]
    },
    {
     "name": "stderr",
     "output_type": "stream",
     "text": [
      "Uploading predictions:  27%|██▋       | 153/566 [00:23<01:03,  6.54it/s]"
     ]
    },
    {
     "name": "stdout",
     "output_type": "stream",
     "text": [
      "Prediction performed in 0.10938405990600586 seconds.\n",
      "Prediction performed in 0.09375929832458496 seconds.\n"
     ]
    },
    {
     "name": "stderr",
     "output_type": "stream",
     "text": [
      "Uploading predictions:  27%|██▋       | 155/566 [00:24<01:01,  6.67it/s]"
     ]
    },
    {
     "name": "stdout",
     "output_type": "stream",
     "text": [
      "Prediction performed in 0.1250159740447998 seconds.\n",
      "Prediction performed in 0.10938429832458496 seconds.\n"
     ]
    },
    {
     "name": "stderr",
     "output_type": "stream",
     "text": [
      "Uploading predictions:  28%|██▊       | 157/566 [00:24<01:02,  6.53it/s]"
     ]
    },
    {
     "name": "stdout",
     "output_type": "stream",
     "text": [
      "Prediction performed in 0.12501001358032227 seconds.\n",
      "Prediction performed in 0.10938382148742676 seconds.\n"
     ]
    },
    {
     "name": "stderr",
     "output_type": "stream",
     "text": [
      "Uploading predictions:  28%|██▊       | 159/566 [00:24<01:01,  6.66it/s]"
     ]
    },
    {
     "name": "stdout",
     "output_type": "stream",
     "text": [
      "Prediction performed in 0.10938501358032227 seconds.\n",
      "Prediction performed in 0.10938453674316406 seconds.\n"
     ]
    },
    {
     "name": "stderr",
     "output_type": "stream",
     "text": [
      "Uploading predictions:  28%|██▊       | 160/566 [00:25<01:01,  6.58it/s]"
     ]
    },
    {
     "name": "stdout",
     "output_type": "stream",
     "text": [
      "Prediction performed in 0.1110379695892334 seconds.\n",
      "Prediction performed in 0.10938453674316406 seconds.\n"
     ]
    },
    {
     "name": "stderr",
     "output_type": "stream",
     "text": [
      "Uploading predictions:  29%|██▉       | 163/566 [00:25<01:02,  6.40it/s]"
     ]
    },
    {
     "name": "stdout",
     "output_type": "stream",
     "text": [
      "Prediction performed in 0.10938334465026855 seconds.\n",
      "Prediction performed in 0.10673809051513672 seconds.\n"
     ]
    },
    {
     "name": "stderr",
     "output_type": "stream",
     "text": [
      "Uploading predictions:  29%|██▉       | 165/566 [00:25<01:01,  6.50it/s]"
     ]
    },
    {
     "name": "stdout",
     "output_type": "stream",
     "text": [
      "Prediction performed in 0.11066246032714844 seconds.\n",
      "Prediction performed in 0.10390877723693848 seconds.\n"
     ]
    },
    {
     "name": "stderr",
     "output_type": "stream",
     "text": [
      "Uploading predictions:  30%|██▉       | 167/566 [00:26<00:59,  6.65it/s]"
     ]
    },
    {
     "name": "stdout",
     "output_type": "stream",
     "text": [
      "Prediction performed in 0.1169731616973877 seconds.\n",
      "Prediction performed in 0.09787511825561523 seconds.\n"
     ]
    },
    {
     "name": "stderr",
     "output_type": "stream",
     "text": [
      "Uploading predictions:  30%|██▉       | 169/566 [00:26<00:58,  6.83it/s]"
     ]
    },
    {
     "name": "stdout",
     "output_type": "stream",
     "text": [
      "Prediction performed in 0.1125645637512207 seconds.\n",
      "Prediction performed in 0.10938429832458496 seconds.\n"
     ]
    },
    {
     "name": "stderr",
     "output_type": "stream",
     "text": [
      "Uploading predictions:  30%|███       | 170/566 [00:26<01:00,  6.51it/s]"
     ]
    },
    {
     "name": "stdout",
     "output_type": "stream",
     "text": [
      "Prediction performed in 0.10938429832458496 seconds.\n",
      "Prediction performed in 0.08798360824584961 seconds.\n"
     ]
    },
    {
     "name": "stderr",
     "output_type": "stream",
     "text": [
      "Uploading predictions:  31%|███       | 173/566 [00:27<00:58,  6.68it/s]"
     ]
    },
    {
     "name": "stdout",
     "output_type": "stream",
     "text": [
      "Prediction performed in 0.11260652542114258 seconds.\n",
      "Prediction performed in 0.10504937171936035 seconds.\n"
     ]
    },
    {
     "name": "stderr",
     "output_type": "stream",
     "text": [
      "Uploading predictions:  31%|███       | 175/566 [00:27<00:58,  6.68it/s]"
     ]
    },
    {
     "name": "stdout",
     "output_type": "stream",
     "text": [
      "Prediction performed in 0.11668801307678223 seconds.\n",
      "Prediction performed in 0.10199546813964844 seconds.\n"
     ]
    },
    {
     "name": "stderr",
     "output_type": "stream",
     "text": [
      "Uploading predictions:  31%|███▏      | 177/566 [00:27<00:57,  6.74it/s]"
     ]
    },
    {
     "name": "stdout",
     "output_type": "stream",
     "text": [
      "Prediction performed in 0.11336517333984375 seconds.\n",
      "Prediction performed in 0.1066579818725586 seconds.\n"
     ]
    },
    {
     "name": "stderr",
     "output_type": "stream",
     "text": [
      "Uploading predictions:  32%|███▏      | 179/566 [00:27<00:58,  6.65it/s]"
     ]
    },
    {
     "name": "stdout",
     "output_type": "stream",
     "text": [
      "Prediction performed in 0.12872982025146484 seconds.\n",
      "Prediction performed in 0.09684014320373535 seconds.\n"
     ]
    },
    {
     "name": "stderr",
     "output_type": "stream",
     "text": [
      "Uploading predictions:  32%|███▏      | 181/566 [00:28<00:57,  6.69it/s]"
     ]
    },
    {
     "name": "stdout",
     "output_type": "stream",
     "text": [
      "Prediction performed in 0.1105506420135498 seconds.\n",
      "Prediction performed in 0.10434985160827637 seconds.\n"
     ]
    },
    {
     "name": "stderr",
     "output_type": "stream",
     "text": [
      "Uploading predictions:  32%|███▏      | 183/566 [00:28<00:57,  6.72it/s]"
     ]
    },
    {
     "name": "stdout",
     "output_type": "stream",
     "text": [
      "Prediction performed in 0.11640429496765137 seconds.\n",
      "Prediction performed in 0.10112643241882324 seconds.\n"
     ]
    },
    {
     "name": "stderr",
     "output_type": "stream",
     "text": [
      "Uploading predictions:  33%|███▎      | 185/566 [00:28<00:58,  6.56it/s]"
     ]
    },
    {
     "name": "stdout",
     "output_type": "stream",
     "text": [
      "Prediction performed in 0.10881161689758301 seconds.\n",
      "Prediction performed in 0.10299897193908691 seconds.\n"
     ]
    },
    {
     "name": "stderr",
     "output_type": "stream",
     "text": [
      "Uploading predictions:  33%|███▎      | 186/566 [00:29<01:02,  6.07it/s]"
     ]
    },
    {
     "name": "stdout",
     "output_type": "stream",
     "text": [
      "Prediction performed in 0.12122941017150879 seconds.\n",
      "Prediction performed in 0.10003805160522461 seconds.\n"
     ]
    },
    {
     "name": "stderr",
     "output_type": "stream",
     "text": [
      "Uploading predictions:  33%|███▎      | 188/566 [00:29<01:01,  6.13it/s]"
     ]
    },
    {
     "name": "stdout",
     "output_type": "stream",
     "text": [
      "Prediction performed in 0.11726832389831543 seconds.\n",
      "Prediction performed in 0.1140897274017334 seconds.\n"
     ]
    },
    {
     "name": "stderr",
     "output_type": "stream",
     "text": [
      "Uploading predictions:  34%|███▎      | 191/566 [00:29<00:58,  6.42it/s]"
     ]
    },
    {
     "name": "stdout",
     "output_type": "stream",
     "text": [
      "Prediction performed in 0.11328649520874023 seconds.\n",
      "Prediction performed in 0.09871411323547363 seconds.\n"
     ]
    },
    {
     "name": "stderr",
     "output_type": "stream",
     "text": [
      "Uploading predictions:  34%|███▍      | 193/566 [00:30<00:56,  6.56it/s]"
     ]
    },
    {
     "name": "stdout",
     "output_type": "stream",
     "text": [
      "Prediction performed in 0.10939621925354004 seconds.\n",
      "Prediction performed in 0.11415648460388184 seconds.\n"
     ]
    },
    {
     "name": "stderr",
     "output_type": "stream",
     "text": [
      "Uploading predictions:  34%|███▍      | 194/566 [00:30<00:59,  6.30it/s]"
     ]
    },
    {
     "name": "stdout",
     "output_type": "stream",
     "text": [
      "Prediction performed in 0.1234128475189209 seconds.\n",
      "Prediction performed in 0.12607669830322266 seconds.\n"
     ]
    },
    {
     "name": "stderr",
     "output_type": "stream",
     "text": [
      "Uploading predictions:  35%|███▍      | 196/566 [00:30<01:01,  5.97it/s]"
     ]
    },
    {
     "name": "stdout",
     "output_type": "stream",
     "text": [
      "Prediction performed in 0.11973905563354492 seconds.\n",
      "Prediction performed in 0.1432511806488037 seconds.\n"
     ]
    },
    {
     "name": "stderr",
     "output_type": "stream",
     "text": [
      "Uploading predictions:  35%|███▌      | 199/566 [00:31<00:59,  6.20it/s]"
     ]
    },
    {
     "name": "stdout",
     "output_type": "stream",
     "text": [
      "Prediction performed in 0.12500405311584473 seconds.\n",
      "Prediction performed in 0.0970456600189209 seconds.\n"
     ]
    },
    {
     "name": "stderr",
     "output_type": "stream",
     "text": [
      "Uploading predictions:  36%|███▌      | 201/566 [00:31<00:57,  6.32it/s]"
     ]
    },
    {
     "name": "stdout",
     "output_type": "stream",
     "text": [
      "Prediction performed in 0.12496161460876465 seconds.\n",
      "Prediction performed in 0.10674667358398438 seconds.\n"
     ]
    },
    {
     "name": "stderr",
     "output_type": "stream",
     "text": [
      "Uploading predictions:  36%|███▌      | 203/566 [00:31<00:55,  6.56it/s]"
     ]
    },
    {
     "name": "stdout",
     "output_type": "stream",
     "text": [
      "Prediction performed in 0.11805176734924316 seconds.\n",
      "Prediction performed in 0.09866452217102051 seconds.\n"
     ]
    },
    {
     "name": "stderr",
     "output_type": "stream",
     "text": [
      "Uploading predictions:  36%|███▌      | 205/566 [00:32<00:54,  6.61it/s]"
     ]
    },
    {
     "name": "stdout",
     "output_type": "stream",
     "text": [
      "Prediction performed in 0.11335229873657227 seconds.\n",
      "Prediction performed in 0.10666012763977051 seconds.\n"
     ]
    },
    {
     "name": "stderr",
     "output_type": "stream",
     "text": [
      "Uploading predictions:  37%|███▋      | 207/566 [00:32<00:53,  6.70it/s]"
     ]
    },
    {
     "name": "stdout",
     "output_type": "stream",
     "text": [
      "Prediction performed in 0.11598849296569824 seconds.\n",
      "Prediction performed in 0.09192609786987305 seconds.\n"
     ]
    },
    {
     "name": "stderr",
     "output_type": "stream",
     "text": [
      "Uploading predictions:  37%|███▋      | 209/566 [00:32<00:52,  6.75it/s]"
     ]
    },
    {
     "name": "stdout",
     "output_type": "stream",
     "text": [
      "Prediction performed in 0.10938310623168945 seconds.\n",
      "Prediction performed in 0.09375715255737305 seconds.\n"
     ]
    },
    {
     "name": "stderr",
     "output_type": "stream",
     "text": [
      "Uploading predictions:  37%|███▋      | 211/566 [00:32<00:52,  6.72it/s]"
     ]
    },
    {
     "name": "stdout",
     "output_type": "stream",
     "text": [
      "Prediction performed in 0.10938429832458496 seconds.\n",
      "Prediction performed in 0.1015629768371582 seconds.\n"
     ]
    },
    {
     "name": "stderr",
     "output_type": "stream",
     "text": [
      "Uploading predictions:  38%|███▊      | 213/566 [00:33<00:52,  6.70it/s]"
     ]
    },
    {
     "name": "stdout",
     "output_type": "stream",
     "text": [
      "Prediction performed in 0.11300921440124512 seconds.\n",
      "Prediction performed in 0.10458755493164062 seconds.\n"
     ]
    },
    {
     "name": "stderr",
     "output_type": "stream",
     "text": [
      "Uploading predictions:  38%|███▊      | 215/566 [00:33<00:52,  6.69it/s]"
     ]
    },
    {
     "name": "stdout",
     "output_type": "stream",
     "text": [
      "Prediction performed in 0.11808609962463379 seconds.\n",
      "Prediction performed in 0.10301780700683594 seconds.\n"
     ]
    },
    {
     "name": "stderr",
     "output_type": "stream",
     "text": [
      "Uploading predictions:  38%|███▊      | 217/566 [00:33<00:52,  6.66it/s]"
     ]
    },
    {
     "name": "stdout",
     "output_type": "stream",
     "text": [
      "Prediction performed in 0.10385513305664062 seconds.\n",
      "Prediction performed in 0.10232424736022949 seconds.\n"
     ]
    },
    {
     "name": "stderr",
     "output_type": "stream",
     "text": [
      "Uploading predictions:  39%|███▊      | 219/566 [00:34<00:52,  6.60it/s]"
     ]
    },
    {
     "name": "stdout",
     "output_type": "stream",
     "text": [
      "Prediction performed in 0.11220765113830566 seconds.\n",
      "Prediction performed in 0.10313177108764648 seconds.\n"
     ]
    },
    {
     "name": "stderr",
     "output_type": "stream",
     "text": [
      "Uploading predictions:  39%|███▉      | 220/566 [00:34<00:55,  6.18it/s]"
     ]
    },
    {
     "name": "stdout",
     "output_type": "stream",
     "text": [
      "Prediction performed in 0.12850236892700195 seconds.\n",
      "Prediction performed in 0.10901665687561035 seconds.\n"
     ]
    },
    {
     "name": "stderr",
     "output_type": "stream",
     "text": [
      "Uploading predictions:  39%|███▉      | 222/566 [00:34<00:57,  6.00it/s]"
     ]
    },
    {
     "name": "stdout",
     "output_type": "stream",
     "text": [
      "Prediction performed in 0.11545896530151367 seconds.\n",
      "Prediction performed in 0.10412955284118652 seconds.\n"
     ]
    },
    {
     "name": "stderr",
     "output_type": "stream",
     "text": [
      "Uploading predictions:  40%|███▉      | 225/566 [00:35<00:53,  6.42it/s]"
     ]
    },
    {
     "name": "stdout",
     "output_type": "stream",
     "text": [
      "Prediction performed in 0.11432027816772461 seconds.\n",
      "Prediction performed in 0.10509634017944336 seconds.\n"
     ]
    },
    {
     "name": "stderr",
     "output_type": "stream",
     "text": [
      "Uploading predictions:  40%|███▉      | 226/566 [00:35<00:57,  5.92it/s]"
     ]
    },
    {
     "name": "stdout",
     "output_type": "stream",
     "text": [
      "Prediction performed in 0.13342881202697754 seconds.\n",
      "Prediction performed in 0.09788346290588379 seconds.\n"
     ]
    },
    {
     "name": "stderr",
     "output_type": "stream",
     "text": [
      "Uploading predictions:  40%|████      | 228/566 [00:35<00:55,  6.07it/s]"
     ]
    },
    {
     "name": "stdout",
     "output_type": "stream",
     "text": [
      "Prediction performed in 0.11022210121154785 seconds.\n",
      "Prediction performed in 0.10967326164245605 seconds.\n"
     ]
    },
    {
     "name": "stderr",
     "output_type": "stream",
     "text": [
      "Uploading predictions:  41%|████      | 231/566 [00:36<00:53,  6.28it/s]"
     ]
    },
    {
     "name": "stdout",
     "output_type": "stream",
     "text": [
      "Prediction performed in 0.13538074493408203 seconds.\n",
      "Prediction performed in 0.09783625602722168 seconds.\n"
     ]
    },
    {
     "name": "stderr",
     "output_type": "stream",
     "text": [
      "Uploading predictions:  41%|████      | 232/566 [00:36<00:53,  6.25it/s]"
     ]
    },
    {
     "name": "stdout",
     "output_type": "stream",
     "text": [
      "Prediction performed in 0.10483407974243164 seconds.\n",
      "Prediction performed in 0.10867500305175781 seconds.\n"
     ]
    },
    {
     "name": "stderr",
     "output_type": "stream",
     "text": [
      "Uploading predictions:  41%|████▏     | 234/566 [00:36<00:54,  6.14it/s]"
     ]
    },
    {
     "name": "stdout",
     "output_type": "stream",
     "text": [
      "Prediction performed in 0.1272599697113037 seconds.\n",
      "Prediction performed in 0.11426973342895508 seconds.\n"
     ]
    },
    {
     "name": "stderr",
     "output_type": "stream",
     "text": [
      "Uploading predictions:  42%|████▏     | 236/566 [00:36<00:56,  5.89it/s]"
     ]
    },
    {
     "name": "stdout",
     "output_type": "stream",
     "text": [
      "Prediction performed in 0.1232759952545166 seconds.\n",
      "Prediction performed in 0.11527252197265625 seconds.\n"
     ]
    },
    {
     "name": "stderr",
     "output_type": "stream",
     "text": [
      "Uploading predictions:  42%|████▏     | 239/566 [00:37<00:55,  5.90it/s]"
     ]
    },
    {
     "name": "stdout",
     "output_type": "stream",
     "text": [
      "Prediction performed in 0.14063453674316406 seconds.\n",
      "Prediction performed in 0.12282752990722656 seconds.\n"
     ]
    },
    {
     "name": "stderr",
     "output_type": "stream",
     "text": [
      "Uploading predictions:  43%|████▎     | 241/566 [00:37<00:51,  6.32it/s]"
     ]
    },
    {
     "name": "stdout",
     "output_type": "stream",
     "text": [
      "Prediction performed in 0.11006331443786621 seconds.\n",
      "Prediction performed in 0.10498046875 seconds.\n"
     ]
    },
    {
     "name": "stderr",
     "output_type": "stream",
     "text": [
      "Uploading predictions:  43%|████▎     | 243/566 [00:38<00:49,  6.52it/s]"
     ]
    },
    {
     "name": "stdout",
     "output_type": "stream",
     "text": [
      "Prediction performed in 0.11625218391418457 seconds.\n",
      "Prediction performed in 0.10192465782165527 seconds.\n"
     ]
    },
    {
     "name": "stderr",
     "output_type": "stream",
     "text": [
      "Uploading predictions:  43%|████▎     | 245/566 [00:38<00:48,  6.55it/s]"
     ]
    },
    {
     "name": "stdout",
     "output_type": "stream",
     "text": [
      "Prediction performed in 0.11204314231872559 seconds.\n",
      "Prediction performed in 0.11173176765441895 seconds.\n"
     ]
    },
    {
     "name": "stderr",
     "output_type": "stream",
     "text": [
      "Uploading predictions:  44%|████▎     | 247/566 [00:38<00:46,  6.81it/s]"
     ]
    },
    {
     "name": "stdout",
     "output_type": "stream",
     "text": [
      "Prediction performed in 0.11687254905700684 seconds.\n",
      "Prediction performed in 0.0970909595489502 seconds.\n"
     ]
    },
    {
     "name": "stderr",
     "output_type": "stream",
     "text": [
      "Uploading predictions:  44%|████▍     | 249/566 [00:38<00:47,  6.62it/s]"
     ]
    },
    {
     "name": "stdout",
     "output_type": "stream",
     "text": [
      "Prediction performed in 0.12526345252990723 seconds.\n",
      "Prediction performed in 0.10732436180114746 seconds.\n"
     ]
    },
    {
     "name": "stderr",
     "output_type": "stream",
     "text": [
      "Uploading predictions:  44%|████▍     | 251/566 [00:39<00:47,  6.63it/s]"
     ]
    },
    {
     "name": "stdout",
     "output_type": "stream",
     "text": [
      "Prediction performed in 0.11846280097961426 seconds.\n",
      "Prediction performed in 0.10420036315917969 seconds.\n"
     ]
    },
    {
     "name": "stderr",
     "output_type": "stream",
     "text": [
      "Uploading predictions:  45%|████▍     | 253/566 [00:39<00:46,  6.71it/s]"
     ]
    },
    {
     "name": "stdout",
     "output_type": "stream",
     "text": [
      "Prediction performed in 0.11858439445495605 seconds.\n",
      "Prediction performed in 0.10818195343017578 seconds.\n"
     ]
    },
    {
     "name": "stderr",
     "output_type": "stream",
     "text": [
      "Uploading predictions:  45%|████▌     | 255/566 [00:39<00:47,  6.49it/s]"
     ]
    },
    {
     "name": "stdout",
     "output_type": "stream",
     "text": [
      "Prediction performed in 0.13443231582641602 seconds.\n",
      "Prediction performed in 0.10002946853637695 seconds.\n"
     ]
    },
    {
     "name": "stderr",
     "output_type": "stream",
     "text": [
      "Uploading predictions:  45%|████▌     | 256/566 [00:40<00:49,  6.21it/s]"
     ]
    },
    {
     "name": "stdout",
     "output_type": "stream",
     "text": [
      "Prediction performed in 0.12993431091308594 seconds.\n",
      "Prediction performed in 0.10960197448730469 seconds.\n"
     ]
    },
    {
     "name": "stderr",
     "output_type": "stream",
     "text": [
      "Uploading predictions:  46%|████▌     | 259/566 [00:40<00:50,  6.13it/s]"
     ]
    },
    {
     "name": "stdout",
     "output_type": "stream",
     "text": [
      "Prediction performed in 0.1405792236328125 seconds.\n",
      "Prediction performed in 0.10703301429748535 seconds.\n"
     ]
    },
    {
     "name": "stderr",
     "output_type": "stream",
     "text": [
      "Uploading predictions:  46%|████▌     | 261/566 [00:40<00:47,  6.36it/s]"
     ]
    },
    {
     "name": "stdout",
     "output_type": "stream",
     "text": [
      "Prediction performed in 0.11300921440124512 seconds.\n",
      "Prediction performed in 0.10451316833496094 seconds.\n"
     ]
    },
    {
     "name": "stderr",
     "output_type": "stream",
     "text": [
      "Uploading predictions:  46%|████▋     | 262/566 [00:41<00:48,  6.27it/s]"
     ]
    },
    {
     "name": "stdout",
     "output_type": "stream",
     "text": [
      "Prediction performed in 0.10555696487426758 seconds.\n",
      "Prediction performed in 0.10192203521728516 seconds.\n"
     ]
    },
    {
     "name": "stderr",
     "output_type": "stream",
     "text": [
      "Uploading predictions:  47%|████▋     | 264/566 [00:41<00:47,  6.30it/s]"
     ]
    },
    {
     "name": "stdout",
     "output_type": "stream",
     "text": [
      "Prediction performed in 0.12053489685058594 seconds.\n",
      "Prediction performed in 0.1417708396911621 seconds.\n"
     ]
    },
    {
     "name": "stderr",
     "output_type": "stream",
     "text": [
      "Uploading predictions:  47%|████▋     | 266/566 [00:41<00:52,  5.69it/s]"
     ]
    },
    {
     "name": "stdout",
     "output_type": "stream",
     "text": [
      "Prediction performed in 0.14020299911499023 seconds.\n",
      "Prediction performed in 0.1236720085144043 seconds.\n"
     ]
    },
    {
     "name": "stderr",
     "output_type": "stream",
     "text": [
      "Uploading predictions:  47%|████▋     | 268/566 [00:42<00:53,  5.54it/s]"
     ]
    },
    {
     "name": "stdout",
     "output_type": "stream",
     "text": [
      "Prediction performed in 0.12454986572265625 seconds.\n",
      "Prediction performed in 0.10864782333374023 seconds.\n"
     ]
    },
    {
     "name": "stderr",
     "output_type": "stream",
     "text": [
      "Uploading predictions:  48%|████▊     | 271/566 [00:42<00:45,  6.42it/s]"
     ]
    },
    {
     "name": "stdout",
     "output_type": "stream",
     "text": [
      "Prediction performed in 0.12596750259399414 seconds.\n",
      "Prediction performed in 0.09377455711364746 seconds.\n"
     ]
    },
    {
     "name": "stderr",
     "output_type": "stream",
     "text": [
      "Uploading predictions:  48%|████▊     | 273/566 [00:42<00:44,  6.61it/s]"
     ]
    },
    {
     "name": "stdout",
     "output_type": "stream",
     "text": [
      "Prediction performed in 0.12500929832458496 seconds.\n",
      "Prediction performed in 0.10938382148742676 seconds.\n"
     ]
    },
    {
     "name": "stderr",
     "output_type": "stream",
     "text": [
      "Uploading predictions:  49%|████▊     | 275/566 [00:43<00:44,  6.56it/s]"
     ]
    },
    {
     "name": "stdout",
     "output_type": "stream",
     "text": [
      "Prediction performed in 0.10938358306884766 seconds.\n",
      "Prediction performed in 0.10714364051818848 seconds.\n"
     ]
    },
    {
     "name": "stderr",
     "output_type": "stream",
     "text": [
      "Uploading predictions:  49%|████▉     | 277/566 [00:43<00:44,  6.56it/s]"
     ]
    },
    {
     "name": "stdout",
     "output_type": "stream",
     "text": [
      "Prediction performed in 0.12016010284423828 seconds.\n",
      "Prediction performed in 0.10479974746704102 seconds.\n",
      "Prediction performed in 0.11913490295410156 seconds.\n"
     ]
    },
    {
     "name": "stderr",
     "output_type": "stream",
     "text": [
      "Uploading predictions:  49%|████▉     | 280/566 [00:44<00:54,  5.28it/s]"
     ]
    },
    {
     "name": "stdout",
     "output_type": "stream",
     "text": [
      "Prediction performed in 0.10204815864562988 seconds.\n",
      "Prediction performed in 0.11185216903686523 seconds.\n"
     ]
    },
    {
     "name": "stderr",
     "output_type": "stream",
     "text": [
      "Uploading predictions:  50%|████▉     | 281/566 [00:44<00:49,  5.71it/s]"
     ]
    },
    {
     "name": "stdout",
     "output_type": "stream",
     "text": [
      "Prediction performed in 0.09290528297424316 seconds.\n",
      "Prediction performed in 0.12020421028137207 seconds.\n"
     ]
    },
    {
     "name": "stderr",
     "output_type": "stream",
     "text": [
      "Uploading predictions:  50%|█████     | 284/566 [00:44<00:44,  6.34it/s]"
     ]
    },
    {
     "name": "stdout",
     "output_type": "stream",
     "text": [
      "Prediction performed in 0.0901644229888916 seconds.\n",
      "Prediction performed in 0.10521411895751953 seconds.\n"
     ]
    },
    {
     "name": "stderr",
     "output_type": "stream",
     "text": [
      "Uploading predictions:  50%|█████     | 285/566 [00:44<00:43,  6.46it/s]"
     ]
    },
    {
     "name": "stdout",
     "output_type": "stream",
     "text": [
      "Prediction performed in 0.09919977188110352 seconds.\n",
      "Prediction performed in 0.10938358306884766 seconds.\n"
     ]
    },
    {
     "name": "stderr",
     "output_type": "stream",
     "text": [
      "Uploading predictions:  51%|█████     | 288/566 [00:45<00:41,  6.77it/s]"
     ]
    },
    {
     "name": "stdout",
     "output_type": "stream",
     "text": [
      "Prediction performed in 0.09377026557922363 seconds.\n",
      "Prediction performed in 0.09375762939453125 seconds.\n"
     ]
    },
    {
     "name": "stderr",
     "output_type": "stream",
     "text": [
      "Uploading predictions:  51%|█████     | 290/566 [00:45<00:41,  6.72it/s]"
     ]
    },
    {
     "name": "stdout",
     "output_type": "stream",
     "text": [
      "Prediction performed in 0.10938358306884766 seconds.\n",
      "Prediction performed in 0.12500929832458496 seconds.\n"
     ]
    },
    {
     "name": "stderr",
     "output_type": "stream",
     "text": [
      "Uploading predictions:  51%|█████▏    | 291/566 [00:45<00:40,  6.86it/s]"
     ]
    },
    {
     "name": "stdout",
     "output_type": "stream",
     "text": [
      "Prediction performed in 0.1092069149017334 seconds.\n",
      "Prediction performed in 0.1276838779449463 seconds.\n"
     ]
    },
    {
     "name": "stderr",
     "output_type": "stream",
     "text": [
      "Uploading predictions:  52%|█████▏    | 293/566 [00:46<00:45,  6.04it/s]"
     ]
    },
    {
     "name": "stdout",
     "output_type": "stream",
     "text": [
      "Prediction performed in 0.11260652542114258 seconds.\n",
      "Prediction performed in 0.13158702850341797 seconds.\n"
     ]
    },
    {
     "name": "stderr",
     "output_type": "stream",
     "text": [
      "Uploading predictions:  52%|█████▏    | 295/566 [00:46<00:44,  6.03it/s]"
     ]
    },
    {
     "name": "stdout",
     "output_type": "stream",
     "text": [
      "Prediction performed in 0.10293769836425781 seconds.\n",
      "Prediction performed in 0.12344026565551758 seconds.\n"
     ]
    },
    {
     "name": "stderr",
     "output_type": "stream",
     "text": [
      "Uploading predictions:  53%|█████▎    | 298/566 [00:46<00:42,  6.36it/s]"
     ]
    },
    {
     "name": "stdout",
     "output_type": "stream",
     "text": [
      "Prediction performed in 0.10236930847167969 seconds.\n",
      "Prediction performed in 0.1177206039428711 seconds.\n"
     ]
    },
    {
     "name": "stderr",
     "output_type": "stream",
     "text": [
      "Uploading predictions:  53%|█████▎    | 299/566 [00:47<00:42,  6.27it/s]"
     ]
    },
    {
     "name": "stdout",
     "output_type": "stream",
     "text": [
      "Prediction performed in 0.11609935760498047 seconds.\n",
      "Prediction performed in 0.12266755104064941 seconds.\n"
     ]
    },
    {
     "name": "stderr",
     "output_type": "stream",
     "text": [
      "Uploading predictions:  53%|█████▎    | 301/566 [00:47<00:44,  5.94it/s]"
     ]
    },
    {
     "name": "stdout",
     "output_type": "stream",
     "text": [
      "Prediction performed in 0.12176179885864258 seconds.\n",
      "Prediction performed in 0.11863470077514648 seconds.\n"
     ]
    },
    {
     "name": "stderr",
     "output_type": "stream",
     "text": [
      "Uploading predictions:  54%|█████▎    | 304/566 [00:47<00:42,  6.23it/s]"
     ]
    },
    {
     "name": "stdout",
     "output_type": "stream",
     "text": [
      "Prediction performed in 0.10735201835632324 seconds.\n",
      "Prediction performed in 0.12500905990600586 seconds.\n"
     ]
    },
    {
     "name": "stderr",
     "output_type": "stream",
     "text": [
      "Uploading predictions:  54%|█████▍    | 305/566 [00:48<00:39,  6.56it/s]"
     ]
    },
    {
     "name": "stdout",
     "output_type": "stream",
     "text": [
      "Prediction performed in 0.09913492202758789 seconds.\n",
      "Prediction performed in 0.12062788009643555 seconds.\n"
     ]
    },
    {
     "name": "stderr",
     "output_type": "stream",
     "text": [
      "Uploading predictions:  54%|█████▍    | 308/566 [00:48<00:39,  6.61it/s]"
     ]
    },
    {
     "name": "stdout",
     "output_type": "stream",
     "text": [
      "Prediction performed in 0.09770393371582031 seconds.\n",
      "Prediction performed in 0.10938310623168945 seconds.\n"
     ]
    },
    {
     "name": "stderr",
     "output_type": "stream",
     "text": [
      "Uploading predictions:  55%|█████▍    | 310/566 [00:48<00:38,  6.64it/s]"
     ]
    },
    {
     "name": "stdout",
     "output_type": "stream",
     "text": [
      "Prediction performed in 0.10938382148742676 seconds.\n",
      "Prediction performed in 0.10938358306884766 seconds.\n"
     ]
    },
    {
     "name": "stderr",
     "output_type": "stream",
     "text": [
      "Uploading predictions:  55%|█████▌    | 312/566 [00:49<00:38,  6.56it/s]"
     ]
    },
    {
     "name": "stdout",
     "output_type": "stream",
     "text": [
      "Prediction performed in 0.10077905654907227 seconds.\n",
      "Prediction performed in 0.11771392822265625 seconds.\n"
     ]
    },
    {
     "name": "stderr",
     "output_type": "stream",
     "text": [
      "Uploading predictions:  55%|█████▌    | 313/566 [00:49<00:38,  6.57it/s]"
     ]
    },
    {
     "name": "stdout",
     "output_type": "stream",
     "text": [
      "Prediction performed in 0.1088559627532959 seconds.\n",
      "Prediction performed in 0.11697220802307129 seconds.\n"
     ]
    },
    {
     "name": "stderr",
     "output_type": "stream",
     "text": [
      "Uploading predictions:  56%|█████▌    | 316/566 [00:49<00:37,  6.70it/s]"
     ]
    },
    {
     "name": "stdout",
     "output_type": "stream",
     "text": [
      "Prediction performed in 0.09322285652160645 seconds.\n",
      "Prediction performed in 0.09375715255737305 seconds.\n"
     ]
    },
    {
     "name": "stderr",
     "output_type": "stream",
     "text": [
      "Uploading predictions:  56%|█████▌    | 318/566 [00:50<00:37,  6.69it/s]"
     ]
    },
    {
     "name": "stdout",
     "output_type": "stream",
     "text": [
      "Prediction performed in 0.10938310623168945 seconds.\n",
      "Prediction performed in 0.12500953674316406 seconds.\n"
     ]
    },
    {
     "name": "stderr",
     "output_type": "stream",
     "text": [
      "Uploading predictions:  57%|█████▋    | 320/566 [00:50<00:36,  6.66it/s]"
     ]
    },
    {
     "name": "stdout",
     "output_type": "stream",
     "text": [
      "Prediction performed in 0.10938763618469238 seconds.\n",
      "Prediction performed in 0.10941672325134277 seconds.\n"
     ]
    },
    {
     "name": "stderr",
     "output_type": "stream",
     "text": [
      "Uploading predictions:  57%|█████▋    | 322/566 [00:50<00:36,  6.66it/s]"
     ]
    },
    {
     "name": "stdout",
     "output_type": "stream",
     "text": [
      "Prediction performed in 0.09687018394470215 seconds.\n",
      "Prediction performed in 0.11431550979614258 seconds.\n"
     ]
    },
    {
     "name": "stderr",
     "output_type": "stream",
     "text": [
      "Uploading predictions:  57%|█████▋    | 324/566 [00:50<00:35,  6.76it/s]"
     ]
    },
    {
     "name": "stdout",
     "output_type": "stream",
     "text": [
      "Prediction performed in 0.0973060131072998 seconds.\n",
      "Prediction performed in 0.10776329040527344 seconds.\n"
     ]
    },
    {
     "name": "stderr",
     "output_type": "stream",
     "text": [
      "Uploading predictions:  58%|█████▊    | 326/566 [00:51<00:35,  6.72it/s]"
     ]
    },
    {
     "name": "stdout",
     "output_type": "stream",
     "text": [
      "Prediction performed in 0.10397005081176758 seconds.\n",
      "Prediction performed in 0.11075520515441895 seconds.\n"
     ]
    },
    {
     "name": "stderr",
     "output_type": "stream",
     "text": [
      "Uploading predictions:  58%|█████▊    | 328/566 [00:51<00:35,  6.78it/s]"
     ]
    },
    {
     "name": "stdout",
     "output_type": "stream",
     "text": [
      "Prediction performed in 0.09760451316833496 seconds.\n",
      "Prediction performed in 0.11092519760131836 seconds.\n"
     ]
    },
    {
     "name": "stderr",
     "output_type": "stream",
     "text": [
      "Uploading predictions:  58%|█████▊    | 330/566 [00:51<00:35,  6.71it/s]"
     ]
    },
    {
     "name": "stdout",
     "output_type": "stream",
     "text": [
      "Prediction performed in 0.10404562950134277 seconds.\n",
      "Prediction performed in 0.1110219955444336 seconds.\n"
     ]
    },
    {
     "name": "stderr",
     "output_type": "stream",
     "text": [
      "Uploading predictions:  59%|█████▊    | 332/566 [00:52<00:33,  6.95it/s]"
     ]
    },
    {
     "name": "stdout",
     "output_type": "stream",
     "text": [
      "Prediction performed in 0.09123754501342773 seconds.\n",
      "Prediction performed in 0.1020972728729248 seconds.\n"
     ]
    },
    {
     "name": "stderr",
     "output_type": "stream",
     "text": [
      "Uploading predictions:  59%|█████▉    | 333/566 [00:52<00:35,  6.59it/s]"
     ]
    },
    {
     "name": "stdout",
     "output_type": "stream",
     "text": [
      "Prediction performed in 0.12022519111633301 seconds.\n",
      "Prediction performed in 0.1326916217803955 seconds.\n"
     ]
    },
    {
     "name": "stderr",
     "output_type": "stream",
     "text": [
      "Uploading predictions:  59%|█████▉    | 335/566 [00:52<00:36,  6.33it/s]"
     ]
    },
    {
     "name": "stdout",
     "output_type": "stream",
     "text": [
      "Prediction performed in 0.10308194160461426 seconds.\n",
      "Prediction performed in 0.11593008041381836 seconds.\n"
     ]
    },
    {
     "name": "stderr",
     "output_type": "stream",
     "text": [
      "Uploading predictions:  60%|█████▉    | 338/566 [00:53<00:36,  6.23it/s]"
     ]
    },
    {
     "name": "stdout",
     "output_type": "stream",
     "text": [
      "Prediction performed in 0.12102079391479492 seconds.\n",
      "Prediction performed in 0.10947728157043457 seconds.\n"
     ]
    },
    {
     "name": "stderr",
     "output_type": "stream",
     "text": [
      "Uploading predictions:  60%|█████▉    | 339/566 [00:53<00:35,  6.34it/s]"
     ]
    },
    {
     "name": "stdout",
     "output_type": "stream",
     "text": [
      "Prediction performed in 0.10303688049316406 seconds.\n",
      "Prediction performed in 0.12536096572875977 seconds.\n"
     ]
    },
    {
     "name": "stderr",
     "output_type": "stream",
     "text": [
      "Uploading predictions:  60%|██████    | 341/566 [00:53<00:37,  6.05it/s]"
     ]
    },
    {
     "name": "stdout",
     "output_type": "stream",
     "text": [
      "Prediction performed in 0.12026667594909668 seconds.\n",
      "Prediction performed in 0.12676692008972168 seconds.\n"
     ]
    },
    {
     "name": "stderr",
     "output_type": "stream",
     "text": [
      "Uploading predictions:  61%|██████    | 344/566 [00:54<00:35,  6.32it/s]"
     ]
    },
    {
     "name": "stdout",
     "output_type": "stream",
     "text": [
      "Prediction performed in 0.10400509834289551 seconds.\n",
      "Prediction performed in 0.10958480834960938 seconds.\n"
     ]
    },
    {
     "name": "stderr",
     "output_type": "stream",
     "text": [
      "Uploading predictions:  61%|██████    | 345/566 [00:54<00:34,  6.34it/s]"
     ]
    },
    {
     "name": "stdout",
     "output_type": "stream",
     "text": [
      "Prediction performed in 0.11051249504089355 seconds.\n",
      "Prediction performed in 0.12771987915039062 seconds.\n"
     ]
    },
    {
     "name": "stderr",
     "output_type": "stream",
     "text": [
      "Uploading predictions:  61%|██████▏   | 348/566 [00:54<00:32,  6.70it/s]"
     ]
    },
    {
     "name": "stdout",
     "output_type": "stream",
     "text": [
      "Prediction performed in 0.101776123046875 seconds.\n",
      "Prediction performed in 0.11051726341247559 seconds.\n"
     ]
    },
    {
     "name": "stderr",
     "output_type": "stream",
     "text": [
      "Uploading predictions:  62%|██████▏   | 349/566 [00:54<00:32,  6.61it/s]"
     ]
    },
    {
     "name": "stdout",
     "output_type": "stream",
     "text": [
      "Prediction performed in 0.09375762939453125 seconds.\n",
      "Prediction performed in 0.10938405990600586 seconds.\n"
     ]
    },
    {
     "name": "stderr",
     "output_type": "stream",
     "text": [
      "Uploading predictions:  62%|██████▏   | 352/566 [00:55<00:31,  6.70it/s]"
     ]
    },
    {
     "name": "stdout",
     "output_type": "stream",
     "text": [
      "Prediction performed in 0.09375643730163574 seconds.\n",
      "Prediction performed in 0.11008095741271973 seconds.\n"
     ]
    },
    {
     "name": "stderr",
     "output_type": "stream",
     "text": [
      "Uploading predictions:  63%|██████▎   | 354/566 [00:55<00:31,  6.68it/s]"
     ]
    },
    {
     "name": "stdout",
     "output_type": "stream",
     "text": [
      "Prediction performed in 0.10242748260498047 seconds.\n",
      "Prediction performed in 0.11194920539855957 seconds.\n"
     ]
    },
    {
     "name": "stderr",
     "output_type": "stream",
     "text": [
      "Uploading predictions:  63%|██████▎   | 355/566 [00:55<00:30,  6.86it/s]"
     ]
    },
    {
     "name": "stdout",
     "output_type": "stream",
     "text": [
      "Prediction performed in 0.09515786170959473 seconds.\n",
      "Prediction performed in 0.10486316680908203 seconds.\n"
     ]
    },
    {
     "name": "stderr",
     "output_type": "stream",
     "text": [
      "Uploading predictions:  63%|██████▎   | 358/566 [00:56<00:31,  6.55it/s]"
     ]
    },
    {
     "name": "stdout",
     "output_type": "stream",
     "text": [
      "Prediction performed in 0.10294508934020996 seconds.\n",
      "Prediction performed in 0.11118721961975098 seconds.\n"
     ]
    },
    {
     "name": "stderr",
     "output_type": "stream",
     "text": [
      "Uploading predictions:  64%|██████▎   | 360/566 [00:56<00:29,  6.91it/s]"
     ]
    },
    {
     "name": "stdout",
     "output_type": "stream",
     "text": [
      "Prediction performed in 0.0976099967956543 seconds.\n",
      "Prediction performed in 0.10106730461120605 seconds.\n"
     ]
    },
    {
     "name": "stderr",
     "output_type": "stream",
     "text": [
      "Uploading predictions:  64%|██████▍   | 361/566 [00:56<00:30,  6.70it/s]"
     ]
    },
    {
     "name": "stdout",
     "output_type": "stream",
     "text": [
      "Prediction performed in 0.10100555419921875 seconds.\n",
      "Prediction performed in 0.12417960166931152 seconds.\n"
     ]
    },
    {
     "name": "stderr",
     "output_type": "stream",
     "text": [
      "Uploading predictions:  64%|██████▍   | 363/566 [00:56<00:31,  6.38it/s]"
     ]
    },
    {
     "name": "stdout",
     "output_type": "stream",
     "text": [
      "Prediction performed in 0.10107088088989258 seconds.\n",
      "Prediction performed in 0.11868476867675781 seconds.\n"
     ]
    },
    {
     "name": "stderr",
     "output_type": "stream",
     "text": [
      "Uploading predictions:  64%|██████▍   | 365/566 [00:57<00:32,  6.19it/s]"
     ]
    },
    {
     "name": "stdout",
     "output_type": "stream",
     "text": [
      "Prediction performed in 0.10717320442199707 seconds.\n",
      "Prediction performed in 0.10799837112426758 seconds.\n"
     ]
    },
    {
     "name": "stderr",
     "output_type": "stream",
     "text": [
      "Uploading predictions:  65%|██████▌   | 368/566 [00:57<00:30,  6.50it/s]"
     ]
    },
    {
     "name": "stdout",
     "output_type": "stream",
     "text": [
      "Prediction performed in 0.10040783882141113 seconds.\n",
      "Prediction performed in 0.09828019142150879 seconds.\n"
     ]
    },
    {
     "name": "stderr",
     "output_type": "stream",
     "text": [
      "Uploading predictions:  65%|██████▌   | 369/566 [00:57<00:31,  6.35it/s]"
     ]
    },
    {
     "name": "stdout",
     "output_type": "stream",
     "text": [
      "Prediction performed in 0.10964393615722656 seconds.\n",
      "Prediction performed in 0.13759684562683105 seconds.\n"
     ]
    },
    {
     "name": "stderr",
     "output_type": "stream",
     "text": [
      "Uploading predictions:  66%|██████▌   | 372/566 [00:58<00:30,  6.34it/s]"
     ]
    },
    {
     "name": "stdout",
     "output_type": "stream",
     "text": [
      "Prediction performed in 0.1029520034790039 seconds.\n",
      "Prediction performed in 0.0994877815246582 seconds.\n"
     ]
    },
    {
     "name": "stderr",
     "output_type": "stream",
     "text": [
      "Uploading predictions:  66%|██████▌   | 374/566 [00:58<00:29,  6.47it/s]"
     ]
    },
    {
     "name": "stdout",
     "output_type": "stream",
     "text": [
      "Prediction performed in 0.09375929832458496 seconds.\n",
      "Prediction performed in 0.11356663703918457 seconds.\n"
     ]
    },
    {
     "name": "stderr",
     "output_type": "stream",
     "text": [
      "Uploading predictions:  66%|██████▋   | 375/566 [00:58<00:28,  6.65it/s]"
     ]
    },
    {
     "name": "stdout",
     "output_type": "stream",
     "text": [
      "Prediction performed in 0.09375786781311035 seconds.\n",
      "Prediction performed in 0.11519074440002441 seconds.\n"
     ]
    },
    {
     "name": "stderr",
     "output_type": "stream",
     "text": [
      "Uploading predictions:  67%|██████▋   | 378/566 [00:59<00:28,  6.67it/s]"
     ]
    },
    {
     "name": "stdout",
     "output_type": "stream",
     "text": [
      "Prediction performed in 0.10522651672363281 seconds.\n",
      "Prediction performed in 0.12502741813659668 seconds.\n"
     ]
    },
    {
     "name": "stderr",
     "output_type": "stream",
     "text": [
      "Uploading predictions:  67%|██████▋   | 380/566 [00:59<00:27,  6.67it/s]"
     ]
    },
    {
     "name": "stdout",
     "output_type": "stream",
     "text": [
      "Prediction performed in 0.09375762939453125 seconds.\n",
      "Prediction performed in 0.10938405990600586 seconds.\n"
     ]
    },
    {
     "name": "stderr",
     "output_type": "stream",
     "text": [
      "Uploading predictions:  67%|██████▋   | 381/566 [00:59<00:27,  6.80it/s]"
     ]
    },
    {
     "name": "stdout",
     "output_type": "stream",
     "text": [
      "Prediction performed in 0.09375715255737305 seconds.\n",
      "Prediction performed in 0.10938453674316406 seconds.\n"
     ]
    },
    {
     "name": "stderr",
     "output_type": "stream",
     "text": [
      "Uploading predictions:  68%|██████▊   | 384/566 [01:00<00:26,  6.81it/s]"
     ]
    },
    {
     "name": "stdout",
     "output_type": "stream",
     "text": [
      "Prediction performed in 0.10194182395935059 seconds.\n",
      "Prediction performed in 0.09631824493408203 seconds.\n"
     ]
    },
    {
     "name": "stderr",
     "output_type": "stream",
     "text": [
      "Uploading predictions:  68%|██████▊   | 385/566 [01:00<00:26,  6.89it/s]"
     ]
    },
    {
     "name": "stdout",
     "output_type": "stream",
     "text": [
      "Prediction performed in 0.09424734115600586 seconds.\n",
      "Prediction performed in 0.12029886245727539 seconds.\n"
     ]
    },
    {
     "name": "stderr",
     "output_type": "stream",
     "text": [
      "Uploading predictions:  69%|██████▊   | 388/566 [01:00<00:26,  6.81it/s]"
     ]
    },
    {
     "name": "stdout",
     "output_type": "stream",
     "text": [
      "Prediction performed in 0.0991508960723877 seconds.\n",
      "Prediction performed in 0.10596585273742676 seconds.\n"
     ]
    },
    {
     "name": "stderr",
     "output_type": "stream",
     "text": [
      "Uploading predictions:  69%|██████▉   | 390/566 [01:00<00:26,  6.72it/s]"
     ]
    },
    {
     "name": "stdout",
     "output_type": "stream",
     "text": [
      "Prediction performed in 0.10405492782592773 seconds.\n",
      "Prediction performed in 0.11164474487304688 seconds.\n"
     ]
    },
    {
     "name": "stderr",
     "output_type": "stream",
     "text": [
      "Uploading predictions:  69%|██████▉   | 392/566 [01:01<00:25,  6.82it/s]"
     ]
    },
    {
     "name": "stdout",
     "output_type": "stream",
     "text": [
      "Prediction performed in 0.09755945205688477 seconds.\n",
      "Prediction performed in 0.10731935501098633 seconds.\n"
     ]
    },
    {
     "name": "stderr",
     "output_type": "stream",
     "text": [
      "Uploading predictions:  70%|██████▉   | 394/566 [01:01<00:25,  6.68it/s]"
     ]
    },
    {
     "name": "stdout",
     "output_type": "stream",
     "text": [
      "Prediction performed in 0.10390448570251465 seconds.\n",
      "Prediction performed in 0.11783909797668457 seconds.\n"
     ]
    },
    {
     "name": "stderr",
     "output_type": "stream",
     "text": [
      "Uploading predictions:  70%|██████▉   | 396/566 [01:01<00:24,  6.87it/s]"
     ]
    },
    {
     "name": "stdout",
     "output_type": "stream",
     "text": [
      "Prediction performed in 0.09846663475036621 seconds.\n",
      "Prediction performed in 0.10838127136230469 seconds.\n"
     ]
    },
    {
     "name": "stderr",
     "output_type": "stream",
     "text": [
      "Uploading predictions:  70%|███████   | 397/566 [01:02<00:25,  6.74it/s]"
     ]
    },
    {
     "name": "stdout",
     "output_type": "stream",
     "text": [
      "Prediction performed in 0.10728621482849121 seconds.\n",
      "Prediction performed in 0.10798859596252441 seconds.\n"
     ]
    },
    {
     "name": "stderr",
     "output_type": "stream",
     "text": [
      "Uploading predictions:  71%|███████   | 400/566 [01:02<00:26,  6.31it/s]"
     ]
    },
    {
     "name": "stdout",
     "output_type": "stream",
     "text": [
      "Prediction performed in 0.10631966590881348 seconds.\n",
      "Prediction performed in 0.10058212280273438 seconds.\n"
     ]
    },
    {
     "name": "stderr",
     "output_type": "stream",
     "text": [
      "Uploading predictions:  71%|███████   | 401/566 [01:02<00:26,  6.28it/s]"
     ]
    },
    {
     "name": "stdout",
     "output_type": "stream",
     "text": [
      "Prediction performed in 0.11027789115905762 seconds.\n",
      "Prediction performed in 0.12493515014648438 seconds.\n"
     ]
    },
    {
     "name": "stderr",
     "output_type": "stream",
     "text": [
      "Uploading predictions:  71%|███████▏  | 404/566 [01:03<00:26,  6.19it/s]"
     ]
    },
    {
     "name": "stdout",
     "output_type": "stream",
     "text": [
      "Prediction performed in 0.09972047805786133 seconds.\n",
      "Prediction performed in 0.11662912368774414 seconds.\n"
     ]
    },
    {
     "name": "stderr",
     "output_type": "stream",
     "text": [
      "Uploading predictions:  72%|███████▏  | 405/566 [01:03<00:25,  6.28it/s]"
     ]
    },
    {
     "name": "stdout",
     "output_type": "stream",
     "text": [
      "Prediction performed in 0.10383367538452148 seconds.\n",
      "Prediction performed in 0.11724424362182617 seconds.\n"
     ]
    },
    {
     "name": "stderr",
     "output_type": "stream",
     "text": [
      "Uploading predictions:  72%|███████▏  | 408/566 [01:03<00:24,  6.33it/s]"
     ]
    },
    {
     "name": "stdout",
     "output_type": "stream",
     "text": [
      "Prediction performed in 0.12535452842712402 seconds.\n",
      "Prediction performed in 0.10380816459655762 seconds.\n"
     ]
    },
    {
     "name": "stderr",
     "output_type": "stream",
     "text": [
      "Uploading predictions:  72%|███████▏  | 410/566 [01:04<00:24,  6.29it/s]"
     ]
    },
    {
     "name": "stdout",
     "output_type": "stream",
     "text": [
      "Prediction performed in 0.10938477516174316 seconds.\n",
      "Prediction performed in 0.10938358306884766 seconds.\n"
     ]
    },
    {
     "name": "stderr",
     "output_type": "stream",
     "text": [
      "Uploading predictions:  73%|███████▎  | 412/566 [01:04<00:22,  6.70it/s]"
     ]
    },
    {
     "name": "stdout",
     "output_type": "stream",
     "text": [
      "Prediction performed in 0.09833049774169922 seconds.\n",
      "Prediction performed in 0.11181092262268066 seconds.\n"
     ]
    },
    {
     "name": "stderr",
     "output_type": "stream",
     "text": [
      "Uploading predictions:  73%|███████▎  | 414/566 [01:04<00:22,  6.62it/s]"
     ]
    },
    {
     "name": "stdout",
     "output_type": "stream",
     "text": [
      "Prediction performed in 0.09982180595397949 seconds.\n",
      "Prediction performed in 0.10938501358032227 seconds.\n"
     ]
    },
    {
     "name": "stderr",
     "output_type": "stream",
     "text": [
      "Uploading predictions:  73%|███████▎  | 415/566 [01:04<00:22,  6.76it/s]"
     ]
    },
    {
     "name": "stdout",
     "output_type": "stream",
     "text": [
      "Prediction performed in 0.09375882148742676 seconds.\n",
      "Prediction performed in 0.11773419380187988 seconds.\n"
     ]
    },
    {
     "name": "stderr",
     "output_type": "stream",
     "text": [
      "Uploading predictions:  74%|███████▍  | 418/566 [01:05<00:22,  6.64it/s]"
     ]
    },
    {
     "name": "stdout",
     "output_type": "stream",
     "text": [
      "Prediction performed in 0.11104750633239746 seconds.\n",
      "Prediction performed in 0.10989618301391602 seconds.\n"
     ]
    },
    {
     "name": "stderr",
     "output_type": "stream",
     "text": [
      "Uploading predictions:  74%|███████▍  | 420/566 [01:05<00:21,  6.79it/s]"
     ]
    },
    {
     "name": "stdout",
     "output_type": "stream",
     "text": [
      "Prediction performed in 0.09779071807861328 seconds.\n",
      "Prediction performed in 0.10845303535461426 seconds.\n"
     ]
    },
    {
     "name": "stderr",
     "output_type": "stream",
     "text": [
      "Uploading predictions:  75%|███████▍  | 422/566 [01:05<00:21,  6.72it/s]"
     ]
    },
    {
     "name": "stdout",
     "output_type": "stream",
     "text": [
      "Prediction performed in 0.10298824310302734 seconds.\n",
      "Prediction performed in 0.11256551742553711 seconds.\n"
     ]
    },
    {
     "name": "stderr",
     "output_type": "stream",
     "text": [
      "Uploading predictions:  75%|███████▍  | 424/566 [01:06<00:21,  6.75it/s]"
     ]
    },
    {
     "name": "stdout",
     "output_type": "stream",
     "text": [
      "Prediction performed in 0.09800863265991211 seconds.\n",
      "Prediction performed in 0.1093902587890625 seconds.\n"
     ]
    },
    {
     "name": "stderr",
     "output_type": "stream",
     "text": [
      "Uploading predictions:  75%|███████▌  | 426/566 [01:06<00:20,  6.70it/s]"
     ]
    },
    {
     "name": "stdout",
     "output_type": "stream",
     "text": [
      "Prediction performed in 0.10179519653320312 seconds.\n",
      "Prediction performed in 0.11058163642883301 seconds.\n"
     ]
    },
    {
     "name": "stderr",
     "output_type": "stream",
     "text": [
      "Uploading predictions:  76%|███████▌  | 428/566 [01:06<00:20,  6.84it/s]"
     ]
    },
    {
     "name": "stdout",
     "output_type": "stream",
     "text": [
      "Prediction performed in 0.09375286102294922 seconds.\n",
      "Prediction performed in 0.11064720153808594 seconds.\n"
     ]
    },
    {
     "name": "stderr",
     "output_type": "stream",
     "text": [
      "Uploading predictions:  76%|███████▌  | 430/566 [01:07<00:20,  6.65it/s]"
     ]
    },
    {
     "name": "stdout",
     "output_type": "stream",
     "text": [
      "Prediction performed in 0.10965585708618164 seconds.\n",
      "Prediction performed in 0.09899735450744629 seconds.\n"
     ]
    },
    {
     "name": "stderr",
     "output_type": "stream",
     "text": [
      "Uploading predictions:  76%|███████▌  | 431/566 [01:07<00:20,  6.53it/s]"
     ]
    },
    {
     "name": "stdout",
     "output_type": "stream",
     "text": [
      "Prediction performed in 0.10891151428222656 seconds.\n",
      "Prediction performed in 0.12178158760070801 seconds.\n"
     ]
    },
    {
     "name": "stderr",
     "output_type": "stream",
     "text": [
      "Uploading predictions:  77%|███████▋  | 433/566 [01:07<00:20,  6.41it/s]"
     ]
    },
    {
     "name": "stdout",
     "output_type": "stream",
     "text": [
      "Prediction performed in 0.11572909355163574 seconds.\n",
      "Prediction performed in 0.11763978004455566 seconds.\n"
     ]
    },
    {
     "name": "stderr",
     "output_type": "stream",
     "text": [
      "Uploading predictions:  77%|███████▋  | 436/566 [01:08<00:20,  6.24it/s]"
     ]
    },
    {
     "name": "stdout",
     "output_type": "stream",
     "text": [
      "Prediction performed in 0.09972643852233887 seconds.\n",
      "Prediction performed in 0.11122679710388184 seconds.\n"
     ]
    },
    {
     "name": "stderr",
     "output_type": "stream",
     "text": [
      "Uploading predictions:  77%|███████▋  | 437/566 [01:08<00:20,  6.17it/s]"
     ]
    },
    {
     "name": "stdout",
     "output_type": "stream",
     "text": [
      "Prediction performed in 0.10460829734802246 seconds.\n",
      "Prediction performed in 0.13642120361328125 seconds.\n"
     ]
    },
    {
     "name": "stderr",
     "output_type": "stream",
     "text": [
      "Uploading predictions:  78%|███████▊  | 439/566 [01:08<00:21,  5.99it/s]"
     ]
    },
    {
     "name": "stdout",
     "output_type": "stream",
     "text": [
      "Prediction performed in 0.10913324356079102 seconds.\n",
      "Prediction performed in 0.11162209510803223 seconds.\n"
     ]
    },
    {
     "name": "stderr",
     "output_type": "stream",
     "text": [
      "Uploading predictions:  78%|███████▊  | 441/566 [01:08<00:21,  5.95it/s]"
     ]
    },
    {
     "name": "stdout",
     "output_type": "stream",
     "text": [
      "Prediction performed in 0.12372374534606934 seconds.\n",
      "Prediction performed in 0.13157200813293457 seconds.\n"
     ]
    },
    {
     "name": "stderr",
     "output_type": "stream",
     "text": [
      "Uploading predictions:  78%|███████▊  | 443/566 [01:09<00:20,  6.03it/s]"
     ]
    },
    {
     "name": "stdout",
     "output_type": "stream",
     "text": [
      "Prediction performed in 0.09375858306884766 seconds.\n",
      "Prediction performed in 0.132049560546875 seconds.\n"
     ]
    },
    {
     "name": "stderr",
     "output_type": "stream",
     "text": [
      "Uploading predictions:  79%|███████▉  | 446/566 [01:09<00:18,  6.35it/s]"
     ]
    },
    {
     "name": "stdout",
     "output_type": "stream",
     "text": [
      "Prediction performed in 0.10828304290771484 seconds.\n",
      "Prediction performed in 0.10940384864807129 seconds.\n"
     ]
    },
    {
     "name": "stderr",
     "output_type": "stream",
     "text": [
      "Uploading predictions:  79%|███████▉  | 448/566 [01:10<00:17,  6.72it/s]"
     ]
    },
    {
     "name": "stdout",
     "output_type": "stream",
     "text": [
      "Prediction performed in 0.10938429832458496 seconds.\n",
      "Prediction performed in 0.10938405990600586 seconds.\n"
     ]
    },
    {
     "name": "stderr",
     "output_type": "stream",
     "text": [
      "Uploading predictions:  79%|███████▉  | 449/566 [01:10<00:17,  6.62it/s]"
     ]
    },
    {
     "name": "stdout",
     "output_type": "stream",
     "text": [
      "Prediction performed in 0.10938477516174316 seconds.\n",
      "Prediction performed in 0.1098792552947998 seconds.\n"
     ]
    },
    {
     "name": "stderr",
     "output_type": "stream",
     "text": [
      "Uploading predictions:  80%|███████▉  | 452/566 [01:10<00:16,  6.82it/s]"
     ]
    },
    {
     "name": "stdout",
     "output_type": "stream",
     "text": [
      "Prediction performed in 0.09375858306884766 seconds.\n",
      "Prediction performed in 0.10938358306884766 seconds.\n"
     ]
    },
    {
     "name": "stderr",
     "output_type": "stream",
     "text": [
      "Uploading predictions:  80%|████████  | 454/566 [01:10<00:16,  6.75it/s]"
     ]
    },
    {
     "name": "stdout",
     "output_type": "stream",
     "text": [
      "Prediction performed in 0.10938382148742676 seconds.\n",
      "Prediction performed in 0.12500977516174316 seconds.\n"
     ]
    },
    {
     "name": "stderr",
     "output_type": "stream",
     "text": [
      "Uploading predictions:  81%|████████  | 456/566 [01:11<00:16,  6.71it/s]"
     ]
    },
    {
     "name": "stdout",
     "output_type": "stream",
     "text": [
      "Prediction performed in 0.10884666442871094 seconds.\n",
      "Prediction performed in 0.10938453674316406 seconds.\n"
     ]
    },
    {
     "name": "stderr",
     "output_type": "stream",
     "text": [
      "Uploading predictions:  81%|████████  | 458/566 [01:11<00:16,  6.69it/s]"
     ]
    },
    {
     "name": "stdout",
     "output_type": "stream",
     "text": [
      "Prediction performed in 0.10988211631774902 seconds.\n",
      "Prediction performed in 0.10938429832458496 seconds.\n"
     ]
    },
    {
     "name": "stderr",
     "output_type": "stream",
     "text": [
      "Uploading predictions:  81%|████████▏ | 460/566 [01:11<00:15,  6.68it/s]"
     ]
    },
    {
     "name": "stdout",
     "output_type": "stream",
     "text": [
      "Prediction performed in 0.09375739097595215 seconds.\n",
      "Prediction performed in 0.10938358306884766 seconds.\n"
     ]
    },
    {
     "name": "stderr",
     "output_type": "stream",
     "text": [
      "Uploading predictions:  82%|████████▏ | 462/566 [01:12<00:15,  6.68it/s]"
     ]
    },
    {
     "name": "stdout",
     "output_type": "stream",
     "text": [
      "Prediction performed in 0.10938453674316406 seconds.\n",
      "Prediction performed in 0.12500977516174316 seconds.\n"
     ]
    },
    {
     "name": "stderr",
     "output_type": "stream",
     "text": [
      "Uploading predictions:  82%|████████▏ | 464/566 [01:12<00:15,  6.67it/s]"
     ]
    },
    {
     "name": "stdout",
     "output_type": "stream",
     "text": [
      "Prediction performed in 0.10977315902709961 seconds.\n",
      "Prediction performed in 0.10938215255737305 seconds.\n"
     ]
    },
    {
     "name": "stderr",
     "output_type": "stream",
     "text": [
      "Uploading predictions:  82%|████████▏ | 465/566 [01:12<00:14,  6.79it/s]"
     ]
    },
    {
     "name": "stdout",
     "output_type": "stream",
     "text": [
      "Prediction performed in 0.10938429832458496 seconds.\n",
      "Prediction performed in 0.129638671875 seconds.\n"
     ]
    },
    {
     "name": "stderr",
     "output_type": "stream",
     "text": [
      "Uploading predictions:  83%|████████▎ | 468/566 [01:12<00:14,  6.92it/s]"
     ]
    },
    {
     "name": "stdout",
     "output_type": "stream",
     "text": [
      "Prediction performed in 0.0952308177947998 seconds.\n",
      "Prediction performed in 0.10188102722167969 seconds.\n"
     ]
    },
    {
     "name": "stderr",
     "output_type": "stream",
     "text": [
      "Uploading predictions:  83%|████████▎ | 469/566 [01:13<00:14,  6.75it/s]"
     ]
    },
    {
     "name": "stdout",
     "output_type": "stream",
     "text": [
      "Prediction performed in 0.09375858306884766 seconds.\n",
      "Prediction performed in 0.12100768089294434 seconds.\n"
     ]
    },
    {
     "name": "stderr",
     "output_type": "stream",
     "text": [
      "Uploading predictions:  83%|████████▎ | 472/566 [01:13<00:13,  6.74it/s]"
     ]
    },
    {
     "name": "stdout",
     "output_type": "stream",
     "text": [
      "Prediction performed in 0.10199356079101562 seconds.\n",
      "Prediction performed in 0.10503578186035156 seconds.\n"
     ]
    },
    {
     "name": "stderr",
     "output_type": "stream",
     "text": [
      "Uploading predictions:  84%|████████▎ | 474/566 [01:13<00:13,  6.62it/s]"
     ]
    },
    {
     "name": "stdout",
     "output_type": "stream",
     "text": [
      "Prediction performed in 0.10468411445617676 seconds.\n",
      "Prediction performed in 0.11786365509033203 seconds.\n"
     ]
    },
    {
     "name": "stderr",
     "output_type": "stream",
     "text": [
      "Uploading predictions:  84%|████████▍ | 476/566 [01:14<00:13,  6.59it/s]"
     ]
    },
    {
     "name": "stdout",
     "output_type": "stream",
     "text": [
      "Prediction performed in 0.0980520248413086 seconds.\n",
      "Prediction performed in 0.11499643325805664 seconds.\n"
     ]
    },
    {
     "name": "stderr",
     "output_type": "stream",
     "text": [
      "Uploading predictions:  84%|████████▍ | 478/566 [01:14<00:13,  6.55it/s]"
     ]
    },
    {
     "name": "stdout",
     "output_type": "stream",
     "text": [
      "Prediction performed in 0.10794734954833984 seconds.\n",
      "Prediction performed in 0.12145113945007324 seconds.\n"
     ]
    },
    {
     "name": "stderr",
     "output_type": "stream",
     "text": [
      "Uploading predictions:  85%|████████▍ | 480/566 [01:14<00:12,  6.84it/s]"
     ]
    },
    {
     "name": "stdout",
     "output_type": "stream",
     "text": [
      "Prediction performed in 0.09663891792297363 seconds.\n",
      "Prediction performed in 0.11043310165405273 seconds.\n"
     ]
    },
    {
     "name": "stderr",
     "output_type": "stream",
     "text": [
      "Uploading predictions:  85%|████████▌ | 482/566 [01:15<00:13,  6.41it/s]"
     ]
    },
    {
     "name": "stdout",
     "output_type": "stream",
     "text": [
      "Prediction performed in 0.11429572105407715 seconds.\n",
      "Prediction performed in 0.13013148307800293 seconds.\n"
     ]
    },
    {
     "name": "stderr",
     "output_type": "stream",
     "text": [
      "Uploading predictions:  85%|████████▌ | 483/566 [01:15<00:12,  6.40it/s]"
     ]
    },
    {
     "name": "stdout",
     "output_type": "stream",
     "text": [
      "Prediction performed in 0.10342001914978027 seconds.\n",
      "Prediction performed in 0.13372802734375 seconds.\n"
     ]
    },
    {
     "name": "stderr",
     "output_type": "stream",
     "text": [
      "Uploading predictions:  86%|████████▌ | 486/566 [01:15<00:13,  6.15it/s]"
     ]
    },
    {
     "name": "stdout",
     "output_type": "stream",
     "text": [
      "Prediction performed in 0.11607074737548828 seconds.\n",
      "Prediction performed in 0.10971403121948242 seconds.\n"
     ]
    },
    {
     "name": "stderr",
     "output_type": "stream",
     "text": [
      "Uploading predictions:  86%|████████▌ | 488/566 [01:16<00:12,  6.45it/s]"
     ]
    },
    {
     "name": "stdout",
     "output_type": "stream",
     "text": [
      "Prediction performed in 0.08680510520935059 seconds.\n",
      "Prediction performed in 0.10799169540405273 seconds.\n"
     ]
    },
    {
     "name": "stderr",
     "output_type": "stream",
     "text": [
      "Uploading predictions:  87%|████████▋ | 490/566 [01:16<00:11,  6.39it/s]"
     ]
    },
    {
     "name": "stdout",
     "output_type": "stream",
     "text": [
      "Prediction performed in 0.10708761215209961 seconds.\n",
      "Prediction performed in 0.12921857833862305 seconds.\n"
     ]
    },
    {
     "name": "stderr",
     "output_type": "stream",
     "text": [
      "Uploading predictions:  87%|████████▋ | 492/566 [01:16<00:11,  6.45it/s]"
     ]
    },
    {
     "name": "stdout",
     "output_type": "stream",
     "text": [
      "Prediction performed in 0.10000419616699219 seconds.\n",
      "Prediction performed in 0.12885093688964844 seconds.\n"
     ]
    },
    {
     "name": "stderr",
     "output_type": "stream",
     "text": [
      "Uploading predictions:  87%|████████▋ | 493/566 [01:16<00:11,  6.43it/s]"
     ]
    },
    {
     "name": "stdout",
     "output_type": "stream",
     "text": [
      "Prediction performed in 0.10092830657958984 seconds.\n",
      "Prediction performed in 0.12322497367858887 seconds.\n"
     ]
    },
    {
     "name": "stderr",
     "output_type": "stream",
     "text": [
      "Uploading predictions:  87%|████████▋ | 495/566 [01:17<00:11,  5.98it/s]"
     ]
    },
    {
     "name": "stdout",
     "output_type": "stream",
     "text": [
      "Prediction performed in 0.12075448036193848 seconds.\n",
      "Prediction performed in 0.11869263648986816 seconds.\n"
     ]
    },
    {
     "name": "stderr",
     "output_type": "stream",
     "text": [
      "Uploading predictions:  88%|████████▊ | 497/566 [01:17<00:11,  6.19it/s]"
     ]
    },
    {
     "name": "stdout",
     "output_type": "stream",
     "text": [
      "Prediction performed in 0.10666656494140625 seconds.\n",
      "Prediction performed in 0.10047769546508789 seconds.\n"
     ]
    },
    {
     "name": "stderr",
     "output_type": "stream",
     "text": [
      "Uploading predictions:  88%|████████▊ | 500/566 [01:18<00:12,  5.43it/s]"
     ]
    },
    {
     "name": "stdout",
     "output_type": "stream",
     "text": [
      "Prediction performed in 0.13328242301940918 seconds.\n",
      "Prediction performed in 0.11794066429138184 seconds.\n"
     ]
    },
    {
     "name": "stderr",
     "output_type": "stream",
     "text": [
      "Uploading predictions:  89%|████████▊ | 501/566 [01:18<00:11,  5.84it/s]"
     ]
    },
    {
     "name": "stdout",
     "output_type": "stream",
     "text": [
      "Prediction performed in 0.09377193450927734 seconds.\n",
      "Prediction performed in 0.12500977516174316 seconds.\n"
     ]
    },
    {
     "name": "stderr",
     "output_type": "stream",
     "text": [
      "Uploading predictions:  89%|████████▉ | 504/566 [01:18<00:09,  6.37it/s]"
     ]
    },
    {
     "name": "stdout",
     "output_type": "stream",
     "text": [
      "Prediction performed in 0.10541629791259766 seconds.\n",
      "Prediction performed in 0.10396790504455566 seconds.\n"
     ]
    },
    {
     "name": "stderr",
     "output_type": "stream",
     "text": [
      "Uploading predictions:  89%|████████▉ | 506/566 [01:19<00:09,  6.44it/s]"
     ]
    },
    {
     "name": "stdout",
     "output_type": "stream",
     "text": [
      "Prediction performed in 0.10006189346313477 seconds.\n",
      "Prediction performed in 0.11712098121643066 seconds.\n"
     ]
    },
    {
     "name": "stderr",
     "output_type": "stream",
     "text": [
      "Uploading predictions:  90%|████████▉ | 508/566 [01:19<00:08,  6.66it/s]"
     ]
    },
    {
     "name": "stdout",
     "output_type": "stream",
     "text": [
      "Prediction performed in 0.09902215003967285 seconds.\n",
      "Prediction performed in 0.10662603378295898 seconds.\n"
     ]
    },
    {
     "name": "stderr",
     "output_type": "stream",
     "text": [
      "Uploading predictions:  90%|████████▉ | 509/566 [01:19<00:08,  6.76it/s]"
     ]
    },
    {
     "name": "stdout",
     "output_type": "stream",
     "text": [
      "Prediction performed in 0.10112333297729492 seconds.\n",
      "Prediction performed in 0.11027979850769043 seconds.\n"
     ]
    },
    {
     "name": "stderr",
     "output_type": "stream",
     "text": [
      "Uploading predictions:  90%|█████████ | 512/566 [01:19<00:07,  6.89it/s]"
     ]
    },
    {
     "name": "stdout",
     "output_type": "stream",
     "text": [
      "Prediction performed in 0.09822607040405273 seconds.\n",
      "Prediction performed in 0.10507440567016602 seconds.\n"
     ]
    },
    {
     "name": "stderr",
     "output_type": "stream",
     "text": [
      "Uploading predictions:  91%|█████████ | 514/566 [01:20<00:07,  6.81it/s]"
     ]
    },
    {
     "name": "stdout",
     "output_type": "stream",
     "text": [
      "Prediction performed in 0.10938429832458496 seconds.\n",
      "Prediction performed in 0.1118018627166748 seconds.\n"
     ]
    },
    {
     "name": "stderr",
     "output_type": "stream",
     "text": [
      "Uploading predictions:  91%|█████████ | 516/566 [01:20<00:07,  6.96it/s]"
     ]
    },
    {
     "name": "stdout",
     "output_type": "stream",
     "text": [
      "Prediction performed in 0.09426259994506836 seconds.\n",
      "Prediction performed in 0.10938453674316406 seconds.\n"
     ]
    },
    {
     "name": "stderr",
     "output_type": "stream",
     "text": [
      "Uploading predictions:  91%|█████████▏| 517/566 [01:20<00:07,  6.78it/s]"
     ]
    },
    {
     "name": "stdout",
     "output_type": "stream",
     "text": [
      "Prediction performed in 0.09375739097595215 seconds.\n",
      "Prediction performed in 0.10938477516174316 seconds.\n"
     ]
    },
    {
     "name": "stderr",
     "output_type": "stream",
     "text": [
      "Uploading predictions:  92%|█████████▏| 520/566 [01:21<00:06,  6.82it/s]"
     ]
    },
    {
     "name": "stdout",
     "output_type": "stream",
     "text": [
      "Prediction performed in 0.09375882148742676 seconds.\n",
      "Prediction performed in 0.11506867408752441 seconds.\n"
     ]
    },
    {
     "name": "stderr",
     "output_type": "stream",
     "text": [
      "Uploading predictions:  92%|█████████▏| 522/566 [01:21<00:06,  6.69it/s]"
     ]
    },
    {
     "name": "stdout",
     "output_type": "stream",
     "text": [
      "Prediction performed in 0.0901346206665039 seconds.\n",
      "Prediction performed in 0.11258959770202637 seconds.\n"
     ]
    },
    {
     "name": "stderr",
     "output_type": "stream",
     "text": [
      "Uploading predictions:  92%|█████████▏| 523/566 [01:21<00:06,  6.80it/s]"
     ]
    },
    {
     "name": "stdout",
     "output_type": "stream",
     "text": [
      "Prediction performed in 0.08707666397094727 seconds.\n",
      "Prediction performed in 0.11125636100769043 seconds.\n"
     ]
    },
    {
     "name": "stderr",
     "output_type": "stream",
     "text": [
      "Uploading predictions:  93%|█████████▎| 526/566 [01:21<00:05,  6.71it/s]"
     ]
    },
    {
     "name": "stdout",
     "output_type": "stream",
     "text": [
      "Prediction performed in 0.10242176055908203 seconds.\n",
      "Prediction performed in 0.10938358306884766 seconds.\n"
     ]
    },
    {
     "name": "stderr",
     "output_type": "stream",
     "text": [
      "Uploading predictions:  93%|█████████▎| 528/566 [01:22<00:05,  6.69it/s]"
     ]
    },
    {
     "name": "stdout",
     "output_type": "stream",
     "text": [
      "Prediction performed in 0.09375810623168945 seconds.\n",
      "Prediction performed in 0.10977578163146973 seconds.\n"
     ]
    },
    {
     "name": "stderr",
     "output_type": "stream",
     "text": [
      "Uploading predictions:  93%|█████████▎| 529/566 [01:22<00:05,  6.81it/s]"
     ]
    },
    {
     "name": "stdout",
     "output_type": "stream",
     "text": [
      "Prediction performed in 0.09375739097595215 seconds.\n",
      "Prediction performed in 0.12501120567321777 seconds.\n"
     ]
    },
    {
     "name": "stderr",
     "output_type": "stream",
     "text": [
      "Uploading predictions:  94%|█████████▍| 532/566 [01:22<00:05,  6.68it/s]"
     ]
    },
    {
     "name": "stdout",
     "output_type": "stream",
     "text": [
      "Prediction performed in 0.10938310623168945 seconds.\n",
      "Prediction performed in 0.10938382148742676 seconds.\n"
     ]
    },
    {
     "name": "stderr",
     "output_type": "stream",
     "text": [
      "Uploading predictions:  94%|█████████▍| 533/566 [01:22<00:04,  6.80it/s]"
     ]
    },
    {
     "name": "stdout",
     "output_type": "stream",
     "text": [
      "Prediction performed in 0.10938334465026855 seconds.\n",
      "Prediction performed in 0.13225579261779785 seconds.\n"
     ]
    },
    {
     "name": "stderr",
     "output_type": "stream",
     "text": [
      "Uploading predictions:  95%|█████████▍| 535/566 [01:23<00:04,  6.55it/s]"
     ]
    },
    {
     "name": "stdout",
     "output_type": "stream",
     "text": [
      "Prediction performed in 0.10054874420166016 seconds.\n",
      "Prediction performed in 0.11678028106689453 seconds.\n"
     ]
    },
    {
     "name": "stderr",
     "output_type": "stream",
     "text": [
      "Uploading predictions:  95%|█████████▌| 538/566 [01:23<00:04,  6.58it/s]"
     ]
    },
    {
     "name": "stdout",
     "output_type": "stream",
     "text": [
      "Prediction performed in 0.10716652870178223 seconds.\n",
      "Prediction performed in 0.1133420467376709 seconds.\n"
     ]
    },
    {
     "name": "stderr",
     "output_type": "stream",
     "text": [
      "Uploading predictions:  95%|█████████▌| 540/566 [01:24<00:04,  6.49it/s]"
     ]
    },
    {
     "name": "stdout",
     "output_type": "stream",
     "text": [
      "Prediction performed in 0.1184835433959961 seconds.\n",
      "Prediction performed in 0.11110067367553711 seconds.\n"
     ]
    },
    {
     "name": "stderr",
     "output_type": "stream",
     "text": [
      "Uploading predictions:  96%|█████████▌| 542/566 [01:24<00:03,  6.42it/s]"
     ]
    },
    {
     "name": "stdout",
     "output_type": "stream",
     "text": [
      "Prediction performed in 0.10529685020446777 seconds.\n",
      "Prediction performed in 0.13151001930236816 seconds.\n"
     ]
    },
    {
     "name": "stderr",
     "output_type": "stream",
     "text": [
      "Uploading predictions:  96%|█████████▌| 543/566 [01:24<00:03,  6.31it/s]"
     ]
    },
    {
     "name": "stdout",
     "output_type": "stream",
     "text": [
      "Prediction performed in 0.11832499504089355 seconds.\n",
      "Prediction performed in 0.11312222480773926 seconds.\n"
     ]
    },
    {
     "name": "stderr",
     "output_type": "stream",
     "text": [
      "Uploading predictions:  96%|█████████▋| 545/566 [01:24<00:03,  6.00it/s]"
     ]
    },
    {
     "name": "stdout",
     "output_type": "stream",
     "text": [
      "Prediction performed in 0.14149045944213867 seconds.\n",
      "Prediction performed in 0.12553787231445312 seconds.\n"
     ]
    },
    {
     "name": "stderr",
     "output_type": "stream",
     "text": [
      "Uploading predictions:  97%|█████████▋| 548/566 [01:25<00:02,  6.33it/s]"
     ]
    },
    {
     "name": "stdout",
     "output_type": "stream",
     "text": [
      "Prediction performed in 0.09813976287841797 seconds.\n",
      "Prediction performed in 0.10001158714294434 seconds.\n"
     ]
    },
    {
     "name": "stderr",
     "output_type": "stream",
     "text": [
      "Uploading predictions:  97%|█████████▋| 549/566 [01:25<00:02,  6.39it/s]"
     ]
    },
    {
     "name": "stdout",
     "output_type": "stream",
     "text": [
      "Prediction performed in 0.0908668041229248 seconds.\n",
      "Prediction performed in 0.12253379821777344 seconds.\n"
     ]
    },
    {
     "name": "stderr",
     "output_type": "stream",
     "text": [
      "Uploading predictions:  97%|█████████▋| 551/566 [01:25<00:02,  6.03it/s]"
     ]
    },
    {
     "name": "stdout",
     "output_type": "stream",
     "text": [
      "Prediction performed in 0.1155548095703125 seconds.\n",
      "Prediction performed in 0.13212013244628906 seconds.\n"
     ]
    },
    {
     "name": "stderr",
     "output_type": "stream",
     "text": [
      "Uploading predictions:  98%|█████████▊| 554/566 [01:26<00:01,  6.14it/s]"
     ]
    },
    {
     "name": "stdout",
     "output_type": "stream",
     "text": [
      "Prediction performed in 0.11167716979980469 seconds.\n",
      "Prediction performed in 0.10695147514343262 seconds.\n"
     ]
    },
    {
     "name": "stderr",
     "output_type": "stream",
     "text": [
      "Uploading predictions:  98%|█████████▊| 555/566 [01:26<00:01,  6.41it/s]"
     ]
    },
    {
     "name": "stdout",
     "output_type": "stream",
     "text": [
      "Prediction performed in 0.09375858306884766 seconds.\n",
      "Prediction performed in 0.10938310623168945 seconds.\n"
     ]
    },
    {
     "name": "stderr",
     "output_type": "stream",
     "text": [
      "Uploading predictions:  98%|█████████▊| 557/566 [01:26<00:01,  6.23it/s]"
     ]
    },
    {
     "name": "stdout",
     "output_type": "stream",
     "text": [
      "Prediction performed in 0.1187448501586914 seconds.\n",
      "Prediction performed in 0.11944341659545898 seconds.\n"
     ]
    },
    {
     "name": "stderr",
     "output_type": "stream",
     "text": [
      "Uploading predictions:  99%|█████████▉| 560/566 [01:27<00:00,  6.70it/s]"
     ]
    },
    {
     "name": "stdout",
     "output_type": "stream",
     "text": [
      "Prediction performed in 0.09376692771911621 seconds.\n",
      "Prediction performed in 0.10938358306884766 seconds.\n"
     ]
    },
    {
     "name": "stderr",
     "output_type": "stream",
     "text": [
      "Uploading predictions:  99%|█████████▉| 561/566 [01:27<00:00,  6.62it/s]"
     ]
    },
    {
     "name": "stdout",
     "output_type": "stream",
     "text": [
      "Prediction performed in 0.10825848579406738 seconds.\n",
      "Prediction performed in 0.12350273132324219 seconds.\n"
     ]
    },
    {
     "name": "stderr",
     "output_type": "stream",
     "text": [
      "Uploading predictions: 100%|█████████▉| 564/566 [01:27<00:00,  6.80it/s]"
     ]
    },
    {
     "name": "stdout",
     "output_type": "stream",
     "text": [
      "Prediction performed in 0.09375667572021484 seconds.\n",
      "Prediction performed in 0.10938262939453125 seconds.\n"
     ]
    },
    {
     "name": "stderr",
     "output_type": "stream",
     "text": [
      "Uploading predictions: 100%|██████████| 566/566 [01:28<00:00,  6.66it/s]"
     ]
    },
    {
     "name": "stdout",
     "output_type": "stream",
     "text": [
      "Prediction performed in 0.11609530448913574 seconds.\n",
      "Prediction performed in 0.11216449737548828 seconds.\n"
     ]
    },
    {
     "name": "stderr",
     "output_type": "stream",
     "text": [
      "Uploading predictions: 100%|██████████| 566/566 [01:28<00:00,  6.42it/s]\n"
     ]
    }
   ],
   "source": [
    "# provide correct alias, \"pt\", \"onnx\"\n",
    "aliases = [\"version6\", \"version5\"]\n",
    "project_id = 88 # insert correct project_id by loooking at the url\n",
    "for alias in aliases:\n",
    "    name = \"obb-detector\" # detector, \"obb-detector\"\n",
    "    handler = Annotator(mlflow_model_alias=alias,\n",
    "                        mlflow_model_name=name,\n",
    "                        confidence_threshold=0.25,\n",
    "                        is_yolo_obb=name.strip() == \"obb-detector\",\n",
    "                        dotenv_path=\"../.env\")\n",
    "    handler.upload_predictions(project_id=project_id)"
   ]
  },
  {
   "cell_type": "markdown",
   "metadata": {},
   "source": [
    "**Before running the script below, make sure that you have exported the annotations so you can revert back!!!**"
   ]
  },
  {
   "cell_type": "code",
   "execution_count": 59,
   "metadata": {},
   "outputs": [
    {
     "name": "stderr",
     "output_type": "stream",
     "text": [
      "02/15/2025 14:31:21 - INFO - datalabeling.annotator.models -   Computing device: cuda:0\n",
      "correcting annotations: 100%|██████████| 566/566 [00:31<00:00, 18.12it/s]\n"
     ]
    }
   ],
   "source": [
    "#  Cleaning annotations - NO WAY BACK\n",
    "name = \"obb-detector\"\n",
    "handler = Annotator(mlflow_model_alias=\"version6\",\n",
    "                        mlflow_model_name=name,\n",
    "                        confidence_threshold=0.25,\n",
    "                        is_yolo_obb=name.strip() == \"obb-detector\",\n",
    "                        dotenv_path=\"../.env\")\n",
    "\n",
    "# Select project\n",
    "project_id = 88\n",
    "project = handler.labelstudio_client.get_project(id=project_id)\n",
    "\n",
    "# Delete annotations saved with label \"wildlife\" assigned by the predictor\n",
    "tasks = project.get_tasks()\n",
    "for task in tqdm(tasks,desc=\"correcting annotations\"):\n",
    "        task_id = task['id']\n",
    "        img_url = task['data']['image']\n",
    "\n",
    "        if len(task[\"annotations\"][0]['result'])>1:\n",
    "            results_to_keep = []\n",
    "            annot_id = task[\"annotations\"][0][\"id\"]\n",
    "            for annot in task['annotations'][0]['result']:\n",
    "                if annot['value']['rectanglelabels'][0] != 'wildlife':\n",
    "                    results_to_keep.append(annot)\n",
    "                    # print(annot['value'],annot['id'],end=\"\\n\")\n",
    "            # print(f\"Updating annotations {annot_id} from task {task_id}.\")\n",
    "            # print(results_to_keep)\n",
    "            project.update_annotation(annot_id,result=results_to_keep)"
   ]
  },
  {
   "cell_type": "code",
   "execution_count": 55,
   "metadata": {},
   "outputs": [
    {
     "data": {
      "text/plain": [
       "(1, 8, 152009, 60568)"
      ]
     },
     "execution_count": 55,
     "metadata": {},
     "output_type": "execute_result"
    }
   ],
   "source": [
    "len(task['annotations']), len(task['annotations'][0]['result']), task['id'], task[\"annotations\"][0][\"id\"]"
   ]
  },
  {
   "cell_type": "code",
   "execution_count": 52,
   "metadata": {},
   "outputs": [
    {
     "data": {
      "text/plain": [
       "{'original_width': 4506,\n",
       " 'original_height': 2730,\n",
       " 'image_rotation': 0,\n",
       " 'value': {'x': 86.51410749209387,\n",
       "  'y': 43.134913182520606,\n",
       "  'width': 1.667947510957612,\n",
       "  'height': 2.548828125,\n",
       "  'rotation': 0,\n",
       "  'rectanglelabels': ['wildlife']},\n",
       " 'id': 'LXtHpQTq6J',\n",
       " 'from_name': 'label',\n",
       " 'to_name': 'image',\n",
       " 'type': 'rectanglelabels',\n",
       " 'origin': 'prediction',\n",
       " 'score': 0.24935585260391235}"
      ]
     },
     "execution_count": 52,
     "metadata": {},
     "output_type": "execute_result"
    }
   ],
   "source": [
    "task['annotations'][0]['result'][0] #['value']['rectanglelabels']"
   ]
  },
  {
   "cell_type": "code",
   "execution_count": 54,
   "metadata": {},
   "outputs": [],
   "source": [
    "results_to_keep = []\n",
    "for annot in task['annotations'][0]['result']:\n",
    "    if annot['value']['rectanglelabels'][0] != 'wildlife':\n",
    "        results_to_keep.append(annot)\n",
    "        print(annot['value'],annot['id'],end=\"\\n\")"
   ]
  },
  {
   "cell_type": "code",
   "execution_count": 48,
   "metadata": {},
   "outputs": [
    {
     "data": {
      "text/plain": [
       "[]"
      ]
     },
     "execution_count": 48,
     "metadata": {},
     "output_type": "execute_result"
    }
   ],
   "source": [
    "results_to_keep"
   ]
  },
  {
   "cell_type": "code",
   "execution_count": null,
   "metadata": {},
   "outputs": [
    {
     "name": "stderr",
     "output_type": "stream",
     "text": [
      "02/15/2025 13:51:57 - ERROR - label_studio_sdk._legacy.client -   \n",
      "--------------------------------------------\n",
      "Request URL: http://localhost:8080/api/annotations/LXtHpQTq6J\n",
      "Response status code: 404\n",
      "Response content:\n",
      "\n",
      "\n",
      "\n",
      "<!doctype html>\n",
      "<html lang=\"en\">\n",
      "<head>\n",
      "  <title>Label Studio</title>\n",
      "  <meta charset=\"utf-8\">\n",
      "  <meta name=\"author\" content=\"\"/>\n",
      "  <meta name=\"viewport\" content=\"width=device-width, initial-scale=0.9, shrink-to-fit=no\">\n",
      "\n",
      "  <!-- Address string color -->\n",
      "  <meta name=\"theme-color\" content=\"#272727\"> <!-- Chrome, Firefox OS and Opera -->\n",
      "  <meta name=\"msapplication-navbutton-color\" content=\"#272727\">  <!-- Windows Phone -->\n",
      "  <meta name=\"apple-mobile-web-app-status-bar-style\" content=\"#272727\">  <!-- iOS Safari -->\n",
      "\n",
      "  <link href=\"/static/images/favicon.8992b8aa4126.ico\" rel=\"shortcut icon\"/>\n",
      "  <link href=\"/static/css/main.cf908d032736.css\" rel=\"stylesheet\"/>\n",
      "  <link href=\"/react-app/main.css?v=d9b816\" rel=\"stylesheet\">\n",
      "\n",
      "  \n",
      "  <title>404 | Label Studio</title>\n",
      "  <link rel=\"stylesheet\" href=\"/static/css/error.5de8005851df.css\"/>\n",
      "\n",
      "</head>\n",
      "\n",
      "<body>\n",
      "\n",
      "<div class=\"ls-global-error\">\n",
      "  <h1>Server error</h1>\n",
      "  <img class=\"ls-global-error__heidi\" src=\"/static/images/opossum_broken.df8566d9c026.svg\" height=\"111\" alt=\"Heidi's down\" />\n",
      "  <h2>404 Not Found</h2>\n",
      "  <p class=\"ls-global-error__actions\">\n",
      "    <a class=\"ls-global-error__slack button\" target=\"_blank\" href=\"https://slack.labelstud.io/?source=product-404-error\">\n",
      "      <img src=\"/static/images/slack.86883b6a07a0.png\" width=\"16\" />\n",
      "      Ask on Slack\n",
      "    </a>\n",
      "    <button onClick=\"history.back()\">Go Back</button>\n",
      "    <button onClick=\"location.reload()\">Reload</button>\n",
      "  </p>\n",
      "</div>\n",
      "\n",
      "\n",
      "</body>\n",
      "</html>\n",
      "\n",
      "\n",
      "SDK error traceback:\n"
     ]
    },
    {
     "ename": "HTTPError",
     "evalue": "404 Client Error: Not Found for url: http://localhost:8080/api/annotations/LXtHpQTq6J",
     "output_type": "error",
     "traceback": [
      "\u001b[1;31m---------------------------------------------------------------------------\u001b[0m",
      "\u001b[1;31mHTTPError\u001b[0m                                 Traceback (most recent call last)",
      "Cell \u001b[1;32mIn[37], line 1\u001b[0m\n\u001b[1;32m----> 1\u001b[0m \u001b[43mproject\u001b[49m\u001b[38;5;241;43m.\u001b[39;49m\u001b[43mdelete_annotation\u001b[49m\u001b[43m(\u001b[49m\u001b[43mannotation_id\u001b[49m\u001b[38;5;241;43m=\u001b[39;49m\u001b[38;5;124;43m\"\u001b[39;49m\u001b[38;5;124;43mLXtHpQTq6J\u001b[39;49m\u001b[38;5;124;43m\"\u001b[39;49m\u001b[43m)\u001b[49m\n",
      "File \u001b[1;32mc:\\Users\\Machine Learning\\anaconda3\\envs\\label-backend\\Lib\\site-packages\\label_studio_sdk\\_legacy\\project.py:1273\u001b[0m, in \u001b[0;36mProject.delete_annotation\u001b[1;34m(self, annotation_id)\u001b[0m\n\u001b[0;32m   1259\u001b[0m \u001b[38;5;28;01mdef\u001b[39;00m \u001b[38;5;21mdelete_annotation\u001b[39m(\u001b[38;5;28mself\u001b[39m, annotation_id: \u001b[38;5;28mint\u001b[39m) \u001b[38;5;241m-\u001b[39m\u001b[38;5;241m>\u001b[39m \u001b[38;5;28mint\u001b[39m:\n\u001b[0;32m   1260\u001b[0m \u001b[38;5;250m    \u001b[39m\u001b[38;5;124;03m\"\"\"Delete an annotation using the annotation ID. This action can't be undone!\u001b[39;00m\n\u001b[0;32m   1261\u001b[0m \n\u001b[0;32m   1262\u001b[0m \u001b[38;5;124;03m    Parameters\u001b[39;00m\n\u001b[1;32m   (...)\u001b[0m\n\u001b[0;32m   1271\u001b[0m \n\u001b[0;32m   1272\u001b[0m \u001b[38;5;124;03m    \"\"\"\u001b[39;00m\n\u001b[1;32m-> 1273\u001b[0m     response \u001b[38;5;241m=\u001b[39m \u001b[38;5;28;43mself\u001b[39;49m\u001b[38;5;241;43m.\u001b[39;49m\u001b[43mmake_request\u001b[49m\u001b[43m(\u001b[49m\u001b[38;5;124;43m\"\u001b[39;49m\u001b[38;5;124;43mDELETE\u001b[39;49m\u001b[38;5;124;43m\"\u001b[39;49m\u001b[43m,\u001b[49m\u001b[43m \u001b[49m\u001b[38;5;124;43mf\u001b[39;49m\u001b[38;5;124;43m\"\u001b[39;49m\u001b[38;5;124;43m/api/annotations/\u001b[39;49m\u001b[38;5;132;43;01m{\u001b[39;49;00m\u001b[43mannotation_id\u001b[49m\u001b[38;5;132;43;01m}\u001b[39;49;00m\u001b[38;5;124;43m\"\u001b[39;49m\u001b[43m)\u001b[49m\n\u001b[0;32m   1274\u001b[0m     response\u001b[38;5;241m.\u001b[39mraise_for_status()\n\u001b[0;32m   1275\u001b[0m     \u001b[38;5;28;01mreturn\u001b[39;00m response\u001b[38;5;241m.\u001b[39mstatus_code\n",
      "File \u001b[1;32mc:\\Users\\Machine Learning\\anaconda3\\envs\\label-backend\\Lib\\site-packages\\label_studio_sdk\\_legacy\\client.py:448\u001b[0m, in \u001b[0;36mClient.make_request\u001b[1;34m(self, method, url, *args, **kwargs)\u001b[0m\n\u001b[0;32m    446\u001b[0m     \u001b[38;5;28;01mif\u001b[39;00m response\u001b[38;5;241m.\u001b[39mstatus_code \u001b[38;5;241m>\u001b[39m\u001b[38;5;241m=\u001b[39m \u001b[38;5;241m400\u001b[39m:\n\u001b[0;32m    447\u001b[0m         \u001b[38;5;28mself\u001b[39m\u001b[38;5;241m.\u001b[39mlog_response_error(response)\n\u001b[1;32m--> 448\u001b[0m         \u001b[43mresponse\u001b[49m\u001b[38;5;241;43m.\u001b[39;49m\u001b[43mraise_for_status\u001b[49m\u001b[43m(\u001b[49m\u001b[43m)\u001b[49m\n\u001b[0;32m    450\u001b[0m \u001b[38;5;28;01mreturn\u001b[39;00m response\n",
      "File \u001b[1;32mc:\\Users\\Machine Learning\\anaconda3\\envs\\label-backend\\Lib\\site-packages\\requests\\models.py:1021\u001b[0m, in \u001b[0;36mResponse.raise_for_status\u001b[1;34m(self)\u001b[0m\n\u001b[0;32m   1016\u001b[0m     http_error_msg \u001b[38;5;241m=\u001b[39m (\n\u001b[0;32m   1017\u001b[0m         \u001b[38;5;124mf\u001b[39m\u001b[38;5;124m\"\u001b[39m\u001b[38;5;132;01m{\u001b[39;00m\u001b[38;5;28mself\u001b[39m\u001b[38;5;241m.\u001b[39mstatus_code\u001b[38;5;132;01m}\u001b[39;00m\u001b[38;5;124m Server Error: \u001b[39m\u001b[38;5;132;01m{\u001b[39;00mreason\u001b[38;5;132;01m}\u001b[39;00m\u001b[38;5;124m for url: \u001b[39m\u001b[38;5;132;01m{\u001b[39;00m\u001b[38;5;28mself\u001b[39m\u001b[38;5;241m.\u001b[39murl\u001b[38;5;132;01m}\u001b[39;00m\u001b[38;5;124m\"\u001b[39m\n\u001b[0;32m   1018\u001b[0m     )\n\u001b[0;32m   1020\u001b[0m \u001b[38;5;28;01mif\u001b[39;00m http_error_msg:\n\u001b[1;32m-> 1021\u001b[0m     \u001b[38;5;28;01mraise\u001b[39;00m HTTPError(http_error_msg, response\u001b[38;5;241m=\u001b[39m\u001b[38;5;28mself\u001b[39m)\n",
      "\u001b[1;31mHTTPError\u001b[0m: 404 Client Error: Not Found for url: http://localhost:8080/api/annotations/LXtHpQTq6J"
     ]
    }
   ],
   "source": [
    "project.update_annotation(annotation_id=...,)"
   ]
  },
  {
   "cell_type": "markdown",
   "metadata": {},
   "source": [
    "To speed up inference on intel, make changes inn ultralytics/nn/autobackend.py:\n",
    "```\n",
    "- device_name = \"AUTO:NPU,GPU,CPU\" # CPU, GPU, NPU, AUTO,\"AUTO:GPU,NPU\"\n",
    "- inference_mode = \"LATENCY\" # OpenVINO inference modes are 'LATENCY', 'THROUGHPUT' (not recommended), or 'CUMULATIVE_THROUGHPUT'\n",
    "- LOGGER.info(f\"Using OpenVINO {inference_mode} mode for inference...\")\n",
    "- ov_compiled_model = core.compile_model(\n",
    "                ov_model,\n",
    "                device_name=device_name,  # AUTO selects best available device, do not modify\n",
    "                config={\"PERFORMANCE_HINT\": inference_mode,\n",
    "                        \"CACHE_DIR\": os.environ[\"OPENVINO_CACHE_MODEL\"]}, # make sure to set environment variable\n",
    "            )\n",
    "```"
   ]
  },
  {
   "cell_type": "code",
   "execution_count": null,
   "metadata": {},
   "outputs": [],
   "source": [
    "# using path_to_weights\n",
    "# go to ultralytics.nn.autobackend to modify ov_compiled device to \"AUTO:NPU,GPU,CPU\"\n",
    "\n",
    "use_sliding_window=True\n",
    "\n",
    "handler = Annotator(path_to_weights=r\"C:\\Users\\FADELCO\\OneDrive\\Bureau\\datalabeling\\models\\best_openvino_model\",\n",
    "                    is_yolo_obb=True,\n",
    "                    tilesize=1280,\n",
    "                    overlapratio=0.1,\n",
    "                    use_sliding_window=use_sliding_window,\n",
    "                    confidence_threshold=0.5,\n",
    "                    device=\"NPU\", # \"cpu\", \"cuda\"\n",
    "                    tag_to_append=f\"-sahi:{use_sliding_window}\",\n",
    "                    dotenv_path=\"../.env\")\n",
    "\n",
    "project_id = 3 # insert correct project_id by loooking at the url\n",
    "top_n=10\n",
    "handler.upload_predictions(project_id=project_id,top_n=top_n)"
   ]
  },
  {
   "cell_type": "code",
   "execution_count": null,
   "metadata": {},
   "outputs": [],
   "source": [
    "from label_studio_ml.utils import get_local_path\n",
    "from urllib.parse import unquote, quote\n",
    "import os\n",
    "path = unquote(\"/data/local-files/?d=savmap_dataset_v2%5Cimages_splits%5C003a34ee6b7841e6851b8fe511ebe102_0.JPG\")\n",
    "get_local_path(path,download_resources=False)#,os.path.exists(get_local_path(path))"
   ]
  },
  {
   "cell_type": "markdown",
   "metadata": {},
   "source": [
    "# Inference with Sahi"
   ]
  },
  {
   "cell_type": "code",
   "execution_count": null,
   "metadata": {},
   "outputs": [],
   "source": [
    "from ultralytics import YOLO\n",
    "from PIL import Image\n",
    "import time\n",
    "import numpy as np\n",
    "from datalabeling.annotator import Detector\n",
    "from dotenv import load_dotenv"
   ]
  },
  {
   "cell_type": "code",
   "execution_count": null,
   "metadata": {},
   "outputs": [],
   "source": [
    "# load env variable, loads model cache location!!\n",
    "load_dotenv('../.env')"
   ]
  },
  {
   "cell_type": "code",
   "execution_count": null,
   "metadata": {},
   "outputs": [],
   "source": [
    "IMAGE_PATH = r\"D:\\savmap_dataset_v2\\images_splits\\00a033fefe644429a1e0fcffe88f8b39_1.JPG\""
   ]
  },
  {
   "cell_type": "markdown",
   "metadata": {},
   "source": [
    "## Optimizing with Openvino"
   ]
  },
  {
   "cell_type": "markdown",
   "metadata": {},
   "source": [
    "To speed up inference on intel, make changes inn ultralytics/nn/autobackend.py:\n",
    "```\n",
    "- device_name = \"AUTO:NPU,GPU,CPU\" # CPU, GPU, NPU, AUTO,\"AUTO:GPU,NPU\"\n",
    "- inference_mode = \"LATENCY\" # OpenVINO inference modes are 'LATENCY', 'THROUGHPUT' (not recommended), or 'CUMULATIVE_THROUGHPUT'\n",
    "- LOGGER.info(f\"Using OpenVINO {inference_mode} mode for inference...\")\n",
    "- ov_compiled_model = core.compile_model(\n",
    "                ov_model,\n",
    "                device_name=device_name,  # AUTO selects best available device, do not modify\n",
    "                config={\"PERFORMANCE_HINT\": inference_mode,\n",
    "                        \"CACHE_DIR\": os.environ[\"OPENVINO_CACHE_MODEL\"]}, # make sure to set environment variable\n",
    "            )\n",
    "```"
   ]
  },
  {
   "cell_type": "code",
   "execution_count": null,
   "metadata": {},
   "outputs": [],
   "source": [
    "# Define detector\n",
    "# to speed up inference on intel, make\n",
    "model = Detector(path_to_weights=r\"C:\\Users\\FADELCO\\OneDrive\\Bureau\\datalabeling\\models\\best_openvino_model\",\n",
    "                confidence_threshold=0.1,\n",
    "                overlap_ratio=0.1,\n",
    "                tilesize=1280,\n",
    "                device='CPU',\n",
    "                use_sliding_window=False,\n",
    "                is_yolo_obb=True)"
   ]
  },
  {
   "cell_type": "code",
   "execution_count": null,
   "metadata": {},
   "outputs": [],
   "source": [
    "image = Image.open(IMAGE_PATH)\n",
    "\n",
    "while True:\n",
    "    start_time = time.perf_counter()\n",
    "    print(model.predict(image,return_coco=True,nms_iou=0.5))\n",
    "    end_time = time.perf_counter()\n",
    "    print(f\"Device took {end_time-start_time:.2f} seconds.\")\n",
    "\n",
    "    break"
   ]
  },
  {
   "cell_type": "code",
   "execution_count": null,
   "metadata": {},
   "outputs": [],
   "source": [
    "# inference with openvino\n",
    "import openvino as ov\n",
    "import openvino.properties.hint as hints\n",
    "import torch\n",
    "import torchvision.transforms as F\n",
    "from ultralytics.utils import DEFAULT_CFG\n",
    "from ultralytics.cfg import get_cfg\n",
    "from ultralytics.data.converter import coco80_to_coco91_class\n",
    "\n",
    "# load validator\n",
    "args = get_cfg(cfg=DEFAULT_CFG)\n",
    "det_model = YOLO(r\"C:\\Users\\FADELCO\\OneDrive\\Bureau\\datalabeling\\models\\best.pt\")\n",
    "det_validator = det_model.task_map[det_model.task][\"validator\"](args=args)\n",
    "det_validator.is_coco = True\n",
    "det_validator.class_map = coco80_to_coco91_class()\n",
    "det_validator.names = det_model.model.names\n",
    "det_validator.metrics.names = det_validator.names\n",
    "det_validator.nc = det_model.model.model[-1].nc\n",
    "det_validator.stride = 32\n",
    "args = get_cfg(cfg=DEFAULT_CFG)\n",
    "det_model = YOLO(r\"C:\\Users\\FADELCO\\OneDrive\\Bureau\\datalabeling\\models\\best.pt\")\n",
    "\n",
    "core = ov.Core()\n",
    "det_model_path = r\"C:\\Users\\FADELCO\\OneDrive\\Bureau\\datalabeling\\models\\best_openvino_model\\best.xml\"\n",
    "det_ov_model = core.read_model(det_model_path)\n",
    "\n",
    "device = \"AUTO:NPU,GPU\" # CPU, NPU, GPU \"AUTO:NPU,GPU,CPU\" \n",
    "\n",
    "print(\"Available core devices: \",core.available_devices)\n",
    "\n",
    "# reshaping for batch prediction\n",
    "input_layer = det_ov_model.input(0)\n",
    "output_layer = det_ov_model.output(0)\n",
    "new_shape = ov.PartialShape([1, 3, 1280, 1280])\n",
    "det_ov_model.reshape({input_layer.any_name: new_shape})\n",
    "\n",
    "ov_config = {hints.performance_mode: hints.PerformanceMode.THROUGHPUT,\n",
    "             \"CACHE_DIR\": '../models/model_cache'}\n",
    "\n",
    "if (\"GPU\" in core.available_devices) and device==\"GPU\":\n",
    "    ov_config[\"GPU_DISABLE_WINOGRAD_CONVOLUTION\"] = \"YES\"\n",
    "det_compiled_model = core.compile_model(det_ov_model, device, ov_config)\n",
    "\n",
    "def infer(image):\n",
    "    image = det_validator.preprocess({\"img\":image,\"batch_idx\":torch.Tensor([0]),\n",
    "                                      \"cls\":torch.Tensor([0]),\n",
    "                                      \"bboxes\":torch.Tensor([0.,0.,0.,0.])})[\"img\"]\n",
    "    results = det_compiled_model(image)\n",
    "    preds = torch.from_numpy(results[det_compiled_model.output(0)])\n",
    "    return det_validator.postprocess(preds) #torch.from_numpy(result[0])"
   ]
  },
  {
   "cell_type": "code",
   "execution_count": null,
   "metadata": {},
   "outputs": [],
   "source": [
    "# image = Image.open(IMAGE_PATH)\n",
    "# image = F.PILToTensor()(image)[None,:,:1280,:1280]\n",
    "# infer(image)"
   ]
  },
  {
   "cell_type": "code",
   "execution_count": null,
   "metadata": {},
   "outputs": [],
   "source": [
    "# inference with pt\n",
    "# model = YOLO(r\"C:\\Users\\FADELCO\\OneDrive\\Bureau\\datalabeling\\models\\best.pt\",task='obb')"
   ]
  },
  {
   "cell_type": "code",
   "execution_count": null,
   "metadata": {},
   "outputs": [],
   "source": [
    "# rescaling input images\n",
    "# model(image/255.)"
   ]
  },
  {
   "cell_type": "code",
   "execution_count": null,
   "metadata": {},
   "outputs": [],
   "source": [
    "# inference with openvino\n",
    "# model_vino = YOLO(r\"C:\\Users\\FADELCO\\OneDrive\\Bureau\\datalabeling\\models\\best_openvino_model\",task='obb')\n",
    "# model_vino(image/255.)"
   ]
  },
  {
   "cell_type": "code",
   "execution_count": null,
   "metadata": {},
   "outputs": [],
   "source": [
    "# sahi_model_obb = Detector(path_to_weights=r\"C:\\Users\\FADELCO\\OneDrive\\Bureau\\datalabeling\\models\\best_openvino_model\",\n",
    "#                     confidence_threshold=0.6,\n",
    "#                     overlap_ratio=0.1,\n",
    "#                     tilesize=640,\n",
    "#                     is_yolo_obb=True)"
   ]
  },
  {
   "cell_type": "code",
   "execution_count": null,
   "metadata": {},
   "outputs": [],
   "source": [
    "# image_path = r\"D:\\savmap_dataset_v2\\images\\0d1ba3c424ad4414ac37dbd0c93460ea.JPG\"\n",
    "# image = Image.open(image_path)\n",
    "# print(image.size)"
   ]
  },
  {
   "cell_type": "code",
   "execution_count": null,
   "metadata": {},
   "outputs": [],
   "source": [
    "# result = sahi_model_obb.predict(image,False)"
   ]
  },
  {
   "cell_type": "code",
   "execution_count": null,
   "metadata": {},
   "outputs": [],
   "source": [
    "# result\n",
    "# result.export_visuals('../.tmp')"
   ]
  },
  {
   "cell_type": "markdown",
   "metadata": {},
   "source": [
    "## Sahi inference calibration"
   ]
  },
  {
   "cell_type": "code",
   "execution_count": null,
   "metadata": {},
   "outputs": [],
   "source": [
    "from itertools import product"
   ]
  },
  {
   "cell_type": "code",
   "execution_count": null,
   "metadata": {},
   "outputs": [],
   "source": []
  },
  {
   "cell_type": "code",
   "execution_count": null,
   "metadata": {},
   "outputs": [],
   "source": [
    "# hyperparams\n",
    "overlap_ratios = [0.1,0.2,0.3]\n",
    "tilesizes = [640,2*640,3*640]\n",
    "imgsz = [640,2*640,3*640]\n",
    "\n",
    "for ratio, tilesize, image_size in product(overlap_ratios,tilesizes,imgsz):\n",
    "    print(ratio,tilesize,image_size)\n",
    "    # Define detector\n",
    "    # to speed up inference on intel, make\n",
    "    model = Detector(path_to_weights=r\"C:\\Users\\FADELCO\\OneDrive\\Bureau\\datalabeling\\models\\best_openvino_model\",\n",
    "                    confidence_threshold=0.1,\n",
    "                    overlap_ratio=0.1,\n",
    "                    tilesize=2000,\n",
    "                    imgsz=1280,\n",
    "                    device='CPU',\n",
    "                    use_sliding_window=True,\n",
    "                    is_yolo_obb=True)\n",
    "    \n",
    "    #TODO\n"
   ]
  },
  {
   "cell_type": "code",
   "execution_count": null,
   "metadata": {},
   "outputs": [],
   "source": []
  },
  {
   "cell_type": "markdown",
   "metadata": {},
   "source": [
    "# YOLO data_config.yaml "
   ]
  },
  {
   "cell_type": "code",
   "execution_count": null,
   "metadata": {},
   "outputs": [],
   "source": [
    "import yaml\n",
    "import json\n",
    "from arguments import Arguments"
   ]
  },
  {
   "cell_type": "code",
   "execution_count": null,
   "metadata": {},
   "outputs": [],
   "source": [
    "# load yaml\n",
    "with open(r\"D:\\PhD\\Data per camp\\IdentificationDataset\\data_config.yaml\",'r') as file:\n",
    "    yolo_config = yaml.load(file,Loader=yaml.FullLoader)\n",
    "yolo_config"
   ]
  },
  {
   "cell_type": "code",
   "execution_count": null,
   "metadata": {},
   "outputs": [],
   "source": [
    "# load label mapping\n",
    "args = Arguments()\n",
    "with open(r\"D:\\PhD\\Data per camp\\IdentificationDataset\\label_mapping.json\",'r') as file:\n",
    "    label_map = json.load(file)\n",
    "names = [p['name'] for p in label_map if p['name'] not in args.discard_labels ]\n",
    "label_map = dict(zip(range(len(names)),names))\n",
    "label_map"
   ]
  },
  {
   "cell_type": "code",
   "execution_count": null,
   "metadata": {},
   "outputs": [],
   "source": [
    "yolo_config.update({'names':label_map,'nc':len(label_map)})\n",
    "yolo_config"
   ]
  },
  {
   "cell_type": "code",
   "execution_count": null,
   "metadata": {},
   "outputs": [],
   "source": [
    "with open(r\"D:\\PhD\\Data per camp\\IdentificationDataset\\data_config.yaml\",'w') as file:\n",
    "    yaml.dump(yolo_config,file,default_flow_style=False, sort_keys=False)"
   ]
  },
  {
   "cell_type": "markdown",
   "metadata": {},
   "source": [
    "# Dataset distribution"
   ]
  },
  {
   "cell_type": "markdown",
   "metadata": {},
   "source": [
    "## Visualize distribution per annotation project"
   ]
  },
  {
   "cell_type": "code",
   "execution_count": null,
   "metadata": {},
   "outputs": [],
   "source": [
    "from datalabeling.dataset import convert_json_annotations_to_coco, load_coco_annotations\n",
    "from pathlib import Path\n",
    "import json\n",
    "import pandas as pd\n",
    "from collections import Counter\n",
    "from dotenv import load_dotenv\n",
    "from label_studio_sdk import Client\n",
    "# from itertools import chain\n",
    "import os"
   ]
  },
  {
   "cell_type": "code",
   "execution_count": 2,
   "metadata": {},
   "outputs": [],
   "source": [
    "dotenv_path=r\"..\\.env\"\n",
    "load_dotenv(dotenv_path=dotenv_path)\n",
    "# Connect to the Label Studio API and check the connection\n",
    "LABEL_STUDIO_URL = os.getenv('LABEL_STUDIO_URL')\n",
    "API_KEY = os.getenv(\"LABEL_STUDIO_API_KEY\")\n",
    "labelstudio_client = Client(url=LABEL_STUDIO_URL, api_key=API_KEY)"
   ]
  },
  {
   "cell_type": "code",
   "execution_count": 7,
   "metadata": {},
   "outputs": [
    {
     "name": "stdout",
     "output_type": "stream",
     "text": [
      "Number of instances for each label is:\n",
      " {'impala': 5, 'wildebeest': 568, 'zebra': 1045, 'reedbuck': 1, 'lechwe': 392, 'buffalo': 397, 'wildlife': 3}\n",
      "\n",
      "Number of images for each label is:\n",
      " {'zebra': 93, 'buffalo': 18, 'wildlife': 3, 'reedbuck': 1, 'impala': 3, 'lechwe': 26, 'wildebeest': 44}\n"
     ]
    }
   ],
   "source": [
    "project_id = 69 # project id\n",
    "project = labelstudio_client.get_project(id=project_id)\n",
    "\n",
    "# \n",
    "num_images = dict()\n",
    "\n",
    "# Iterating \n",
    "tasks = project.get_tasks()\n",
    "annotator_id = 0\n",
    "labels = []\n",
    "for task in tasks:\n",
    "    result = task['annotations'][0]['result']\n",
    "    img_labels = []\n",
    "    for annot in result:\n",
    "        img_labels = annot['value']['rectanglelabels'] + img_labels\n",
    "    labels = labels + img_labels\n",
    "    # update stats holder\n",
    "    for label in set(img_labels):\n",
    "        try:\n",
    "            num_images[label] += 1\n",
    "        except:\n",
    "            num_images[label] = 1\n",
    "\n",
    "stats = {f\"{k}\":labels.count(k) for k in set(labels)}\n",
    "print(\"Number of instances for each label is:\\n\",stats,end=\"\\n\\n\")\n",
    "print(\"Number of images for each label is:\\n\",num_images)\n"
   ]
  },
  {
   "cell_type": "code",
   "execution_count": null,
   "metadata": {},
   "outputs": [],
   "source": [
    "ls_dir = r\"D:\\PhD\\Data per camp\\Exported annotations and labels\\Wet season - Rep 1\\all\\labelstudio\"\n",
    "dest_dir = Path(ls_dir).with_name(\"coco-format\")\n",
    "save_excel_path = Path(ls_dir).with_name(\"stats.xlsx\")\n",
    "\n",
    "# Uncomment to run if needed\n",
    "# convert_json_annotations_to_coco(input_dir=ls_dir,\n",
    "#                                  dest_dir_coco=str(dest_dir),\n",
    "#                                  ls_client=labelstudio_client,\n",
    "#                                  parse_ls_config=True)"
   ]
  },
  {
   "cell_type": "code",
   "execution_count": null,
   "metadata": {},
   "outputs": [],
   "source": [
    "coco_annotations_dict = load_coco_annotations(dest_dir)\n",
    "coco_annotations_dict"
   ]
  },
  {
   "cell_type": "code",
   "execution_count": null,
   "metadata": {},
   "outputs": [],
   "source": [
    "def get_labels_count(coco_annotation:dict):\n",
    "\n",
    "    result = Counter([annot['category_id'] for annot in coco_annotation['annotations']])\n",
    "\n",
    "    label_map = {cat['id']:cat['name'] for cat in coco_annotation['categories']}\n",
    "\n",
    "    result = {label_map[k]:v for k,v in result.items()}\n",
    "\n",
    "    return result\n",
    "\n",
    "label_stats = dict()\n",
    "\n",
    "for img_dir,coco_path in coco_annotations_dict.items():\n",
    "\n",
    "    with open(coco_path,'r') as f:\n",
    "        coco_annotation = json.load(fp=f)\n",
    "    \n",
    "    label_stats[img_dir] = get_labels_count(coco_annotation)\n",
    "\n",
    "label_stats = pd.DataFrame.from_dict(label_stats,orient='index').fillna(0)"
   ]
  },
  {
   "cell_type": "code",
   "execution_count": null,
   "metadata": {},
   "outputs": [],
   "source": [
    "label_stats"
   ]
  },
  {
   "cell_type": "code",
   "execution_count": null,
   "metadata": {},
   "outputs": [],
   "source": [
    "# uncomment to save\n",
    "label_stats.to_excel(save_excel_path)"
   ]
  },
  {
   "cell_type": "markdown",
   "metadata": {},
   "source": [
    "## Visualize splits' distribution"
   ]
  },
  {
   "cell_type": "code",
   "execution_count": null,
   "metadata": {},
   "outputs": [],
   "source": [
    "import yaml\n",
    "import pandas as pd\n",
    "import os\n",
    "from pathlib import Path"
   ]
  },
  {
   "cell_type": "code",
   "execution_count": null,
   "metadata": {},
   "outputs": [],
   "source": [
    "# load yaml\n",
    "with open(r\"D:\\PhD\\Data per camp\\Extra training data\\WAID\\data_config.yaml\",'r') as file:\n",
    "    yolo_config = yaml.load(file,Loader=yaml.FullLoader)\n",
    "yolo_config"
   ]
  },
  {
   "cell_type": "code",
   "execution_count": null,
   "metadata": {},
   "outputs": [],
   "source": [
    "label_map = yolo_config['names']"
   ]
  },
  {
   "cell_type": "code",
   "execution_count": null,
   "metadata": {},
   "outputs": [],
   "source": [
    "split = 'train'\n",
    "\n",
    "path_dataset = os.path.join(yolo_config['path'],yolo_config[split][0])\n",
    "path_dataset = path_dataset.replace('images','labels')\n",
    "\n",
    "path_dataset"
   ]
  },
  {
   "cell_type": "code",
   "execution_count": null,
   "metadata": {},
   "outputs": [],
   "source": [
    "labels = list()\n",
    "\n",
    "for txtfile in Path(path_dataset).glob(\"*.txt\"):\n",
    "\n",
    "    df = pd.read_csv(txtfile,sep=\" \",names = ['class','x','y','w','h'] )\n",
    "    df['class'] = df['class'].astype(int)    \n",
    "    df['image'] = txtfile.stem\n",
    "    labels.append(df)\n"
   ]
  },
  {
   "cell_type": "code",
   "execution_count": null,
   "metadata": {},
   "outputs": [],
   "source": [
    "df = pd.concat(labels,axis=0)\n",
    "df['class'] = df['class'].map(label_map)"
   ]
  },
  {
   "cell_type": "code",
   "execution_count": null,
   "metadata": {},
   "outputs": [],
   "source": [
    "images_per_class = dict()\n",
    "for cls in df['class'].unique():\n",
    "    num_imge = df.loc[df['class'] == cls,'image'].unique().shape[0]\n",
    "    images_per_class[cls] = num_imge"
   ]
  },
  {
   "cell_type": "code",
   "execution_count": null,
   "metadata": {},
   "outputs": [],
   "source": [
    "print(\"Split:\", split)\n",
    "print(images_per_class)"
   ]
  },
  {
   "cell_type": "code",
   "execution_count": null,
   "metadata": {},
   "outputs": [],
   "source": [
    "print('Split:',split)\n",
    "print(df['class'].value_counts())"
   ]
  },
  {
   "cell_type": "code",
   "execution_count": null,
   "metadata": {},
   "outputs": [],
   "source": [
    "df['class'].value_counts().plot(kind='bar',figsize=(10,5),logy=True,title=f\"{split} label distribution\")"
   ]
  },
  {
   "cell_type": "markdown",
   "metadata": {},
   "source": [
    "# Computing metrics on Validation set"
   ]
  },
  {
   "cell_type": "code",
   "execution_count": null,
   "metadata": {},
   "outputs": [],
   "source": [
    "from ultralytics import YOLO\n",
    "# from pathlib import Path\n",
    "import torch"
   ]
  },
  {
   "cell_type": "code",
   "execution_count": null,
   "metadata": {},
   "outputs": [],
   "source": [
    "# Load a model\n",
    "path = r\"C:\\Users\\fadel\\OneDrive\\Bureau\\WILD-AI\\datalabeling\\base_models_weights\\yolov8-wildai-obb.pt\"\n",
    "# path = r\"C:\\Users\\fadel\\OneDrive\\Bureau\\WILD-AI\\datalabeling\\base_models_weights\\yolov5su.pt\"\n",
    "model = YOLO(path)  "
   ]
  },
  {
   "cell_type": "code",
   "execution_count": null,
   "metadata": {},
   "outputs": [],
   "source": [
    "pred = model.predict(r\"C:\\Users\\fadel\\OneDrive\\Bureau\\WILD-AI\\datalabeling\\data\\train_wildai\\images\\01f1653a94f14044bf11d78c5b4221d1.JPG\")"
   ]
  },
  {
   "cell_type": "code",
   "execution_count": null,
   "metadata": {},
   "outputs": [],
   "source": [
    "[result.obb for result in pred]"
   ]
  },
  {
   "cell_type": "code",
   "execution_count": null,
   "metadata": {},
   "outputs": [],
   "source": [
    "pred[0].obb.xyxy"
   ]
  },
  {
   "cell_type": "code",
   "execution_count": null,
   "metadata": {},
   "outputs": [],
   "source": [
    "pred[0].obb.cls"
   ]
  },
  {
   "cell_type": "code",
   "execution_count": null,
   "metadata": {},
   "outputs": [],
   "source": [
    "pred[0].obb.conf"
   ]
  },
  {
   "cell_type": "code",
   "execution_count": null,
   "metadata": {},
   "outputs": [],
   "source": [
    "# Customize validation settings\n",
    "validation_results = model.val(data=r\"C:\\Users\\fadel\\OneDrive\\Bureau\\WILD-AI\\datalabeling\\data\\data_config.yaml\",\n",
    "                                imgsz=640,\n",
    "                                batch=8,\n",
    "                                conf=0.25,\n",
    "                                iou=0.5,\n",
    "                                device=\"cpu\")"
   ]
  },
  {
   "cell_type": "code",
   "execution_count": null,
   "metadata": {},
   "outputs": [],
   "source": [
    "# Compute predictions\n",
    "from datalabeling.annotator import Detector\n",
    "\n",
    "handler = Detector(path_to_weights=path,confidence_threshold=0.3)\n",
    "predictions = handler.predict_directory(r\"C:\\Users\\fadel\\OneDrive\\Bureau\\WILD-AI\\datalabeling\\data\\train_wildai\\images\")"
   ]
  },
  {
   "cell_type": "markdown",
   "metadata": {},
   "source": [
    "# Dataset label format conversion"
   ]
  },
  {
   "cell_type": "code",
   "execution_count": null,
   "metadata": {},
   "outputs": [],
   "source": [
    "import pandas as pd\n",
    "import numpy as np"
   ]
  },
  {
   "cell_type": "code",
   "execution_count": null,
   "metadata": {},
   "outputs": [],
   "source": [
    "def check_label_format(loaded_df:pd.DataFrame)->str:\n",
    "    \"\"\"checks label format\n",
    "\n",
    "    Args:\n",
    "        loaded_df (pd.DataFrame): target values\n",
    "\n",
    "    Raises:\n",
    "        NotImplementedError: when the format is not yolo or yolo-obb\n",
    "\n",
    "    Returns:\n",
    "        str: yolo or yolo-obb\n",
    "    \"\"\"\n",
    "\n",
    "    num_features = len(loaded_df.columns)\n",
    "\n",
    "    if num_features == 5:\n",
    "        return \"yolo\"\n",
    "    elif num_features == 9:\n",
    "        return \"yolo-obb\"\n",
    "    else:\n",
    "        raise NotImplementedError(f\"The number of features ({num_features}) in the label file is wrong. Check yolo or yolo-obb format.\")"
   ]
  },
  {
   "cell_type": "code",
   "execution_count": null,
   "metadata": {},
   "outputs": [],
   "source": [
    "label_path = r\"D:\\PhD\\Data per camp\\DetectionDataset\\Rep 1\\train\\labels\\DJI_20231002150401_0009_0_48_0_1271_640_1911.txt\"\n",
    "df = pd.read_csv(label_path,sep=' ',header=None)\n",
    "df"
   ]
  },
  {
   "cell_type": "code",
   "execution_count": null,
   "metadata": {},
   "outputs": [],
   "source": [
    "isinstance(df.iloc[:,0].dtype, np.dtypes.IntDType)"
   ]
  },
  {
   "cell_type": "code",
   "execution_count": null,
   "metadata": {},
   "outputs": [],
   "source": [
    "check_label_format(df)"
   ]
  },
  {
   "cell_type": "code",
   "execution_count": null,
   "metadata": {},
   "outputs": [],
   "source": [
    "len(df.columns)"
   ]
  },
  {
   "cell_type": "code",
   "execution_count": null,
   "metadata": {},
   "outputs": [],
   "source": [
    "df.columns = ['id','x1','y1','x2','y2','x3','y3','x4','y4']\n",
    "\n",
    "df"
   ]
  }
 ],
 "metadata": {
  "kernelspec": {
   "display_name": "label-backend",
   "language": "python",
   "name": "python3"
  },
  "language_info": {
   "codemirror_mode": {
    "name": "ipython",
    "version": 3
   },
   "file_extension": ".py",
   "mimetype": "text/x-python",
   "name": "python",
   "nbconvert_exporter": "python",
   "pygments_lexer": "ipython3",
   "version": "3.12.2"
  },
  "orig_nbformat": 4
 },
 "nbformat": 4,
 "nbformat_minor": 2
}
