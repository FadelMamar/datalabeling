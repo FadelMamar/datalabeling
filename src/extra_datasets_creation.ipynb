{
 "cells": [
  {
   "cell_type": "code",
   "execution_count": null,
   "metadata": {},
   "outputs": [],
   "source": [
    "# Install requirements, uncomment to run\n",
    "# !pip install-U geopandas pillow label-studio-converter"
   ]
  },
  {
   "cell_type": "markdown",
   "metadata": {},
   "source": [
    "# Formatting SavMap dataset\n",
    "Formatting the savmap dataset so it can be imported in label studio"
   ]
  },
  {
   "cell_type": "code",
   "execution_count": 1,
   "metadata": {},
   "outputs": [],
   "source": [
    "import geopandas as gdp\n",
    "from PIL import Image\n",
    "from tqdm import tqdm\n",
    "import os\n",
    "from pathlib import Path"
   ]
  },
  {
   "cell_type": "code",
   "execution_count": 4,
   "metadata": {},
   "outputs": [],
   "source": [
    "polygons = gdp.read_file(\"../data/savmap_dataset_v2/savmap_annotations_2014.geojson\")"
   ]
  },
  {
   "cell_type": "code",
   "execution_count": null,
   "metadata": {},
   "outputs": [],
   "source": [
    "# create directories\n",
    "Path(\"../data/savmap_dataset_v2/images\").mkdir(exist_ok=True,parents=True)\n",
    "Path(\"../data/savmap_dataset_v2/labels\").mkdir(exist_ok=True,parents=True)\n",
    "\n",
    "! mv ../data/savmap_dataset_v2/*.JPG ../data/savmap_dataset_v2/images"
   ]
  },
  {
   "cell_type": "code",
   "execution_count": 8,
   "metadata": {},
   "outputs": [],
   "source": [
    "# get bounding boxs\n",
    "for cat in ['x_min', 'y_min', 'x_max', 'y_max','width','height','x','y']:\n",
    "    polygons[cat] = None\n",
    "for i in range(len(polygons)):\n",
    "    x_min, y_min, x_max, y_max = polygons['geometry'].iloc[i].bounds\n",
    "    image_path = f\"../data/savmap_dataset_v2/images/{polygons['IMAGEUUID'].iloc[i]}.JPG\"\n",
    "    width, height = Image.open(image_path).size\n",
    "    polygons['x_min'].iat[i] = x_min\n",
    "    polygons['x_max'].iat[i] = x_max\n",
    "    polygons['y_min'].iat[i] = y_min\n",
    "    polygons['y_max'].iat[i] = y_max\n",
    "    polygons['x'].iat[i] = 0.5*(x_max+x_min)\n",
    "    polygons['y'].iat[i] = 0.5*(y_max+y_min)\n",
    "    polygons['width'] = width\n",
    "    polygons['height'] = height\n",
    "\n",
    "polygons['bbox_w'] = polygons['x_max'] - polygons['x_min']\n",
    "polygons['bbox_h'] = polygons['y_max'] - polygons['y_min']\n",
    "polygons['class'] = 0"
   ]
  },
  {
   "cell_type": "code",
   "execution_count": 9,
   "metadata": {},
   "outputs": [
    {
     "data": {
      "text/html": [
       "<div>\n",
       "<style scoped>\n",
       "    .dataframe tbody tr th:only-of-type {\n",
       "        vertical-align: middle;\n",
       "    }\n",
       "\n",
       "    .dataframe tbody tr th {\n",
       "        vertical-align: top;\n",
       "    }\n",
       "\n",
       "    .dataframe thead th {\n",
       "        text-align: right;\n",
       "    }\n",
       "</style>\n",
       "<table border=\"1\" class=\"dataframe\">\n",
       "  <thead>\n",
       "    <tr style=\"text-align: right;\">\n",
       "      <th></th>\n",
       "      <th>IMAGEUUID</th>\n",
       "      <th>TAGUUID</th>\n",
       "      <th>geometry</th>\n",
       "      <th>x_min</th>\n",
       "      <th>y_min</th>\n",
       "      <th>x_max</th>\n",
       "      <th>y_max</th>\n",
       "      <th>width</th>\n",
       "      <th>height</th>\n",
       "      <th>x</th>\n",
       "      <th>y</th>\n",
       "      <th>bbox_w</th>\n",
       "      <th>bbox_h</th>\n",
       "      <th>class</th>\n",
       "    </tr>\n",
       "  </thead>\n",
       "  <tbody>\n",
       "    <tr>\n",
       "      <th>0</th>\n",
       "      <td>f77f4af5a1344b9086b307d2b4ba61ff</td>\n",
       "      <td>a9b3a2325dbe4a208bc3ae37eeb8e1e1</td>\n",
       "      <td>POLYGON ((1197 568, 1186 568, 1179 582, 1190 5...</td>\n",
       "      <td>1179.0</td>\n",
       "      <td>568.0</td>\n",
       "      <td>1230.0</td>\n",
       "      <td>597.0</td>\n",
       "      <td>4608</td>\n",
       "      <td>3456</td>\n",
       "      <td>1204.5</td>\n",
       "      <td>582.5</td>\n",
       "      <td>51.0</td>\n",
       "      <td>29.0</td>\n",
       "      <td>0</td>\n",
       "    </tr>\n",
       "  </tbody>\n",
       "</table>\n",
       "</div>"
      ],
      "text/plain": [
       "                          IMAGEUUID                           TAGUUID  \\\n",
       "0  f77f4af5a1344b9086b307d2b4ba61ff  a9b3a2325dbe4a208bc3ae37eeb8e1e1   \n",
       "\n",
       "                                            geometry   x_min  y_min   x_max  \\\n",
       "0  POLYGON ((1197 568, 1186 568, 1179 582, 1190 5...  1179.0  568.0  1230.0   \n",
       "\n",
       "   y_max  width  height       x      y bbox_w bbox_h  class  \n",
       "0  597.0   4608    3456  1204.5  582.5   51.0   29.0      0  "
      ]
     },
     "execution_count": 9,
     "metadata": {},
     "output_type": "execute_result"
    }
   ],
   "source": [
    "polygons.head(1)"
   ]
  },
  {
   "cell_type": "code",
   "execution_count": 10,
   "metadata": {},
   "outputs": [],
   "source": [
    "# convert to yolo format\n",
    "def save_df_as_yolo(df_annotation:gdp.GeoDataFrame,dest_path_labels:str='../data/savmap_dataset_v2/labels'):\n",
    "    \n",
    "    cols = ['class','x','y','bbox_w','bbox_h']\n",
    "    for col in cols:\n",
    "        assert df_annotation[col].isna().sum()<1,'there are NaN values. Check out.'\n",
    "        # df_annotation[col] = df_annotation[col].apply(int)\n",
    "\n",
    "    # normalize values\n",
    "    df_annotation.loc[:,'x'] = df_annotation['x']/df_annotation['width']\n",
    "    df_annotation.loc[:,'y'] = df_annotation['y']/df_annotation['height']\n",
    "    df_annotation.loc[:,'bbox_w'] = df_annotation['bbox_w']/df_annotation['width']\n",
    "    df_annotation.loc[:,'bbox_h'] = df_annotation['bbox_h']/df_annotation['height']\n",
    "    \n",
    "    for image_name,df in tqdm(df_annotation.groupby('IMAGEUUID'),desc='Saving yolo labels'):\n",
    "        txt_file = f'{image_name}.txt'\n",
    "        df[cols].to_csv(os.path.join(dest_path_labels,txt_file),sep=' ',index=False,header=False)"
   ]
  },
  {
   "cell_type": "code",
   "execution_count": 11,
   "metadata": {},
   "outputs": [
    {
     "name": "stderr",
     "output_type": "stream",
     "text": [
      "Saving yolo labels:  29%|██▉       | 192/654 [00:00<00:00, 629.79it/s]"
     ]
    },
    {
     "name": "stderr",
     "output_type": "stream",
     "text": [
      "Saving yolo labels: 100%|██████████| 654/654 [00:01<00:00, 635.31it/s]\n"
     ]
    }
   ],
   "source": [
    "save_df_as_yolo(df_annotation=polygons)"
   ]
  },
  {
   "cell_type": "code",
   "execution_count": 17,
   "metadata": {},
   "outputs": [
    {
     "name": "stdout",
     "output_type": "stream",
     "text": [
      "INFO:root:Reading YOLO notes and categories from /workspaces/datalabeling/data/savmap_dataset_v2\n",
      "INFO:root:Found 1 categories\n",
      "INFO:root:Converting labels from /workspaces/datalabeling/data/savmap_dataset_v2/labels\n",
      "INFO:root:image extensions->, ['.JPG']\n",
      "INFO:root:Saving Label Studio JSON to /workspaces/datalabeling/data/savmap_dataset_v2/labelstudio.json\n",
      "\n",
      "  1. Create a new project in Label Studio\n",
      "  2. Use Labeling Config from \"/workspaces/datalabeling/data/savmap_dataset_v2/labelstudio.label_config.xml\"\n",
      "  3. Setup serving for images [e.g. you can use Local Storage (or others):\n",
      "     https://labelstud.io/guide/storage.html#Local-storage]\n",
      "  4. Import \"/workspaces/datalabeling/data/savmap_dataset_v2/labelstudio.json\" to the project\n",
      "\n"
     ]
    }
   ],
   "source": [
    "!label-studio-converter import yolo -i ../data/savmap_dataset_v2 -o ../data/savmap_dataset_v2/labelstudio.json --image-root-url \"/data/local-files/?d=savmap_dataset_v2/images\" --image-ext \".JPG\" --out-type \"annotations\""
   ]
  },
  {
   "cell_type": "code",
   "execution_count": null,
   "metadata": {},
   "outputs": [],
   "source": []
  }
 ],
 "metadata": {
  "kernelspec": {
   "display_name": ".venv",
   "language": "python",
   "name": "python3"
  },
  "language_info": {
   "codemirror_mode": {
    "name": "ipython",
    "version": 3
   },
   "file_extension": ".py",
   "mimetype": "text/x-python",
   "name": "python",
   "nbconvert_exporter": "python",
   "pygments_lexer": "ipython3",
   "version": "3.10.13"
  }
 },
 "nbformat": 4,
 "nbformat_minor": 2
}
